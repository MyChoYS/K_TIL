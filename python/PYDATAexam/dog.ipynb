{
 "cells": [
  {
   "cell_type": "code",
   "execution_count": 7,
   "metadata": {},
   "outputs": [
    {
     "name": "stdout",
     "output_type": "stream",
     "text": [
      "WebDriver 객체 :  <class 'selenium.webdriver.chrome.webdriver.WebDriver'>\n"
     ]
    }
   ],
   "source": [
    "from selenium import webdriver #R과 달리 셀레늄 서버를 따로 기동할 필요 없다.\n",
    "from selenium.webdriver.common.keys import Keys \n",
    "import urllib.request\n",
    "from bs4 import BeautifulSoup\n",
    "import time \n",
    "from urllib.request import urlretrieve\n",
    "from urllib.parse import quote_plus\n",
    "\n",
    "driver = webdriver.Chrome('C:/Temp/chromedriver')\n",
    "print(\"WebDriver 객체 : \", type(driver))\n",
    "\n",
    "driver.get(\"https://google.com\")\n",
    "#target=driver.find_element_by_class_name(\"quickResultLstCon\")"
   ]
  },
  {
   "cell_type": "code",
   "execution_count": null,
   "metadata": {},
   "outputs": [],
   "source": []
  }
 ],
 "metadata": {
  "kernelspec": {
   "display_name": "pydatavenv",
   "language": "python",
   "name": "pydatavenv"
  },
  "language_info": {
   "codemirror_mode": {
    "name": "ipython",
    "version": 3
   },
   "file_extension": ".py",
   "mimetype": "text/x-python",
   "name": "python",
   "nbconvert_exporter": "python",
   "pygments_lexer": "ipython3",
   "version": "3.8.8"
  }
 },
 "nbformat": 4,
 "nbformat_minor": 4
}

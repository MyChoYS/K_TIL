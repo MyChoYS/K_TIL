{
 "cells": [
  {
   "cell_type": "markdown",
   "metadata": {},
   "source": [
    "# 연관규칙 ,연관성분석 (association analaysis) - 비지도 학습\n",
    "### 대량의 데이터에 숨겨진 항목간의 연관규칙을 찾아내는 기법으로서  다른말로 장바구니 분석(market basket analysis)이라고도 한다.\n",
    "### 실제 연관성 분석은 월마트, 아마존 등 여러기업에서 다양한 마케팅 활동에 활용하고 있으며 더 나아가 사회 네트워크 분석에도 활용할 수 있다.\n",
    "### 빈발패턴 : 주어진 데이터 셋에서 빈발하게 발생하는 패턴을 찾아내는 기법\n",
    "### 연관규칙 : 빈발패턴들 간의 연관성을 규칙으로 찾아내는 기법\n",
    "### 장점\n",
    "- 대규모 거래 데이터에 대해 작업을 할 수 있다.\n",
    "- 이해하기 쉬운 규칙을 생성해준다.\n",
    "- 데이터마이닝과 데이터 베이스에서 예상치 못한 지식을 발굴하는데 유용하다.\n",
    "\n",
    "### 단점\n",
    "- 작은 데이터셋에는 그다지 유용하지 않다\n",
    "- 진정한 통찰력과 상식을 분리하기 위한 노력이 필요하다.\n",
    " \n",
    "### 지지도(support) - 규칙의 중요성 - 필요조건\n",
    "전체 거래중 연관성 규칙을 구성하는 항목들이 포함된 거래의 비율\n",
    "\n",
    "support = 항목에 대한 거래수 / 전체 거래수  또는  A,B가 동시에 포함된 거래수 / 전체 거래수\n",
    "\n",
    "### 신뢰도(confidence) - 규칙의 신뢰성 - 충분조건\n",
    "항목 A를 포함하는 거래 중에서 항목 A와 항목 B가 같이 포함될 확률\n",
    "연관성의 정도\n",
    "             \n",
    "confidence = 조건과 결과 항목을 동시에 포함하는 거래수 / 조건항목을 포함한 거래수  또는 A,B가 동시에 포함된 거래수 / A를 포함하는 거래수\n",
    "                          \n",
    "### 향상도(lift)\n",
    "- 지지도와 신뢰도를 동시에 고려한다.\n",
    "- 향상도 값이 1인 경우 조건과 결과는 우연에 의한 관계라고 보며 1보다 클수록 우연이 아닌 의미있는 연관성을 가진 규칙이라고 해석한다.\n",
    "- '높은 상관 관계를 가진' 것들 만으로 추려내기 위한 지표\n",
    "- 어떤 연관 규칙이 정말 연관성이 있는지 판단하려면 향상도가 1보다 큰 수치로 나타나야 함.\n",
    "- 향상도 = A,B동시구매 비율 / A구매 비율*B구매 비율\n",
    "\n",
    "lift(A -> B) = support(A -> B) / support(A) * support(B)"
   ]
  },
  {
   "cell_type": "markdown",
   "metadata": {},
   "source": [
    "### 빈발항목중에서 후보집합을 선정하는 기준으로 지지도(Support) 를 사용"
   ]
  },
  {
   "cell_type": "markdown",
   "metadata": {},
   "source": [
    "---"
   ]
  },
  {
   "cell_type": "code",
   "execution_count": 1,
   "metadata": {},
   "outputs": [],
   "source": [
    "import pandas as pd"
   ]
  },
  {
   "cell_type": "code",
   "execution_count": 4,
   "metadata": {},
   "outputs": [
    {
     "name": "stdout",
     "output_type": "stream",
     "text": [
      "[RelationRecord(items=frozenset({'Cold Drink'}), support=0.6, ordered_statistics=[OrderedStatistic(items_base=frozenset(), items_add=frozenset({'Cold Drink'}), confidence=0.6, lift=1.0)]), RelationRecord(items=frozenset({'Eggs'}), support=0.6, ordered_statistics=[OrderedStatistic(items_base=frozenset(), items_add=frozenset({'Eggs'}), confidence=0.6, lift=1.0)]), RelationRecord(items=frozenset({'Milk'}), support=0.4, ordered_statistics=[OrderedStatistic(items_base=frozenset(), items_add=frozenset({'Milk'}), confidence=0.4, lift=1.0)]), RelationRecord(items=frozenset({'Tea'}), support=0.6, ordered_statistics=[OrderedStatistic(items_base=frozenset(), items_add=frozenset({'Tea'}), confidence=0.6, lift=1.0)]), RelationRecord(items=frozenset({'Eggs', 'Cold Drink'}), support=0.6, ordered_statistics=[OrderedStatistic(items_base=frozenset(), items_add=frozenset({'Cold Drink', 'Eggs'}), confidence=0.6, lift=1.0), OrderedStatistic(items_base=frozenset({'Cold Drink'}), items_add=frozenset({'Eggs'}), confidence=1.0, lift=1.6666666666666667), OrderedStatistic(items_base=frozenset({'Eggs'}), items_add=frozenset({'Cold Drink'}), confidence=1.0, lift=1.6666666666666667)]), RelationRecord(items=frozenset({'Tea', 'Cold Drink'}), support=0.4, ordered_statistics=[OrderedStatistic(items_base=frozenset(), items_add=frozenset({'Tea', 'Cold Drink'}), confidence=0.4, lift=1.0), OrderedStatistic(items_base=frozenset({'Cold Drink'}), items_add=frozenset({'Tea'}), confidence=0.6666666666666667, lift=1.1111111111111114), OrderedStatistic(items_base=frozenset({'Tea'}), items_add=frozenset({'Cold Drink'}), confidence=0.6666666666666667, lift=1.1111111111111114)]), RelationRecord(items=frozenset({'Tea', 'Eggs'}), support=0.4, ordered_statistics=[OrderedStatistic(items_base=frozenset(), items_add=frozenset({'Tea', 'Eggs'}), confidence=0.4, lift=1.0), OrderedStatistic(items_base=frozenset({'Eggs'}), items_add=frozenset({'Tea'}), confidence=0.6666666666666667, lift=1.1111111111111114), OrderedStatistic(items_base=frozenset({'Tea'}), items_add=frozenset({'Eggs'}), confidence=0.6666666666666667, lift=1.1111111111111114)]), RelationRecord(items=frozenset({'Tea', 'Milk'}), support=0.4, ordered_statistics=[OrderedStatistic(items_base=frozenset(), items_add=frozenset({'Tea', 'Milk'}), confidence=0.4, lift=1.0), OrderedStatistic(items_base=frozenset({'Milk'}), items_add=frozenset({'Tea'}), confidence=1.0, lift=1.6666666666666667), OrderedStatistic(items_base=frozenset({'Tea'}), items_add=frozenset({'Milk'}), confidence=0.6666666666666667, lift=1.6666666666666667)]), RelationRecord(items=frozenset({'Tea', 'Eggs', 'Cold Drink'}), support=0.4, ordered_statistics=[OrderedStatistic(items_base=frozenset(), items_add=frozenset({'Tea', 'Cold Drink', 'Eggs'}), confidence=0.4, lift=1.0), OrderedStatistic(items_base=frozenset({'Cold Drink'}), items_add=frozenset({'Tea', 'Eggs'}), confidence=0.6666666666666667, lift=1.6666666666666667), OrderedStatistic(items_base=frozenset({'Eggs'}), items_add=frozenset({'Tea', 'Cold Drink'}), confidence=0.6666666666666667, lift=1.6666666666666667), OrderedStatistic(items_base=frozenset({'Tea'}), items_add=frozenset({'Cold Drink', 'Eggs'}), confidence=0.6666666666666667, lift=1.1111111111111114), OrderedStatistic(items_base=frozenset({'Eggs', 'Cold Drink'}), items_add=frozenset({'Tea'}), confidence=0.6666666666666667, lift=1.1111111111111114), OrderedStatistic(items_base=frozenset({'Tea', 'Cold Drink'}), items_add=frozenset({'Eggs'}), confidence=1.0, lift=1.6666666666666667), OrderedStatistic(items_base=frozenset({'Tea', 'Eggs'}), items_add=frozenset({'Cold Drink'}), confidence=1.0, lift=1.6666666666666667)])]\n"
     ]
    }
   ],
   "source": [
    "from apyori import apriori\n",
    "\n",
    "baskets = [\n",
    "    ['Milk', 'Tea', 'Cake'],\n",
    "    ['Eggs', 'Tea', 'Cold Drink'],\n",
    "    ['Milk', 'Eggs', 'Tea', 'Cold Drink'],\n",
    "    ['Eggs', 'Cold Drink'],\n",
    "    ['Juice']\n",
    "]\n",
    "association_result = list(apriori(baskets, min_support=0.4))\n",
    "print(association_result)"
   ]
  },
  {
   "cell_type": "code",
   "execution_count": 3,
   "metadata": {},
   "outputs": [
    {
     "data": {
      "text/html": [
       "<div>\n",
       "<style scoped>\n",
       "    .dataframe tbody tr th:only-of-type {\n",
       "        vertical-align: middle;\n",
       "    }\n",
       "\n",
       "    .dataframe tbody tr th {\n",
       "        vertical-align: top;\n",
       "    }\n",
       "\n",
       "    .dataframe thead th {\n",
       "        text-align: right;\n",
       "    }\n",
       "</style>\n",
       "<table border=\"1\" class=\"dataframe\">\n",
       "  <thead>\n",
       "    <tr style=\"text-align: right;\">\n",
       "      <th></th>\n",
       "      <th>source</th>\n",
       "      <th>target</th>\n",
       "      <th>support</th>\n",
       "    </tr>\n",
       "  </thead>\n",
       "  <tbody>\n",
       "    <tr>\n",
       "      <th>0</th>\n",
       "      <td>Eggs</td>\n",
       "      <td>Cold Drink</td>\n",
       "      <td>0.6</td>\n",
       "    </tr>\n",
       "    <tr>\n",
       "      <th>1</th>\n",
       "      <td>Tea</td>\n",
       "      <td>Cold Drink</td>\n",
       "      <td>0.4</td>\n",
       "    </tr>\n",
       "    <tr>\n",
       "      <th>2</th>\n",
       "      <td>Tea</td>\n",
       "      <td>Eggs</td>\n",
       "      <td>0.4</td>\n",
       "    </tr>\n",
       "    <tr>\n",
       "      <th>3</th>\n",
       "      <td>Tea</td>\n",
       "      <td>Milk</td>\n",
       "      <td>0.4</td>\n",
       "    </tr>\n",
       "  </tbody>\n",
       "</table>\n",
       "</div>"
      ],
      "text/plain": [
       "  source      target  support\n",
       "0   Eggs  Cold Drink      0.6\n",
       "1    Tea  Cold Drink      0.4\n",
       "2    Tea        Eggs      0.4\n",
       "3    Tea        Milk      0.4"
      ]
     },
     "execution_count": 3,
     "metadata": {},
     "output_type": "execute_result"
    }
   ],
   "source": [
    "columns = ['source', 'target', 'support']\n",
    "network_df = pd.DataFrame(columns=columns)\n",
    "for result in  association_result:\n",
    "    if len(result.items) == 2:\n",
    "        items = [x for x in result.items]\n",
    "        row = [items[0], items[1], result.support]\n",
    "        series = pd.Series(row, index=network_df.columns)\n",
    "        network_df = network_df.append(series, ignore_index=True)\n",
    "network_df.head(10)"
   ]
  },
  {
   "cell_type": "markdown",
   "metadata": {},
   "source": [
    "![edu1](images/edu1.png)"
   ]
  },
  {
   "cell_type": "code",
   "execution_count": 5,
   "metadata": {},
   "outputs": [],
   "source": [
    "from apyori import apriori\n",
    "\n",
    "baskets = [\n",
    "    ['Milk', 'Tea', 'Cake'],\n",
    "    ['Eggs', 'Tea', 'Cold Drink'],\n",
    "    ['Milk', 'Eggs', 'Tea', 'Cold Drink'],\n",
    "    ['Eggs', 'Cold Drink'],\n",
    "    ['Juice']\n",
    "]\n",
    "association_result = list(apriori(baskets, min_support=0.6))"
   ]
  },
  {
   "cell_type": "code",
   "execution_count": 6,
   "metadata": {},
   "outputs": [
    {
     "data": {
      "text/html": [
       "<div>\n",
       "<style scoped>\n",
       "    .dataframe tbody tr th:only-of-type {\n",
       "        vertical-align: middle;\n",
       "    }\n",
       "\n",
       "    .dataframe tbody tr th {\n",
       "        vertical-align: top;\n",
       "    }\n",
       "\n",
       "    .dataframe thead th {\n",
       "        text-align: right;\n",
       "    }\n",
       "</style>\n",
       "<table border=\"1\" class=\"dataframe\">\n",
       "  <thead>\n",
       "    <tr style=\"text-align: right;\">\n",
       "      <th></th>\n",
       "      <th>source</th>\n",
       "      <th>target</th>\n",
       "      <th>support</th>\n",
       "    </tr>\n",
       "  </thead>\n",
       "  <tbody>\n",
       "    <tr>\n",
       "      <th>0</th>\n",
       "      <td>Eggs</td>\n",
       "      <td>Cold Drink</td>\n",
       "      <td>0.6</td>\n",
       "    </tr>\n",
       "  </tbody>\n",
       "</table>\n",
       "</div>"
      ],
      "text/plain": [
       "  source      target  support\n",
       "0   Eggs  Cold Drink      0.6"
      ]
     },
     "execution_count": 6,
     "metadata": {},
     "output_type": "execute_result"
    }
   ],
   "source": [
    "columns = ['source', 'target', 'support']\n",
    "network_df = pd.DataFrame(columns=columns)\n",
    "for result in  association_result:\n",
    "    if len(result.items) == 2:\n",
    "        items = [x for x in result.items]\n",
    "        row = [items[0], items[1], result.support]\n",
    "        series = pd.Series(row, index=network_df.columns)\n",
    "        network_df = network_df.append(series, ignore_index=True)\n",
    "network_df.head(10)"
   ]
  },
  {
   "cell_type": "markdown",
   "metadata": {},
   "source": [
    "![edu1](images/edu2.png)"
   ]
  },
  {
   "cell_type": "code",
   "execution_count": 7,
   "metadata": {},
   "outputs": [],
   "source": [
    "import csv\n",
    "with open('data/basket.csv', 'r', encoding='utf-8') as cf:\n",
    "    transactions = [] \n",
    "    r = csv.reader(cf)\n",
    "    for row in r:\n",
    "        transactions.append(row)"
   ]
  },
  {
   "cell_type": "code",
   "execution_count": 8,
   "metadata": {},
   "outputs": [
    {
     "data": {
      "text/plain": [
       "[[' 소주', '콜라', '와인'],\n",
       " [' 소주', '오렌지주스', '콜라'],\n",
       " [' 콜라', '맥주', '와인'],\n",
       " [' 소주', '콜라', '맥주'],\n",
       " [' 오렌지주스', '와인']]"
      ]
     },
     "execution_count": 8,
     "metadata": {},
     "output_type": "execute_result"
    }
   ],
   "source": [
    "transactions"
   ]
  },
  {
   "cell_type": "code",
   "execution_count": 9,
   "metadata": {
    "ExecuteTime": {
     "end_time": "2021-04-04T03:53:31.345626Z",
     "start_time": "2021-04-04T03:53:31.341628Z"
    }
   },
   "outputs": [],
   "source": [
    "from apyori import apriori\n",
    "rules = apriori(transactions, min_support=0.1, min_confidence=0.1)  \n",
    "results = list(rules)"
   ]
  },
  {
   "cell_type": "code",
   "execution_count": 10,
   "metadata": {
    "ExecuteTime": {
     "end_time": "2021-04-04T03:54:23.874491Z",
     "start_time": "2021-04-04T03:54:23.858497Z"
    }
   },
   "outputs": [
    {
     "name": "stdout",
     "output_type": "stream",
     "text": [
      "lhs => rhs \t\tsupport \t\tconfidence \t\tlift\n",
      "[' 소주']  =>  ['맥주'] \t\t0.2000\t\t0.3333\t\t0.8333\n",
      "['맥주']  =>  [' 소주'] \t\t0.2000\t\t0.5000\t\t0.8333\n",
      "[' 소주']  =>  ['오렌지주스'] \t\t0.2000\t\t0.3333\t\t1.6667\n",
      "['오렌지주스']  =>  [' 소주'] \t\t0.2000\t\t1.0000\t\t1.6667\n",
      "[' 소주']  =>  ['와인'] \t\t0.2000\t\t0.3333\t\t0.5556\n",
      "['와인']  =>  [' 소주'] \t\t0.2000\t\t0.3333\t\t0.5556\n",
      "[' 소주']  =>  ['콜라'] \t\t0.6000\t\t1.0000\t\t1.6667\n",
      "['콜라']  =>  [' 소주'] \t\t0.6000\t\t1.0000\t\t1.6667\n",
      "[' 오렌지주스']  =>  ['와인'] \t\t0.2000\t\t1.0000\t\t1.6667\n",
      "['와인']  =>  [' 오렌지주스'] \t\t0.2000\t\t0.3333\t\t1.6667\n",
      "[' 콜라']  =>  ['맥주'] \t\t0.2000\t\t1.0000\t\t2.5000\n",
      "['맥주']  =>  [' 콜라'] \t\t0.2000\t\t0.5000\t\t2.5000\n",
      "[' 콜라']  =>  ['와인'] \t\t0.2000\t\t1.0000\t\t1.6667\n",
      "['와인']  =>  [' 콜라'] \t\t0.2000\t\t0.3333\t\t1.6667\n",
      "['맥주']  =>  ['와인'] \t\t0.2000\t\t0.5000\t\t0.8333\n",
      "['와인']  =>  ['맥주'] \t\t0.2000\t\t0.3333\t\t0.8333\n",
      "['맥주']  =>  ['콜라'] \t\t0.2000\t\t0.5000\t\t0.8333\n",
      "['콜라']  =>  ['맥주'] \t\t0.2000\t\t0.3333\t\t0.8333\n",
      "['오렌지주스']  =>  ['콜라'] \t\t0.2000\t\t1.0000\t\t1.6667\n",
      "['콜라']  =>  ['오렌지주스'] \t\t0.2000\t\t0.3333\t\t1.6667\n",
      "['와인']  =>  ['콜라'] \t\t0.2000\t\t0.3333\t\t0.5556\n",
      "['콜라']  =>  ['와인'] \t\t0.2000\t\t0.3333\t\t0.5556\n"
     ]
    }
   ],
   "source": [
    "print(\"lhs => rhs \\t\\tsupport \\t\\tconfidence \\t\\tlift\")\n",
    "for row in results:\n",
    "    support = row[1]\n",
    "    ordered_stat = row[2]\n",
    "    for ordered_item in ordered_stat:\n",
    "        lhs = [x for x in ordered_item[0]]\n",
    "        rhs = [x for x in ordered_item[1]]\n",
    "        confidence = ordered_item[2]\n",
    "        lift = ordered_item[3]\n",
    "        if len(lhs) == 1 and len(rhs) == 1 :\n",
    "            print(lhs, \" => \", rhs, \"\\t\\t{:>5.4f}\\t\\t{:>5.4f}\\t\\t{:>5.4f}\".format(support, confidence, lift))  #리프트가 1보다 크다는 것은 상관성이 크다, 1은 우연, 마이너스는 긍정적 관계 x라는 뜻   "
   ]
  },
  {
   "cell_type": "code",
   "execution_count": 11,
   "metadata": {
    "ExecuteTime": {
     "end_time": "2021-04-04T03:54:23.874491Z",
     "start_time": "2021-04-04T03:54:23.858497Z"
    }
   },
   "outputs": [
    {
     "name": "stdout",
     "output_type": "stream",
     "text": [
      "lhs => rhs \t\tsupport \t\tconfidence \t\tlift\n",
      "[]  =>  [' 소주'] \t\t0.6000\t\t0.6000\t\t1.0000\n",
      "-------------------------------------------------------------------------\n",
      "[]  =>  [' 오렌지주스'] \t\t0.2000\t\t0.2000\t\t1.0000\n",
      "-------------------------------------------------------------------------\n",
      "[]  =>  [' 콜라'] \t\t0.2000\t\t0.2000\t\t1.0000\n",
      "-------------------------------------------------------------------------\n",
      "[]  =>  ['맥주'] \t\t0.4000\t\t0.4000\t\t1.0000\n",
      "-------------------------------------------------------------------------\n",
      "[]  =>  ['오렌지주스'] \t\t0.2000\t\t0.2000\t\t1.0000\n",
      "-------------------------------------------------------------------------\n",
      "[]  =>  ['와인'] \t\t0.6000\t\t0.6000\t\t1.0000\n",
      "-------------------------------------------------------------------------\n",
      "[]  =>  ['콜라'] \t\t0.6000\t\t0.6000\t\t1.0000\n",
      "-------------------------------------------------------------------------\n",
      "[]  =>  [' 소주', '맥주'] \t\t0.2000\t\t0.2000\t\t1.0000\n",
      "[' 소주']  =>  ['맥주'] \t\t0.2000\t\t0.3333\t\t0.8333\n",
      "['맥주']  =>  [' 소주'] \t\t0.2000\t\t0.5000\t\t0.8333\n",
      "-------------------------------------------------------------------------\n",
      "[]  =>  [' 소주', '오렌지주스'] \t\t0.2000\t\t0.2000\t\t1.0000\n",
      "[' 소주']  =>  ['오렌지주스'] \t\t0.2000\t\t0.3333\t\t1.6667\n",
      "['오렌지주스']  =>  [' 소주'] \t\t0.2000\t\t1.0000\t\t1.6667\n",
      "-------------------------------------------------------------------------\n",
      "[]  =>  [' 소주', '와인'] \t\t0.2000\t\t0.2000\t\t1.0000\n",
      "[' 소주']  =>  ['와인'] \t\t0.2000\t\t0.3333\t\t0.5556\n",
      "['와인']  =>  [' 소주'] \t\t0.2000\t\t0.3333\t\t0.5556\n",
      "-------------------------------------------------------------------------\n",
      "[]  =>  [' 소주', '콜라'] \t\t0.6000\t\t0.6000\t\t1.0000\n",
      "[' 소주']  =>  ['콜라'] \t\t0.6000\t\t1.0000\t\t1.6667\n",
      "['콜라']  =>  [' 소주'] \t\t0.6000\t\t1.0000\t\t1.6667\n",
      "-------------------------------------------------------------------------\n",
      "[]  =>  [' 오렌지주스', '와인'] \t\t0.2000\t\t0.2000\t\t1.0000\n",
      "[' 오렌지주스']  =>  ['와인'] \t\t0.2000\t\t1.0000\t\t1.6667\n",
      "['와인']  =>  [' 오렌지주스'] \t\t0.2000\t\t0.3333\t\t1.6667\n",
      "-------------------------------------------------------------------------\n",
      "[]  =>  ['맥주', ' 콜라'] \t\t0.2000\t\t0.2000\t\t1.0000\n",
      "[' 콜라']  =>  ['맥주'] \t\t0.2000\t\t1.0000\t\t2.5000\n",
      "['맥주']  =>  [' 콜라'] \t\t0.2000\t\t0.5000\t\t2.5000\n",
      "-------------------------------------------------------------------------\n",
      "[]  =>  [' 콜라', '와인'] \t\t0.2000\t\t0.2000\t\t1.0000\n",
      "[' 콜라']  =>  ['와인'] \t\t0.2000\t\t1.0000\t\t1.6667\n",
      "['와인']  =>  [' 콜라'] \t\t0.2000\t\t0.3333\t\t1.6667\n",
      "-------------------------------------------------------------------------\n",
      "[]  =>  ['맥주', '와인'] \t\t0.2000\t\t0.2000\t\t1.0000\n",
      "['맥주']  =>  ['와인'] \t\t0.2000\t\t0.5000\t\t0.8333\n",
      "['와인']  =>  ['맥주'] \t\t0.2000\t\t0.3333\t\t0.8333\n",
      "-------------------------------------------------------------------------\n",
      "[]  =>  ['콜라', '맥주'] \t\t0.2000\t\t0.2000\t\t1.0000\n",
      "['맥주']  =>  ['콜라'] \t\t0.2000\t\t0.5000\t\t0.8333\n",
      "['콜라']  =>  ['맥주'] \t\t0.2000\t\t0.3333\t\t0.8333\n",
      "-------------------------------------------------------------------------\n",
      "[]  =>  ['콜라', '오렌지주스'] \t\t0.2000\t\t0.2000\t\t1.0000\n",
      "['오렌지주스']  =>  ['콜라'] \t\t0.2000\t\t1.0000\t\t1.6667\n",
      "['콜라']  =>  ['오렌지주스'] \t\t0.2000\t\t0.3333\t\t1.6667\n",
      "-------------------------------------------------------------------------\n",
      "[]  =>  ['콜라', '와인'] \t\t0.2000\t\t0.2000\t\t1.0000\n",
      "['와인']  =>  ['콜라'] \t\t0.2000\t\t0.3333\t\t0.5556\n",
      "['콜라']  =>  ['와인'] \t\t0.2000\t\t0.3333\t\t0.5556\n",
      "-------------------------------------------------------------------------\n",
      "[]  =>  [' 소주', '맥주', '콜라'] \t\t0.2000\t\t0.2000\t\t1.0000\n",
      "[' 소주']  =>  ['콜라', '맥주'] \t\t0.2000\t\t0.3333\t\t1.6667\n",
      "['맥주']  =>  [' 소주', '콜라'] \t\t0.2000\t\t0.5000\t\t0.8333\n",
      "['콜라']  =>  [' 소주', '맥주'] \t\t0.2000\t\t0.3333\t\t1.6667\n",
      "[' 소주', '맥주']  =>  ['콜라'] \t\t0.2000\t\t1.0000\t\t1.6667\n",
      "[' 소주', '콜라']  =>  ['맥주'] \t\t0.2000\t\t0.3333\t\t0.8333\n",
      "['콜라', '맥주']  =>  [' 소주'] \t\t0.2000\t\t1.0000\t\t1.6667\n",
      "-------------------------------------------------------------------------\n",
      "[]  =>  [' 소주', '오렌지주스', '콜라'] \t\t0.2000\t\t0.2000\t\t1.0000\n",
      "[' 소주']  =>  ['콜라', '오렌지주스'] \t\t0.2000\t\t0.3333\t\t1.6667\n",
      "['오렌지주스']  =>  [' 소주', '콜라'] \t\t0.2000\t\t1.0000\t\t1.6667\n",
      "['콜라']  =>  [' 소주', '오렌지주스'] \t\t0.2000\t\t0.3333\t\t1.6667\n",
      "[' 소주', '오렌지주스']  =>  ['콜라'] \t\t0.2000\t\t1.0000\t\t1.6667\n",
      "[' 소주', '콜라']  =>  ['오렌지주스'] \t\t0.2000\t\t0.3333\t\t1.6667\n",
      "['콜라', '오렌지주스']  =>  [' 소주'] \t\t0.2000\t\t1.0000\t\t1.6667\n",
      "-------------------------------------------------------------------------\n",
      "[]  =>  [' 소주', '콜라', '와인'] \t\t0.2000\t\t0.2000\t\t1.0000\n",
      "[' 소주']  =>  ['콜라', '와인'] \t\t0.2000\t\t0.3333\t\t1.6667\n",
      "['와인']  =>  [' 소주', '콜라'] \t\t0.2000\t\t0.3333\t\t0.5556\n",
      "['콜라']  =>  [' 소주', '와인'] \t\t0.2000\t\t0.3333\t\t1.6667\n",
      "[' 소주', '와인']  =>  ['콜라'] \t\t0.2000\t\t1.0000\t\t1.6667\n",
      "[' 소주', '콜라']  =>  ['와인'] \t\t0.2000\t\t0.3333\t\t0.5556\n",
      "['콜라', '와인']  =>  [' 소주'] \t\t0.2000\t\t1.0000\t\t1.6667\n",
      "-------------------------------------------------------------------------\n",
      "[]  =>  ['맥주', ' 콜라', '와인'] \t\t0.2000\t\t0.2000\t\t1.0000\n",
      "[' 콜라']  =>  ['맥주', '와인'] \t\t0.2000\t\t1.0000\t\t5.0000\n",
      "['맥주']  =>  [' 콜라', '와인'] \t\t0.2000\t\t0.5000\t\t2.5000\n",
      "['와인']  =>  ['맥주', ' 콜라'] \t\t0.2000\t\t0.3333\t\t1.6667\n",
      "['맥주', ' 콜라']  =>  ['와인'] \t\t0.2000\t\t1.0000\t\t1.6667\n",
      "['와인', ' 콜라']  =>  ['맥주'] \t\t0.2000\t\t1.0000\t\t2.5000\n",
      "['맥주', '와인']  =>  [' 콜라'] \t\t0.2000\t\t1.0000\t\t5.0000\n",
      "-------------------------------------------------------------------------\n"
     ]
    }
   ],
   "source": [
    "print(\"lhs => rhs \\t\\tsupport \\t\\tconfidence \\t\\tlift\")\n",
    "for row in results:\n",
    "    support = row[1]\n",
    "    ordered_stat = row[2]\n",
    "    for ordered_item in ordered_stat:\n",
    "        lhs = [x for x in ordered_item[0]]\n",
    "        rhs = [x for x in ordered_item[1]]\n",
    "        confidence = ordered_item[2]\n",
    "        lift = ordered_item[3]\n",
    "        print(lhs, \" => \", rhs, \"\\t\\t{:>5.4f}\\t\\t{:>5.4f}\\t\\t{:>5.4f}\".format(support, confidence, lift)) \n",
    "    print(\"-------------------------------------------------------------------------\")"
   ]
  },
  {
   "cell_type": "code",
   "execution_count": 14,
   "metadata": {},
   "outputs": [],
   "source": [
    "import pandas as pd\n",
    "from mlxtend.preprocessing import TransactionEncoder\n",
    "from mlxtend.frequent_patterns import apriori"
   ]
  },
  {
   "cell_type": "code",
   "execution_count": 15,
   "metadata": {},
   "outputs": [],
   "source": [
    "dataset= [['양말','팬티','신발'],\n",
    "         ['신발','바지','팬티','셔츠'],\n",
    "         ['모자','양말','신발'],\n",
    "         ['신발','바지','팬티','장갑']]"
   ]
  },
  {
   "cell_type": "code",
   "execution_count": 16,
   "metadata": {},
   "outputs": [
    {
     "name": "stdout",
     "output_type": "stream",
     "text": [
      "<class 'numpy.ndarray'>\n"
     ]
    },
    {
     "data": {
      "text/html": [
       "<div>\n",
       "<style scoped>\n",
       "    .dataframe tbody tr th:only-of-type {\n",
       "        vertical-align: middle;\n",
       "    }\n",
       "\n",
       "    .dataframe tbody tr th {\n",
       "        vertical-align: top;\n",
       "    }\n",
       "\n",
       "    .dataframe thead th {\n",
       "        text-align: right;\n",
       "    }\n",
       "</style>\n",
       "<table border=\"1\" class=\"dataframe\">\n",
       "  <thead>\n",
       "    <tr style=\"text-align: right;\">\n",
       "      <th></th>\n",
       "      <th>모자</th>\n",
       "      <th>바지</th>\n",
       "      <th>셔츠</th>\n",
       "      <th>신발</th>\n",
       "      <th>양말</th>\n",
       "      <th>장갑</th>\n",
       "      <th>팬티</th>\n",
       "    </tr>\n",
       "  </thead>\n",
       "  <tbody>\n",
       "    <tr>\n",
       "      <th>0</th>\n",
       "      <td>False</td>\n",
       "      <td>False</td>\n",
       "      <td>False</td>\n",
       "      <td>True</td>\n",
       "      <td>True</td>\n",
       "      <td>False</td>\n",
       "      <td>True</td>\n",
       "    </tr>\n",
       "    <tr>\n",
       "      <th>1</th>\n",
       "      <td>False</td>\n",
       "      <td>True</td>\n",
       "      <td>True</td>\n",
       "      <td>True</td>\n",
       "      <td>False</td>\n",
       "      <td>False</td>\n",
       "      <td>True</td>\n",
       "    </tr>\n",
       "    <tr>\n",
       "      <th>2</th>\n",
       "      <td>True</td>\n",
       "      <td>False</td>\n",
       "      <td>False</td>\n",
       "      <td>True</td>\n",
       "      <td>True</td>\n",
       "      <td>False</td>\n",
       "      <td>False</td>\n",
       "    </tr>\n",
       "    <tr>\n",
       "      <th>3</th>\n",
       "      <td>False</td>\n",
       "      <td>True</td>\n",
       "      <td>False</td>\n",
       "      <td>True</td>\n",
       "      <td>False</td>\n",
       "      <td>True</td>\n",
       "      <td>True</td>\n",
       "    </tr>\n",
       "  </tbody>\n",
       "</table>\n",
       "</div>"
      ],
      "text/plain": [
       "      모자     바지     셔츠    신발     양말     장갑     팬티\n",
       "0  False  False  False  True   True  False   True\n",
       "1  False   True   True  True  False  False   True\n",
       "2   True  False  False  True   True  False  False\n",
       "3  False   True  False  True  False   True   True"
      ]
     },
     "execution_count": 16,
     "metadata": {},
     "output_type": "execute_result"
    }
   ],
   "source": [
    "t = TransactionEncoder() #원핫인코더와 비슷하다\n",
    "t_a = t.fit(dataset).transform(dataset)\n",
    "print(type(t_a))\n",
    "df = pd.DataFrame(t_a, columns = t.columns_)\n",
    "df"
   ]
  },
  {
   "cell_type": "code",
   "execution_count": 17,
   "metadata": {},
   "outputs": [
    {
     "data": {
      "text/html": [
       "<div>\n",
       "<style scoped>\n",
       "    .dataframe tbody tr th:only-of-type {\n",
       "        vertical-align: middle;\n",
       "    }\n",
       "\n",
       "    .dataframe tbody tr th {\n",
       "        vertical-align: top;\n",
       "    }\n",
       "\n",
       "    .dataframe thead th {\n",
       "        text-align: right;\n",
       "    }\n",
       "</style>\n",
       "<table border=\"1\" class=\"dataframe\">\n",
       "  <thead>\n",
       "    <tr style=\"text-align: right;\">\n",
       "      <th></th>\n",
       "      <th>support</th>\n",
       "      <th>itemsets</th>\n",
       "    </tr>\n",
       "  </thead>\n",
       "  <tbody>\n",
       "    <tr>\n",
       "      <th>0</th>\n",
       "      <td>0.50</td>\n",
       "      <td>(바지)</td>\n",
       "    </tr>\n",
       "    <tr>\n",
       "      <th>1</th>\n",
       "      <td>1.00</td>\n",
       "      <td>(신발)</td>\n",
       "    </tr>\n",
       "    <tr>\n",
       "      <th>2</th>\n",
       "      <td>0.50</td>\n",
       "      <td>(양말)</td>\n",
       "    </tr>\n",
       "    <tr>\n",
       "      <th>3</th>\n",
       "      <td>0.75</td>\n",
       "      <td>(팬티)</td>\n",
       "    </tr>\n",
       "    <tr>\n",
       "      <th>4</th>\n",
       "      <td>0.50</td>\n",
       "      <td>(신발, 바지)</td>\n",
       "    </tr>\n",
       "    <tr>\n",
       "      <th>5</th>\n",
       "      <td>0.50</td>\n",
       "      <td>(바지, 팬티)</td>\n",
       "    </tr>\n",
       "    <tr>\n",
       "      <th>6</th>\n",
       "      <td>0.50</td>\n",
       "      <td>(신발, 양말)</td>\n",
       "    </tr>\n",
       "    <tr>\n",
       "      <th>7</th>\n",
       "      <td>0.75</td>\n",
       "      <td>(신발, 팬티)</td>\n",
       "    </tr>\n",
       "    <tr>\n",
       "      <th>8</th>\n",
       "      <td>0.50</td>\n",
       "      <td>(신발, 바지, 팬티)</td>\n",
       "    </tr>\n",
       "  </tbody>\n",
       "</table>\n",
       "</div>"
      ],
      "text/plain": [
       "   support      itemsets\n",
       "0     0.50          (바지)\n",
       "1     1.00          (신발)\n",
       "2     0.50          (양말)\n",
       "3     0.75          (팬티)\n",
       "4     0.50      (신발, 바지)\n",
       "5     0.50      (바지, 팬티)\n",
       "6     0.50      (신발, 양말)\n",
       "7     0.75      (신발, 팬티)\n",
       "8     0.50  (신발, 바지, 팬티)"
      ]
     },
     "execution_count": 17,
     "metadata": {},
     "output_type": "execute_result"
    }
   ],
   "source": [
    "frequent = apriori(df, min_support=0.5, use_colnames=True)\n",
    "frequent #팬티와 신발을 묶음상품으로~!"
   ]
  },
  {
   "cell_type": "code",
   "execution_count": 18,
   "metadata": {},
   "outputs": [
    {
     "data": {
      "text/html": [
       "<div>\n",
       "<style scoped>\n",
       "    .dataframe tbody tr th:only-of-type {\n",
       "        vertical-align: middle;\n",
       "    }\n",
       "\n",
       "    .dataframe tbody tr th {\n",
       "        vertical-align: top;\n",
       "    }\n",
       "\n",
       "    .dataframe thead th {\n",
       "        text-align: right;\n",
       "    }\n",
       "</style>\n",
       "<table border=\"1\" class=\"dataframe\">\n",
       "  <thead>\n",
       "    <tr style=\"text-align: right;\">\n",
       "      <th></th>\n",
       "      <th>antecedents</th>\n",
       "      <th>consequents</th>\n",
       "      <th>antecedent support</th>\n",
       "      <th>consequent support</th>\n",
       "      <th>support</th>\n",
       "      <th>confidence</th>\n",
       "      <th>lift</th>\n",
       "      <th>leverage</th>\n",
       "      <th>conviction</th>\n",
       "    </tr>\n",
       "  </thead>\n",
       "  <tbody>\n",
       "    <tr>\n",
       "      <th>0</th>\n",
       "      <td>(신발)</td>\n",
       "      <td>(바지)</td>\n",
       "      <td>1.00</td>\n",
       "      <td>0.50</td>\n",
       "      <td>0.50</td>\n",
       "      <td>0.500000</td>\n",
       "      <td>1.000000</td>\n",
       "      <td>0.000</td>\n",
       "      <td>1.0</td>\n",
       "    </tr>\n",
       "    <tr>\n",
       "      <th>1</th>\n",
       "      <td>(바지)</td>\n",
       "      <td>(신발)</td>\n",
       "      <td>0.50</td>\n",
       "      <td>1.00</td>\n",
       "      <td>0.50</td>\n",
       "      <td>1.000000</td>\n",
       "      <td>1.000000</td>\n",
       "      <td>0.000</td>\n",
       "      <td>inf</td>\n",
       "    </tr>\n",
       "    <tr>\n",
       "      <th>2</th>\n",
       "      <td>(바지)</td>\n",
       "      <td>(팬티)</td>\n",
       "      <td>0.50</td>\n",
       "      <td>0.75</td>\n",
       "      <td>0.50</td>\n",
       "      <td>1.000000</td>\n",
       "      <td>1.333333</td>\n",
       "      <td>0.125</td>\n",
       "      <td>inf</td>\n",
       "    </tr>\n",
       "    <tr>\n",
       "      <th>3</th>\n",
       "      <td>(팬티)</td>\n",
       "      <td>(바지)</td>\n",
       "      <td>0.75</td>\n",
       "      <td>0.50</td>\n",
       "      <td>0.50</td>\n",
       "      <td>0.666667</td>\n",
       "      <td>1.333333</td>\n",
       "      <td>0.125</td>\n",
       "      <td>1.5</td>\n",
       "    </tr>\n",
       "    <tr>\n",
       "      <th>4</th>\n",
       "      <td>(신발)</td>\n",
       "      <td>(양말)</td>\n",
       "      <td>1.00</td>\n",
       "      <td>0.50</td>\n",
       "      <td>0.50</td>\n",
       "      <td>0.500000</td>\n",
       "      <td>1.000000</td>\n",
       "      <td>0.000</td>\n",
       "      <td>1.0</td>\n",
       "    </tr>\n",
       "    <tr>\n",
       "      <th>5</th>\n",
       "      <td>(양말)</td>\n",
       "      <td>(신발)</td>\n",
       "      <td>0.50</td>\n",
       "      <td>1.00</td>\n",
       "      <td>0.50</td>\n",
       "      <td>1.000000</td>\n",
       "      <td>1.000000</td>\n",
       "      <td>0.000</td>\n",
       "      <td>inf</td>\n",
       "    </tr>\n",
       "    <tr>\n",
       "      <th>6</th>\n",
       "      <td>(신발)</td>\n",
       "      <td>(팬티)</td>\n",
       "      <td>1.00</td>\n",
       "      <td>0.75</td>\n",
       "      <td>0.75</td>\n",
       "      <td>0.750000</td>\n",
       "      <td>1.000000</td>\n",
       "      <td>0.000</td>\n",
       "      <td>1.0</td>\n",
       "    </tr>\n",
       "    <tr>\n",
       "      <th>7</th>\n",
       "      <td>(팬티)</td>\n",
       "      <td>(신발)</td>\n",
       "      <td>0.75</td>\n",
       "      <td>1.00</td>\n",
       "      <td>0.75</td>\n",
       "      <td>1.000000</td>\n",
       "      <td>1.000000</td>\n",
       "      <td>0.000</td>\n",
       "      <td>inf</td>\n",
       "    </tr>\n",
       "    <tr>\n",
       "      <th>8</th>\n",
       "      <td>(신발, 바지)</td>\n",
       "      <td>(팬티)</td>\n",
       "      <td>0.50</td>\n",
       "      <td>0.75</td>\n",
       "      <td>0.50</td>\n",
       "      <td>1.000000</td>\n",
       "      <td>1.333333</td>\n",
       "      <td>0.125</td>\n",
       "      <td>inf</td>\n",
       "    </tr>\n",
       "    <tr>\n",
       "      <th>9</th>\n",
       "      <td>(신발, 팬티)</td>\n",
       "      <td>(바지)</td>\n",
       "      <td>0.75</td>\n",
       "      <td>0.50</td>\n",
       "      <td>0.50</td>\n",
       "      <td>0.666667</td>\n",
       "      <td>1.333333</td>\n",
       "      <td>0.125</td>\n",
       "      <td>1.5</td>\n",
       "    </tr>\n",
       "    <tr>\n",
       "      <th>10</th>\n",
       "      <td>(바지, 팬티)</td>\n",
       "      <td>(신발)</td>\n",
       "      <td>0.50</td>\n",
       "      <td>1.00</td>\n",
       "      <td>0.50</td>\n",
       "      <td>1.000000</td>\n",
       "      <td>1.000000</td>\n",
       "      <td>0.000</td>\n",
       "      <td>inf</td>\n",
       "    </tr>\n",
       "    <tr>\n",
       "      <th>11</th>\n",
       "      <td>(신발)</td>\n",
       "      <td>(바지, 팬티)</td>\n",
       "      <td>1.00</td>\n",
       "      <td>0.50</td>\n",
       "      <td>0.50</td>\n",
       "      <td>0.500000</td>\n",
       "      <td>1.000000</td>\n",
       "      <td>0.000</td>\n",
       "      <td>1.0</td>\n",
       "    </tr>\n",
       "    <tr>\n",
       "      <th>12</th>\n",
       "      <td>(바지)</td>\n",
       "      <td>(신발, 팬티)</td>\n",
       "      <td>0.50</td>\n",
       "      <td>0.75</td>\n",
       "      <td>0.50</td>\n",
       "      <td>1.000000</td>\n",
       "      <td>1.333333</td>\n",
       "      <td>0.125</td>\n",
       "      <td>inf</td>\n",
       "    </tr>\n",
       "    <tr>\n",
       "      <th>13</th>\n",
       "      <td>(팬티)</td>\n",
       "      <td>(신발, 바지)</td>\n",
       "      <td>0.75</td>\n",
       "      <td>0.50</td>\n",
       "      <td>0.50</td>\n",
       "      <td>0.666667</td>\n",
       "      <td>1.333333</td>\n",
       "      <td>0.125</td>\n",
       "      <td>1.5</td>\n",
       "    </tr>\n",
       "  </tbody>\n",
       "</table>\n",
       "</div>"
      ],
      "text/plain": [
       "   antecedents consequents  antecedent support  consequent support  support  \\\n",
       "0         (신발)        (바지)                1.00                0.50     0.50   \n",
       "1         (바지)        (신발)                0.50                1.00     0.50   \n",
       "2         (바지)        (팬티)                0.50                0.75     0.50   \n",
       "3         (팬티)        (바지)                0.75                0.50     0.50   \n",
       "4         (신발)        (양말)                1.00                0.50     0.50   \n",
       "5         (양말)        (신발)                0.50                1.00     0.50   \n",
       "6         (신발)        (팬티)                1.00                0.75     0.75   \n",
       "7         (팬티)        (신발)                0.75                1.00     0.75   \n",
       "8     (신발, 바지)        (팬티)                0.50                0.75     0.50   \n",
       "9     (신발, 팬티)        (바지)                0.75                0.50     0.50   \n",
       "10    (바지, 팬티)        (신발)                0.50                1.00     0.50   \n",
       "11        (신발)    (바지, 팬티)                1.00                0.50     0.50   \n",
       "12        (바지)    (신발, 팬티)                0.50                0.75     0.50   \n",
       "13        (팬티)    (신발, 바지)                0.75                0.50     0.50   \n",
       "\n",
       "    confidence      lift  leverage  conviction  \n",
       "0     0.500000  1.000000     0.000         1.0  \n",
       "1     1.000000  1.000000     0.000         inf  \n",
       "2     1.000000  1.333333     0.125         inf  \n",
       "3     0.666667  1.333333     0.125         1.5  \n",
       "4     0.500000  1.000000     0.000         1.0  \n",
       "5     1.000000  1.000000     0.000         inf  \n",
       "6     0.750000  1.000000     0.000         1.0  \n",
       "7     1.000000  1.000000     0.000         inf  \n",
       "8     1.000000  1.333333     0.125         inf  \n",
       "9     0.666667  1.333333     0.125         1.5  \n",
       "10    1.000000  1.000000     0.000         inf  \n",
       "11    0.500000  1.000000     0.000         1.0  \n",
       "12    1.000000  1.333333     0.125         inf  \n",
       "13    0.666667  1.333333     0.125         1.5  "
      ]
     },
     "execution_count": 18,
     "metadata": {},
     "output_type": "execute_result"
    }
   ],
   "source": [
    "from mlxtend.frequent_patterns import association_rules\n",
    "association_rules(frequent, metric='confidence', min_threshold=0.2)"
   ]
  },
  {
   "cell_type": "markdown",
   "metadata": {},
   "source": [
    "## 연관분석\n",
    "\n",
    "https://patents.google.com/patent/KR101595961B1/ko"
   ]
  },
  {
   "cell_type": "markdown",
   "metadata": {},
   "source": [
    "# 트위터 API로 연관 키워드 분석하기 , 이것이 데이터분석이다 "
   ]
  },
  {
   "cell_type": "markdown",
   "metadata": {},
   "source": [
    "### 바로가기"
   ]
  },
  {
   "cell_type": "markdown",
   "metadata": {},
   "source": [
    "- [<Step1. API 호출> : 트위터 API로 데이터 가져오기](#<Step1.-API-호출>-:-트위터-API로-데이터-가져오기)\n",
    "    - [API 데이터로 데이터 프레임 생성하기]\n",
    "- [<Step2. 추출> : 키워드 추출](#<Step2.-추출>-:-키워드-추출)\n",
    "    - [텍스트 데이터 전처리]\n",
    "    - [nltk, konlpy를 이용한 키워드 추출]\n",
    "- [<Step3. 분석> : 연관 분석을 이용한 키워드 분석](#<Step3.-분석>-:-연관-분석을-이용한-키워드-분석)\n",
    "    - [연관 키워드 추출하기]\n",
    "    - [단어 빈도 추출하기]\n",
    "- [<Step4. 시각화> : 연관 키워드 네트워크 시각화](#<Step4.-시각화>-:-연관-키워드-네트워크-시각화)\n",
    "    - [연관 키워드 네트워크 시각화]"
   ]
  },
  {
   "cell_type": "markdown",
   "metadata": {},
   "source": [
    "-----"
   ]
  },
  {
   "cell_type": "code",
   "execution_count": 19,
   "metadata": {},
   "outputs": [],
   "source": [
    "# -*- coding: utf-8 -*-\n",
    "\n",
    "%matplotlib inline\n",
    "\n",
    "import pandas as pd\n",
    "import numpy as np\n",
    "import matplotlib.pyplot as plt\n",
    "\n",
    "import warnings\n",
    "warnings.filterwarnings(\"ignore\")"
   ]
  },
  {
   "cell_type": "markdown",
   "metadata": {},
   "source": [
    "# <Step1. API 호출> : 트위터 API로 데이터 가져오기"
   ]
  },
  {
   "cell_type": "markdown",
   "metadata": {},
   "source": [
    "### [API 데이터로 데이터 프레임 생성하기]"
   ]
  },
  {
   "cell_type": "markdown",
   "metadata": {},
   "source": [
    "-----"
   ]
  },
  {
   "cell_type": "markdown",
   "metadata": {},
   "source": [
    "##### 트위터 API 가져오기"
   ]
  },
  {
   "cell_type": "code",
   "execution_count": 20,
   "metadata": {},
   "outputs": [],
   "source": [
    "import tweepy\n",
    "import pandas as pd\n",
    "\n",
    "# 발급 완료된 키를 {your_key} 대신 입력합니다.\n",
    "CONSUMER_KEY = \"RvnZeIl8ra88reu8fm23m0bST\"\n",
    "CONSUMER_SECRET = \"wTRylK94GK2KmhZUnqXonDaIszwAsS6VPvpSsIo6EX5GQLtzQo\"\n",
    "ACCESS_TOKEN_KEY = \"959614462004117506-dkWyZaO8Bz3ZXh73rspWfc1sQz0EnDU\"\n",
    "ACCESS_TOKEN_SECRET = \"rxDWfg7uz1yXMTDwijz0x90yWhDAnmOM15R6IgC8kmtTe\"\n",
    "\n",
    "# 개인정보 인증을 요청하는 Handler입니다.\n",
    "auth = tweepy.OAuthHandler(CONSUMER_KEY, CONSUMER_SECRET)\n",
    "\n",
    "# 인증 요청을 수행합니다.\n",
    "auth.set_access_token(ACCESS_TOKEN_KEY, ACCESS_TOKEN_SECRET)\n",
    "\n",
    "# twitter API를 사용하기 위한 준비입니다.\n",
    "api = tweepy.API(auth)"
   ]
  },
  {
   "cell_type": "markdown",
   "metadata": {},
   "source": [
    "-----"
   ]
  },
  {
   "cell_type": "markdown",
   "metadata": {},
   "source": [
    "##### '코로나' 키워드 검색"
   ]
  },
  {
   "cell_type": "code",
   "execution_count": 21,
   "metadata": {
    "scrolled": true
   },
   "outputs": [
    {
     "name": "stdout",
     "output_type": "stream",
     "text": [
      "RT @yongsunYoo: 혈전 발생률?\n",
      "\n",
      "아스트라제네카 백신 기준\n",
      "피임약은 125~300배 높고\n",
      "흡연은 440배 높고\n",
      "코로나19 감염은 4만배 이상 높음.\n",
      "\n",
      "※ 한국 신문의 선동에 휘둘리지 말자. https://t.co/hij7K8es2m\n",
      "[{'screen_name': 'yongsunYoo', 'name': '어쩌다 선생', 'id': 82056074, 'id_str': '82056074', 'indices': [3, 14]}]\n",
      "[]\n",
      "2021-04-12 08:44:29\n",
      "RT @happy_CSR_: 정은경 청장, \" 오세훈의 서울형 사회적 거리두기 지침 예고에 \"유흥시설에 대한 집합금지는 불가피한 조치다. 사회적 거리두기를 하는 이유는 사람 간 접촉을 최대한 줄여 코로나19 확산을 막는 것에 이유가 있다. 그래서 거…\n",
      "[{'screen_name': 'happy_CSR_', 'name': 'sora', 'id': 1232556677188112386, 'id_str': '1232556677188112386', 'indices': [3, 14]}]\n",
      "[]\n",
      "2021-04-12 08:44:28\n",
      "RT @treasuremembers: 안녕하세요 트메~! 예담이에요\n",
      "요즘 코로나 19 때문에 평소같지 않고 무기력하고 답답하겠지만..ㅠ 저희의 많은 컨텐츠들과 노래들 들으면서 같이 이겨나가요💜 \n",
      "앞으로 트위터로 소통 많이 하면서 더욱 돈독해지는 트레…\n",
      "[{'screen_name': 'treasuremembers', 'name': 'TREASURE', 'id': 1240627844868268033, 'id_str': '1240627844868268033', 'indices': [3, 19]}]\n",
      "[]\n",
      "2021-04-12 08:44:27\n",
      "RT @yuyutraveler: 몇년 내내 조국지키며 검찰죽이기만 골몰하며 남북평화쇼만 해대더니 꼴 좋다. \n",
      "전국민 11월 면역력 형성?? \n",
      "쟨 왜 입만 열면 구라냐?? \n",
      "\n",
      "[속보] 노바백스 코로나19 백신 일러야 6월 공급 \n",
      "\n",
      "(출처 : 한국일보…\n",
      "[{'screen_name': 'yuyutraveler', 'name': 'arongdarong', 'id': 87439910, 'id_str': '87439910', 'indices': [3, 16]}]\n",
      "[]\n",
      "2021-04-12 08:44:22\n",
      "RT @bts_hangnim: 알티하면 코로나 끝나고 원하는 콘 응모해서 이거 봄\n",
      "\n",
      "I vote  #BTSArmy for #BestFanArmy at the 2021 #iHeartAwards @BTS_twt https://t.co/j64nZTsLLG\n",
      "[{'screen_name': 'bts_hangnim', 'name': '트친소괄) 유월곰돌러버 행님ෆ', 'id': 1362095973141417986, 'id_str': '1362095973141417986', 'indices': [3, 15]}, {'screen_name': 'BTS_twt', 'name': '방탄소년단', 'id': 335141638, 'id_str': '335141638', 'indices': [107, 115]}]\n",
      "[{'text': 'BTSArmy', 'indices': [55, 63]}, {'text': 'BestFanArmy', 'indices': [68, 80]}, {'text': 'iHeartAwards', 'indices': [93, 106]}]\n",
      "2021-04-12 08:44:22\n",
      "RT @yongsunYoo: 혈전 발생률?\n",
      "\n",
      "아스트라제네카 백신 기준\n",
      "피임약은 125~300배 높고\n",
      "흡연은 440배 높고\n",
      "코로나19 감염은 4만배 이상 높음.\n",
      "\n",
      "※ 한국 신문의 선동에 휘둘리지 말자. https://t.co/hij7K8es2m\n",
      "[{'screen_name': 'yongsunYoo', 'name': '어쩌다 선생', 'id': 82056074, 'id_str': '82056074', 'indices': [3, 14]}]\n",
      "[]\n",
      "2021-04-12 08:44:22\n",
      "RT @cookie190409: 코로나 초기때 마스크 쓴 나를 보고..\n",
      "내가 아는 사람인거 같기도 하고 아닌거 같기도 하고 + 엥? 하는게 넘 잘보임.. https://t.co/ZDCtpA0I1s\n",
      "[{'screen_name': 'cookie190409', 'name': '쿠키네🍪', 'id': 1142820971205685249, 'id_str': '1142820971205685249', 'indices': [3, 16]}]\n",
      "[]\n",
      "2021-04-12 08:44:21\n",
      "RT @treasuremembers: 안녕하세요 트레저 도영입니다\n",
      "코로나19로 인하여 방콕 하시고 계실 트메분들을 위해 많은 소통을 하러 왔어요!!  \n",
      "앞으로 많은 소식으로 찾아 올게요 ~\n",
      "#도영 #DOYOUNG https://t.co/ELedwrM…\n",
      "[{'screen_name': 'treasuremembers', 'name': 'TREASURE', 'id': 1240627844868268033, 'id_str': '1240627844868268033', 'indices': [3, 19]}]\n",
      "[{'text': '도영', 'indices': [106, 109]}, {'text': 'DOYOUNG', 'indices': [110, 118]}]\n",
      "2021-04-12 08:44:20\n",
      "RT @bts_hangnim: 알티하면 코로나 끝나고 원하는 콘 응모해서 이거 봄\n",
      "\n",
      "I vote  #BTSArmy for #BestFanArmy at the 2021 #iHeartAwards @BTS_twt https://t.co/j64nZTsLLG\n",
      "[{'screen_name': 'bts_hangnim', 'name': '트친소괄) 유월곰돌러버 행님ෆ', 'id': 1362095973141417986, 'id_str': '1362095973141417986', 'indices': [3, 15]}, {'screen_name': 'BTS_twt', 'name': '방탄소년단', 'id': 335141638, 'id_str': '335141638', 'indices': [107, 115]}]\n",
      "[{'text': 'BTSArmy', 'indices': [55, 63]}, {'text': 'BestFanArmy', 'indices': [68, 80]}, {'text': 'iHeartAwards', 'indices': [93, 106]}]\n",
      "2021-04-12 08:44:16\n",
      "RT @treasuremembers: 여러분들 안녕하세요!! 다들 코로나 조심하고 계시죠??\n",
      "너무 보고 싶었어요 😭😭😭😭 \n",
      "저희들만의 공간이 드디어 개설되었어요! 앞으로 많이 여러분들과 공유 할테니까 많이 봐주세요!! 사랑해요 ❤️❤️\n",
      "#박정우 #P…\n",
      "[{'screen_name': 'treasuremembers', 'name': 'TREASURE', 'id': 1240627844868268033, 'id_str': '1240627844868268033', 'indices': [3, 19]}]\n",
      "[{'text': '박정우', 'indices': [132, 136]}]\n",
      "2021-04-12 08:44:14\n",
      "RT @soohyoun: 요즘 학생들 트렌드가 zoom이나 webex를 친구끼리 틀어놓고 (특별히 대화를 하는 것이 아니고 서로 보이는 상태에서) 자신의 공부를 하는 것이라고 한다. 우울한 코로나 시대를 극복하는 한 방법.\n",
      "[{'screen_name': 'soohyoun', 'name': 'soohyoun', 'id': 87417965, 'id_str': '87417965', 'indices': [3, 12]}]\n",
      "[]\n",
      "2021-04-12 08:44:12\n",
      "RT @d_the_bi: 오 시장은 이날 기자설명회에서 “영업시간 종료시간을 달리하면 대중교통 이용시간이 분산돼 신종 코로나 확산에 분명 효과가 있을 것”\n",
      "\n",
      "그치 확산 효과가 있겠지...\n",
      "[{'screen_name': 'd_the_bi', 'name': '떽🏳️\\u200d🌈🏳️\\u200d⚧️', 'id': 54256163, 'id_str': '54256163', 'indices': [3, 12]}]\n",
      "[]\n",
      "2021-04-12 08:44:08\n",
      "RT @treasuremembers: 안녕하세요 트레저 도영입니다\n",
      "코로나19로 인하여 방콕 하시고 계실 트메분들을 위해 많은 소통을 하러 왔어요!!  \n",
      "앞으로 많은 소식으로 찾아 올게요 ~\n",
      "#도영 #DOYOUNG https://t.co/ELedwrM…\n",
      "[{'screen_name': 'treasuremembers', 'name': 'TREASURE', 'id': 1240627844868268033, 'id_str': '1240627844868268033', 'indices': [3, 19]}]\n",
      "[{'text': '도영', 'indices': [106, 109]}, {'text': 'DOYOUNG', 'indices': [110, 118]}]\n",
      "2021-04-12 08:44:08\n",
      "RT @hellopolicy: 코로나19 확산세 안정 위해\n",
      "범정부 총력대응체제 가동해\n",
      "선제검사 적극 시행하고\n",
      "확진자 증가하는 취약시설 집중 점검하겠습니다.\n",
      "\n",
      "방역수칙 위반 행위에 대해\n",
      "무관용 원칙으로 엄정 대응하겠습니다.\n",
      "\n",
      "빈틈없는 방역과 차질 없는…\n",
      "[{'screen_name': 'hellopolicy', 'name': '대한민국 정부', 'id': 134679265, 'id_str': '134679265', 'indices': [3, 15]}]\n",
      "[]\n",
      "2021-04-12 08:44:08\n",
      "세종시 \"코로나19 유증상자 권고 후 48시간 이내 검사받아야\"\n",
      "\n",
      "https://t.co/y9JMlGh8vv\n",
      "[]\n",
      "[]\n",
      "2021-04-12 08:44:07\n"
     ]
    }
   ],
   "source": [
    "keyword = \"코로나\"\n",
    "tweets = api.search(keyword)\n",
    "for tweet in tweets:\n",
    "    print(tweet.text)\n",
    "    print(tweet.entities['user_mentions'])\n",
    "    print(tweet.entities['hashtags'])\n",
    "    print(tweet.created_at)"
   ]
  },
  {
   "cell_type": "markdown",
   "metadata": {},
   "source": [
    "-----"
   ]
  },
  {
   "cell_type": "markdown",
   "metadata": {},
   "source": [
    "##### 데이터 프레임 형태로 수집"
   ]
  },
  {
   "cell_type": "code",
   "execution_count": 22,
   "metadata": {
    "scrolled": true
   },
   "outputs": [
    {
     "name": "stdout",
     "output_type": "stream",
     "text": [
      "Get data complete..\n"
     ]
    }
   ],
   "source": [
    "# 크롤링된 데이터를 저장할 데이터 프레임입니다.\n",
    "columns = ['created', 'tweet_text']\n",
    "df = pd.DataFrame(columns=columns)\n",
    "\n",
    "# twitter API를 사용하여 ‘손흥민’이 포함된 100페이지의 트윗들을 크롤링한 뒤, ‘text’, ‘created_at’ 정보를 데이터 프레임으로 저장합니다.\n",
    "#for i in range(1,100):\n",
    "tweets = api.search(keyword)\n",
    "for tweet in tweets:\n",
    "        tweet_text = tweet.text\n",
    "        created = tweet.created_at\n",
    "        row = [created, tweet_text]\n",
    "        series = pd.Series(row, index=df.columns)\n",
    "        df = df.append(series, ignore_index=True)\n",
    "print(\"Get data complete..\")"
   ]
  },
  {
   "cell_type": "code",
   "execution_count": 23,
   "metadata": {},
   "outputs": [],
   "source": [
    "df.to_csv(\"data/tweet_temp.csv\", index=False)"
   ]
  },
  {
   "cell_type": "markdown",
   "metadata": {},
   "source": [
    "-----"
   ]
  },
  {
   "cell_type": "markdown",
   "metadata": {},
   "source": [
    "# <Step2. 추출> : 키워드 추출"
   ]
  },
  {
   "cell_type": "markdown",
   "metadata": {},
   "source": [
    "### [텍스트 데이터 전처리]"
   ]
  },
  {
   "cell_type": "code",
   "execution_count": 24,
   "metadata": {},
   "outputs": [
    {
     "data": {
      "text/html": [
       "<div>\n",
       "<style scoped>\n",
       "    .dataframe tbody tr th:only-of-type {\n",
       "        vertical-align: middle;\n",
       "    }\n",
       "\n",
       "    .dataframe tbody tr th {\n",
       "        vertical-align: top;\n",
       "    }\n",
       "\n",
       "    .dataframe thead th {\n",
       "        text-align: right;\n",
       "    }\n",
       "</style>\n",
       "<table border=\"1\" class=\"dataframe\">\n",
       "  <thead>\n",
       "    <tr style=\"text-align: right;\">\n",
       "      <th></th>\n",
       "      <th>created</th>\n",
       "      <th>tweet_text</th>\n",
       "    </tr>\n",
       "  </thead>\n",
       "  <tbody>\n",
       "    <tr>\n",
       "      <th>0</th>\n",
       "      <td>2021-04-12 08:44:48</td>\n",
       "      <td>RT @soohyoun: 요즘 학생들 트렌드가 zoom이나 webex를 친구끼리 틀...</td>\n",
       "    </tr>\n",
       "    <tr>\n",
       "      <th>1</th>\n",
       "      <td>2021-04-12 08:44:42</td>\n",
       "      <td>@raders94 네, 제가 최근 코로나로 젊은 여성 자살율이 높아졌다는걸 절대값으...</td>\n",
       "    </tr>\n",
       "    <tr>\n",
       "      <th>2</th>\n",
       "      <td>2021-04-12 08:44:36</td>\n",
       "      <td>RT @BB_forest_s: 성남 초등학교 교사가 도우미 노래방가서\\n코로나 감염...</td>\n",
       "    </tr>\n",
       "    <tr>\n",
       "      <th>3</th>\n",
       "      <td>2021-04-12 08:44:35</td>\n",
       "      <td>RT @heavenlypapa: 대구서 신천지 신도 3천741명 혈장 공여…코로나 ...</td>\n",
       "    </tr>\n",
       "    <tr>\n",
       "      <th>4</th>\n",
       "      <td>2021-04-12 08:44:35</td>\n",
       "      <td>RT @BB_forest_s: 성남 초등학교 교사가 도우미 노래방가서\\n코로나 감염...</td>\n",
       "    </tr>\n",
       "  </tbody>\n",
       "</table>\n",
       "</div>"
      ],
      "text/plain": [
       "               created                                         tweet_text\n",
       "0  2021-04-12 08:44:48  RT @soohyoun: 요즘 학생들 트렌드가 zoom이나 webex를 친구끼리 틀...\n",
       "1  2021-04-12 08:44:42  @raders94 네, 제가 최근 코로나로 젊은 여성 자살율이 높아졌다는걸 절대값으...\n",
       "2  2021-04-12 08:44:36  RT @BB_forest_s: 성남 초등학교 교사가 도우미 노래방가서\\n코로나 감염...\n",
       "3  2021-04-12 08:44:35  RT @heavenlypapa: 대구서 신천지 신도 3천741명 혈장 공여…코로나 ...\n",
       "4  2021-04-12 08:44:35  RT @BB_forest_s: 성남 초등학교 교사가 도우미 노래방가서\\n코로나 감염..."
      ]
     },
     "execution_count": 24,
     "metadata": {},
     "output_type": "execute_result"
    }
   ],
   "source": [
    "df = pd.read_csv(\"data/tweet_temp.csv\")\n",
    "df.head()"
   ]
  },
  {
   "cell_type": "code",
   "execution_count": 25,
   "metadata": {},
   "outputs": [],
   "source": [
    "import re\n",
    "\n",
    "# 텍스트 정제 함수 : 한글 이외의 문자는 전부 제거합니다.\n",
    "def text_cleaning(text):\n",
    "    hangul = re.compile('[^ ㄱ-ㅣ가-힣]+') # 한글의 정규표현식을 나타냅니다.\n",
    "    result = hangul.sub('', text)\n",
    "    return result"
   ]
  },
  {
   "cell_type": "code",
   "execution_count": 26,
   "metadata": {},
   "outputs": [
    {
     "data": {
      "text/html": [
       "<div>\n",
       "<style scoped>\n",
       "    .dataframe tbody tr th:only-of-type {\n",
       "        vertical-align: middle;\n",
       "    }\n",
       "\n",
       "    .dataframe tbody tr th {\n",
       "        vertical-align: top;\n",
       "    }\n",
       "\n",
       "    .dataframe thead th {\n",
       "        text-align: right;\n",
       "    }\n",
       "</style>\n",
       "<table border=\"1\" class=\"dataframe\">\n",
       "  <thead>\n",
       "    <tr style=\"text-align: right;\">\n",
       "      <th></th>\n",
       "      <th>created</th>\n",
       "      <th>tweet_text</th>\n",
       "      <th>ko_text</th>\n",
       "    </tr>\n",
       "  </thead>\n",
       "  <tbody>\n",
       "    <tr>\n",
       "      <th>0</th>\n",
       "      <td>2021-04-12 08:44:48</td>\n",
       "      <td>RT @soohyoun: 요즘 학생들 트렌드가 zoom이나 webex를 친구끼리 틀...</td>\n",
       "      <td>요즘 학생들 트렌드가 이나 를 친구끼리 틀어놓고 특별히 대화를 하는 것이 아니고...</td>\n",
       "    </tr>\n",
       "    <tr>\n",
       "      <th>1</th>\n",
       "      <td>2021-04-12 08:44:42</td>\n",
       "      <td>@raders94 네, 제가 최근 코로나로 젊은 여성 자살율이 높아졌다는걸 절대값으...</td>\n",
       "      <td>네 제가 최근 코로나로 젊은 여성 자살율이 높아졌다는걸 절대값으로 착각했나 보네요...</td>\n",
       "    </tr>\n",
       "    <tr>\n",
       "      <th>2</th>\n",
       "      <td>2021-04-12 08:44:36</td>\n",
       "      <td>RT @BB_forest_s: 성남 초등학교 교사가 도우미 노래방가서\\n코로나 감염...</td>\n",
       "      <td>성남 초등학교 교사가 도우미 노래방가서코로나 감염ㅡㅡ학생 명한테 전파</td>\n",
       "    </tr>\n",
       "    <tr>\n",
       "      <th>3</th>\n",
       "      <td>2021-04-12 08:44:35</td>\n",
       "      <td>RT @heavenlypapa: 대구서 신천지 신도 3천741명 혈장 공여…코로나 ...</td>\n",
       "      <td>대구서 신천지 신도 천명 혈장 공여코로나 치료제 개발용 출처  연합뉴스  네이버...</td>\n",
       "    </tr>\n",
       "    <tr>\n",
       "      <th>4</th>\n",
       "      <td>2021-04-12 08:44:35</td>\n",
       "      <td>RT @BB_forest_s: 성남 초등학교 교사가 도우미 노래방가서\\n코로나 감염...</td>\n",
       "      <td>성남 초등학교 교사가 도우미 노래방가서코로나 감염ㅡㅡ학생 명한테 전파</td>\n",
       "    </tr>\n",
       "  </tbody>\n",
       "</table>\n",
       "</div>"
      ],
      "text/plain": [
       "               created                                         tweet_text  \\\n",
       "0  2021-04-12 08:44:48  RT @soohyoun: 요즘 학생들 트렌드가 zoom이나 webex를 친구끼리 틀...   \n",
       "1  2021-04-12 08:44:42  @raders94 네, 제가 최근 코로나로 젊은 여성 자살율이 높아졌다는걸 절대값으...   \n",
       "2  2021-04-12 08:44:36  RT @BB_forest_s: 성남 초등학교 교사가 도우미 노래방가서\\n코로나 감염...   \n",
       "3  2021-04-12 08:44:35  RT @heavenlypapa: 대구서 신천지 신도 3천741명 혈장 공여…코로나 ...   \n",
       "4  2021-04-12 08:44:35  RT @BB_forest_s: 성남 초등학교 교사가 도우미 노래방가서\\n코로나 감염...   \n",
       "\n",
       "                                             ko_text  \n",
       "0    요즘 학생들 트렌드가 이나 를 친구끼리 틀어놓고 특별히 대화를 하는 것이 아니고...  \n",
       "1   네 제가 최근 코로나로 젊은 여성 자살율이 높아졌다는걸 절대값으로 착각했나 보네요...  \n",
       "2             성남 초등학교 교사가 도우미 노래방가서코로나 감염ㅡㅡ학생 명한테 전파  \n",
       "3    대구서 신천지 신도 천명 혈장 공여코로나 치료제 개발용 출처  연합뉴스  네이버...  \n",
       "4             성남 초등학교 교사가 도우미 노래방가서코로나 감염ㅡㅡ학생 명한테 전파  "
      ]
     },
     "execution_count": 26,
     "metadata": {},
     "output_type": "execute_result"
    }
   ],
   "source": [
    "# ‘tweet_text’ 피처에 이를 적용합니다.\n",
    "df['ko_text'] = df['tweet_text'].apply(lambda x: text_cleaning(x))\n",
    "df.head()"
   ]
  },
  {
   "cell_type": "markdown",
   "metadata": {},
   "source": [
    "-----"
   ]
  },
  {
   "cell_type": "markdown",
   "metadata": {},
   "source": [
    "### [konlpy를 이용한 키워드 추출]"
   ]
  },
  {
   "cell_type": "code",
   "execution_count": 27,
   "metadata": {},
   "outputs": [],
   "source": [
    "from konlpy.tag import Okt\n",
    "from collections import Counter\n",
    "\n",
    "# 한국어 약식 불용어사전 예시 파일입니다. 출처 - (https://www.ranks.nl/stopwords/korean)\n",
    "korean_stopwords_path = \"data/korean_stopwords.txt\"\n",
    "with open(korean_stopwords_path, encoding='utf8') as f:\n",
    "    stopwords = f.readlines()\n",
    "stopwords = [x.strip() for x in stopwords]\n",
    "\n",
    "def get_nouns(x):\n",
    "    nouns_tagger = Okt()\n",
    "    nouns = nouns_tagger.nouns(x)\n",
    "    \n",
    "    # 한글자 키워드를 제거합니다.\n",
    "    nouns = [noun for noun in nouns if len(noun) > 1]\n",
    "    \n",
    "    # 불용어를 제거합니다.\n",
    "    nouns = [noun for noun in nouns if noun not in stopwords]\n",
    "    \n",
    "    return nouns"
   ]
  },
  {
   "cell_type": "code",
   "execution_count": 28,
   "metadata": {},
   "outputs": [
    {
     "name": "stdout",
     "output_type": "stream",
     "text": [
      "(15, 4)\n"
     ]
    },
    {
     "data": {
      "text/html": [
       "<div>\n",
       "<style scoped>\n",
       "    .dataframe tbody tr th:only-of-type {\n",
       "        vertical-align: middle;\n",
       "    }\n",
       "\n",
       "    .dataframe tbody tr th {\n",
       "        vertical-align: top;\n",
       "    }\n",
       "\n",
       "    .dataframe thead th {\n",
       "        text-align: right;\n",
       "    }\n",
       "</style>\n",
       "<table border=\"1\" class=\"dataframe\">\n",
       "  <thead>\n",
       "    <tr style=\"text-align: right;\">\n",
       "      <th></th>\n",
       "      <th>created</th>\n",
       "      <th>tweet_text</th>\n",
       "      <th>ko_text</th>\n",
       "      <th>nouns</th>\n",
       "    </tr>\n",
       "  </thead>\n",
       "  <tbody>\n",
       "    <tr>\n",
       "      <th>0</th>\n",
       "      <td>2021-04-12 08:44:48</td>\n",
       "      <td>RT @soohyoun: 요즘 학생들 트렌드가 zoom이나 webex를 친구끼리 틀...</td>\n",
       "      <td>요즘 학생들 트렌드가 이나 를 친구끼리 틀어놓고 특별히 대화를 하는 것이 아니고...</td>\n",
       "      <td>[요즘, 학생, 트렌드, 이나, 친구, 끼리, 대화, 서로, 상태, 공부, 코로나,...</td>\n",
       "    </tr>\n",
       "    <tr>\n",
       "      <th>1</th>\n",
       "      <td>2021-04-12 08:44:42</td>\n",
       "      <td>@raders94 네, 제가 최근 코로나로 젊은 여성 자살율이 높아졌다는걸 절대값으...</td>\n",
       "      <td>네 제가 최근 코로나로 젊은 여성 자살율이 높아졌다는걸 절대값으로 착각했나 보네요...</td>\n",
       "      <td>[최근, 코로나, 여성, 자살율, 절대값, 착각, 여자, 실직, 주요, 원인, 고용...</td>\n",
       "    </tr>\n",
       "    <tr>\n",
       "      <th>2</th>\n",
       "      <td>2021-04-12 08:44:36</td>\n",
       "      <td>RT @BB_forest_s: 성남 초등학교 교사가 도우미 노래방가서\\n코로나 감염...</td>\n",
       "      <td>성남 초등학교 교사가 도우미 노래방가서코로나 감염ㅡㅡ학생 명한테 전파</td>\n",
       "      <td>[성남, 초등학교, 교사, 도우미, 노래방, 코로나, 감염, 학생, 전파]</td>\n",
       "    </tr>\n",
       "    <tr>\n",
       "      <th>3</th>\n",
       "      <td>2021-04-12 08:44:35</td>\n",
       "      <td>RT @heavenlypapa: 대구서 신천지 신도 3천741명 혈장 공여…코로나 ...</td>\n",
       "      <td>대구서 신천지 신도 천명 혈장 공여코로나 치료제 개발용 출처  연합뉴스  네이버...</td>\n",
       "      <td>[대구, 신천지, 신도, 천명, 혈장, 코로나, 치료, 개발, 출처, 연합뉴스, 네...</td>\n",
       "    </tr>\n",
       "    <tr>\n",
       "      <th>4</th>\n",
       "      <td>2021-04-12 08:44:35</td>\n",
       "      <td>RT @BB_forest_s: 성남 초등학교 교사가 도우미 노래방가서\\n코로나 감염...</td>\n",
       "      <td>성남 초등학교 교사가 도우미 노래방가서코로나 감염ㅡㅡ학생 명한테 전파</td>\n",
       "      <td>[성남, 초등학교, 교사, 도우미, 노래방, 코로나, 감염, 학생, 전파]</td>\n",
       "    </tr>\n",
       "  </tbody>\n",
       "</table>\n",
       "</div>"
      ],
      "text/plain": [
       "               created                                         tweet_text  \\\n",
       "0  2021-04-12 08:44:48  RT @soohyoun: 요즘 학생들 트렌드가 zoom이나 webex를 친구끼리 틀...   \n",
       "1  2021-04-12 08:44:42  @raders94 네, 제가 최근 코로나로 젊은 여성 자살율이 높아졌다는걸 절대값으...   \n",
       "2  2021-04-12 08:44:36  RT @BB_forest_s: 성남 초등학교 교사가 도우미 노래방가서\\n코로나 감염...   \n",
       "3  2021-04-12 08:44:35  RT @heavenlypapa: 대구서 신천지 신도 3천741명 혈장 공여…코로나 ...   \n",
       "4  2021-04-12 08:44:35  RT @BB_forest_s: 성남 초등학교 교사가 도우미 노래방가서\\n코로나 감염...   \n",
       "\n",
       "                                             ko_text  \\\n",
       "0    요즘 학생들 트렌드가 이나 를 친구끼리 틀어놓고 특별히 대화를 하는 것이 아니고...   \n",
       "1   네 제가 최근 코로나로 젊은 여성 자살율이 높아졌다는걸 절대값으로 착각했나 보네요...   \n",
       "2             성남 초등학교 교사가 도우미 노래방가서코로나 감염ㅡㅡ학생 명한테 전파   \n",
       "3    대구서 신천지 신도 천명 혈장 공여코로나 치료제 개발용 출처  연합뉴스  네이버...   \n",
       "4             성남 초등학교 교사가 도우미 노래방가서코로나 감염ㅡㅡ학생 명한테 전파   \n",
       "\n",
       "                                               nouns  \n",
       "0  [요즘, 학생, 트렌드, 이나, 친구, 끼리, 대화, 서로, 상태, 공부, 코로나,...  \n",
       "1  [최근, 코로나, 여성, 자살율, 절대값, 착각, 여자, 실직, 주요, 원인, 고용...  \n",
       "2          [성남, 초등학교, 교사, 도우미, 노래방, 코로나, 감염, 학생, 전파]  \n",
       "3  [대구, 신천지, 신도, 천명, 혈장, 코로나, 치료, 개발, 출처, 연합뉴스, 네...  \n",
       "4          [성남, 초등학교, 교사, 도우미, 노래방, 코로나, 감염, 학생, 전파]  "
      ]
     },
     "execution_count": 28,
     "metadata": {},
     "output_type": "execute_result"
    }
   ],
   "source": [
    "# ‘ko_text’ 피처에 이를 적용합니다.\n",
    "df['nouns'] = df['ko_text'].apply(lambda x: get_nouns(x))\n",
    "print(df.shape)\n",
    "df.head()"
   ]
  },
  {
   "cell_type": "markdown",
   "metadata": {},
   "source": [
    "-----"
   ]
  },
  {
   "cell_type": "markdown",
   "metadata": {},
   "source": [
    "# <Step3. 분석> : 연관 분석을 이용한 키워드 분석"
   ]
  },
  {
   "cell_type": "markdown",
   "metadata": {},
   "source": [
    "### [연관 키워드 추출하기]"
   ]
  },
  {
   "cell_type": "code",
   "execution_count": 29,
   "metadata": {},
   "outputs": [],
   "source": [
    "from apyori import apriori"
   ]
  },
  {
   "cell_type": "markdown",
   "metadata": {},
   "source": [
    "##### 트위터 연관 키워드 분석"
   ]
  },
  {
   "cell_type": "code",
   "execution_count": 30,
   "metadata": {},
   "outputs": [
    {
     "name": "stdout",
     "output_type": "stream",
     "text": [
      "[['요즘', '학생', '트렌드', '이나', '친구', '끼리', '대화', '서로', '상태', '공부', '코로나', '시대', '극복', '방법'], ['최근', '코로나', '여성', '자살율', '절대값', '착각', '여자', '실직', '주요', '원인', '고용', '안정', '여자', '얘기', '남자', '차별'], ['성남', '초등학교', '교사', '도우미', '노래방', '코로나', '감염', '학생', '전파'], ['대구', '신천지', '신도', '천명', '혈장', '코로나', '치료', '개발', '출처', '연합뉴스', '네이버', '뉴스'], ['성남', '초등학교', '교사', '도우미', '노래방', '코로나', '감염', '학생', '전파'], ['오세훈', '새끼', '코로나', '진자', '산책', '새끼', '음성', '밀접', '접촉', '가격', '리자도', '격리', '진자', '산책', '을해'], ['천안', '코로나', '청양', '페이', '만남', '청양', '콜걸', '천안', '모텔', '청양', '콜걸', '천안', '섹파', '천안', '오피', '천안', '횟집', '청양', '출장', '마사지', '천안', '출장', '천안', '여행', '천안', '노래방', '천안', '훈녀', '천안', '휴게소', '청양', '출장', '청양', '출장', '안마', '청양', '조건', '만남', '천안', '맛집'], ['혈전', '발생', '아스', '백신', '기준', '피임', '흡연', '코로나', '감염', '만배', '한국', '신문', '선동', '둘리'], ['정은경', '청장', '오세훈', '서울', '사회', '거리', '두기', '지침', '예고', '유흥', '시설', '대한', '집합', '금지', '조치', '사회', '거리', '두기', '이유', '사람', '접촉', '최대한', '코로나', '확산', '이유'], ['트메', '예담', '요즘', '코로나', '때문', '평소', '무기', '컨텐츠', '노래', '트위터', '소통', '더욱', '트레'], ['내내', '조국', '검찰', '골몰', '남북', '평화', '해대', '더니', '국민', '면역', '형성', '구라', '속보', '노바', '코로나', '백신', '공급', '출처', '한국', '일보'], ['알티', '코로나', '응모'], ['혈전', '발생', '아스', '백신', '기준', '피임', '흡연', '코로나', '감염', '만배', '한국', '신문', '선동', '둘리'], ['코로나', '초기', '마스크', '사람'], ['레저', '도영', '코로나', '방콕', '트메', '위해', '소통', '소식', '도영']]\n"
     ]
    }
   ],
   "source": [
    "# 트랜잭션 데이터를 추출합니다.\n",
    "transactions = df['nouns'].tolist()\n",
    "transactions = [transaction for transaction in transactions if transaction] # 공백 문자열을 방지합니다.\n",
    "print(transactions)"
   ]
  },
  {
   "cell_type": "code",
   "execution_count": 31,
   "metadata": {},
   "outputs": [
    {
     "name": "stdout",
     "output_type": "stream",
     "text": [
      "[RelationRecord(items=frozenset({'감염', '교사'}), support=0.13333333333333333, ordered_statistics=[OrderedStatistic(items_base=frozenset({'감염'}), items_add=frozenset({'교사'}), confidence=0.5, lift=3.75), OrderedStatistic(items_base=frozenset({'교사'}), items_add=frozenset({'감염'}), confidence=1.0, lift=3.75)]), RelationRecord(items=frozenset({'감염', '기준'}), support=0.13333333333333333, ordered_statistics=[OrderedStatistic(items_base=frozenset({'감염'}), items_add=frozenset({'기준'}), confidence=0.5, lift=3.75), OrderedStatistic(items_base=frozenset({'기준'}), items_add=frozenset({'감염'}), confidence=1.0, lift=3.75)]), RelationRecord(items=frozenset({'노래방', '감염'}), support=0.13333333333333333, ordered_statistics=[OrderedStatistic(items_base=frozenset({'감염'}), items_add=frozenset({'노래방'}), confidence=0.5, lift=2.5), OrderedStatistic(items_base=frozenset({'노래방'}), items_add=frozenset({'감염'}), confidence=0.6666666666666666, lift=2.5)]), RelationRecord(items=frozenset({'감염', '도우미'}), support=0.13333333333333333, ordered_statistics=[OrderedStatistic(items_base=frozenset({'감염'}), items_add=frozenset({'도우미'}), confidence=0.5, lift=3.75), OrderedStatistic(items_base=frozenset({'도우미'}), items_add=frozenset({'감염'}), confidence=1.0, lift=3.75)]), RelationRecord(items=frozenset({'둘리', '감염'}), support=0.13333333333333333, ordered_statistics=[OrderedStatistic(items_base=frozenset({'감염'}), items_add=frozenset({'둘리'}), confidence=0.5, lift=3.75), OrderedStatistic(items_base=frozenset({'둘리'}), items_add=frozenset({'감염'}), confidence=1.0, lift=3.75)]), RelationRecord(items=frozenset({'감염', '만배'}), support=0.13333333333333333, ordered_statistics=[OrderedStatistic(items_base=frozenset({'감염'}), items_add=frozenset({'만배'}), confidence=0.5, lift=3.75), OrderedStatistic(items_base=frozenset({'만배'}), items_add=frozenset({'감염'}), confidence=1.0, lift=3.75)]), RelationRecord(items=frozenset({'감염', '발생'}), support=0.13333333333333333, ordered_statistics=[OrderedStatistic(items_base=frozenset({'감염'}), items_add=frozenset({'발생'}), confidence=0.5, lift=3.75), OrderedStatistic(items_base=frozenset({'발생'}), items_add=frozenset({'감염'}), confidence=1.0, lift=3.75)]), RelationRecord(items=frozenset({'감염', '백신'}), support=0.13333333333333333, ordered_statistics=[OrderedStatistic(items_base=frozenset({'감염'}), items_add=frozenset({'백신'}), confidence=0.5, lift=2.5), OrderedStatistic(items_base=frozenset({'백신'}), items_add=frozenset({'감염'}), confidence=0.6666666666666666, lift=2.5)]), RelationRecord(items=frozenset({'감염', '선동'}), support=0.13333333333333333, ordered_statistics=[OrderedStatistic(items_base=frozenset({'감염'}), items_add=frozenset({'선동'}), confidence=0.5, lift=3.75), OrderedStatistic(items_base=frozenset({'선동'}), items_add=frozenset({'감염'}), confidence=1.0, lift=3.75)]), RelationRecord(items=frozenset({'감염', '성남'}), support=0.13333333333333333, ordered_statistics=[OrderedStatistic(items_base=frozenset({'감염'}), items_add=frozenset({'성남'}), confidence=0.5, lift=3.75), OrderedStatistic(items_base=frozenset({'성남'}), items_add=frozenset({'감염'}), confidence=1.0, lift=3.75)])]\n"
     ]
    }
   ],
   "source": [
    "# 연관 분석을 수행합니다.\n",
    "results = list(apriori(transactions,\n",
    "                       min_support=0.1,\n",
    "                       min_confidence=0.2,\n",
    "                       min_lift=2,\n",
    "                       max_length=2))\n",
    "print(results[:10])"
   ]
  },
  {
   "cell_type": "code",
   "execution_count": 32,
   "metadata": {},
   "outputs": [
    {
     "data": {
      "text/html": [
       "<div>\n",
       "<style scoped>\n",
       "    .dataframe tbody tr th:only-of-type {\n",
       "        vertical-align: middle;\n",
       "    }\n",
       "\n",
       "    .dataframe tbody tr th {\n",
       "        vertical-align: top;\n",
       "    }\n",
       "\n",
       "    .dataframe thead th {\n",
       "        text-align: right;\n",
       "    }\n",
       "</style>\n",
       "<table border=\"1\" class=\"dataframe\">\n",
       "  <thead>\n",
       "    <tr style=\"text-align: right;\">\n",
       "      <th></th>\n",
       "      <th>source</th>\n",
       "      <th>target</th>\n",
       "      <th>support</th>\n",
       "    </tr>\n",
       "  </thead>\n",
       "  <tbody>\n",
       "    <tr>\n",
       "      <th>0</th>\n",
       "      <td>감염</td>\n",
       "      <td>교사</td>\n",
       "      <td>0.133333</td>\n",
       "    </tr>\n",
       "    <tr>\n",
       "      <th>1</th>\n",
       "      <td>감염</td>\n",
       "      <td>기준</td>\n",
       "      <td>0.133333</td>\n",
       "    </tr>\n",
       "    <tr>\n",
       "      <th>2</th>\n",
       "      <td>노래방</td>\n",
       "      <td>감염</td>\n",
       "      <td>0.133333</td>\n",
       "    </tr>\n",
       "    <tr>\n",
       "      <th>3</th>\n",
       "      <td>감염</td>\n",
       "      <td>도우미</td>\n",
       "      <td>0.133333</td>\n",
       "    </tr>\n",
       "    <tr>\n",
       "      <th>4</th>\n",
       "      <td>둘리</td>\n",
       "      <td>감염</td>\n",
       "      <td>0.133333</td>\n",
       "    </tr>\n",
       "  </tbody>\n",
       "</table>\n",
       "</div>"
      ],
      "text/plain": [
       "  source target   support\n",
       "0     감염     교사  0.133333\n",
       "1     감염     기준  0.133333\n",
       "2    노래방     감염  0.133333\n",
       "3     감염    도우미  0.133333\n",
       "4     둘리     감염  0.133333"
      ]
     },
     "execution_count": 32,
     "metadata": {},
     "output_type": "execute_result"
    }
   ],
   "source": [
    "# 데이터 프레임 형태로 정리합니다.\n",
    "columns = ['source', 'target', 'support']\n",
    "network_df = pd.DataFrame(columns=columns)\n",
    "\n",
    "# 규칙의 조건절을 source, 결과절을 target, 지지도를 support 라는 데이터 프레임의 피처로 변환합니다.\n",
    "for result in results:\n",
    "    if len(result.items) == 2:\n",
    "        items = [x for x in result.items]\n",
    "        row = [items[0], items[1], result.support]\n",
    "        series = pd.Series(row, index=network_df.columns)\n",
    "        network_df = network_df.append(series, ignore_index=True)\n",
    "\n",
    "network_df.head()"
   ]
  },
  {
   "cell_type": "markdown",
   "metadata": {},
   "source": [
    "-----"
   ]
  },
  {
   "cell_type": "markdown",
   "metadata": {},
   "source": [
    "### [단어 빈도 추출하기]"
   ]
  },
  {
   "cell_type": "markdown",
   "metadata": {},
   "source": [
    "##### 말뭉치 추출"
   ]
  },
  {
   "cell_type": "code",
   "execution_count": 33,
   "metadata": {},
   "outputs": [
    {
     "name": "stdout",
     "output_type": "stream",
     "text": [
      "  요즘 학생들 트렌드가 이나 를 친구끼리 틀어놓고 특별히 대화를 하는 것이 아니고 서로 보이는 상태에서 자신의 공부를 하는 것이라고 한다 우울한 코로나 시대를 극복하는 한 방법 네 제가 최근 코로나로 젊은 여성 자살율이 높아졌다는걸 절대값으로 착각했나 보네요여자들 실직이 주요 원인이었죠 고용안정성이 여자들이 떨어진단 얘기죠대 남자들이 더 차별 받는다   성남 초등학교 교사가 도우미 노래방가서코로나 감염ㅡㅡ학생 명한테 전파  대구서 신천지 신도 천명 혈장 공여코로나 치료제 개발용 출처  연합뉴스  네이버 뉴스   성남 초등학교 교사가 도우미 노래방가서코로나 감염ㅡㅡ학생 명한테 전파  오세훈 미친새끼 코로나 확진자 산책이라니 미친새끼야 음성 나온 밀접접촉 자가격리자도 격리하는데 무슨 확진자가 나가서 산책을해천안코로나청양페이만남청양콜걸샵천안모텔청양콜걸천안섹파천안오피천안횟집청양출장마사지천안출장천안여행천안노래방천안훈녀천안휴게소청양출장샵청양출장안마청양조건만남천안맛집   혈전 발생률아스트라제네카 백신 기준피임약은 배 높고흡연은 배 높고코로나 감염은 만배 이상 높음 한국 신문의 선동에 휘둘리지 말자   정은경 청장 오세훈의 서울형 사회적 거리두기 지침 예고에 유흥시설에 대한 집합금지는 불가피한 조치다 사회적 거리두기를 하는 이유는 사람 간 접촉을 최대한 줄여 코로나 확산을 막는 것에 이유가 있다 그래서 거  안녕하세요 트메 예담이에요요즘 코로나  때문에 평소같지 않고 무기력하고 답답하겠지만ㅠ 저희의 많은 컨텐츠들과 노래들 들으면서 같이 이겨나가요 앞으로 트위터로 소통 많이 하면서 더욱 돈독해지는 트레  몇년 내내 조국지키며 검찰죽이기만 골몰하며 남북평화쇼만 해대더니 꼴 좋다 전국민 월 면역력 형성 쟨 왜 입만 열면 구라냐 속보 노바백스 코로나 백신 일러야 월 공급 출처  한국일보  알티하면 코로나 끝나고 원하는 콘 응모해서 이거 봄            혈전 발생률아스트라제네카 백신 기준피임약은 배 높고흡연은 배 높고코로나 감염은 만배 이상 높음 한국 신문의 선동에 휘둘리지 말자   코로나 초기때 마스크 쓴 나를 보고내가 아는 사람인거 같기도 하고 아닌거 같기도 하고  엥 하는게 넘 잘보임   안녕하세요 트레저 도영입니다코로나로 인하여 방콕 하시고 계실 트메분들을 위해 많은 소통을 하러 왔어요  앞으로 많은 소식으로 찾아 올게요 도영  \n"
     ]
    }
   ],
   "source": [
    "# 말뭉치를 추출합니다.\n",
    "tweet_corpus = \"\".join(df['ko_text'].tolist())\n",
    "print(tweet_corpus)"
   ]
  },
  {
   "cell_type": "code",
   "execution_count": 34,
   "metadata": {},
   "outputs": [
    {
     "name": "stdout",
     "output_type": "stream",
     "text": [
      "Counter({'코로나': 15, '천안': 11, '청양': 7, '감염': 4, '출장': 4, '학생': 3, '노래방': 3, '백신': 3, '한국': 3, '요즘': 2, '여자': 2, '성남': 2, '초등학교': 2, '교사': 2, '도우미': 2, '전파': 2, '출처': 2, '오세훈': 2, '새끼': 2, '진자': 2, '산책': 2, '접촉': 2, '만남': 2, '콜걸': 2, '혈전': 2, '발생': 2, '아스': 2, '기준': 2, '피임': 2, '흡연': 2, '만배': 2, '이상': 2, '신문': 2, '선동': 2, '둘리': 2, '사회': 2, '거리': 2, '두기': 2, '이유': 2, '사람': 2, '트메': 2, '소통': 2, '도영': 2, '트렌드': 1, '이나': 1, '친구': 1, '끼리': 1, '대화': 1, '서로': 1, '상태': 1, '자신': 1, '공부': 1, '시대': 1, '극복': 1, '방법': 1, '최근': 1, '여성': 1, '자살율': 1, '절대값': 1, '착각': 1, '실직': 1, '주요': 1, '원인': 1, '고용': 1, '안정': 1, '얘기': 1, '남자': 1, '차별': 1, '대구': 1, '신천지': 1, '신도': 1, '천명': 1, '혈장': 1, '치료': 1, '개발': 1, '연합뉴스': 1, '네이버': 1, '뉴스': 1, '음성': 1, '밀접': 1, '가격': 1, '리자도': 1, '격리': 1, '무슨': 1, '을해': 1, '페이': 1, '모텔': 1, '섹파': 1, '오피': 1, '횟집': 1, '마사지': 1, '여행': 1, '훈녀': 1, '휴게소': 1, '안마': 1, '조건': 1, '맛집': 1, '정은경': 1, '청장': 1, '서울': 1, '지침': 1, '예고': 1, '유흥': 1, '시설': 1, '대한': 1, '집합': 1, '금지': 1, '조치': 1, '최대한': 1, '확산': 1, '예담': 1, '때문': 1, '평소': 1, '무기': 1, '저희': 1, '컨텐츠': 1, '노래': 1, '트위터': 1, '더욱': 1, '트레': 1, '내내': 1, '조국': 1, '검찰': 1, '골몰': 1, '남북': 1, '평화': 1, '해대': 1, '더니': 1, '국민': 1, '면역': 1, '형성': 1, '구라': 1, '속보': 1, '노바': 1, '공급': 1, '일보': 1, '알티': 1, '응모': 1, '초기': 1, '마스크': 1, '레저': 1, '방콕': 1, '위해': 1, '소식': 1})\n"
     ]
    }
   ],
   "source": [
    "from konlpy.tag import Okt\n",
    "from collections import Counter\n",
    "\n",
    "# 명사 키워드를 추출합니다.\n",
    "nouns_tagger = Okt()\n",
    "nouns = nouns_tagger.nouns(tweet_corpus)\n",
    "count = Counter(nouns)\n",
    "\n",
    "# 한글자 키워드를 제거합니다.\n",
    "remove_char_counter = Counter({x : count[x] for x in count if len(x) > 1})\n",
    "print(remove_char_counter)"
   ]
  },
  {
   "cell_type": "markdown",
   "metadata": {},
   "source": [
    "-----"
   ]
  },
  {
   "cell_type": "markdown",
   "metadata": {},
   "source": [
    "##### 단어 빈도 점수 추가"
   ]
  },
  {
   "cell_type": "code",
   "execution_count": 35,
   "metadata": {},
   "outputs": [
    {
     "data": {
      "text/html": [
       "<div>\n",
       "<style scoped>\n",
       "    .dataframe tbody tr th:only-of-type {\n",
       "        vertical-align: middle;\n",
       "    }\n",
       "\n",
       "    .dataframe tbody tr th {\n",
       "        vertical-align: top;\n",
       "    }\n",
       "\n",
       "    .dataframe thead th {\n",
       "        text-align: right;\n",
       "    }\n",
       "</style>\n",
       "<table border=\"1\" class=\"dataframe\">\n",
       "  <thead>\n",
       "    <tr style=\"text-align: right;\">\n",
       "      <th></th>\n",
       "      <th>node</th>\n",
       "      <th>nodesize</th>\n",
       "    </tr>\n",
       "  </thead>\n",
       "  <tbody>\n",
       "    <tr>\n",
       "      <th>0</th>\n",
       "      <td>요즘</td>\n",
       "      <td>2</td>\n",
       "    </tr>\n",
       "    <tr>\n",
       "      <th>1</th>\n",
       "      <td>학생</td>\n",
       "      <td>3</td>\n",
       "    </tr>\n",
       "    <tr>\n",
       "      <th>11</th>\n",
       "      <td>코로나</td>\n",
       "      <td>15</td>\n",
       "    </tr>\n",
       "    <tr>\n",
       "      <th>20</th>\n",
       "      <td>여자</td>\n",
       "      <td>2</td>\n",
       "    </tr>\n",
       "    <tr>\n",
       "      <th>29</th>\n",
       "      <td>성남</td>\n",
       "      <td>2</td>\n",
       "    </tr>\n",
       "    <tr>\n",
       "      <th>30</th>\n",
       "      <td>초등학교</td>\n",
       "      <td>2</td>\n",
       "    </tr>\n",
       "    <tr>\n",
       "      <th>31</th>\n",
       "      <td>교사</td>\n",
       "      <td>2</td>\n",
       "    </tr>\n",
       "    <tr>\n",
       "      <th>32</th>\n",
       "      <td>도우미</td>\n",
       "      <td>2</td>\n",
       "    </tr>\n",
       "    <tr>\n",
       "      <th>33</th>\n",
       "      <td>노래방</td>\n",
       "      <td>3</td>\n",
       "    </tr>\n",
       "    <tr>\n",
       "      <th>34</th>\n",
       "      <td>감염</td>\n",
       "      <td>4</td>\n",
       "    </tr>\n",
       "    <tr>\n",
       "      <th>35</th>\n",
       "      <td>전파</td>\n",
       "      <td>2</td>\n",
       "    </tr>\n",
       "    <tr>\n",
       "      <th>43</th>\n",
       "      <td>출처</td>\n",
       "      <td>2</td>\n",
       "    </tr>\n",
       "    <tr>\n",
       "      <th>47</th>\n",
       "      <td>오세훈</td>\n",
       "      <td>2</td>\n",
       "    </tr>\n",
       "    <tr>\n",
       "      <th>48</th>\n",
       "      <td>새끼</td>\n",
       "      <td>2</td>\n",
       "    </tr>\n",
       "    <tr>\n",
       "      <th>49</th>\n",
       "      <td>진자</td>\n",
       "      <td>2</td>\n",
       "    </tr>\n",
       "    <tr>\n",
       "      <th>50</th>\n",
       "      <td>산책</td>\n",
       "      <td>2</td>\n",
       "    </tr>\n",
       "    <tr>\n",
       "      <th>53</th>\n",
       "      <td>접촉</td>\n",
       "      <td>2</td>\n",
       "    </tr>\n",
       "    <tr>\n",
       "      <th>59</th>\n",
       "      <td>천안</td>\n",
       "      <td>11</td>\n",
       "    </tr>\n",
       "    <tr>\n",
       "      <th>60</th>\n",
       "      <td>청양</td>\n",
       "      <td>7</td>\n",
       "    </tr>\n",
       "    <tr>\n",
       "      <th>62</th>\n",
       "      <td>만남</td>\n",
       "      <td>2</td>\n",
       "    </tr>\n",
       "    <tr>\n",
       "      <th>63</th>\n",
       "      <td>콜걸</td>\n",
       "      <td>2</td>\n",
       "    </tr>\n",
       "    <tr>\n",
       "      <th>68</th>\n",
       "      <td>출장</td>\n",
       "      <td>4</td>\n",
       "    </tr>\n",
       "    <tr>\n",
       "      <th>76</th>\n",
       "      <td>혈전</td>\n",
       "      <td>2</td>\n",
       "    </tr>\n",
       "    <tr>\n",
       "      <th>77</th>\n",
       "      <td>발생</td>\n",
       "      <td>2</td>\n",
       "    </tr>\n",
       "    <tr>\n",
       "      <th>78</th>\n",
       "      <td>아스</td>\n",
       "      <td>2</td>\n",
       "    </tr>\n",
       "    <tr>\n",
       "      <th>79</th>\n",
       "      <td>백신</td>\n",
       "      <td>3</td>\n",
       "    </tr>\n",
       "    <tr>\n",
       "      <th>80</th>\n",
       "      <td>기준</td>\n",
       "      <td>2</td>\n",
       "    </tr>\n",
       "    <tr>\n",
       "      <th>81</th>\n",
       "      <td>피임</td>\n",
       "      <td>2</td>\n",
       "    </tr>\n",
       "    <tr>\n",
       "      <th>82</th>\n",
       "      <td>흡연</td>\n",
       "      <td>2</td>\n",
       "    </tr>\n",
       "    <tr>\n",
       "      <th>83</th>\n",
       "      <td>만배</td>\n",
       "      <td>2</td>\n",
       "    </tr>\n",
       "    <tr>\n",
       "      <th>84</th>\n",
       "      <td>이상</td>\n",
       "      <td>2</td>\n",
       "    </tr>\n",
       "    <tr>\n",
       "      <th>85</th>\n",
       "      <td>한국</td>\n",
       "      <td>3</td>\n",
       "    </tr>\n",
       "    <tr>\n",
       "      <th>86</th>\n",
       "      <td>신문</td>\n",
       "      <td>2</td>\n",
       "    </tr>\n",
       "    <tr>\n",
       "      <th>87</th>\n",
       "      <td>선동</td>\n",
       "      <td>2</td>\n",
       "    </tr>\n",
       "    <tr>\n",
       "      <th>88</th>\n",
       "      <td>둘리</td>\n",
       "      <td>2</td>\n",
       "    </tr>\n",
       "    <tr>\n",
       "      <th>92</th>\n",
       "      <td>사회</td>\n",
       "      <td>2</td>\n",
       "    </tr>\n",
       "    <tr>\n",
       "      <th>93</th>\n",
       "      <td>거리</td>\n",
       "      <td>2</td>\n",
       "    </tr>\n",
       "    <tr>\n",
       "      <th>94</th>\n",
       "      <td>두기</td>\n",
       "      <td>2</td>\n",
       "    </tr>\n",
       "    <tr>\n",
       "      <th>103</th>\n",
       "      <td>이유</td>\n",
       "      <td>2</td>\n",
       "    </tr>\n",
       "    <tr>\n",
       "      <th>104</th>\n",
       "      <td>사람</td>\n",
       "      <td>2</td>\n",
       "    </tr>\n",
       "    <tr>\n",
       "      <th>107</th>\n",
       "      <td>트메</td>\n",
       "      <td>2</td>\n",
       "    </tr>\n",
       "    <tr>\n",
       "      <th>116</th>\n",
       "      <td>소통</td>\n",
       "      <td>2</td>\n",
       "    </tr>\n",
       "    <tr>\n",
       "      <th>140</th>\n",
       "      <td>도영</td>\n",
       "      <td>2</td>\n",
       "    </tr>\n",
       "  </tbody>\n",
       "</table>\n",
       "</div>"
      ],
      "text/plain": [
       "     node  nodesize\n",
       "0      요즘         2\n",
       "1      학생         3\n",
       "11    코로나        15\n",
       "20     여자         2\n",
       "29     성남         2\n",
       "30   초등학교         2\n",
       "31     교사         2\n",
       "32    도우미         2\n",
       "33    노래방         3\n",
       "34     감염         4\n",
       "35     전파         2\n",
       "43     출처         2\n",
       "47    오세훈         2\n",
       "48     새끼         2\n",
       "49     진자         2\n",
       "50     산책         2\n",
       "53     접촉         2\n",
       "59     천안        11\n",
       "60     청양         7\n",
       "62     만남         2\n",
       "63     콜걸         2\n",
       "68     출장         4\n",
       "76     혈전         2\n",
       "77     발생         2\n",
       "78     아스         2\n",
       "79     백신         3\n",
       "80     기준         2\n",
       "81     피임         2\n",
       "82     흡연         2\n",
       "83     만배         2\n",
       "84     이상         2\n",
       "85     한국         3\n",
       "86     신문         2\n",
       "87     선동         2\n",
       "88     둘리         2\n",
       "92     사회         2\n",
       "93     거리         2\n",
       "94     두기         2\n",
       "103    이유         2\n",
       "104    사람         2\n",
       "107    트메         2\n",
       "116    소통         2\n",
       "140    도영         2"
      ]
     },
     "execution_count": 35,
     "metadata": {},
     "output_type": "execute_result"
    }
   ],
   "source": [
    "# 키워드와 키워드 빈도 점수를 ‘node’, ‘nodesize’ 라는 데이터 프레임의 피처로 생성합니다.\n",
    "node_df = pd.DataFrame(remove_char_counter.items(), columns=['node', 'nodesize'])\n",
    "node_df = node_df[node_df['nodesize'] >= 2] # 시각화의 편의를 위해 ‘nodesize’ 2 미만은 제거합니다.\n",
    "node_df"
   ]
  },
  {
   "cell_type": "markdown",
   "metadata": {},
   "source": [
    "-----"
   ]
  },
  {
   "cell_type": "markdown",
   "metadata": {},
   "source": [
    "# <Step4. 시각화> : 연관 키워드 네트워크 시각화"
   ]
  },
  {
   "cell_type": "markdown",
   "metadata": {},
   "source": [
    "### [연관 키워드 네트워크 시각화]"
   ]
  },
  {
   "cell_type": "code",
   "execution_count": 36,
   "metadata": {},
   "outputs": [],
   "source": [
    "from matplotlib import font_manager, rc\n",
    "font_path = \"data/THEdog.ttf\"   #폰트파일의 위치\n",
    "font_name = font_manager.FontProperties(fname=font_path).get_name()\n",
    "rc('font', family=font_name)"
   ]
  },
  {
   "cell_type": "code",
   "execution_count": 37,
   "metadata": {},
   "outputs": [
    {
     "data": {
      "image/png": "[encoded data removed]",
      "text/plain": [
       "<Figure size 1080x1080 with 1 Axes>"
      ]
     },
     "metadata": {},
     "output_type": "display_data"
    }
   ],
   "source": [
    "import networkx as nx\n",
    "import matplotlib.pyplot as plt\n",
    "plt.figure(figsize=(15,15))\n",
    "\n",
    "# networkx 그래프 객체를 생성합니다.\n",
    "G = nx.Graph()\n",
    "\n",
    "# node_df의 키워드 빈도수를 데이터로 하여, 네트워크 그래프의 ‘노드’ 역할을 하는 원을 생성합니다.\n",
    "for index, row in node_df.iterrows():\n",
    "    G.add_node(row['node'], nodesize=row['nodesize']*5)\n",
    "    \n",
    "# network_df의 연관 분석 데이터를 기반으로, 네트워크 그래프의 ‘관계’ 역할을 하는 선을 생성합니다.\n",
    "for index, row in network_df.iterrows():\n",
    "    G.add_weighted_edges_from([(row['source'], row['target'], row['support'])])\n",
    "    \n",
    "# 그래프 디자인과 관련된 파라미터를 설정합니다.\n",
    "pos = nx.spring_layout(G, k=0.6, iterations=50)\n",
    "sizes = [G.nodes[node]['nodesize']*25 for node in G]\n",
    "nx.draw(G, pos=pos, node_size=sizes)\n",
    "\n",
    "nx.draw_networkx_labels(G, pos=pos, font_family=font_name, font_size=25)\n",
    "\n",
    "# 그래프를 출력합니다.\n",
    "ax = plt.gca()\n",
    "plt.show()"
   ]
  }
 ],
 "metadata": {
  "kernelspec": {
   "display_name": "pydatavenv",
   "language": "python",
   "name": "pydatavenv"
  },
  "language_info": {
   "codemirror_mode": {
    "name": "ipython",
    "version": 3
   },
   "file_extension": ".py",
   "mimetype": "text/x-python",
   "name": "python",
   "nbconvert_exporter": "python",
   "pygments_lexer": "ipython3",
   "version": "3.8.8"
  }
 },
 "nbformat": 4,
 "nbformat_minor": 4
}

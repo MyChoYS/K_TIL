{
 "cells": [
  {
   "cell_type": "code",
   "execution_count": 1,
   "metadata": {},
   "outputs": [],
   "source": [
    "from selenium import webdriver\n",
    "\n",
    "\n",
    "driver = webdriver.Chrome('C:/Temp/chromedriver')\n",
    "driver.get(\"https://hotel.naver.com/hotels/item?hotelId=hotel:Shilla_Stay_Yeoksam&destination_kor=%EC%8B%A0%EB%9D%BC%EC%8A%A4%ED%85%8C%EC%9D%B4%20%EC%97%AD%EC%82%BC&rooms=2\")"
   ]
  },
  {
   "cell_type": "code",
   "execution_count": 55,
   "metadata": {},
   "outputs": [
    {
     "name": "stdout",
     "output_type": "stream",
     "text": [
      "\n"
     ]
    }
   ],
   "source": [
    "commlist = []\n",
    "dupcomm = ()\n",
    "\n",
    "nextck = driver.find_element_by_css_selector('body > div > div > div.container.ng-scope > div.content > div.hotel_used_review.ng-isolate-scope > div.review_bk.ng-scope > div.paginate > a.direction.next')\n",
    "print(endnum)\n",
    "countnum = 1"
   ]
  },
  {
   "cell_type": "code",
   "execution_count": 56,
   "metadata": {},
   "outputs": [],
   "source": [
    "import time\n",
    "while True :  \n",
    "    time.sleep(1)\n",
    "    comm=driver.find_elements_by_css_selector(\"body > div > div > div.container.ng-scope > div.content > div.hotel_used_review.ng-isolate-scope > div.review_bk.ng-scope > ul > li > div.good_bad\")\n",
    "    if (dupcomm == comm):\n",
    "        break\n",
    "    dupcomm = comm    \n",
    "    for i in comm:\n",
    "        commlist.append(i.text)\n",
    "    countnum += 1\n",
    "    time.sleep(1)\n",
    "    nextck.click()   \n",
    "\n",
    "        "
   ]
  },
  {
   "cell_type": "code",
   "execution_count": 57,
   "metadata": {},
   "outputs": [],
   "source": [
    "wfile = open(\"output/naverhotel.txt\",\"wt\", encoding=\"utf-8\") \n",
    "wfile.writelines(commlist) \n",
    "wfile.close()"
   ]
  },
  {
   "cell_type": "code",
   "execution_count": null,
   "metadata": {},
   "outputs": [],
   "source": []
  }
 ],
 "metadata": {
  "kernelspec": {
   "display_name": "pydatavenv",
   "language": "python",
   "name": "pydatavenv"
  },
  "language_info": {
   "codemirror_mode": {
    "name": "ipython",
    "version": 3
   },
   "file_extension": ".py",
   "mimetype": "text/x-python",
   "name": "python",
   "nbconvert_exporter": "python",
   "pygments_lexer": "ipython3",
   "version": "3.8.8"
  }
 },
 "nbformat": 4,
 "nbformat_minor": 4
}

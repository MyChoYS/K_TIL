{
 "cells": [
  {
   "cell_type": "code",
   "execution_count": null,
   "metadata": {},
   "outputs": [],
   "source": [
    "from selenium import webdriver\n",
    "import time\n",
    "import re\n"
   ]
  },
  {
   "cell_type": "code",
   "execution_count": null,
   "metadata": {},
   "outputs": [],
   "source": [
    "driver = webdriver.Chrome('C:/Temp/chromedriver')\n",
    "driver.get(\"http://gs25.gsretail.com/gscvs/ko/products/event-goods\")"
   ]
  },
  {
   "cell_type": "code",
   "execution_count": null,
   "metadata": {},
   "outputs": [],
   "source": [
    "twotoone = driver.find_element_by_css_selector('#TWO_TO_ONE')\n",
    "twotoone.click()\n",
    "name = []\n",
    "price = []\n",
    "countnum = 1\n",
    "nownum = ()"
   ]
  },
  {
   "cell_type": "code",
   "execution_count": null,
   "metadata": {},
   "outputs": [],
   "source": [
    "while True:\n",
    "    for i in range(len(goodsname)):\n",
    "        goodsname = driver.find_elements_by_css_selector('#contents > div.cnt > div.cnt_section.mt50 > div > div > div:nth-child(5) > ul > li > div > p.tit')\n",
    "        goodsprice = driver.find_elements_by_css_selector('#contents > div.cnt > div.cnt_section.mt50 > div > div > div:nth-child(5) > ul > li > div > p.price > span')\n",
    "        nownum = driver.find_element_by_css_selector('#contents > div.cnt > div.cnt_section.mt50 > div > div > div:nth-child(5) > div > span > a.on').text\n",
    "        if (int(nownum) < countnum) :\n",
    "            break\n",
    "        name.append(goodsname[i].text)    \n",
    "        price.append(re.sub(\"[,원]\", '', goodsprice[i].text))\n",
    "    nextclick = driver.find_element_by_css_selector('#contents > div.cnt > div.cnt_section.mt50 > div > div > div:nth-child(5) > div > a.next')\n",
    "    countnum += 1 \n",
    "    nextclick.click()\n",
    "    time.sleep(1)\n"
   ]
  },
  {
   "cell_type": "code",
   "execution_count": null,
   "metadata": {},
   "outputs": [],
   "source": [
    "print(name,price)"
   ]
  },
  {
   "cell_type": "code",
   "execution_count": null,
   "metadata": {},
   "outputs": [],
   "source": [
    "with open('output/gs25_twotoone.csv', \"wt\", encoding=\"utf-8\") as f:\n",
    "    f.write('goodsname,goodsprice\\n') #열이름 추가  \n",
    "    for i in range(len(name)):\n",
    "        f.write(name[i]+\",\"+price[i]+'\\n')    #','로 구분되는 형식 다쓰면 \\n으로 다음 행  \n"
   ]
  }
 ],
 "metadata": {
  "kernelspec": {
   "display_name": "pydatavenv",
   "language": "python",
   "name": "pydatavenv"
  },
  "language_info": {
   "codemirror_mode": {
    "name": "ipython",
    "version": 3
   },
   "file_extension": ".py",
   "mimetype": "text/x-python",
   "name": "python",
   "nbconvert_exporter": "python",
   "pygments_lexer": "ipython3",
   "version": "3.8.8"
  }
 },
 "nbformat": 4,
 "nbformat_minor": 4
}

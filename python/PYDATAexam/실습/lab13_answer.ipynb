{
 "cells": [
  {
   "cell_type": "code",
   "execution_count": null,
   "metadata": {},
   "outputs": [],
   "source": [
    "#1\n",
    "import pandas as pd\n",
    "\n",
    "data = [[500, 450, 520, 610], [690, 700, 820, 900], [1100, 1030, 1200, 1380],\n",
    "       [1500, 1650, 1700, 1850], [1990, 2020, 2300, 2420], [1020, 1600, 2200, 2550]]\n",
    "df = pd.DataFrame(data, index = [2015, 2016, 2017, 2018, 2019, 2020], columns = ['1 분기', '2 분기', '3 분기', '4 분기'])\n",
    "display(df)"
   ]
  },
  {
   "cell_type": "code",
   "execution_count": null,
   "metadata": {},
   "outputs": [],
   "source": [
    "#2\n",
    "from matplotlib import font_manager, rc\n",
    "font_path = \"data/THEdog.ttf\"   #폰트파일의 위치\n",
    "font_name = font_manager.FontProperties(fname=font_path).get_name()\n",
    "rc('font', family=font_name)\n",
    "from matplotlib import pyplot as plt\n",
    "\n",
    "'''index = []\n",
    "for i in range(len(df.index)):\n",
    "    index.append(str(df.index[i]) + '년')\n",
    "\n",
    "df.index = index'''\n",
    "df.index = df.index.map(lambda x : str(x)+'년')\n",
    "df.plot(figsize = (10,6))\n",
    "plt.savefig(\"output/hw1.png\")\n",
    "plt.show()"
   ]
  },
  {
   "cell_type": "code",
   "execution_count": null,
   "metadata": {},
   "outputs": [],
   "source": [
    "#3\n",
    "df.T.plot(figsize = (10,6))\n",
    "plt.savefig(\"output/hw2.png\")\n",
    "plt.show()"
   ]
  },
  {
   "cell_type": "code",
   "execution_count": null,
   "metadata": {},
   "outputs": [],
   "source": [
    "#4\n",
    "colors = ['red', 'green', 'brown', 'purple']\n",
    "explode = [0.05, 0.05, 0.05, 0.05]\n",
    "\n",
    "plt.figure(figsize = (10,6))\n",
    "plt.pie(df.sum(), labels = df.columns,colors = colors, explode = explode, shadow = True, autopct = '%.1f%%')\n",
    "plt.savefig('output/hw3.png')\n",
    "plt.show()"
   ]
  },
  {
   "cell_type": "code",
   "execution_count": null,
   "metadata": {},
   "outputs": [],
   "source": [
    "#5\n",
    "colors = ['red', 'green', 'brown', 'purple', 'yellow', 'pink']\n",
    "\n",
    "plt.figure(figsize = (10,6))\n",
    "plt.pie(df.T.sum(), labels=df.T.columns,colors = colors, autopct='%.1f%%')\n",
    "plt.savefig('output/hw4.png')\n",
    "plt.show()"
   ]
  },
  {
   "cell_type": "code",
   "execution_count": null,
   "metadata": {},
   "outputs": [],
   "source": []
  },
  {
   "cell_type": "code",
   "execution_count": null,
   "metadata": {},
   "outputs": [],
   "source": [
    "from matplotlib import font_manager, rc\n",
    "font_path = \"data/THEdog.ttf\"\n",
    "font_name = font_manager.FontProperties(fname=font_path).get_name()\n",
    "rc('font', family=font_name)\n",
    "print(font_name)"
   ]
  },
  {
   "cell_type": "code",
   "execution_count": null,
   "metadata": {},
   "outputs": [],
   "source": [
    "import pandas as pd\n",
    "import matplotlib.pyplot as plt\n",
    "import matplotlib"
   ]
  },
  {
   "cell_type": "code",
   "execution_count": null,
   "metadata": {},
   "outputs": [],
   "source": [
    "data = {\n",
    "    '1분기':[500,690,1100,1500,1990,1020],\n",
    "    '2분기':[450,700,1030,1650,2020,1600],\n",
    "    '3분기':[520,820,1200,1700,2300,2200],\n",
    "    '4분기':[610,900,1380,1850,2420,2550]\n",
    "}\n",
    "df = pd.DataFrame(data, index =['2015년','2016년','2017년','2018년','2019년','2020년'])\n",
    "display(df)"
   ]
  },
  {
   "cell_type": "code",
   "execution_count": null,
   "metadata": {},
   "outputs": [],
   "source": [
    "plt.figure(figsize=(10,6)) # 그래프의 기본 공간의 영역 크기가 원래는 6,4 인치인데 이를 10,6인치로 변화시킨 것. \n",
    "plt.plot(df)\n",
    "plt.title('시각화 과제1', color = \"purple\")\n",
    "plt.legend([\"1분기\", \"2분기\", \"3분기\", \"4분기\"])\n",
    "\n",
    "plt.savefig(\"output/hw1.png\")\n",
    "plt.show()\n"
   ]
  },
  {
   "cell_type": "code",
   "execution_count": null,
   "metadata": {},
   "outputs": [],
   "source": [
    "plt.figure(figsize=(10,6)) # 그래프의 기본 공간의 영역 크기가 원래는 6,4 인치인데 이를 10,6인치로 변화시킨 것. \n",
    "plt.plot(df.transpose())\n",
    "plt.title('시각화 과제2', color = \"r\")\n",
    "plt.legend([\"2015년\", \"2016년\", \"2017년\", \"2018년\",\"2019년\",\"2020년\"])\n",
    "\n",
    "plt.savefig(\"output/hw2.png\")\n",
    "plt.show()\n"
   ]
  },
  {
   "cell_type": "code",
   "execution_count": null,
   "metadata": {},
   "outputs": [],
   "source": [
    "plt.figure(figsize=(10,6)) # 그래프의 기본 공간의 영역 크기가 원래는 6,4 인치인데 이를 10,6인치로 변화시킨 것. \n",
    "explode = [0.05, 0.05, 0.05, 0.05]\n",
    "\n",
    "plt.pie(df.sum(), labels=df.columns.map(lambda x : x), autopct='%.1f%%', explode=explode, shadow=True)\n",
    "\n",
    "\n",
    "plt.savefig(\"output/hw3.png\")\n",
    "plt.show()\n"
   ]
  },
  {
   "cell_type": "code",
   "execution_count": null,
   "metadata": {},
   "outputs": [],
   "source": [
    "plt.figure(figsize=(10,6)) # 그래프의 기본 공간의 영역 크기가 원래는 6,4 인치인데 이를 10,6인치로 변화시킨 것. \n",
    "\n",
    "plt.pie(df.T.sum(), labels=df.T.columns.map(lambda x :x), autopct='%.1f%%')\n",
    "\n",
    "\n",
    "plt.savefig(\"output/hw4.png\")\n",
    "plt.show()\n"
   ]
  },
  {
   "cell_type": "code",
   "execution_count": null,
   "metadata": {},
   "outputs": [],
   "source": [
    "from matplotlib import font_manager, rc\n",
    "font_path = \"data/THEdog.ttf\"   #폰트파일의 위치\n",
    "font_name = font_manager.FontProperties(fname=font_path).get_name()\n",
    "rc('font', family=font_name)"
   ]
  },
  {
   "cell_type": "code",
   "execution_count": null,
   "metadata": {},
   "outputs": [],
   "source": [
    "# (1)\n",
    "import pandas as pd\n",
    "df = pd.DataFrame(\n",
    "            [[500,450,520,610],\n",
    "            [690,700,820,900],\n",
    "            [1100,1030,1200,1380],\n",
    "            [1500,1650,1700,1850],\n",
    "            [1990,2020,2300,2420],\n",
    "            [1020,1600,2200,2550]],\n",
    "            index=[2015,2016,2017,2018,2019,2020],\n",
    "            columns=['1분기','2분기','3분기','4분기'])\n",
    "display(df)"
   ]
  },
  {
   "cell_type": "code",
   "execution_count": null,
   "metadata": {},
   "outputs": [],
   "source": [
    "# (2)\n",
    "from matplotlib import pyplot as plt\n",
    "plt.figure(figsize=(10,6))\n",
    "df.index =['2015년','2016년','2017년','2018년', '2019년','2020년']\n",
    "plt.plot(df.index, df.values)\n",
    "plt.legend(labels=df.columns, loc='lower right')\n",
    "title_font = {\n",
    "    'fontsize': 25,\n",
    "    'fontweight': 'bold',\n",
    "}\n",
    "plt.title('시각화 과제1', fontdict=title_font, color = 'purple')\n",
    "import matplotlib.pyplot as plt\n",
    "plt.savefig('output/hw1.png')\n",
    "plt.show()"
   ]
  },
  {
   "cell_type": "code",
   "execution_count": null,
   "metadata": {},
   "outputs": [],
   "source": [
    "# (3)\n",
    "from matplotlib import pyplot as plt\n",
    "plt.figure(figsize=(10,6))\n",
    "df_T = df.T\n",
    "plt.plot(df_T.index, df_T.values)\n",
    "plt.legend(labels=df_T.columns, loc='upper left')\n",
    "title_font = {\n",
    "    'fontsize': 25,\n",
    "    'fontweight': 'bold',\n",
    "}\n",
    "plt.title('시각화 과제2', fontdict=title_font, color = 'red')\n",
    "import matplotlib.pyplot as plt\n",
    "plt.savefig('output/hw2.png')\n",
    "plt.show()"
   ]
  },
  {
   "cell_type": "code",
   "execution_count": null,
   "metadata": {},
   "outputs": [],
   "source": [
    "# (4)\n",
    "from matplotlib import pyplot as plt\n",
    "plt.figure(figsize=(10,6))\n",
    "colors = ['#ff5050', 'green', 'brown', 'purple']\n",
    "explode = [0.05, 0.05, 0.05, 0.05]\n",
    "plt.pie(df.sum(), labels=df.columns.map(lambda x : x), autopct='%.1f%%',  explode=explode, colors=colors, shadow=True)\n",
    "import matplotlib.pyplot as plt\n",
    "plt.savefig('output/hw3.png')\n",
    "plt.show()"
   ]
  },
  {
   "cell_type": "code",
   "execution_count": null,
   "metadata": {},
   "outputs": [],
   "source": [
    "# (5)\n",
    "from matplotlib import pyplot as plt\n",
    "plt.figure(figsize=(10,6))\n",
    "colors = ['#ff5050', 'green', 'brown', 'purple', 'yellow', 'pink']\n",
    "plt.pie(df.T.sum(), labels=df.T.columns.map(lambda x : x), autopct='%.1f%%',colors=colors)\n",
    "import matplotlib.pyplot as plt\n",
    "plt.savefig('output/hw4.png')\n",
    "plt.show()"
   ]
  },
  {
   "cell_type": "code",
   "execution_count": null,
   "metadata": {},
   "outputs": [],
   "source": []
  }
 ],
 "metadata": {
  "kernelspec": {
   "display_name": "pydatavenv",
   "language": "python",
   "name": "pydatavenv"
  },
  "language_info": {
   "codemirror_mode": {
    "name": "ipython",
    "version": 3
   },
   "file_extension": ".py",
   "mimetype": "text/x-python",
   "name": "python",
   "nbconvert_exporter": "python",
   "pygments_lexer": "ipython3",
   "version": "3.8.8"
  }
 },
 "nbformat": 4,
 "nbformat_minor": 4
}

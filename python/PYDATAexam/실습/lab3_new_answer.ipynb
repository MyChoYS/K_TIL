{
 "cells": [
  {
   "cell_type": "code",
   "execution_count": 2,
   "metadata": {},
   "outputs": [],
   "source": [
    "import requests\n",
    "from bs4 import BeautifulSoup\n",
    "import re\n",
    "\n",
    "newstitle = []\n",
    "newscomname = []\n",
    "r = requests.get('http://media.daum.net/ranking/popular/')\n",
    "bs = BeautifulSoup(r.text, 'html.parser')\n",
    "titles = bs.select('div.rank_news a.link_txt')\n",
    "coms = bs.select('div.rank_news span.info_news')\n",
    "\n",
    "for title in titles:\n",
    "    newstitle.append(title.text)\n",
    "for com in coms:\n",
    "    newscomname.append(com.text)\n",
    "        \n",
    "with open('output/news.csv', \"wt\", encoding=\"utf-8\") as f:\n",
    "    f.write('newstitle, newscomname\\n')  \n",
    "    for i in range(len(newstitle)):\n",
    "        newstitle[i] = re.sub(',', '', newstitle[i])\n",
    "        f.write(newstitle[i]+\",\"+newscomname[i]+'\\n')"
   ]
  },
  {
   "cell_type": "code",
   "execution_count": 3,
   "metadata": {},
   "outputs": [],
   "source": [
    "import requests\n",
    "from bs4 import BeautifulSoup\n",
    "import re\n",
    "import pandas as pd\n",
    "\n",
    "newstitle = []\n",
    "newscomname = []\n",
    "r = requests.get('http://media.daum.net/ranking/popular/')\n",
    "bs = BeautifulSoup(r.text, 'html.parser')\n",
    "titles = bs.select('div.rank_news a.link_txt')\n",
    "coms = bs.select('div.rank_news span.info_news')\n",
    "\n",
    "for title in titles:\n",
    "    newstitle.append(title.text)\n",
    "for com in coms:\n",
    "    newscomname.append(com.text)\n",
    "\n",
    "# pandas 데이터프레임으로 csv파일 저장\n",
    "\n",
    "data = {\n",
    "    'newstitle':newstitle,\n",
    "    'newscomname':newscomname,\n",
    "}\n",
    "df = pd.DataFrame(data)\n",
    "df.to_csv('./output/news_new.csv', index=False)"
   ]
  }
 ],
 "metadata": {
  "kernelspec": {
   "display_name": "pydatavenv",
   "language": "python",
   "name": "pydatavenv"
  },
  "language_info": {
   "codemirror_mode": {
    "name": "ipython",
    "version": 3
   },
   "file_extension": ".py",
   "mimetype": "text/x-python",
   "name": "python",
   "nbconvert_exporter": "python",
   "pygments_lexer": "ipython3",
   "version": "3.8.8"
  }
 },
 "nbformat": 4,
 "nbformat_minor": 4
}

{
 "cells": [
  {
   "cell_type": "code",
   "execution_count": 1,
   "metadata": {},
   "outputs": [],
   "source": [
    "from selenium import webdriver\n",
    "import time\n",
    "import re\n"
   ]
  },
  {
   "cell_type": "code",
   "execution_count": 2,
   "metadata": {},
   "outputs": [],
   "source": [
    "driver = webdriver.Chrome('C:/Temp/chromedriver')\n",
    "driver.get(\"http://gs25.gsretail.com/gscvs/ko/products/event-goods\")"
   ]
  },
  {
   "cell_type": "code",
   "execution_count": 14,
   "metadata": {},
   "outputs": [],
   "source": [
    "twotoone = driver.find_element_by_css_selector('#TWO_TO_ONE')\n",
    "twotoone.click()\n",
    "name = []\n",
    "price = []\n",
    "countnum = 1\n",
    "dupcomm = ()"
   ]
  },
  {
   "cell_type": "code",
   "execution_count": 15,
   "metadata": {},
   "outputs": [],
   "source": [
    "goodsname = driver.find_elements_by_css_selector('#contents > div.cnt > div.cnt_section.mt50 > div > div > div:nth-child(5) > ul > li > div > p.tit')\n",
    "goodsprice = driver.find_elements_by_css_selector('#contents > div.cnt > div.cnt_section.mt50 > div > div > div:nth-child(5) > ul > li > div > p.price > span')\n",
    "\n",
    "while True:\n",
    "    for i in range(len(goodsname)):\n",
    "        name.append(goodsname[i].text)    \n",
    "        price.append(re.sub(\"[,원]\", '', goodsprice[i].text))\n",
    "    nextclick = driver.find_elements_by_css_selector('#contents > div.cnt > div.cnt_section.mt50 > div > div > div:nth-child(5) > div > a.next')\n",
    "    nextclick.click()\n"
   ]
  },
  {
   "cell_type": "code",
   "execution_count": 16,
   "metadata": {},
   "outputs": [
    {
     "name": "stdout",
     "output_type": "stream",
     "text": [
      "['아카시아스틱꿀15G', '야생화스틱꿀15G', '순수고구마(130G/진공포장)', '볶음아몬드30G', '볶음캐슈넛30G', '호두25G', '육분컷)버섯소불고기200G', '육분컷)파채고추장삼겹살200G'] ['1000', '1000', '2800', '1000', '1000', '1000', '6500', '6500']\n"
     ]
    }
   ],
   "source": [
    "print(name,price)"
   ]
  }
 ],
 "metadata": {
  "kernelspec": {
   "display_name": "pydatavenv",
   "language": "python",
   "name": "pydatavenv"
  },
  "language_info": {
   "codemirror_mode": {
    "name": "ipython",
    "version": 3
   },
   "file_extension": ".py",
   "mimetype": "text/x-python",
   "name": "python",
   "nbconvert_exporter": "python",
   "pygments_lexer": "ipython3",
   "version": "3.8.8"
  }
 },
 "nbformat": 4,
 "nbformat_minor": 4
}

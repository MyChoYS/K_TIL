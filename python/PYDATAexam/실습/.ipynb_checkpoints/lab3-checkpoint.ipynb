{
 "cells": [
  {
   "cell_type": "code",
   "execution_count": 18,
   "metadata": {},
   "outputs": [],
   "source": [
    "import requests\n",
    "from bs4 import BeautifulSoup\n",
    "import re\n",
    "\n",
    "r = requests.get('http://media.daum.net/ranking/popular/')\n",
    "r.encoding = 'utf-8' \n",
    "\n",
    "bs = BeautifulSoup(r.text, 'html.parser')\n",
    "newstitle = []\n",
    "newscomname = []\n",
    "\n",
    "\n",
    "title = bs.select('#mArticle > div.rank_news > ul.list_news2 > li > div.cont_thumb > strong > a')\n",
    "com = bs.select('#mArticle > div.rank_news > ul.list_news2 > li > div.cont_thumb > strong > span')\n",
    "\n",
    "for i in title:\n",
    "    i = re.sub(\",\", '', i.text) #','가 들어가있으면 csv로 저장할 때 구분자로 인식햄 \n",
    "    newstitle.append(i)\n",
    "    \n",
    "for i in com:\n",
    "    i = re.sub(\",\", '', i.text)\n",
    "    newscomname.append(i) \n",
    "\n",
    "with open('output/news.csv', \"wt\", encoding=\"utf-8\") as f:\n",
    "    f.write('newstitle,newscomname\\n') #열이름 추가  \n",
    "    for i in range(len(newstitle)):\n",
    "        f.write(newstitle[i]+\",\"+newscomname[i]+'\\n')    #','로 구분되는 형식 다쓰면 \\n으로 다음 행  \n",
    "\n"
   ]
  }
 ],
 "metadata": {
  "kernelspec": {
   "display_name": "pydatavenv",
   "language": "python",
   "name": "pydatavenv"
  },
  "language_info": {
   "codemirror_mode": {
    "name": "ipython",
    "version": 3
   },
   "file_extension": ".py",
   "mimetype": "text/x-python",
   "name": "python",
   "nbconvert_exporter": "python",
   "pygments_lexer": "ipython3",
   "version": "3.8.8"
  }
 },
 "nbformat": 4,
 "nbformat_minor": 4
}

{
 "cells": [
  {
   "cell_type": "code",
   "execution_count": 115,
   "metadata": {},
   "outputs": [],
   "source": [
    "import urllib.request\n",
    "import json\n",
    "import os\n",
    "import sys\n",
    "from bs4 import BeautifulSoup\n",
    "client_id = '6cwOwtJZynuqsLoYJX_3'\n",
    "client_secret = 'GG50BuTMuy'"
   ]
  },
  {
   "cell_type": "code",
   "execution_count": 173,
   "metadata": {},
   "outputs": [],
   "source": [
    "def naver_search(keyword,calltype='JSON'):\n",
    "    if calltype == 'JSON':\n",
    "        base = \"https://openapi.naver.com/v1/search/local.json\"\n",
    "        parameters = \"?query=%s&start=%s&display=%s\" % (urllib.parse.quote(keyword), 1, 100)\n",
    "        url = base + parameters    \n",
    "\n",
    "        req = urllib.request.Request(url)\n",
    "        req.add_header(\"X-Naver-Client-Id\", client_id)\n",
    "        req.add_header(\"X-Naver-Client-Secret\", client_secret)    \n",
    "        response = urllib.request.urlopen(req)   \n",
    "        responseDecode = response.read().decode('utf-8')\n",
    "\n",
    "        result = json.loads(responseDecode)\n",
    "        print(\"[\",keyword,\"에 대한 네이버 지역 정보(JSON)]\",sep=\"\")\n",
    "        for i in range(len(result)):\n",
    "            print(i+1,\" : \",result['items'][i]['title'],\", \",result['items'][i]['address'])\n",
    "    \n",
    "    elif calltype == 'XML':\n",
    "        base = \"https://openapi.naver.com/v1/search/local.xml\"\n",
    "        \n",
    "        parameters = \"?query=%s&start=%s&display=%s\" % (urllib.parse.quote(keyword), 1, 100)\n",
    "        url = base + parameters    \n",
    "        \n",
    "        req = urllib.request.Request(url)\n",
    "        req.add_header(\"X-Naver-Client-Id\", client_id)\n",
    "        req.add_header(\"X-Naver-Client-Secret\", client_secret)    \n",
    "        response = urllib.request.urlopen(req)   \n",
    "        responseDecode = response.read().decode('utf-8')         \n",
    "        \n",
    "        soup = BeautifulSoup(responseDecode, 'xml')\n",
    "        print(\"[\",keyword,\"에 대한 네이버 지역 정보(XML)]\",sep=\"\")\n",
    "        for i in range(len(soup.find_all('address'))):\n",
    "            print(i+1,\" : \",soup.find_all('title')[i+1].text,\", \",soup.find_all('address')[i].string)\n",
    "    \n",
    "    "
   ]
  },
  {
   "cell_type": "code",
   "execution_count": 178,
   "metadata": {},
   "outputs": [
    {
     "name": "stdout",
     "output_type": "stream",
     "text": [
      "<?xml version=\"1.0\" encoding=\"utf-8\"?>\n",
      "<rss version=\"2.0\"><channel><title>Naver Open API - local ::'짜장면'</title><link>https://search.naver.com</link><description>Naver Search Result</description><lastBuildDate>Mon, 29 Mar 2021 16:09:22 +0900</lastBuildDate><total>5</total><start>1</start><display>5</display><item><title>딘타이펑 명동점</title><link>http://www.dintaifung.co.kr/</link><category>중식&gt;중식당</category><description/><telephone/><address>서울특별시 중구 명동1가 59-1</address><roadAddress>서울특별시 중구 명동7길 13 명동증권빌딩</roadAddress><mapx>310437</mapx><mapy>551834</mapy></item><item><title>몽중헌 페럼타워점</title><link>http://www.mongjungheon.co.kr/</link><category>중식&gt;중식당</category><description/><telephone/><address>서울특별시 중구 수하동 66</address><roadAddress>서울특별시 중구 을지로5길 19 페럼타워 B2F</roadAddress><mapx>310436</mapx><mapy>552132</mapy></item><item><title>원흥</title><link/><category>중식&gt;중식당</category><description/><telephone/><address>서울특별시 중구 다동 92</address><roadAddress>서울특별시 중구 다동길 46</roadAddress><mapx>310259</mapx><mapy>552231</mapy></item><item><title>복성각 덕수궁점</title><link/><category>중식&gt;중식당</category><description/><telephone/><address>서울특별시 중구 태평로2가 366-1 오천회관빌딩 2층</address><roadAddress>서울특별시 중구 덕수궁길 7 오천회관빌딩 2층</roadAddress><mapx>309761</mapx><mapy>551897</mapy></item><item><title>더 플라자 도원</title><link>https://www.hoteltheplaza.com/kr/dining/taoyuen.jsp</link><category>중식&gt;중식당</category><description/><telephone/><address>서울특별시 중구 태평로2가 23</address><roadAddress>서울특별시 중구 소공로 119 더 플라자 3층</roadAddress><mapx>309922</mapx><mapy>551889</mapy></item></channel></rss>\n",
      "--------\n",
      "<?xml version=\"1.0\" encoding=\"UTF-8\"?><rss version=\"2.0\"><channel><title>Naver Open API - local ::'짜장면'</title><link>https://search.naver.com</link><description>Naver Search Result</description><lastBuildDate>Mon, 29 Mar 2021 16:09:22 +0900</lastBuildDate><total>5</total><start>1</start><display>5</display><item><title>딘타이펑 명동점</title><link>http://www.dintaifung.co.kr/</link><category>중식&gt;중식당</category><description></description><telephone></telephone><address>서울특별시 중구 명동1가 59-1</address><roadAddress>서울특별시 중구 명동7길 13 명동증권빌딩</roadAddress><mapx>310437</mapx><mapy>551834</mapy></item><item><title>몽중헌 페럼타워점</title><link>http://www.mongjungheon.co.kr/</link><category>중식&gt;중식당</category><description></description><telephone></telephone><address>서울특별시 중구 수하동 66</address><roadAddress>서울특별시 중구 을지로5길 19 페럼타워 B2F</roadAddress><mapx>310436</mapx><mapy>552132</mapy></item><item><title>원흥</title><link></link><category>중식&gt;중식당</category><description></description><telephone></telephone><address>서울특별시 중구 다동 92</address><roadAddress>서울특별시 중구 다동길 46</roadAddress><mapx>310259</mapx><mapy>552231</mapy></item><item><title>복성각 덕수궁점</title><link></link><category>중식&gt;중식당</category><description></description><telephone></telephone><address>서울특별시 중구 태평로2가 366-1 오천회관빌딩 2층</address><roadAddress>서울특별시 중구 덕수궁길 7 오천회관빌딩 2층</roadAddress><mapx>309761</mapx><mapy>551897</mapy></item><item><title>더 플라자 도원</title><link>https://www.hoteltheplaza.com/kr/dining/taoyuen.jsp</link><category>중식&gt;중식당</category><description></description><telephone></telephone><address>서울특별시 중구 태평로2가 23</address><roadAddress>서울특별시 중구 소공로 119 더 플라자 3층</roadAddress><mapx>309922</mapx><mapy>551889</mapy></item></channel></rss>\n"
     ]
    }
   ],
   "source": [
    "print( soup)\n",
    "print(\"--------\")\n",
    "print( responseDecode) ##xml로 가져오기 떄문에 json load를 해주는 듯 함"
   ]
  },
  {
   "cell_type": "code",
   "execution_count": 174,
   "metadata": {},
   "outputs": [
    {
     "name": "stdout",
     "output_type": "stream",
     "text": [
      "[짜장면에 대한 네이버 지역 정보(XML)]\n",
      "1  :  딘타이펑 명동점 ,  서울특별시 중구 명동1가 59-1\n",
      "2  :  몽중헌 페럼타워점 ,  서울특별시 중구 수하동 66\n",
      "3  :  원흥 ,  서울특별시 중구 다동 92\n",
      "4  :  복성각 덕수궁점 ,  서울특별시 중구 태평로2가 366-1 오천회관빌딩 2층\n",
      "5  :  더 플라자 도원 ,  서울특별시 중구 태평로2가 23\n"
     ]
    }
   ],
   "source": [
    "naver_search('짜장면',\"XML\")"
   ]
  },
  {
   "cell_type": "code",
   "execution_count": 175,
   "metadata": {},
   "outputs": [
    {
     "name": "stdout",
     "output_type": "stream",
     "text": [
      "[쌀국수에 대한 네이버 지역 정보(JSON)]\n",
      "1  :  포하노이 ,  서울특별시 종로구 청진동 70 B1\n",
      "2  :  호아빈 서울시청점 ,  서울특별시 중구 서소문동 14-2\n",
      "3  :  미스사이공 명동 ,  서울특별시 중구 명동2가 54-2\n",
      "4  :  반포식스 광화문점 ,  서울특별시 종로구 신문로1가 239\n",
      "5  :  사이공 ,  서울특별시 종로구 종로1가 24\n"
     ]
    }
   ],
   "source": [
    "naver_search('쌀국수')"
   ]
  }
 ],
 "metadata": {
  "kernelspec": {
   "display_name": "pydatavenv",
   "language": "python",
   "name": "pydatavenv"
  },
  "language_info": {
   "codemirror_mode": {
    "name": "ipython",
    "version": 3
   },
   "file_extension": ".py",
   "mimetype": "text/x-python",
   "name": "python",
   "nbconvert_exporter": "python",
   "pygments_lexer": "ipython3",
   "version": "3.8.8"
  }
 },
 "nbformat": 4,
 "nbformat_minor": 4
}

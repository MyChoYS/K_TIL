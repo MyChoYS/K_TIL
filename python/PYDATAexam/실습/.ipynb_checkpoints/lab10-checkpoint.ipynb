{
 "cells": [
  {
   "cell_type": "code",
   "execution_count": 41,
   "metadata": {},
   "outputs": [],
   "source": [
    "import pandas as pd\n",
    "import numpy as np\n",
    "import seaborn as sns"
   ]
  },
  {
   "cell_type": "code",
   "execution_count": 276,
   "metadata": {},
   "outputs": [
    {
     "name": "stdout",
     "output_type": "stream",
     "text": [
      "  name  kor  eng  mat class\n",
      "0   둘리   90   99   90    1반\n",
      "1   또치   80   98   70    2반\n",
      "2  도우너   70   97   70    1반\n",
      "3  희동이   70   46   60    2반\n"
     ]
    }
   ],
   "source": [
    "#1\n",
    "data = {\n",
    "    'name':['둘리', '또치', '도우너', '희동이'],\n",
    "    'kor':[90, 80, 70, 70],\n",
    "    'eng':[99, 98, 97, 46],\n",
    "    'mat':[90, 70, 70, 60],\n",
    "}\n",
    "df = pd.DataFrame(data)\n",
    "df['class'] = ['1반', '2반','1반','2반']\n",
    "print(df)\n"
   ]
  },
  {
   "cell_type": "code",
   "execution_count": 277,
   "metadata": {},
   "outputs": [
    {
     "name": "stdout",
     "output_type": "stream",
     "text": [
      "  name  kor  eng  mat class\n",
      "0   둘리   90   99   90    1반\n",
      "1   또치   80   98   70    2반\n",
      "2  도우너   70   97   70    1반\n",
      "3  희동이   70   46   60    2반\n",
      "4  마이콜   80   80   80    1반\n"
     ]
    }
   ],
   "source": [
    "#2\n",
    "df.loc[4] = ['마이콜',80,80,80,'1반']\n",
    "print(df)"
   ]
  },
  {
   "cell_type": "code",
   "execution_count": 228,
   "metadata": {},
   "outputs": [
    {
     "name": "stdout",
     "output_type": "stream",
     "text": [
      "      국어  영어  수학 반번호\n",
      "name                \n",
      "둘리    90  99  90  1반\n",
      "또치    80  98  70  2반\n",
      "도우너   70  97  70  1반\n",
      "희동이   70  46  60  2반\n",
      "마이콜   80  80  80  1반\n"
     ]
    }
   ],
   "source": [
    "#3\n",
    "df = df.set_index('name')\n",
    "df.rename(columns={'kor':'국어', 'eng':'영어', 'mat':\"수학\", \"class\":\"반번호\"}, inplace=True)\n",
    "print(df)"
   ]
  },
  {
   "cell_type": "code",
   "execution_count": 229,
   "metadata": {},
   "outputs": [
    {
     "name": "stdout",
     "output_type": "stream",
     "text": [
      "       국어   영어   수학 반번호\n",
      "name                   \n",
      "둘리     90   99   90  1반\n",
      "또치     80   98   70  2반\n",
      "도우너    70   97   70  1반\n",
      "희동이    70   90   60  2반\n",
      "마이콜   100  100  100  1반\n"
     ]
    }
   ],
   "source": [
    "#4\n",
    "df.loc[['마이콜'],['국어','영어','수학']] = 100\n",
    "df.loc[['희동이'],['영어']] = 90\n",
    "print(df)"
   ]
  },
  {
   "cell_type": "code",
   "execution_count": 230,
   "metadata": {},
   "outputs": [
    {
     "name": "stdout",
     "output_type": "stream",
     "text": [
      "  name   국어   영어   수학 반번호\n",
      "0   둘리   90   99   90  1반\n",
      "1   또치   80   98   70  2반\n",
      "2  도우너   70   97   70  1반\n",
      "3  희동이   70   90   60  2반\n",
      "4  마이콜  100  100  100  1반\n",
      "    성명   국어   영어   수학 반번호\n",
      "0   둘리   90   99   90  1반\n",
      "1   또치   80   98   70  2반\n",
      "2  도우너   70   97   70  1반\n",
      "3  희동이   70   90   60  2반\n",
      "4  마이콜  100  100  100  1반\n"
     ]
    }
   ],
   "source": [
    "#5\n",
    "df = df.reset_index()\n",
    "print(df)\n",
    "df.rename(columns = {'name':\"성명\"},inplace=True)\n",
    "print(df)"
   ]
  },
  {
   "cell_type": "code",
   "execution_count": 231,
   "metadata": {},
   "outputs": [
    {
     "name": "stdout",
     "output_type": "stream",
     "text": [
      "    성명   국어   영어   수학 반번호\n",
      "4  마이콜  100  100  100  1반\n",
      "0   둘리   90   99   90  1반\n",
      "1   또치   80   98   70  2반\n",
      "2  도우너   70   97   70  1반\n",
      "3  희동이   70   90   60  2반\n",
      "    성명   국어   영어   수학 반번호\n",
      "3  희동이   70   90   60  2반\n",
      "2  도우너   70   97   70  1반\n",
      "1   또치   80   98   70  2반\n",
      "0   둘리   90   99   90  1반\n",
      "4  마이콜  100  100  100  1반\n"
     ]
    }
   ],
   "source": [
    "#6\n",
    "df2 = df\n",
    "df2 = df2.sort_values(by='국어', ascending=False)\n",
    "print(df2)\n",
    "print(df2.sort_values(by='영어'))"
   ]
  },
  {
   "cell_type": "code",
   "execution_count": 232,
   "metadata": {},
   "outputs": [
    {
     "name": "stdout",
     "output_type": "stream",
     "text": [
      "    성명   국어   영어   수학 반번호   총점\n",
      "4  마이콜  100  100  100  1반  300\n",
      "0   둘리   90   99   90  1반  279\n",
      "1   또치   80   98   70  2반  248\n",
      "2  도우너   70   97   70  1반  237\n",
      "3  희동이   70   90   60  2반  220\n"
     ]
    }
   ],
   "source": [
    "#7\n",
    "df2['총점'] = df.국어 + df.영어 + df.수학\n",
    "print(df2)"
   ]
  },
  {
   "cell_type": "code",
   "execution_count": 233,
   "metadata": {},
   "outputs": [
    {
     "name": "stdout",
     "output_type": "stream",
     "text": [
      "    성명   국어   영어   수학   총점\n",
      "4  마이콜  100  100  100  300\n",
      "0   둘리   90   99   90  279\n",
      "1   또치   80   98   70  248\n",
      "2  도우너   70   97   70  237\n",
      "3  희동이   70   90   60  220\n",
      "    성명   국어   영어   수학 반번호   총점\n",
      "4  마이콜  100  100  100  1반  300\n",
      "0   둘리   90   99   90  1반  279\n",
      "1   또치   80   98   70  2반  248\n",
      "2  도우너   70   97   70  1반  237\n",
      "3  희동이   70   90   60  2반  220\n"
     ]
    }
   ],
   "source": [
    "#8\n",
    "df3 = df2.drop('반번호', axis=1)\n",
    "print(df3)\n",
    "print(df2)\n",
    "\n"
   ]
  },
  {
   "cell_type": "code",
   "execution_count": 240,
   "metadata": {},
   "outputs": [
    {
     "name": "stdout",
     "output_type": "stream",
     "text": [
      "    성명  국어  영어  수학 반번호   총점\n",
      "0   둘리  90  99  90  1반  279\n",
      "1   또치  80  98  70  2반  248\n",
      "2  도우너  70  97  70  1반  237\n",
      "3  희동이  70  90  60  2반  220\n",
      "    성명   국어   영어   수학 반번호   총점\n",
      "4  마이콜  100  100  100  1반  300\n",
      "0   둘리   90   99   90  1반  279\n",
      "1   또치   80   98   70  2반  248\n",
      "2  도우너   70   97   70  1반  237\n",
      "3  희동이   70   90   60  2반  220\n"
     ]
    }
   ],
   "source": [
    "#9\n",
    "df4 = df2\n",
    "df4 = df4.transpose()\n",
    "df4 = df4.drop(4,axis = 1 )\n",
    "df4 = df4.transpose()\n",
    "print(df4)\n",
    "print(df2)\n"
   ]
  },
  {
   "cell_type": "code",
   "execution_count": 265,
   "metadata": {},
   "outputs": [
    {
     "name": "stdout",
     "output_type": "stream",
     "text": [
      "eng    140.0\n",
      "kor    360.0\n",
      "mat    160.0\n",
      "dtype: float64\n"
     ]
    }
   ],
   "source": [
    "#10\n",
    "data1 = {'kor':90, 'mat':80}\n",
    "data2 = {'kor':90, 'eng':70}\n",
    "data3 = {'kor':90, 'eng':70, 'mat':80}\n",
    "series1 = pd.Series( data1 )\n",
    "series2 = pd.Series( data2 )\n",
    "series3 = pd.Series( data3 )\n",
    "result = series1.add(series2 + series3,fill_value=0)\n",
    "result = result.add(series1,fill_value = 0 )\n",
    "print(result)\n"
   ]
  },
  {
   "cell_type": "code",
   "execution_count": 278,
   "metadata": {},
   "outputs": [
    {
     "name": "stdout",
     "output_type": "stream",
     "text": [
      "      X1    X2    X3  X4\n",
      "Y1   2.9   9.2  13.2   2\n",
      "Y2   2.4   8.7  11.5   3\n",
      "Y3   2.0   7.2  10.8   4\n",
      "Y4   2.3   8.5  12.3   3\n",
      "Y5   3.2   9.6  12.6   2\n",
      "Y6  10.0  20.0  30.0  40\n",
      "      X1    X2    X3  X4\n",
      "Y1  12.9  19.2  23.2  12\n",
      "Y2  12.4  18.7  21.5  13\n",
      "Y3  12.0  17.2  20.8  14\n",
      "Y4  12.3  18.5  22.3  13\n",
      "Y5  13.2  19.6  22.6  12\n",
      "Y6  20.0  30.0  40.0  50\n",
      "      X1    X2    X3  X4  total\n",
      "Y1  12.9  19.2  23.2  12   67.3\n",
      "Y2  12.4  18.7  21.5  13   65.6\n",
      "Y3  12.0  17.2  20.8  14   64.0\n",
      "Y4  12.3  18.5  22.3  13   66.1\n",
      "Y5  13.2  19.6  22.6  12   67.4\n",
      "Y6  20.0  30.0  40.0  50  140.0\n",
      "         Y1    Y2    Y3    Y4    Y5     Y6\n",
      "X1     12.9  12.4  12.0  12.3  13.2   20.0\n",
      "X2     19.2  18.7  17.2  18.5  19.6   30.0\n",
      "X3     23.2  21.5  20.8  22.3  22.6   40.0\n",
      "X4     12.0  13.0  14.0  13.0  12.0   50.0\n",
      "total  67.3  65.6  64.0  66.1  67.4  140.0\n"
     ]
    }
   ],
   "source": [
    "#11\n",
    "data = {\n",
    "    'X1':[2.9, 2.4, 2, 2.3, 3.2],\n",
    "    'X2':[9.2, 8.7, 7.2, 8.5, 9.6],\n",
    "    'X3':[13.2, 11.5, 10.8, 12.3, 12.6],\n",
    "    'X4':[2, 3, 4, 3, 2]\n",
    "} \n",
    "df = pd.DataFrame(data, index=['Y1','Y2','Y3', 'Y4', 'Y5'])\n",
    "df.loc['Y6'] = [10,20,30,40]\n",
    "print(df)\n",
    "df1= df +10\n",
    "print(df1)\n",
    "df1['total'] = df1['X1'] + df1['X2'] + df1['X3'] + df1['X4']\n",
    "df2 = df1\n",
    "print(df2)\n",
    "df3 = df2.transpose()\n",
    "#df3['Y6'] = [20,30,40,50,140] #맨 위에서 df3.loc['Y6']로, 처음부터 Y6를 만들어서 시작해야했음. 끝에만 y6가 있는게 아녓당 ㅎㅎ\n",
    "print(df3)"
   ]
  }
 ],
 "metadata": {
  "kernelspec": {
   "display_name": "pydatavenv",
   "language": "python",
   "name": "pydatavenv"
  },
  "language_info": {
   "codemirror_mode": {
    "name": "ipython",
    "version": 3
   },
   "file_extension": ".py",
   "mimetype": "text/x-python",
   "name": "python",
   "nbconvert_exporter": "python",
   "pygments_lexer": "ipython3",
   "version": "3.8.8"
  }
 },
 "nbformat": 4,
 "nbformat_minor": 4
}

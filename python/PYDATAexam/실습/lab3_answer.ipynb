{
 "cells": [
  {
   "cell_type": "code",
   "execution_count": null,
   "metadata": {},
   "outputs": [],
   "source": [
    "import requests\n",
    "from bs4 import BeautifulSoup\n",
    "\n",
    "req = requests.get('http://media.daum.net/ranking/popular/')\n",
    "req.encoding = 'utf-8'\n",
    "html = req.text\n",
    "#print(html)\n",
    "bs = BeautifulSoup(html, 'html.parser')\n",
    "\n",
    "titles = bs.select('ul.list_news2 > li > div.cont_thumb > strong > a')\n",
    "comnames = bs.select('div.cont_thumb > strong > span')\n",
    "\n",
    "newstitle = []\n",
    "newscomname = []\n",
    "\n",
    "for dom in titles :\n",
    "    newstitle.append(dom.text)\n",
    "    \n",
    "for dom in comnames :\n",
    "    newscomname.append(dom.text)\n",
    "\n",
    "with open('output/news1.csv', 'wt', encoding='utf-8') as f:\n",
    "    f.write('newstitle,newscomname\\n')\n",
    "    for i in range(len(newscomname)) :\n",
    "        f.write(newstitle[i]+','+newscomname[i]+'\\n')\n",
    "    \n"
   ]
  },
  {
   "cell_type": "code",
   "execution_count": null,
   "metadata": {},
   "outputs": [],
   "source": [
    "import requests\n",
    "from bs4 import BeautifulSoup\n",
    "import re\n",
    "\n",
    "req = requests.get('https://news.daum.net/ranking/popular') # 파이썬은 문자열 결합시 타입이 동일해야 함\n",
    "html = req.text\n",
    "#print(html)\n",
    "soup = BeautifulSoup(html, 'html.parser')\n",
    "\n",
    "title = soup.select('#mArticle > div.rank_news li strong > a')\n",
    "comname = soup.select('#mArticle > div.rank_news li strong > span')\n",
    "newstitle = []\n",
    "newscomname = []\n",
    "for dom in title:\n",
    "    dom=re.sub(\", \", '', dom.text)\n",
    "    newstitle.append(dom)\n",
    "    print(dom)\n",
    "for dom in comname:\n",
    "    newscomname.append(dom.string)\n",
    "    print(dom.string)\n",
    "\n",
    "with open('output/news2.csv', \"wt\", encoding=\"utf-8\") as f:\n",
    "    f.write('newstitle,newscomname\\n')  \n",
    "    for i in range(len(newstitle)):\n",
    "        f.write(newstitle[i]+\",\"+newscomname[i]+'\\n')"
   ]
  },
  {
   "cell_type": "code",
   "execution_count": null,
   "metadata": {},
   "outputs": [],
   "source": [
    "import requests\n",
    "from bs4 import BeautifulSoup\n",
    "import re\n",
    "req = requests.get('https://news.daum.net/ranking/popular/')\n",
    "html = req.text\n",
    "soup = BeautifulSoup(html, 'html.parser')\n",
    "newstitles = soup.select('div.cont_thumb > strong > a')\n",
    "newscomnames = soup.select('div.cont_thumb > strong > span')\n",
    "\n",
    "newstitle = []\n",
    "newscomname = []\n",
    "\n",
    "for dom in newstitles:\n",
    "    newstitle.append(dom.text)\n",
    "    \n",
    "for dom in newscomnames:\n",
    "    newscomname.append(dom.text)\n",
    "\n",
    "commentLength = len(newscomname)  \n",
    "   \n",
    "with open('output/news3.csv', \"wt\", encoding=\"utf-8\") as f:\n",
    "    f.write('newstitle,newscomname\\n')  \n",
    "    for i in range(commentLength):\n",
    "        f.write(newstitle[i]+\",\"+newscomname[i]+'\\n')"
   ]
  }
 ],
 "metadata": {
  "kernelspec": {
   "display_name": "pydatavenv",
   "language": "python",
   "name": "pydatavenv"
  },
  "language_info": {
   "codemirror_mode": {
    "name": "ipython",
    "version": 3
   },
   "file_extension": ".py",
   "mimetype": "text/x-python",
   "name": "python",
   "nbconvert_exporter": "python",
   "pygments_lexer": "ipython3",
   "version": "3.8.8"
  }
 },
 "nbformat": 4,
 "nbformat_minor": 4
}

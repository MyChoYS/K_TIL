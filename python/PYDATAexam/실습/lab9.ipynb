{
 "cells": [
  {
   "cell_type": "code",
   "execution_count": 171,
   "metadata": {},
   "outputs": [
    {
     "name": "stdout",
     "output_type": "stream",
     "text": [
      "<class 'pandas.core.series.Series'>\n",
      "0    10\n",
      "1    20\n",
      "2    30\n",
      "3    40\n",
      "4    50\n",
      "dtype: int64\n"
     ]
    }
   ],
   "source": [
    "import pandas as pd\n",
    "#1\n",
    "df1 = [10,20,30,40,50]\n",
    "df1 = pd.Series(df1)\n",
    "print(type(df1))\n",
    "print(df1)"
   ]
  },
  {
   "cell_type": "code",
   "execution_count": null,
   "metadata": {},
   "outputs": [],
   "source": [
    "#2\n",
    "df2 = [1,2,3,4,5]\n",
    "df2 = pd.Series(df2,index=(\"a\",\"b\",\"c\",\"d\",\"e\"))\n",
    "print(type(df2))\n",
    "print(df2)\n",
    "\n"
   ]
  },
  {
   "cell_type": "code",
   "execution_count": null,
   "metadata": {},
   "outputs": [],
   "source": [
    "#3\n",
    "df3 = {\"학생1 \": \"둘리\",\"학생2\":\"또치\",\"학생3\":\"도우너\",\"학생4\":\"희동이\",\"학생5\":\"마이콜\"}\n",
    "df3 = pd.Series(df3)\n",
    "print(type(df3))\n",
    "print(df3)"
   ]
  },
  {
   "cell_type": "code",
   "execution_count": null,
   "metadata": {},
   "outputs": [],
   "source": [
    "#4\n",
    "df4 = [\"둘리\",\"또치\",\"도우너\",\"희동이\",\"마이콜\"]\n",
    "df4 = pd.Series(df4,index = [\"학생1\",\"학생2\",\"학생3\",\"학생4\",\"학생5\"])\n",
    "\n",
    "print(type(df4))\n",
    "print(df4)\n",
    "print(df4['학생1'])\n",
    "print(df4[0])"
   ]
  },
  {
   "cell_type": "code",
   "execution_count": null,
   "metadata": {},
   "outputs": [],
   "source": [
    "#5\n",
    "blood = ['A형', 'B형', 'O형', 'AB형']\n",
    "st = [34.2, 27.1, 26.7, 11.5]\n",
    "sr = pd.Series(st, index=blood)\n",
    "print(\"[시리즈 sr 출력]\")\n",
    "print(sr)\n",
    "\n",
    "print(\"[시리즈 sr에서 인덱싱과 슬라이싱하여 출력(숫자인덱스 사용)]\")\n",
    "print(sr[0])\n",
    "print(sr[3])\n",
    "print(sr[2])\n",
    "print(sr[[1,2,3]])\n",
    "\n",
    "print(\"[시리즈 sr에서 인덱싱과 슬라이싱하여 출력(이름인덱스 사용)]\")\n",
    "print(sr[\"A형\"])\n",
    "print(sr[\"AB형\"])\n",
    "print(sr[\"O형\"])\n",
    "print(sr[[\"B형\",\"O형\",\"AB형\"]])\n",
    "\n",
    "print(\"[시리즈 sr의 크기 출력]\")\n",
    "print(len(sr))\n",
    "\n",
    "print(\"[시리즈 sr의 인덱스 출력]\")\n",
    "print(sr.index)\n",
    "\n",
    "print(\"[시리즈 sr의 데이터 값 출력]\")\n",
    "print(sr.values)"
   ]
  },
  {
   "cell_type": "code",
   "execution_count": null,
   "metadata": {},
   "outputs": [],
   "source": [
    "#6\n",
    "df6 =  {'name':[\"둘리\",\"또치\",\"도우너\",\"희동이\"], 'kor':[90,80,70,70], 'eng':[99,98,97,46], 'mat':[90,70,70,60]}\n",
    "df6 = pd.DataFrame(df6)\n",
    "\n",
    "print(\"타입 :\",type(df6))\n",
    "print(df6)"
   ]
  },
  {
   "cell_type": "code",
   "execution_count": null,
   "metadata": {},
   "outputs": [],
   "source": [
    "#7\n",
    "print(\"타입 :\",type(df6))\n",
    "df6.index = [\"학생1\",\"학생2\",\"학생3\",\"학생4\"]\n",
    "print(df6)"
   ]
  },
  {
   "cell_type": "code",
   "execution_count": null,
   "metadata": {},
   "outputs": [],
   "source": [
    "#8\n",
    "df6.index = [\"st1\",\"st2\",\"st3\",\"st4\"]\n",
    "df6.columns = [\"dooly\",\"doochi\",\"dounar\",\"heedong\"]\n",
    "print(df6)\n",
    "\n"
   ]
  },
  {
   "cell_type": "code",
   "execution_count": 170,
   "metadata": {},
   "outputs": [
    {
     "name": "stdout",
     "output_type": "stream",
     "text": [
      "RangeIndex(start=0, stop=7, step=1)\n",
      "Index(['name', 'kor', 'eng', 'mat'], dtype='object')\n",
      "  name  kor  eng  mat\n",
      "0  듀크1   90   99   90\n",
      "1  듀크2   80   98   70\n",
      "2  듀크3   70   97   70\n",
      "3  듀크4   70   46   60\n",
      "4  듀크5   60   77   88\n",
      "<bound method NDFrame.head of   name  kor  eng  mat\n",
      "0  듀크1   90   99   90\n",
      "1  듀크2   80   98   70\n",
      "2  듀크3   70   97   70\n",
      "3  듀크4   70   46   60\n",
      "4  듀크5   60   77   88\n",
      "5  듀크6   70   56   99\n",
      "6  듀크7   90   90   90>\n",
      "  name  kor  eng  mat\n",
      "2  듀크3   70   97   70\n",
      "3  듀크4   70   46   60\n",
      "4  듀크5   60   77   88\n",
      "5  듀크6   70   56   99\n",
      "6  듀크7   90   90   90\n",
      "<bound method NDFrame.tail of   name  kor  eng  mat\n",
      "0  듀크1   90   99   90\n",
      "1  듀크2   80   98   70\n",
      "2  듀크3   70   97   70\n",
      "3  듀크4   70   46   60\n",
      "4  듀크5   60   77   88\n",
      "5  듀크6   70   56   99\n",
      "6  듀크7   90   90   90>\n",
      "Index(['name', 'kor', 'eng', 'mat'], dtype='object')\n",
      "0    듀크1\n",
      "1    듀크2\n",
      "2    듀크3\n",
      "3    듀크4\n",
      "4    듀크5\n",
      "5    듀크6\n",
      "6    듀크7\n",
      "Name: name, dtype: object\n",
      "0    99\n",
      "1    98\n",
      "2    97\n",
      "3    46\n",
      "4    77\n",
      "5    56\n",
      "6    90\n",
      "Name: eng, dtype: int64\n",
      "   kor  mat\n",
      "0   90   90\n",
      "1   80   70\n",
      "2   70   70\n",
      "3   70   60\n",
      "4   60   88\n",
      "5   70   99\n",
      "6   90   90\n",
      "iloc 함수 사용 -----------\n",
      "name    듀크4\n",
      "kor      70\n",
      "eng      46\n",
      "mat      60\n",
      "Name: 3, dtype: object\n",
      "듀크1\n",
      "46\n",
      "   eng\n",
      "2   97\n",
      "3   46\n",
      "   eng  mat\n",
      "2   97   70\n",
      "3   46   60\n",
      "loc 함수 사용 -----------\n",
      "name    듀크4\n",
      "kor      70\n",
      "eng      46\n",
      "mat      60\n",
      "Name: 3, dtype: object\n",
      "듀크1\n",
      "46\n",
      "   eng\n",
      "2   97\n",
      "3   46\n",
      "   eng  mat\n",
      "2   97   70\n",
      "3   46   60\n"
     ]
    }
   ],
   "source": [
    "#9\n",
    "data = {\n",
    "    'name':['듀크1', '듀크2', '듀크3', '듀크4', '듀크5','듀크6', '듀크7'],\n",
    "    'kor':[90, 80, 70, 70, 60, 70, 90],\n",
    "    'eng':[99, 98, 97, 46, 77, 56, 90],\n",
    "    'mat':[90, 70, 70, 60, 88, 99, 90],\n",
    "}\n",
    "df = pd.DataFrame(data)    \n",
    "print(df.index)\n",
    "print(df.columns)\n",
    "print(df[0:5])\n",
    "print(df.head)\n",
    "print(df[2:7])\n",
    "print(df.tail)\n",
    "print(df.columns)\n",
    "print(df['name'])\n",
    "print(df['eng']) #print(df.eng)\n",
    "print(df[['kor','mat']])\n",
    "print(\"iloc 함수 사용 -----------\")\n",
    "print(df.iloc[3])\n",
    "print(df.iloc[0,0])\n",
    "print(df.iloc[3,2])\n",
    "print(df.iloc[2:4,2:3])\n",
    "print(df.iloc[2:4,2:4])\n",
    "print(\"loc 함수 사용 -----------\")\n",
    "print(df.loc[3])\n",
    "print(df.loc[0][0])\n",
    "print(df.loc[3][2])\n",
    "print(df.loc[[2,3],['eng']])\n",
    "print(df.loc[[2,3],['eng','mat']])"
   ]
  },
  {
   "cell_type": "code",
   "execution_count": null,
   "metadata": {},
   "outputs": [],
   "source": [
    "#10\n",
    "print(df.set_index('name'))"
   ]
  }
 ],
 "metadata": {
  "kernelspec": {
   "display_name": "pydatavenv",
   "language": "python",
   "name": "pydatavenv"
  },
  "language_info": {
   "codemirror_mode": {
    "name": "ipython",
    "version": 3
   },
   "file_extension": ".py",
   "mimetype": "text/x-python",
   "name": "python",
   "nbconvert_exporter": "python",
   "pygments_lexer": "ipython3",
   "version": "3.8.8"
  }
 },
 "nbformat": 4,
 "nbformat_minor": 4
}

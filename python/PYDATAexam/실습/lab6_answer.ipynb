{
 "cells": [
  {
   "cell_type": "code",
   "execution_count": null,
   "metadata": {},
   "outputs": [],
   "source": [
    "from selenium import webdriver\n",
    "import time\n",
    "url = 'https://hotel.naver.com/hotels/item?hotelId=hotel:Shilla_Stay_Yeoksam&destination_kor=%EC%8B%A0%EB%9D%BC%EC%8A%A4%ED%85%8C%EC%9D%B4%20%EC%97%AD%EC%82%BC&rooms=2'\n",
    "driver = webdriver.Chrome('C:/Temp/chromedriver')\n",
    "driver.get(url)\n",
    "review_list=[]\n",
    "time.sleep(5)\n",
    "trip = driver.find_element_by_css_selector('div.hotel_used_review.ng-isolate-scope > ul > li.ng-scope.item_ta > a')\n",
    "trip.click()\n",
    "time.sleep(3)\n",
    "while True:\n",
    "    more = driver.find_elements_by_css_selector('.txt.ng-binding.ellips')\n",
    "    for i in more:\n",
    "        i.click()\n",
    "        time.sleep(1)\n",
    "    review = driver.find_elements_by_css_selector('div.hotel_used_review.ng-isolate-scope > div.review_ta.ng-scope > ul > li > div.review_desc > p')\n",
    "    for i in review:\n",
    "        review_list.append(i.text)\n",
    "    islast = driver.find_elements_by_css_selector('div.review_ta.ng-scope > div.paginate > a.direction.next.disabled')\n",
    "    if not len(islast)==0:\n",
    "        break\n",
    "    else:\n",
    "        next = driver.find_element_by_css_selector('div.review_ta.ng-scope > div.paginate > a.direction.next')\n",
    "        next.click()\n",
    "        time.sleep(2)\n",
    "for i in review_list:\n",
    "    print(i)\n",
    "f = open(\"output/naverhotel.txt\",\"w\", encoding=\"utf-8\") \n",
    "f.write('\\n'.join(review_list)) \n",
    "f.close()"
   ]
  },
  {
   "cell_type": "code",
   "execution_count": 13,
   "metadata": {},
   "outputs": [
    {
     "name": "stdout",
     "output_type": "stream",
     "text": [
      "['며칠전 예약 후 오늘 점심뷔페 잘 먹고 왔습니다. 인테리어도 상당히 깔끔하고 북적거리는것 없이 편안히 잘 먹고 왔습니다. 코로나 때문에 손님들 많으면 어쩌지 했는데 많지도 적지도 않게 아주 좋은 분위기였구요. 무엇보다 남자직원 (검은정장에 넥타이 하시고 안경끼신분) 테이블 치울때 꼭 “실례하겠습니다”라는 멘트 그리고 계산할때도 인사말투도 아주 공손해서 이름좀 볼까 했는데 못봤네요. 직원하고 몇마디 나눠보면 친절하고 호텔리어다 느낌드는데 딱 이분이네요. 다음엔 객실도 한번 투숙 해보고 싶네요. 힘든 코로나시기지만 모두 화이팅 하세요^^', '직원들이 일단 너무 친절합니다. 오픈한지 오래 되었다지만 깔끔하게 유지중인듯합니다.자주 방문하고 가성비 좋은 호텔입니다', '직원들이 일단 너무 친절합니다. 오픈한지 오래 되었다지만 깔끔하게 유지중인듯합니다.자주 방문하고 가성비 좋은 호텔���니다', '늦은 시간 체크인 하게 되었는데 날짜를 착각해 워크인으로 들어갔으나 상황 설명을 하니 취소 도와주셔서 감사했습니다.객실은 안락하고 굉장히 좋았습니다.', '교육차 서울 출장을 왔다가 늦은 시간 예약과 체크아웃 했습니다.핸드폰 충전기를 가져오지 않아서 곤란했었는데 프론트 데스크에서 대여받을 수 있었습니다. 문의사항이나 요청사항도 친절히 응대해 주셨고, 마침 객실에 여유가 있다고 요청하지 않은 객실 업그레이드도 해주었습니다.아쉽게도 점심뷔페는 예약제로 진행하고 있어서 만석이라 이용하지 못했지만, 인원을 제한하고 명단을 작성하는 것도 믿음이 갔습니다.객실은 깨끗하고 조용했습니다.다음번에도 이용할 생각이 있고, 주변에도 추천합니다.', '위치나쁘지않고룸컨디션도괜찮다고생각햇는데,, 침대밑에먼지가득에앞투숙객이잊고간짐들도보이고..실망스러워요ㅜ', '주차장이 넓고 객실이 깨끗합니다. 주변에 음식점들이 많고 편의시설이 많습니다. 프론트 데스크 직원도 문의사항이나 요청사항에 대해 친절하게 처리해 주었습니다.', '1박 했습니다.강남 부근에서 숙박하기 좋은 호텔입니다.가성비 갑.방 깨끗하고 딱 필요한 것들 다있어요.샤워박스 욕조 두 타입중 하나 선택해야 합니다.', '객실이 너무깨끗하고 직원분들 서비스가 친절해서 좋았어요!다음에 또 방문하려구요~~어메니티도 아베다여서 너무 맘에들어요 ㅎㅎ', '문의전화도 다 친절하게 받아주시고, 고객이 요구하는 커스텀들을 너무 친절하게 응대해주셔서 너무 즐거운 시간 보냈습니다.', '침구도좋구 직원들도 너무 친절해서 잘쉬다 갑니다~~다음에 또 방문의사 천프로입니당~다들수고하시고~~코로나.조심하세요~~', '매번 서울출장 올때마다 들리는데위치도좋고 깔끔해서 좋네요다들 친절하시고 조식메뉴도 너무 맛있습니다추천해드려요', '깨끗하고 직원분들도 친절해서 좋았습니다역삼역과 접근성도 좋고, 강남, 삼성으로 이동도 용이합니다. 벨보이인형 및 로비가 인상적입니다', '서울 강남 한복판에서 조용히 잘 쉬었네요.연식은 조금 느껴지지만군더더기 없이 깔끔합니다어메니티가 아베다인 것도 좋았습니다', '도심에 위치하여 교통 편하고주변에 편의시설이 잘 되어 있습니다내부는 깔끔하고 전망이 좋네요프론트 직원들이 친절합니다', '서울에 출장 올때마다 늘 들립니다.깨끗함은 물론이고 익숙하고 편안한 느낌 덕분에 자주 오는것 같네요.오늘도 잘 쉬다 갑니다~', '너무 편하고 깨끗해요 직원분들도 친절하시고 신라스테이 처음 와봤는데 호텔갈일있으면 여기 올거같아요 다음에 꼭 재방문하겠습니다!', '방도 너무 깔끔하고 뷰도 이쁘고 일회용품도 위생적으로 구비되어있어서 좋아요 다음에 또 방문할거 같아요 역삼호텔은 신라스테이♥️', '매번 서울 올때마다 들리는 곳인데요 직원분들도 친절하시구 일단 조용하고 깨끗하구요 침대도 편해서 매번 꿀잠자네요 매번 잘쉬다갑니다', '입구부터 안전하다 느껴질 정도의 체온체크 및 신상조사. 룸상태 좋구요, 비즈니스 호텔 이상인거 같은 정도입니다. 직원분들 친절하시고, 대응도 좋습니다.', '가격도 착하고 방 상태도 깔끔하고 무엇보다 브랜드에서 주는 신뢰도가 가장 큽니다. 위치도 너무 좋고 다음에도 이용하고 싶네요', '가격대비 너무 좋습니다~ 일단 내부가 너무 깔끔 하네요 ㅎㅎ프론트 직원분들도 친절 하구요 ㅎ위치도 멀지 않은 곳에 있어서 너무 좋았어요', '연박 편히 잘 이용했습니다.룸컨디션, 시설, 위치 다 만족스럽고 직원분도 친절하셨어요.가족여행 와서 좋은 추억 많이 만들고 갑니다^^', '룸컨디션은 물론 여러모로 깨끗하고 편해서편하게 잘 쉬다 왔어요직원님들도 무지 친절하셨습니다 감사합니다', '2박 묵는 동안 편하게 잘 지냈습니다.무엇보다 조용하고 교통이 편리하였습니다.직원들도 친절하고 청소상태도 청결하였습니다.어매니티로 제공하는 제품도 맘에 들어요', '2박 묵는 동안 편하게 잘 지냈습니다.무엇보다 조용하고 교통이 편리하였습니다.직원들도 친절��고 청소상태도 청결하였습니다.어매니티로 제공하는 제품도 맘에 들어요', '객실 및 호텔 시설 깨끗하고 좋아요!문의전화 상담도 잘해주시고 직원분들 모두 친절해요!가격도 적정해서 호캉스로 이용하기 좋아요!', '생각보다 일찍 도착했는데 직원분들이 엄청 친절하시고 얼리체크인 안내도 잘해주셨습니다.방은 생각했던것처럼 깔끔하고 좋네요.다음에도 근처로 출장오게 되면 또 머물 예정이에요~', '편안하고 쾌적하게 머물다 갑니다 늘 애용하는 곳이예요-이만한 가격에 이만한 퀄리티 다른곳엔 없습니다 최고!! 도로가 바로 옆에 있어 아주 약간의 도시 소음 있습니다 그러나 크게 거슬리지 않아요', '건물 시설두 깨끗하구 방 침대가 편해서 좋았습니다 엄마도 편하게 잘 지내고 가셨다고 하네요^^~ 나중에 재방문 의사 있습니다', '편안하고 쾌적하게 머물다 갑니다 늘 애용하는 곳이예요-이만한 가격에 이만한 퀄리티 다른곳엔 ��습니다 최고!! 도로가 바로 옆에 있어 아주 약간의 도시 소음 있습니다 그러나 크게 거슬리지 않아요', '방이 깨끗하고 식사가 맛납니다. 주변에 식당이 많아서 즐길거리도 많고. 주차 서비스도 좋네요. 가격도 강남 대비 착해서 가성비도 좋습니다.', '방이 깨끗하고 식���가 맛납니다. 주변에 식당이 많아서 즐길거리도 많고. 주차 서비스도 좋네요. 가격도 강남 대비 착해서 가성비도 좋습니다.', '체크인 시간보다 조금 일찍 도착했는데 준비 되어있는 객실이 있어서 얼리 체크인 해주셨습니다.1층에 편의점이 있어서 편하게 이용할 수 있었습니다', '주말에 1박 묵었는데 쾌척하고 좋았습니다.강남권 비즈니스 호텔 몇군데 묵었는데규모노 크고 다 만족했네요. 룸에 창문이 없으면 좀 답답했는데 환기도 되고 열리는걸 좋아하는 저는 그점도 좋았구요. 아베다 어메니티도 괜찮았고 룸도답답하지 않은 사이즈에 잘묵었습니다. 조식도 맛있어요', '룸이 전반적으로 깨끗하고 어메니티가 아베다여서 좋습니다주차하기 편해서 자주 올 거 같아요가성비 호텔이예요 추천합니다', '하루밤 묵었지만 깨끗한 시설과 친절한 스태프분들이 좋았고 레잇 첵아웃도 넉넉하고 다음에도 다시 오면 좋을것 같습니다', '전에도 방문하고 또 재방문해요 강남 지리 잘 모르시는분들은 강추합니다 위치는 어딜가나 항상 좋아요 강남 신세계까지는 택시타면 금방이지만 걸어가면 50분 이상은 걸리지만 모든걸 다 하기에는 위치가 가장 좋고 방도 깔끔하고 1층에 사설 카페나 음식점 편의점 다 있어서 편리합니다 ^^ 재방문 할거에요~ 헬스도 무난합니다', '교통도 편리하고 내부도 깔끔해서 좋아요!1층에 바로 카페, 편의점 다 있어서 편했어요..앞으로 자주 이용할것같아요잘 놀다 갑니다 ㅎㅎㅎ', '남자친구랑 화이트데이 기념으로~~신라스테이 역삼에서 보냈는데 직원분들고 친절하시고호텔 석식도 너무 맛있고 좋았습니다!']\n"
     ]
    }
   ],
   "source": [
    "from selenium import webdriver\n",
    "from selenium.webdriver.common.keys import Keys\n",
    "import time\n",
    "\n",
    "driver = webdriver.Chrome('C:/Temp/chromedriver')\n",
    "driver.get('https://hotel.naver.com/hotels/item?hotelId=hotel:Shilla_Stay_Yeoksam&destination_kor=%EC%8B%A0%EB%9D%BC%EC%8A%A4%ED%85%8C%EC%9D%B4%20%EC%97%AD%EC%82%BC&rooms=2')\n",
    "\n",
    "time.sleep(5)\n",
    "\n",
    "tripadv = driver.find_element_by_css_selector('div.hotel_used_review.ng-isolate-scope > ul > li.ng-scope.item_ta > a')\n",
    "tripadv.click()\n",
    "\n",
    "time.sleep(1)\n",
    "texts = []\n",
    "\n",
    "\n",
    "while True:\n",
    "    mores = driver.find_elements_by_css_selector('div.review_desc > p > span')\n",
    "    for more in mores:\n",
    "        try:\n",
    "            more.click()\n",
    "            time.sleep(1)\n",
    "        except:\n",
    "            count = 1\n",
    "    reps = driver.find_elements_by_css_selector('div.review_desc > p')\n",
    "    for rep in reps:\n",
    "        texts.append(rep.text)\n",
    "    try :\n",
    "        driver.find_element_by_css_selector('div.review_ta.ng-scope > div.paginate > a.direction.next.disabled')\n",
    "    except :\n",
    "        nextpg = driver.find_element_by_css_selector('div.review_ta.ng-scope > div.paginate > a.direction.next')\n",
    "        nextpg.click()\n",
    "        time.sleep(2)\n",
    "        continue\n",
    "    break\n",
    "\n",
    "print(texts)"
   ]
  },
  {
   "cell_type": "code",
   "execution_count": null,
   "metadata": {},
   "outputs": [],
   "source": [
    "len(texts)"
   ]
  }
 ],
 "metadata": {
  "kernelspec": {
   "display_name": "pydatavenv",
   "language": "python",
   "name": "pydatavenv"
  },
  "language_info": {
   "codemirror_mode": {
    "name": "ipython",
    "version": 3
   },
   "file_extension": ".py",
   "mimetype": "text/x-python",
   "name": "python",
   "nbconvert_exporter": "python",
   "pygments_lexer": "ipython3",
   "version": "3.8.8"
  }
 },
 "nbformat": 4,
 "nbformat_minor": 4
}

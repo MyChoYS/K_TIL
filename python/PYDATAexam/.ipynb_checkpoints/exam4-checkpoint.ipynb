{
 "cells": [
  {
   "cell_type": "code",
   "execution_count": 1,
   "metadata": {},
   "outputs": [
    {
     "name": "stdout",
     "output_type": "stream",
     "text": [
      "pandas version:  1.2.3\n"
     ]
    }
   ],
   "source": [
    "# pandas 불러오기 \n",
    "import pandas as pd\n",
    "print(\"pandas version: \", pd.__version__)"
   ]
  },
  {
   "cell_type": "code",
   "execution_count": 3,
   "metadata": {},
   "outputs": [
    {
     "name": "stdout",
     "output_type": "stream",
     "text": [
      "<class 'pandas.core.series.Series'>\n",
      "\n",
      "\n",
      "a    1\n",
      "b    2\n",
      "c    3\n",
      "dtype: int64\n"
     ]
    }
   ],
   "source": [
    "# 예제 1-1\n",
    "# pandas 불러오기 \n",
    "import pandas as pd\n",
    "\n",
    "# k:v 구조를 갖는 딕셔너리를 만들고, 변수 dict_data에 저장\n",
    "dict_data = {'a': 1, 'b': 2, 'c': 3}\n",
    "\n",
    "# 판다스 Series() 함수로 딕셔너리(dict_data)를 시리즈로 변환. 변수 sr에 저장 \n",
    "sr = pd.Series(dict_data)\n",
    "\n",
    "# 변수 sr의 자료형 출력\n",
    "print(type(sr))\n",
    "print('\\n')\n",
    "\n",
    "# 변수 sr에 저장되어 있는 시리즈 객체를 출력\n",
    "print(sr)"
   ]
  },
  {
   "cell_type": "code",
   "execution_count": 4,
   "metadata": {},
   "outputs": [
    {
     "name": "stdout",
     "output_type": "stream",
     "text": [
      "Index(['a', 'b', 'c'], dtype='object')\n",
      "\n",
      "\n",
      "[1 2 3]\n"
     ]
    }
   ],
   "source": [
    "# 인덱스 배열은 변수 idx에 저장. 데이터 값 배열은 변수 val에 저장\n",
    "idx = sr.index\n",
    "val = sr.values\n",
    "print(idx)\n",
    "print('\\n')\n",
    "print(val)"
   ]
  },
  {
   "cell_type": "code",
   "execution_count": 5,
   "metadata": {},
   "outputs": [
    {
     "name": "stdout",
     "output_type": "stream",
     "text": [
      "0    2019-01-02\n",
      "1          3.14\n",
      "2           ABC\n",
      "3           100\n",
      "4          True\n",
      "dtype: object\n",
      "\n",
      "\n"
     ]
    }
   ],
   "source": [
    "# 예제 1-2\n",
    "# 리스트를 시리즈로 변환하여 변수 sr에 저장\n",
    "list_data = ['2019-01-02', 3.14, 'ABC', 100, True]\n",
    "sr = pd.Series(list_data)\n",
    "print(sr)\n",
    "print('\\n')"
   ]
  },
  {
   "cell_type": "code",
   "execution_count": 6,
   "metadata": {},
   "outputs": [
    {
     "name": "stdout",
     "output_type": "stream",
     "text": [
      "RangeIndex(start=0, stop=5, step=1)\n",
      "\n",
      "\n",
      "['2019-01-02' 3.14 'ABC' 100 True]\n"
     ]
    }
   ],
   "source": [
    "# 인덱스 배열은 변수 idx에 저장. 데이터 값 배열은 변수 val에 저장\n",
    "idx = sr.index\n",
    "val = sr.values\n",
    "print(idx)\n",
    "print('\\n')\n",
    "print(val)"
   ]
  },
  {
   "cell_type": "code",
   "execution_count": 8,
   "metadata": {},
   "outputs": [
    {
     "name": "stdout",
     "output_type": "stream",
     "text": [
      "0    1\n",
      "1    2\n",
      "2    3\n",
      "dtype: int64\n",
      "0    1\n",
      "1    2\n",
      "2    3\n",
      "dtype: object\n",
      "0     True\n",
      "1    False\n",
      "2     True\n",
      "dtype: bool\n",
      "0    1.0\n",
      "1    2.0\n",
      "2    3.0\n",
      "dtype: float64\n",
      "0    1.0000\n",
      "1    2.0000\n",
      "2    3.0001\n",
      "dtype: float64\n",
      "0    1.0\n",
      "1    100\n",
      "2      가\n",
      "dtype: object\n",
      "0    10\n",
      "1    12\n",
      "2    14\n",
      "3    16\n",
      "4    18\n",
      "dtype: int64\n",
      "<class 'pandas.core.series.Series'> <class 'pandas.core.series.Series'> <class 'pandas.core.series.Series'> <class 'pandas.core.series.Series'> <class 'pandas.core.series.Series'> <class 'pandas.core.series.Series'>\n",
      "<class 'float'> <class 'int'> <class 'str'>\n",
      "가\n",
      "0    101\n",
      "1    102\n",
      "2    103\n",
      "dtype: int64\n",
      "0    10\n",
      "1    20\n",
      "2    30\n",
      "dtype: int64\n"
     ]
    }
   ],
   "source": [
    "s1 = pd.Series([1,2,3])\n",
    "s2 = pd.Series(['1','2','3'])\n",
    "s3 = pd.Series([True, False, True])\n",
    "s4 = pd.Series([1.0,2.0,3.0])\n",
    "s5 = pd.Series([1.0,2.0,3.0001])\n",
    "s6 = pd.Series([1.0,100, '가'])\n",
    "s7 = pd.Series(range(10,20,2))\n",
    "\n",
    "print(s1)\n",
    "print(s2)\n",
    "print(s3)\n",
    "print(s4)\n",
    "print(s5)\n",
    "print(s6)\n",
    "print(s7)\n",
    "print(type(s1), type(s2),type(s3),type(s4),type(s5), type(s6))\n",
    "print(type(s6[0]),type(s6[1]),type(s6[2]))\n",
    "print(s6[2])\n",
    "print(s1 + 100)\n",
    "print(s1 * 10)"
   ]
  },
  {
   "cell_type": "code",
   "execution_count": 9,
   "metadata": {},
   "outputs": [
    {
     "name": "stdout",
     "output_type": "stream",
     "text": [
      "이름              영인\n",
      "생년월일    2010-05-01\n",
      "성별               여\n",
      "학생여부          True\n",
      "dtype: object\n",
      "\n",
      "\n"
     ]
    }
   ],
   "source": [
    "# 예제 1-3\n",
    "import pandas as pd\n",
    "\n",
    "# 투플을 시리즈로 변환(index 옵션에 인덱스 이름을 지정)\n",
    "tup_data = ('영인', '2010-05-01', '여', True)\n",
    "sr = pd.Series(tup_data, index=['이름', '생년월일', '성별', '학생여부'])\n",
    "print(sr)\n",
    "print('\\n')\n"
   ]
  },
  {
   "cell_type": "code",
   "execution_count": 10,
   "metadata": {},
   "outputs": [
    {
     "name": "stdout",
     "output_type": "stream",
     "text": [
      "영인\n",
      "영인\n",
      "\n",
      "\n"
     ]
    }
   ],
   "source": [
    "# 원소를 1개 선택\n",
    "print(sr[0])       # sr의 1 번째 원소를 선택 (정수형 위치 인덱스를 활용)\n",
    "print(sr['이름'])  # '이름' 라벨을 가진 원소를 선택 (인덱스 이름을 활용)\n",
    "print('\\n')"
   ]
  },
  {
   "cell_type": "code",
   "execution_count": 11,
   "metadata": {},
   "outputs": [
    {
     "name": "stdout",
     "output_type": "stream",
     "text": [
      "생년월일    2010-05-01\n",
      "성별               여\n",
      "dtype: object\n",
      "\n",
      "\n",
      "생년월일    2010-05-01\n",
      "성별               여\n",
      "dtype: object\n",
      "\n",
      "\n"
     ]
    }
   ],
   "source": [
    "# 여러 개의 원소를 선택 (인덱스 리스트 활용)\n",
    "print(sr[[1, 2]]) \n",
    "print('\\n')           \n",
    "print(sr[['생년월일', '성별']])\n",
    "print('\\n')"
   ]
  },
  {
   "cell_type": "code",
   "execution_count": 12,
   "metadata": {},
   "outputs": [
    {
     "name": "stdout",
     "output_type": "stream",
     "text": [
      "생년월일    2010-05-01\n",
      "dtype: object\n",
      "\n",
      "\n",
      "생년월일    2010-05-01\n",
      "성별               여\n",
      "dtype: object\n"
     ]
    }
   ],
   "source": [
    "# 여러 개의 원소를 선택 (인덱스 범위 지정)\n",
    "print(sr[1 : 2])  \n",
    "print('\\n')              \n",
    "print(sr['생년월일' : '성별'])"
   ]
  },
  {
   "cell_type": "code",
   "execution_count": null,
   "metadata": {},
   "outputs": [],
   "source": [
    "# 예제 1-4\n",
    "import pandas as pd\n",
    "\n",
    "# 열이름을 key로 하고, 리스트를 value로 갖는 딕셔너리 정의(2차원 배열)\n",
    "dict_data = {'c0':[1,2,3], 'c1':[4,5,6], 'c2':[7,8,9], 'c3':[10,11,12], 'c4':[13,14,15]}\n",
    "\n",
    "# 판다스 DataFrame() 함수로 딕셔너리를 데이터프레임으로 변환. 변수 df에 저장. \n",
    "df = pd.DataFrame(dict_data)\n",
    "\n",
    "# df의 자료형 출력\n",
    "print(type(df)) \n",
    "print('\\n')\n",
    "# 변수 df에 저장되어 있는 데이터프레임 객체를 출력\n",
    "print(df)\n",
    "print(df.columns)"
   ]
  },
  {
   "cell_type": "code",
   "execution_count": null,
   "metadata": {},
   "outputs": [],
   "source": [
    "# 예제 1-5\n",
    "import pandas as pd\n",
    "\n",
    "# 행 인덱스/열 이름 지정하여, 데이터프레임 만들기\n",
    "df = pd.DataFrame([[15, '남', '덕영중'], [17, '여', '수리중']], \n",
    "                   index=['준서', '예은'],\n",
    "                   columns=['나이', '성별', '학교'])\n",
    "\n",
    "# 행 인덱스, 열 이름 확인하기\n",
    "print(df)            #데이터프레임\n",
    "print('\\n')\n",
    "print(df.index)      #행 인덱스\n",
    "print('\\n')\n",
    "print(df.columns)    #열 이름\n",
    "print('\\n')"
   ]
  },
  {
   "cell_type": "code",
   "execution_count": null,
   "metadata": {},
   "outputs": [],
   "source": [
    "# 행 인덱스, 열 이름 변경하기\n",
    "df.index=['학생1', '학생2']\n",
    "df.columns=['연령', '남녀', '소속']\n",
    "\n",
    "print(df)            #데이터프레임\n",
    "print('\\n')\n",
    "print(df.index)      #행 인덱스\n",
    "print('\\n')\n",
    "print(df.columns)    #열 이름"
   ]
  },
  {
   "cell_type": "code",
   "execution_count": null,
   "metadata": {},
   "outputs": [],
   "source": [
    "# 예제 1-6\n",
    "import pandas as pd\n",
    "\n",
    "# 행 인덱스/열 이름 지정하여, 데이터프레임 만들기\n",
    "df = pd.DataFrame([[15, '남', '덕영중'], [17, '여', '수리중']], \n",
    "                   index=['준서', '예은'],\n",
    "                   columns=['나이', '성별', '학교'])\n",
    "\n",
    "# 데이터프레임 df 출력\n",
    "print(df)\n",
    "print(\"\\n\")\n",
    "\n",
    "# 열 이름 중, '나이'를 '연령'으로, '성별'을 '남녀'로, '학교'를 '소속'으로 바꾸기 #이거는 원하는 하나만 바꿀 수 있다. 위에 것은 모두 적어서 변경해야한다.!\n",
    "a=df.rename(columns={'나이':'연령', '성별':'남녀', '학교':'소속'}, inplace=True) ###inplace를 T로 하지 않으면, 실제 반영되지 않는다.\n",
    "\n",
    "# df의 행 인덱스 중에서, '준서'를 '학생1'로, '예은'을 '학생2'로 바꾸기\n",
    "df.rename(index={'준서':'학생1', '예은':'학생2' }, inplace=True)\n",
    "\n",
    "# df 출력(변경 후)\n",
    "print(df)\n",
    "print(a)"
   ]
  },
  {
   "cell_type": "code",
   "execution_count": 2,
   "metadata": {},
   "outputs": [
    {
     "name": "stdout",
     "output_type": "stream",
     "text": [
      "    수학  영어   음악   체육\n",
      "서준  90  98   85  100\n",
      "우현  80  89   95   90\n",
      "인아  70  95  100   90\n",
      "\n",
      "\n",
      "    수학  영어   음악   체육\n",
      "서준  90  98   85  100\n",
      "인아  70  95  100   90\n",
      "\n",
      "\n",
      "    수학  영어  음악   체육\n",
      "서준  90  98  85  100\n"
     ]
    }
   ],
   "source": [
    "# 예제 1-7\n",
    "import pandas as pd\n",
    "\n",
    "# DataFrame() 함수로 데이터프레임 변환. 변수 df에 저장 \n",
    "exam_data = {'수학' : [ 90, 80, 70], '영어' : [ 98, 89, 95],\n",
    "             '음악' : [ 85, 95, 100], '체육' : [ 100, 90, 90]}\n",
    "\n",
    "df = pd.DataFrame(exam_data, index=['서준', '우현', '인아'])\n",
    "print(df)\n",
    "print('\\n')\n",
    "\n",
    "# 데이터프레임 df를 복제하여 변수 df2에 저장. df2의 1개 행(row)을 삭제 !!\n",
    "df2 = df.copy()\n",
    "df2.drop('우현', inplace=True)\n",
    "print(df2)\n",
    "print('\\n')\n",
    "\n",
    "# 데이터프레임 df를 복제하여 변수 df3에 저장. df3의 2개 행(row)을 삭제\n",
    "df3 = df.copy()\n",
    "df3.drop(['우현', '인아'], axis=0, inplace=True) \n",
    "print(df3)"
   ]
  },
  {
   "cell_type": "code",
   "execution_count": null,
   "metadata": {},
   "outputs": [],
   "source": [
    "# 예제 1-8\n",
    "import pandas as pd\n",
    "\n",
    "# DataFrame() 함수로 데이터프레임 변환. 변수 df에 저장 \n",
    "exam_data = {'수학' : [ 90, 80, 70], '영어' : [ 98, 89, 95],\n",
    "             '음악' : [ 85, 95, 100], '체육' : [ 100, 90, 90]}\n",
    "\n",
    "df = pd.DataFrame(exam_data, index=['서준', '우현', '인아'])\n",
    "print(df)\n",
    "print('\\n')\n",
    "\n",
    "# 데이터프레임 df를 복제하여 변수 df4에 저장. df4의 1개 열(column)을 삭제\n",
    "df4 = df.copy()\n",
    "df4.drop('수학', axis=1, inplace=True)\n",
    "print(df4)\n",
    "print('\\n')\n",
    "\n",
    "# 데이터프레임 df를 복제하여 변수 df5에 저장. df5의 2개 열(column)을 삭제\n",
    "df5 = df.copy()\n",
    "df5.drop(['영어', '음악'], axis=1, inplace=True)\n",
    "print(df5)"
   ]
  },
  {
   "cell_type": "code",
   "execution_count": null,
   "metadata": {},
   "outputs": [],
   "source": [
    "# 예제 1-9\n",
    "import pandas as pd\n",
    "\n",
    "# DataFrame() 함수로 데이터프레임 변환. 변수 df에 저장 \n",
    "exam_data = {'수학' : [ 90, 80, 70], '영어' : [ 98, 89, 95],\n",
    "             '음악' : [ 85, 95, 100], '체육' : [ 100, 90, 90]}\n",
    "\n",
    "df = pd.DataFrame(exam_data, index=['서준', '우현', '인아'])\n",
    "print(df)       # 데이터프레임 출력\n",
    "print('\\n')\n",
    "\n",
    "# 행 인덱스를 사용하여 행 1개를 선택  ##행선택\n",
    "label1 = df.loc['서준']    # loc 인덱서 활용\n",
    "position1 = df.iloc[0]     # iloc 인덱서 활용\n",
    "print(label1)\n",
    "print('\\n')\n",
    "print(position1)\n",
    "print('\\n')"
   ]
  },
  {
   "cell_type": "code",
   "execution_count": null,
   "metadata": {},
   "outputs": [],
   "source": [
    "# 행 인덱스를 사용하여 2개 이상의 행 선택\n",
    "label2 = df.loc[['서준', '우현']]\n",
    "position2 = df.iloc[[0, 1]]\n",
    "print(label2)\n",
    "print('\\n')\n",
    "print(position2)\n",
    "print('\\n')"
   ]
  },
  {
   "cell_type": "code",
   "execution_count": null,
   "metadata": {},
   "outputs": [],
   "source": [
    "# 행 인덱스의 범위를 지정하여 행 선택\n",
    "label3 = df.loc['서준':'우현']\n",
    "position3 = df.iloc[0:1]\n",
    "print(label3)\n",
    "print('\\n')\n",
    "print(position3)"
   ]
  },
  {
   "cell_type": "code",
   "execution_count": null,
   "metadata": {},
   "outputs": [],
   "source": [
    "# 예제 1-10\n",
    "import pandas as pd\n",
    "\n",
    "# DataFrame() 함수로 데이터프레임 변환. 변수 df에 저장 \n",
    "exam_data = {'이름' : [ '서준', '우현', '인아'],\n",
    "             '수학' : [ 90, 80, 70],\n",
    "             '영어' : [ 98, 89, 95],\n",
    "             '음악' : [ 85, 95, 100],\n",
    "             '체육' : [ 100, 90, 90]}\n",
    "df = pd.DataFrame(exam_data)\n",
    "print(df)\n",
    "print(type(df))\n",
    "print('\\n')\n",
    "\n",
    "# '수학' 점수 데이터만 선택. 변수 math1에 저장\n",
    "math1 = df['수학']\n",
    "print(math1)\n",
    "print(type(math1))\n",
    "print('\\n')\n",
    "\n",
    "# '영어' 점수 데이터만 선택. 변수 english에 저장\n",
    "english = df.영어\n",
    "print(english)\n",
    "print(type(english))\n",
    "print('\\n')"
   ]
  },
  {
   "cell_type": "code",
   "execution_count": null,
   "metadata": {},
   "outputs": [],
   "source": [
    "# '음악', '체육' 점수 데이터를 선택. 변수 music_gym 에 저장\n",
    "music_gym = df[['음악', '체육']]\n",
    "print(music_gym)\n",
    "print(type(music_gym))\n",
    "print('\\n')\n",
    "\n",
    "# '수학' 점수 데이터만 선택. 변수 math2에 저장\n",
    "math2 = df[['수학']]\n",
    "print(math2)\n",
    "print(type(math2))"
   ]
  },
  {
   "cell_type": "code",
   "execution_count": null,
   "metadata": {},
   "outputs": [],
   "source": [
    "print(df.iloc[::2])"
   ]
  },
  {
   "cell_type": "code",
   "execution_count": null,
   "metadata": {},
   "outputs": [],
   "source": [
    "print(df.iloc[:3:2])"
   ]
  },
  {
   "cell_type": "code",
   "execution_count": null,
   "metadata": {},
   "outputs": [],
   "source": [
    "print(df.iloc[::-1])"
   ]
  },
  {
   "cell_type": "code",
   "execution_count": 1,
   "metadata": {},
   "outputs": [
    {
     "name": "stdout",
     "output_type": "stream",
     "text": [
      "    수학  영어   음악   체육\n",
      "이름                  \n",
      "서준  90  98   85  100\n",
      "우현  80  89   95   90\n",
      "인아  70  95  100   90\n",
      "\n",
      "\n"
     ]
    }
   ],
   "source": [
    "# 예제 1-11\n",
    "import pandas as pd\n",
    "\n",
    "# DataFrame() 함수로 데이터프레임 변환. 변수 df에 저장 \n",
    "exam_data = {'이름' : [ '서준', '우현', '인아'],\n",
    "             '수학' : [ 90, 80, 70],\n",
    "             '영어' : [ 98, 89, 95],\n",
    "             '음악' : [ 85, 95, 100],\n",
    "             '체육' : [ 100, 90, 90]}\n",
    "df = pd.DataFrame(exam_data)\n",
    "\n",
    "# '이름' 열을 새로운 인덱스로 지정하고, df 객체에 변경사항 반영\n",
    "df.set_index('이름', inplace=True)\n",
    "print(df)\n",
    "print('\\n')"
   ]
  },
  {
   "cell_type": "code",
   "execution_count": 2,
   "metadata": {},
   "outputs": [
    {
     "name": "stdout",
     "output_type": "stream",
     "text": [
      "85\n",
      "85\n",
      "\n",
      "\n"
     ]
    }
   ],
   "source": [
    "# 데이터프레임 df의 특정 원소 1개 선택 ('서준'의 '음악' 점수)\n",
    "a = df.loc['서준', '음악']\n",
    "print(a)\n",
    "b = df.iloc[0, 2]\n",
    "print(b)\n",
    "print('\\n')"
   ]
  },
  {
   "cell_type": "code",
   "execution_count": null,
   "metadata": {},
   "outputs": [],
   "source": [
    "# 데이터프레임 df의 특정 원소 2개 이상 선택 ('서준'의 '음악', '체육' 점수) \n",
    "c = df.loc['서준', ['음악', '체육']]\n",
    "print(c)\n",
    "d = df.iloc[0, [2, 3]]\n",
    "print(d)\n",
    "e = df.loc['서준', '음악':'체육']\n",
    "print(e)\n",
    "f = df.iloc[0, 2:]\n",
    "print(f)\n",
    "print('\\n')"
   ]
  },
  {
   "cell_type": "code",
   "execution_count": null,
   "metadata": {},
   "outputs": [],
   "source": [
    "# df의 2개 이상의 행과 열로부터 원소 선택 ('서준', '우현'의 '음악', '체육' 점수) \n",
    "g = df.loc[['서준', '우현'], ['음악', '체육']]\n",
    "print(g)\n",
    "h = df.iloc[[0, 1], [2, 3]]\n",
    "print(h)\n",
    "i = df.loc['서준':'우현', '음악':'체육']\n",
    "print(i)\n",
    "j = df.iloc[0:2, 2:]\n",
    "print(j)"
   ]
  },
  {
   "cell_type": "code",
   "execution_count": null,
   "metadata": {},
   "outputs": [],
   "source": [
    "# 예제 1-12\n",
    "import pandas as pd\n",
    "\n",
    "# DataFrame() 함수로 데이터프레임 변환. 변수 df에 저장 \n",
    "exam_data = {'이름' : [ '서준', '우현', '인아'],\n",
    "             '수학' : [ 90, 80, 70],\n",
    "             '영어' : [ 98, 89, 95],\n",
    "             '음악' : [ 85, 95, 100],\n",
    "             '체육' : [ 100, 90, 90]}\n",
    "df = pd.DataFrame(exam_data)\n",
    "print(df)\n",
    "print('\\n')\n",
    "\n",
    "# 데이터프레임 df에 '국어' 점수 열(column)을 추가. 데이터 값은 80 지정\n",
    "df['국어'] = 80\n",
    "print(df)\n",
    "print(df.국어)\n",
    "df.국어 = 100\n",
    "print(df)\n",
    "df.국어 = [100, 90, 80]\n",
    "print(df)\n",
    "df['사회'] = 70 # 처음 추가하는 열이름인 경우에는 . 사용 못함\n",
    "print(df)"
   ]
  },
  {
   "cell_type": "code",
   "execution_count": null,
   "metadata": {},
   "outputs": [],
   "source": [
    "# 예제 1-13\n",
    "import pandas as pd\n",
    "\n",
    "# DataFrame() 함수로 데이터프레임 변환. 변수 df에 저장 \n",
    "exam_data = {'이름' : ['서준', '우현', '인아'],\n",
    "             '수학' : [ 90, 80, 70],\n",
    "             '영어' : [ 98, 89, 95],\n",
    "             '음악' : [ 85, 95, 100],\n",
    "             '체육' : [ 100, 90, 90]}\n",
    "df = pd.DataFrame(exam_data)\n",
    "print(df)\n",
    "print('\\n')\n",
    "\n",
    "# 새로운 행(row)을 추가 - 같은 원소 값을 입력\n",
    "df.loc[3] = 0\n",
    "print(df)\n",
    "print('\\n')\n",
    "\n",
    "# 새로운 행(row)을 추가 - 원소 값 여러 개의 배열 입력\n",
    "df.loc[4] = ['동규', 90, 80, 70, 60]\n",
    "print(df)\n",
    "print('\\n')\n",
    "\n",
    "# 새로운 행(row)을 추가 - 기존 행을 복사\n",
    "df.loc['행5'] = df.loc[3]\n",
    "print(df)\n"
   ]
  },
  {
   "cell_type": "code",
   "execution_count": null,
   "metadata": {},
   "outputs": [],
   "source": [
    "# 예제 1-14\n",
    "import pandas as pd\n",
    "\n",
    "# DataFrame() 함수로 데이터프레임 변환. 변수 df에 저장 \n",
    "exam_data = {'이름' : [ '서준', '우현', '인아'],\n",
    "             '수학' : [ 90, 80, 70],\n",
    "             '영어' : [ 98, 89, 95],\n",
    "             '음악' : [ 85, 95, 100],\n",
    "             '체육' : [ 100, 90, 90]}\n",
    "df = pd.DataFrame(exam_data)\n",
    "\n",
    "# '이름' 열을 새로운 인덱스로 지정하고, df 객체에 변경사항 반영\n",
    "df.set_index('이름', inplace=True)\n",
    "print(df)\n",
    "print('\\n')\n",
    "\n",
    "# 데이터프레임 df의 특정 원소를 변경하는 방법: '서준'의 '체육' 점수\n",
    "df.iloc[0][3] = 80\n",
    "print(df)\n",
    "print('\\n')\n",
    "\n",
    "df.loc['서준']['체육'] = 90\n",
    "print(df)\n",
    "print('\\n')\n",
    "\n",
    "df.loc['서준', '체육'] = 100\n",
    "print(df)\n",
    "print('\\n')"
   ]
  },
  {
   "cell_type": "code",
   "execution_count": null,
   "metadata": {},
   "outputs": [],
   "source": [
    "# 데이터프레임 df의 원소 여러 개를 변경하는 방법: '서준'의 '음악', '체육' 점수\n",
    "df.loc['서준', ['음악', '체육']] = 50\n",
    "print(df)\n",
    "print('\\n')\n",
    "\n",
    "df.loc['서준', ['음악', '체육']] = 100, 50\n",
    "print(df)"
   ]
  },
  {
   "cell_type": "code",
   "execution_count": null,
   "metadata": {},
   "outputs": [],
   "source": [
    "# 예제 1-15\n",
    "import pandas as pd\n",
    "\n",
    "# DataFrame() 함수로 데이터프레임 변환. 변수 df에 저장 \n",
    "exam_data = {'이름' : [ '서준', '우현', '인아'],\n",
    "             '수학' : [ 90, 80, 70],\n",
    "             '영어' : [ 98, 89, 95],\n",
    "             '음악' : [ 85, 95, 100],\n",
    "             '체육' : [ 100, 90, 90]}\n",
    "df = pd.DataFrame(exam_data)\n",
    "print(df)\n",
    "print('\\n')\n",
    "\n",
    "# 데이터프레임 df를 전치하기 (메소드 활용)\n",
    "df = df.transpose()\n",
    "print(df)\n",
    "print('\\n')\n",
    "\n",
    "# 데이터프레임 df를 다시 전치하기 (클래스 속성 활용)\n",
    "df = df.T\n",
    "print(df)"
   ]
  },
  {
   "cell_type": "code",
   "execution_count": null,
   "metadata": {},
   "outputs": [],
   "source": [
    "import pandas as pd\n",
    "\n",
    "# DataFrame() 함수로 데이터프레임 변환. 변수 df에 저장 \n",
    "exam_data = {'name' : [ 'dooly', 'ddoch', 'dounar'],\n",
    "             'math' : [ 90, 80, 70],\n",
    "             'eng' : [ 98, 89, 95],\n",
    "             'music' : [ 85, 95, 100],\n",
    "             'exer' : [ 100, 90, 90]}\n",
    "df = pd.DataFrame(exam_data)\n",
    "df.set_index('name', inplace=True)\n",
    "print(df)\n",
    "df.plot()\n",
    "print('\\n')\n",
    "\n",
    "# 데이터프레임 df를 전치하기 (메소드 활용)\n",
    "df = df.transpose()\n",
    "print(df)\n",
    "df.plot()\n",
    "print('\\n')\n",
    "\n",
    "# 데이터프레임 df를 다시 전치하기 (클래스 속성 활용)\n",
    "df = df.T\n",
    "print(df)"
   ]
  },
  {
   "cell_type": "code",
   "execution_count": null,
   "metadata": {},
   "outputs": [],
   "source": [
    "# 예제 1-16\n",
    "import pandas as pd\n",
    "\n",
    "# DataFrame() 함수로 데이터프레임 변환. 변수 df에 저장 \n",
    "exam_data = {'이름' : [ '서준', '우현', '인아'],\n",
    "             '수학' : [ 90, 80, 70],\n",
    "             '영어' : [ 98, 89, 95],\n",
    "             '음악' : [ 85, 95, 100],\n",
    "             '체육' : [ 100, 90, 90]}\n",
    "df = pd.DataFrame(exam_data)\n",
    "print(df)\n",
    "print('\\n')\n",
    "\n",
    "# 특정 열(column)을 데이터프레임의 행 인덱스(index)로 설정 \n",
    "ndf = df.set_index(['이름'])\n",
    "print(ndf)\n",
    "print('\\n')\n",
    "ndf2 = ndf.set_index('음악')\n",
    "print(ndf2)\n",
    "print('\\n')\n",
    "ndf3 = ndf.set_index(['수학', '음악'])\n",
    "print(ndf3)"
   ]
  },
  {
   "cell_type": "code",
   "execution_count": null,
   "metadata": {},
   "outputs": [],
   "source": [
    "# 예제 1-17\n",
    "import pandas as pd\n",
    "\n",
    "# 딕셔서리를 정의\n",
    "dict_data = {'c0':[1,2,3], 'c1':[4,5,6], 'c2':[7,8,9], 'c3':[10,11,12], 'c4':[13,14,15]}\n",
    "\n",
    "# 딕셔서리를 데이터프레임으로 변환. 인덱스를 [r0, r1, r2]로 지정\n",
    "df = pd.DataFrame(dict_data, index=['r0', 'r1', 'r2'])\n",
    "print(df)\n",
    "print('\\n')\n",
    "\n",
    "# 인덱스를 [r0, r1, r2, r3, r4]로 재지정\n",
    "new_index = ['r0', 'r1', 'r2', 'r3', 'r4']\n",
    "ndf = df.reindex(new_index)\n",
    "print(ndf)\n",
    "print('\\n')\n",
    "\n",
    "# reindex로 발생한 NaN값을 숫자 0으로 채우기\n",
    "new_index = ['r0', 'r1', 'r2', 'r3', 'r4']\n",
    "ndf2 = df.reindex(new_index, fill_value=0)\n",
    "print(ndf2)"
   ]
  },
  {
   "cell_type": "code",
   "execution_count": null,
   "metadata": {},
   "outputs": [],
   "source": [
    "# 예제 1-18\n",
    "import pandas as pd\n",
    "\n",
    "# 딕셔서리를 정의\n",
    "dict_data = {'c0':[1,2,3], 'c1':[4,5,6], 'c2':[7,8,9], 'c3':[10,11,12], 'c4':[13,14,15]}\n",
    "\n",
    "# 딕셔서리를 데이터프레임으로 변환. 인덱스를 [r0, r1, r2]로 지정\n",
    "df = pd.DataFrame(dict_data, index=['r0', 'r1', 'r2'])\n",
    "print(df)\n",
    "print('\\n')\n",
    "\n",
    "# 행 인덱스를 정수형으로 초기화 \n",
    "ndf = df.reset_index()\n",
    "print(ndf)"
   ]
  },
  {
   "cell_type": "code",
   "execution_count": null,
   "metadata": {},
   "outputs": [],
   "source": [
    "# 예제 1-19\n",
    "import pandas as pd\n",
    "\n",
    "# 딕셔서리를 정의\n",
    "dict_data = {'c0':[1,2,3], 'c1':[4,5,6], 'c2':[7,8,9], 'c3':[10,11,12], 'c4':[13,14,15]}\n",
    "\n",
    "# 딕셔서리를 데이터프레임으로 변환. 인덱스를 [r0, r1, r2]로 지정\n",
    "df = pd.DataFrame(dict_data, index=['r0', 'r1', 'r2'])\n",
    "print(df)\n",
    "print('\\n')\n",
    "\n",
    "# 내림차순으로 행 인덱스 정렬 \n",
    "ndf = df.sort_index(ascending=False)\n",
    "print(ndf)"
   ]
  },
  {
   "cell_type": "code",
   "execution_count": null,
   "metadata": {},
   "outputs": [],
   "source": [
    "# 예제 1-20\n",
    "import pandas as pd\n",
    "\n",
    "# 딕셔서리를 정의\n",
    "dict_data = {'c0':[1,2,3], 'c1':[4,5,6], 'c2':[7,8,9], 'c3':[10,11,12], 'c4':[13,14,15]}\n",
    "\n",
    "# 딕셔서리를 데이터프레임으로 변환. 인덱스를 [r0, r1, r2]로 지정\n",
    "df = pd.DataFrame(dict_data, index=['r0', 'r1', 'r2'])\n",
    "print(df)\n",
    "print('\\n')\n",
    "\n",
    "# c1 열을 기준으로 내림차순 정렬 \n",
    "ndf = df.sort_values(by='c1', ascending=False)\n",
    "print(ndf)"
   ]
  },
  {
   "cell_type": "code",
   "execution_count": null,
   "metadata": {},
   "outputs": [],
   "source": [
    "# 예제 1-21\n",
    "# 라이브러리 불러오기 \n",
    "import pandas as pd\n",
    "\n",
    "# 딕셔너리 데이터로 판다스 시리즈 만들기\n",
    "student1 = pd.Series({'국어':100, '영어':80, '수학':90})\n",
    "print(student1)\n",
    "print('\\n')\n",
    "\n",
    "# 학생의 과목별 점수를 200으로 나누기\n",
    "percentage = student1 / 200\n",
    "\n",
    "print(percentage)\n",
    "print('\\n')\n",
    "print(type(percentage))"
   ]
  },
  {
   "cell_type": "code",
   "execution_count": null,
   "metadata": {},
   "outputs": [],
   "source": [
    "# 예제 1-22\n",
    "# 라이브러리 불러오기 \n",
    "import pandas as pd\n",
    "\n",
    "# 딕셔너리 데이터로 판다스 시리즈 만들기\n",
    "student1 = pd.Series({'국어':100, '영어':80, '수학':90})\n",
    "student2 = pd.Series({'수학':80, '국어':90, '영어':80})\n",
    "\n",
    "print(student1)\n",
    "print('\\n')\n",
    "print(student2)\n",
    "print('\\n')\n",
    "\n",
    "# 두 학생의 과목별 점수로 사칙연산 수행\n",
    "addition = student1 + student2               #덧셈\n",
    "subtraction = student1 - student2            #뺄셈\n",
    "multiplication = student1 * student2         #곱셈\n",
    "division = student1 / student2               #나눗셈\n",
    "print(addition)\n",
    "print()\n",
    "print(division)\n",
    "print(type(division))\n",
    "print('\\n')\n",
    "\n",
    "result = pd.DataFrame([addition, subtraction, multiplication], \n",
    "                      index=['덧셈', '뺄셈', '곱셈'])\n",
    "print(result)\n",
    "\n",
    "# 사칙연산 결과를 데이터프레임으로 합치기 (시리즈 -> 데이터프레임)\n",
    "result = pd.DataFrame([addition, subtraction, multiplication, division], \n",
    "                      index=['덧셈', '뺄셈', '곱셈', '나눗셈'])\n",
    "print(result)"
   ]
  },
  {
   "cell_type": "code",
   "execution_count": null,
   "metadata": {},
   "outputs": [],
   "source": [
    "# 예제 1-23\n",
    "# 라이브러리 불러오기 \n",
    "import pandas as pd\n",
    "import numpy as np\n",
    "\n",
    "# 딕셔너리 데이터로 판다스 시리즈 만들기\n",
    "student1 = pd.Series({'국어':np.nan, '영어':80, '수학':90})\n",
    "student2 = pd.Series({'수학':80, '국어':90})\n",
    "\n",
    "print(student1)\n",
    "print('\\n')\n",
    "print(student2)\n",
    "print('\\n')\n",
    "\n",
    "# 두 학생의 과목별 점수로 사칙연산 수행 (시리즈 vs. 시리즈)\n",
    "addition = student1 + student2               #덧셈\n",
    "subtraction = student1 - student2            #뺄셈\n",
    "multiplication = student1 * student2         #곱셈\n",
    "division = student1 / student2               #나눗셈\n",
    "print(type(division))\n",
    "print('\\n')\n",
    "\n",
    "# 사칙연산 결과를 데이터프레임으로 합치기 (시리즈 -> 데이터프레임)\n",
    "result = pd.DataFrame([addition, subtraction, multiplication, division], \n",
    "                      index=['덧셈', '뺄셈', '곱셈', '나눗셈'])\n",
    "print(result)"
   ]
  },
  {
   "cell_type": "code",
   "execution_count": null,
   "metadata": {},
   "outputs": [],
   "source": [
    "# 예제 1-24\n",
    "# 라이브러리 불러오기 \n",
    "import pandas as pd\n",
    "import numpy as np\n",
    "\n",
    "# 딕셔너리 데이터로 판다스 시리즈 만들기\n",
    "student1 = pd.Series({'국어':np.nan, '영어':80, '수학':90})\n",
    "student2 = pd.Series({'수학':80, '국어':90})\n",
    "\n",
    "print(student1)\n",
    "print('\\n')\n",
    "print(student2)\n",
    "print('\\n')\n",
    "\n",
    "# 두 학생의 과목별 점수로 사칙연산 수행 (연산 메소드 사용)\n",
    "sr_add = student1.add(student2, fill_value=0)    #덧셈\n",
    "sr_sub = student1.sub(student2, fill_value=0)    #뺄셈\n",
    "sr_mul = student1.mul(student2, fill_value=0)    #곱셈\n",
    "sr_div = student1.div(student2, fill_value=0)    #나눗셈\n",
    "\n",
    "# 사칙연산 결과를 데이터프레임으로 합치기 (시리즈 -> 데이터프레임)\n",
    "result = pd.DataFrame([sr_add, sr_sub, sr_mul, sr_div], \n",
    "                      index=['덧셈', '뺄셈', '곱셈', '나눗셈'])\n",
    "print(result)\n"
   ]
  },
  {
   "cell_type": "code",
   "execution_count": null,
   "metadata": {},
   "outputs": [],
   "source": [
    "# 예제 1-25\n",
    "# 라이브러리 불러오기\n",
    "#import pandas as pd\n",
    "import seaborn as sns\n",
    "\n",
    "# titanic 데이터셋에서 age, fare 2개 열을 선택하여 데이터프레임 만들기\n",
    "titanic = sns.load_dataset('titanic')\n",
    "df = titanic.loc[:, ['age','fare']]\n",
    "print(df.head())   #첫 5행만 표시\n",
    "print('\\n')\n",
    "print(type(df))\n",
    "print('\\n')\n",
    "\n",
    "# 데이터프레임에 숫자 10 더하기\n",
    "addition = df + 10\n",
    "print(addition.head())   #첫 5행만 표시\n",
    "print('\\n')\n",
    "print(type(addition))"
   ]
  },
  {
   "cell_type": "code",
   "execution_count": null,
   "metadata": {},
   "outputs": [],
   "source": [
    "# 예제 1-26\n",
    "# 라이브러리 불러오기\n",
    "#import pandas as pd\n",
    "import seaborn as sns\n",
    "\n",
    "# titanic 데이터셋에서 age, fare 2개 열을 선택하여 데이터프레임 만들기\n",
    "titanic = sns.load_dataset('titanic')\n",
    "df = titanic.loc[:, ['age','fare']]\n",
    "print(df.tail())          #마지막 5행을 표시\n",
    "print('\\n')\n",
    "print(type(df))\n",
    "print('\\n')\n",
    "\n",
    "# 데이터프레임에 숫자 10 더하기\n",
    "addition = df + 10\n",
    "print(addition.tail())    #마지막 5행을 표시\n",
    "print('\\n')\n",
    "print(type(addition))\n",
    "print('\\n')\n",
    "\n",
    "# 데이터프레임끼리 연산하기 (additon - df)\n",
    "subtraction = addition - df\n",
    "print(subtraction.tail())   #마지막 5행을 표시\n",
    "print('\\n')\n",
    "print(type(subtraction))"
   ]
  }
 ],
 "metadata": {
  "kernelspec": {
   "display_name": "pydatavenv",
   "language": "python",
   "name": "pydatavenv"
  },
  "language_info": {
   "codemirror_mode": {
    "name": "ipython",
    "version": 3
   },
   "file_extension": ".py",
   "mimetype": "text/x-python",
   "name": "python",
   "nbconvert_exporter": "python",
   "pygments_lexer": "ipython3",
   "version": "3.8.8"
  }
 },
 "nbformat": 4,
 "nbformat_minor": 4
}

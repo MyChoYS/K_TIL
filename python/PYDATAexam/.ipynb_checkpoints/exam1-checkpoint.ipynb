{
 "cells": [
  {
   "cell_type": "code",
   "execution_count": 1,
   "metadata": {},
   "outputs": [
    {
     "name": "stdout",
     "output_type": "stream",
     "text": [
      "유니코학생은 나이가 20이고 평균은 95.869입니다\n",
      "유니코학생은 나이가 20이고 평균은 95.869입니다\n",
      "유니코학생은 나이가 20이고 평균은 95.87입니다\n",
      "유니코학생은 나이가 20이고 평균은 95.87입니다\n",
      "유니코학생은 나이가 20이고 평균은 95.87입니다\n"
     ]
    }
   ],
   "source": [
    "stname = \"유니코\"; stage=20; stavg=95.869\n",
    "print(stname+\"학생은 나이가 \"+str(stage)+\"이고 평균은 \"+str(stavg)+\"입니다\")\n",
    "print(stname, \"학생은 나이가 \", stage, \"이고 평균은 \", stavg, \"입니다\", sep=\"\")\n",
    "print(\"%s학생은 나이가 %d이고 평균은 %.2f입니다\" % (stname, stage, stavg))\n",
    "print(\"{}학생은 나이가 {}이고 평균은 {:.2f}입니다\".format(stname, stage, stavg))\n",
    "print(f\"{stname}학생은 나이가 {stage}이고 평균은 {stavg:.2f}입니다\")"
   ]
  },
  {
   "cell_type": "code",
   "execution_count": 2,
   "metadata": {},
   "outputs": [
    {
     "name": "stdout",
     "output_type": "stream",
     "text": [
      "유니코학생은 나이가 20이고 평균은 95.869입니다\n",
      "유니코학생은 나이가 20이고 평균은 95.87입니다\n",
      "유니코학생은 나이가 20이고 평균은 95.87입니다\n",
      "유니코학생은 나이가 20이고 평균은 95.87입니다\n"
     ]
    }
   ],
   "source": [
    "v1 = stname+\"학생은 나이가 \"+str(stage)+\"이고 평균은 \"+str(stavg)+\"입니다\"\n",
    "v2 = \"%s학생은 나이가 %d이고 평균은 %.2f입니다\" % (stname, stage, stavg)\n",
    "v3 = \"{}학생은 나이가 {}이고 평균은 {:.2f}입니다\".format(stname, stage, stavg)\n",
    "v4 = f\"{stname}학생은 나이가 {stage}이고 평균은 {stavg:.2f}입니다\"\n",
    "print(v1)\n",
    "print(v2)\n",
    "print(v3)\n",
    "print(v4)"
   ]
  },
  {
   "cell_type": "code",
   "execution_count": 3,
   "metadata": {},
   "outputs": [
    {
     "name": "stdout",
     "output_type": "stream",
     "text": [
      "3.8.8 (default, Feb 24 2021, 15:54:32) [MSC v.1928 64 bit (AMD64)]\n"
     ]
    }
   ],
   "source": [
    "import sys\n",
    "print(sys.version)"
   ]
  },
  {
   "cell_type": "code",
   "execution_count": 4,
   "metadata": {},
   "outputs": [
    {
     "name": "stdout",
     "output_type": "stream",
     "text": [
      "c:\\git_hub\\K_TIL\\python\\PYDATAexam\n"
     ]
    }
   ],
   "source": [
    "import os\n",
    "print(os.getcwd())"
   ]
  },
  {
   "cell_type": "code",
   "execution_count": 5,
   "metadata": {},
   "outputs": [
    {
     "name": "stdout",
     "output_type": "stream",
     "text": [
      "Available kernels:\n",
      "  pydatavenv    C:\\Users\\ChoYongSang\\AppData\\Roaming\\jupyter\\kernels\\pydatavenv\n",
      "  python3       C:\\Users\\ChoYongSang\\anaconda3\\share\\jupyter\\kernels\\python3\n"
     ]
    }
   ],
   "source": [
    "!jupyter kernelspec list"
   ]
  },
  {
   "cell_type": "code",
   "execution_count": 6,
   "metadata": {},
   "outputs": [
    {
     "name": "stdout",
     "output_type": "stream",
     "text": [
      " C 드라이브의 볼륨에는 이름이 없습니다.\n",
      " 볼륨 일련 번호: 9663-A272\n",
      "\n",
      " c:\\git_hub\\K_TIL\\python\\PYDATAexam 디렉터리\n",
      "\n",
      "2021-03-24  오후 04:33    <DIR>          .\n",
      "2021-03-24  오후 04:33    <DIR>          ..\n",
      "2021-03-24  오후 04:19    <DIR>          .ipynb_checkpoints\n",
      "2021-03-24  오후 01:16            54,401 exam0.ipynb\n",
      "2021-03-24  오후 04:33            26,567 exam1.ipynb\n",
      "2021-03-24  오후 02:45               734 First ipynb.ipynb\n",
      "2021-03-24  오후 03:46               742 second.ipynb\n",
      "               4개 파일              82,444 바이트\n",
      "               3개 디렉터리  618,604,683,264 바이트 남음\n"
     ]
    }
   ],
   "source": [
    "!dir"
   ]
  },
  {
   "cell_type": "code",
   "execution_count": 8,
   "metadata": {},
   "outputs": [
    {
     "name": "stdout",
     "output_type": "stream",
     "text": [
      "<class 'http.client.HTTPResponse'>\n",
      "200\n",
      "11\n",
      "OK\n",
      "[ header 정보 ]----------\n",
      "('Server', 'NWS')\n",
      "('Date', 'Wed, 24 Mar 2021 07:38:43 GMT')\n",
      "('Content-Type', 'text/html; charset=UTF-8')\n",
      "('Transfer-Encoding', 'chunked')\n",
      "('Connection', 'close')\n",
      "('Set-Cookie', 'PM_CK_loc=2995dd14584cb3e46afa7f62634824c2551e0ec833b9a6f7a027542c575356b9; Expires=Thu, 25 Mar 2021 07:38:43 GMT; Path=/; HttpOnly')\n",
      "('Cache-Control', 'no-cache, no-store, must-revalidate')\n",
      "('Pragma', 'no-cache')\n",
      "('P3P', 'CP=\"CAO DSP CURa ADMa TAIa PSAa OUR LAW STP PHY ONL UNI PUR FIN COM NAV INT DEM STA PRE\"')\n",
      "('X-Frame-Options', 'DENY')\n",
      "('X-XSS-Protection', '1; mode=block')\n",
      "('Strict-Transport-Security', 'max-age=63072000; includeSubdomains')\n",
      "('Referrer-Policy', 'unsafe-url')\n"
     ]
    }
   ],
   "source": [
    "import urllib.request\n",
    "res = urllib.request.urlopen(\"http://www.naver.com/\")\n",
    "print(type(res)) #200은 성공 404는 실패 500은 처리하다가 에러났다는 뜻 (응답상태코드)\n",
    "print(res.status)\n",
    "print(res.version)\n",
    "print(res.msg)\n",
    "res_header = res.getheaders()\n",
    "print(\"[ header 정보 ]----------\")\n",
    "for s in res_header :\n",
    "    print(s)"
   ]
  },
  {
   "cell_type": "code",
   "execution_count": 2,
   "metadata": {},
   "outputs": [
    {
     "name": "stdout",
     "output_type": "stream",
     "text": [
      "<http.client.HTTPResponse object at 0x0000028100891C10>\n",
      "[ header 정보 ]----------\n",
      "('Date', 'Thu, 25 Mar 2021 00:31:33 GMT')\n",
      "('Server', 'Apache/2.2.15 (CentOS)')\n",
      "('Content-Length', '461')\n",
      "('Connection', 'close')\n",
      "('Content-Type', 'text/html')\n",
      "[ body 내용 ]-----------\n",
      "<!DOCTYPE html>\n",
      "<html>\n",
      "<head>\n",
      "<meta charset=\"UTF-8\">\n",
      "<title>Insert title here</title>\n",
      "</head>\n",
      "<body>\n",
      "<h1>블럭스타일 태그</h1>\n",
      "<div style=\"background-color:yellow\">테스트입니다1</div>\n",
      "<div>테스트입니다2</div>\n",
      "<div>테스트입니다3</div>\n",
      "<hr>\n",
      "<h1>인라인스타일 태그</h1>\n",
      "<span style=\"background-color:yellow\">테스트입니다1</span>\n",
      "<span>테스트입니다2</span>\n",
      "<span>테스트입니다3</span>\n",
      "</body>\n",
      "</html>\n"
     ]
    }
   ],
   "source": [
    "import urllib.request\n",
    "res = urllib.request.urlopen(\"http://unico2013.dothome.co.kr/crawling/tagstyle.html\")\n",
    "print(res)\n",
    "print(\"[ header 정보 ]----------\")\n",
    "res_header = res.getheaders()\n",
    "for s in res_header :\n",
    "    print(s)\n",
    "print(\"[ body 내용 ]-----------\")\n",
    "#print(res.read())\n",
    "print(res.read().decode('utf-8')) #웹크롤링하려면 항상decode를 해줘야 하기 때문에 meta태그의 charset 정보를 체크해야한다 !! \n"
   ]
  },
  {
   "cell_type": "code",
   "execution_count": 12,
   "metadata": {},
   "outputs": [
    {
     "name": "stdout",
     "output_type": "stream",
     "text": [
      "===========================================================\n",
      "<class 'http.client.HTTPResponse'>\n",
      "<class 'http.client.HTTPMessage'>\n",
      "https://www.python.org/  페이지의 인코딩 정보 : utf-8\n",
      "<!doctype html>\n",
      "<!--[if lt IE 7]>   <html class=\"no-js ie6 lt-ie7 lt-ie8 lt-ie9\">   <![endif]-->\n",
      "<!--[if IE 7]>      <html class=\"no-js ie7 lt-ie8 lt-ie9\">          <![endif]-->\n",
      "<!--[if IE 8]>      <html class=\"no-js ie8 lt-ie9\">                 <![endif]-->\n",
      "<!--[if gt IE 8]><!--><html class=\"no-js\" lang=\"en\" dir=\"ltr\">  <!--<![endif]-->\n",
      "\n",
      "<head>\n",
      "    <meta charset=\"utf-8\">\n",
      "    <meta http-equiv=\"X-UA-Compatible\" content=\"IE=edge\">\n",
      "\n",
      "    <link rel=\"prefetch\" href=\"//ajax.googleapis.com/ajax/libs/jqu\n",
      "===========================================================\n",
      "https://www.daum.net/  페이지의 인코딩 정보 : utf-8\n",
      "<!DOCTYPE html>\n",
      "<html lang=\"ko\" class=\"\">\n",
      "<head>\n",
      "<meta charset=\"utf-8\"/>\n",
      "<title>Daum</title>\n",
      "<meta property=\"og:url\" content=\"https://www.daum.net/\">\n",
      "<meta property=\"og:type\" content=\"website\">\n",
      "<meta property=\"og:title\" content=\"Daum\">\n",
      "<meta property=\"og:image\" content=\"//i1.daumcdn.net/svc/image/U03/common_icon/5587C4E4012FCD0001\">\n",
      "<meta property=\"og:description\" content=\"나의 관심 콘텐츠를 가장 즐겁게 볼 수 있는 Daum\">\n",
      "<meta name=\"msapplication-task\" content=\"name=Daum;action-\n",
      "===========================================================\n",
      "https://www.aladin.co.kr/home/welcome.aspx  페이지의 인코딩 정보 : utf-8\n",
      "\n",
      "<!DOCTYPE HTML PUBLIC \"-//W3C//DTD HTML 4.0 Transitional//EN\" >\n",
      "<html>\n",
      "  <head>    \n",
      "      <title id=\"Title\">알라딘</title>\n",
      "      <meta http-equiv=\"Content-Type\" content=\"text/html; charset=utf-8\"/>\n",
      "\t  <meta content=\"Microsoft Visual Studio .NET 7.1\" name=\"GENERATOR\">\n",
      "\t  <meta content=\"C#\" name=\"CODE_LANGUAGE\">\n",
      "\t  <meta content=\"JavaScript\" name=\"vs_defaultClientScript\">\n",
      "\t  <meta content=\"http://schemas.microsoft.com/intellisense/ie5\" name=\"vs_targetSchema\">\n",
      "      <meta http-equiv=\"\n",
      "===========================================================\n"
     ]
    }
   ],
   "source": [
    "import urllib.request\n",
    "print(\"===========================================================\")\n",
    "url = 'https://www.python.org/'\n",
    "f = urllib.request.urlopen(url)\n",
    "print(type(f))\n",
    "print(type(f.info()))\n",
    "encoding = f.info().get_content_charset()\n",
    "print(url, ' 페이지의 인코딩 정보 :', encoding)\n",
    "text = f.read(500).decode(encoding)\n",
    "print(text)\n",
    "print(\"===========================================================\")\n",
    "\n",
    "url = 'https://www.daum.net/'\n",
    "f = urllib.request.urlopen(url)\n",
    "encoding = f.info().get_content_charset()\n",
    "print(url, ' 페이지의 인코딩 정보 :', encoding)\n",
    "text = f.read(500).decode(encoding)\n",
    "print(text)\n",
    "print(\"===========================================================\")\n",
    "\n",
    "url = 'https://www.aladin.co.kr/home/welcome.aspx'\n",
    "f = urllib.request.urlopen(url)\n",
    "encoding = f.info().get_content_charset()\n",
    "print(url, ' 페이지의 인코딩 정보 :', encoding)\n",
    "\n",
    "text = f.read(500).decode(encoding)\n",
    "print(text)\n",
    "print(\"===========================================================\")"
   ]
  },
  {
   "cell_type": "code",
   "execution_count": 3,
   "metadata": {},
   "outputs": [
    {
     "name": "stdout",
     "output_type": "stream",
     "text": [
      "[ URL 문자열 정보 추출 1 ]\n",
      "타입정보 :  <class 'urllib.parse.ParseResult'>\n",
      "도메인정보 :  movie.daum.net\n",
      "패스정보 :  /moviedb/main\n",
      "쿼리정보 :  movieId=93252\n",
      "스킴정보 :  https\n",
      "포트정보 :  None\n",
      "프래그먼트정보 :  \n",
      "URL 문자열정보 :  https://movie.daum.net/moviedb/main?movieId=93252\n",
      "urllib.parse.ParseResult 객체정보 :  ParseResult(scheme='https', netloc='movie.daum.net', path='/moviedb/main', params='', query='movieId=93252', fragment='')\n",
      "\n",
      "[ URL 문자열 정보 추출 2 ]\n",
      "도메인정보 :  docs.python.org\n",
      "패스정보 :  /3/library/urllib.parse.html\n",
      "쿼리정보 :  \n",
      "스킴정보 :  https\n",
      "포트정보 :  None\n",
      "프래그먼트정보 :  urlparse-result-object\n",
      "URL 문자열정보 :  https://docs.python.org/3/library/urllib.parse.html#urlparse-result-object\n",
      "urllib.parse.ParseResult 객체정보 :  ParseResult(scheme='https', netloc='docs.python.org', path='/3/library/urllib.parse.html', params='', query='', fragment='urlparse-result-object')\n",
      "\n",
      "[ Query문자열 또는 요청 파라미터 인코딩 ]\n",
      "number=12524&type=issue&action=show\n",
      "addr=%EC%84%9C%EC%9A%B8%EC%8B%9C+%EA%B0%95%EB%82%A8%EA%B5%AC+%EC%97%AD%EC%82%BC%EB%8F%99\n"
     ]
    }
   ],
   "source": [
    "from urllib.parse import urlparse\n",
    "from urllib.parse import urlencode\n",
    "print(\"[ URL 문자열 정보 추출 1 ]\")\n",
    "url1 = urlparse('https://movie.daum.net/moviedb/main?movieId=93252')\n",
    "print(\"타입정보 : \",type(url1))\n",
    "print(\"도메인정보 : \",url1.netloc) \n",
    "print(\"패스정보 : \",url1.path)\n",
    "print(\"쿼리정보 : \",url1.query) \n",
    "print(\"스킴정보 : \",url1.scheme)\n",
    "print(\"포트정보 : \",url1.port)\n",
    "print(\"프래그먼트정보 : \",url1.fragment)\n",
    "print(\"URL 문자열정보 : \",url1.geturl())\n",
    "print(\"urllib.parse.ParseResult 객체정보 : \",url1)\n",
    "print(\"\\n[ URL 문자열 정보 추출 2 ]\")\n",
    "url2 = urlparse('https://docs.python.org/3/library/urllib.parse.html#urlparse-result-object')\n",
    "print(\"도메인정보 : \",url2.netloc) \n",
    "print(\"패스정보 : \", url2.path)  \n",
    "print(\"쿼리정보 : \",url2.query)\n",
    "print(\"스킴정보 : \",url2.scheme)\n",
    "print(\"포트정보 : \",url2.port)\n",
    "print(\"프래그먼트정보 : \",url2.fragment)\n",
    "print(\"URL 문자열정보 : \",url2.geturl())\n",
    "print(\"urllib.parse.ParseResult 객체정보 : \",url2)\n",
    "\n",
    "print(\"\\n[ Query문자열 또는 요청 파라미터 인코딩 ]\")\n",
    "params1 = urlencode({'number': 12524, 'type': 'issue', 'action': 'show'})\n",
    "print(params1)\n",
    "params2 = urlencode({'addr': '서울시 강남구 역삼동'})\n",
    "print(params2)"
   ]
  },
  {
   "cell_type": "code",
   "execution_count": 6,
   "metadata": {},
   "outputs": [
    {
     "name": "stdout",
     "output_type": "stream",
     "text": [
      "URL 인코딩 규칙이 적용된 문자열 : name=%EC%9C%A0%EB%8B%88%EC%BD%94&age=10\n",
      "﻿<!DOCTYPE html>\n",
      "<html>\n",
      "  <head>\n",
      "    <meta charset=\"utf-8\">\n",
      "    <title>POST TEST</title>\n",
      "  </head>\n",
      "  <body>\n",
      "   <h1>GET : 이름은 유니코이고 나이는 10이네요!!</h1>   </body>\n",
      "</html>\n"
     ]
    }
   ],
   "source": [
    "import urllib.request\n",
    "import urllib.parse\n",
    "params = urllib.parse.urlencode({'name': '유니코', 'age': 10})\n",
    "print(\"URL 인코딩 규칙이 적용된 문자열 : %s\" % params)\n",
    "url = \"http://unico2013.dothome.co.kr/crawling/get.php?%s\" % params\n",
    "with urllib.request.urlopen(url) as f:\n",
    "    print(f.read().decode('utf-8'))"
   ]
  },
  {
   "cell_type": "code",
   "execution_count": 7,
   "metadata": {},
   "outputs": [
    {
     "name": "stdout",
     "output_type": "stream",
     "text": [
      "URL 인코딩 규칙이 적용된 문자열 : name=%EC%9C%A0%EB%8B%88%EC%BD%94&age=10\n",
      "변환된 바이트 문자열 : b'name=%EC%9C%A0%EB%8B%88%EC%BD%94&age=10'\n",
      "﻿<!DOCTYPE html>\n",
      "<html>\n",
      "  <head>\n",
      "    <meta charset=\"utf-8\">\n",
      "    <title>POST TEST</title>\n",
      "  </head>\n",
      "  <body>\n",
      "   <h1>POST : 이름은 유니코이고 나이는 10이네요!!</h1>   </body>\n",
      "</html>\n"
     ]
    }
   ],
   "source": [
    "import urllib.request\n",
    "import urllib.parse\n",
    "data = urllib.parse.urlencode({'name': '유니코', 'age': 10})\n",
    "print(\"URL 인코딩 규칙이 적용된 문자열 : %s\" % data)\n",
    "postdata = data.encode('ascii')\n",
    "print(\"변환된 바이트 문자열 : %s\" % postdata)\n",
    "url = \"http://unico2013.dothome.co.kr/crawling/post.php\"\n",
    "with urllib.request.urlopen(url, postdata) as f:\n",
    "    print(f.read().decode('utf-8'))"
   ]
  },
  {
   "cell_type": "code",
   "execution_count": null,
   "metadata": {},
   "outputs": [],
   "source": [
    "import urllib.request\n",
    "import urllib.parse\n",
    "data = urllib.parse.urlencode({'name': '유니코', 'age': 10})\n",
    "postdata = data.encode('ascii')\n",
    "req = urllib.request.Request(url='http://unico2013.dothome.co.kr/crawling/post.php',\n",
    "            data=postdata)\n",
    "print(req)\n",
    "with urllib.request.urlopen(req) as f:\n",
    "    print(f.read().decode('utf-8'))"
   ]
  },
  {
   "cell_type": "code",
   "execution_count": 9,
   "metadata": {},
   "outputs": [
    {
     "name": "stdout",
     "output_type": "stream",
     "text": [
      "<class 'requests.models.Response'>\n",
      "<!DOCTYPE html>\n",
      "<html>\n",
      "<head>\n",
      "<meta charset=\"UTF-8\">\n",
      "<title>테스트</title>\n",
      "</head>\n",
      "<body>\n",
      "<h1>웹 크롤링을 테스트 합니다.</h1>\n",
      "</body>\n",
      "</html>\n",
      "----------------------------------------------------------\n",
      "<Response [200]>\n",
      "<class 'requests.models.Response'>\n",
      "응답된 콘텐츠가 없어요\n",
      "----------------------------------------------------------\n",
      "<class 'requests.models.Response'>\n",
      "﻿<!DOCTYPE html>\n",
      "<html>\n",
      "  <head>\n",
      "    <meta charset=\"utf-8\">\n",
      "    <title>POST TEST</title>\n",
      "  </head>\n",
      "  <body>\n",
      "   <h1>POST : 이름은 백도이고 나이는 12이네요!!</h1>   </body>\n",
      "</html>\n"
     ]
    }
   ],
   "source": [
    "import requests\n",
    "\n",
    "r = requests.request('get', 'http://unico2013.dothome.co.kr/crawling/exam.html')\n",
    "r.encoding = 'utf-8' #한글이 있을 경우에 인코딩 \n",
    "print(r)\n",
    "print(type(r))\n",
    "if r.text :\n",
    "    print(r.text)\n",
    "else :\n",
    "    print('응답된 콘텐츠가 없어요')\n",
    "print('----------------------------------------------------------')\n",
    "r = requests.request('head', 'http://unico2013.dothome.co.kr/crawling/exam.html') #head만 불러왔으므로, body부분이 없다. 그래서 else구문이 실행된다.\n",
    "#여기서의 head는 header를 의미하며, 이는 응답상태코드,응답메세지 name : value로 구성되는 여러 정보들을 의미한다. body의 <head>태그를 의미하는 head가 아님!!!!!!!!!!\n",
    "#여기서의 body는 HTML전체 내용을 의미한다. <head>태그 <body>태그 와 같은 내용 \n",
    "r.encoding = 'utf-8'\n",
    "print(type(r))\n",
    "if r.text :\n",
    "    print(r.text)\n",
    "else :\n",
    "    print('응답된 콘텐츠가 없어요')\n",
    "print('----------------------------------------------------------')\n",
    "r = requests.request('post', 'http://unico2013.dothome.co.kr/crawling/post.php', data= {'name':'백도', 'age' : 12}) #post방식을 요청할 때에는 요청 파라미터가 항상 있어야됨. <->get방식의 쿼리문자열\n",
    "r.encoding = 'utf-8'\n",
    "print(type(r))\n",
    "if r.text :\n",
    "    print(r.text)\n",
    "else :\n",
    "    print('응답된 콘텐츠가 없어요')\n"
   ]
  },
  {
   "cell_type": "code",
   "execution_count": 10,
   "metadata": {},
   "outputs": [
    {
     "name": "stdout",
     "output_type": "stream",
     "text": [
      "<class 'requests.models.Response'>\n",
      "{'Date': 'Thu, 25 Mar 2021 01:30:36 GMT', 'Server': 'Apache/2.2.15 (CentOS)', 'Content-Length': '164', 'Connection': 'close', 'Content-Type': 'text/html'}\n",
      "<!DOCTYPE html>\n",
      "<html>\n",
      "<head>\n",
      "<meta charset=\"UTF-8\">\n",
      "<title>테스트</title>\n",
      "</head>\n",
      "<body>\n",
      "<h1>웹 크롤링을 테스트 합니다.</h1>\n",
      "</body>\n",
      "</html>\n"
     ]
    }
   ],
   "source": [
    "import requests\n",
    "\n",
    "r = requests.get('http://unico2013.dothome.co.kr/crawling/exam.html')\n",
    "r.encoding = 'utf-8'\n",
    "print(type(r))\n",
    "print(r.headers)\n",
    "if r.text :\n",
    "    print(r.text)\n",
    "else :\n",
    "    print('응답된 콘텐츠가 없어요')"
   ]
  },
  {
   "cell_type": "code",
   "execution_count": 11,
   "metadata": {},
   "outputs": [
    {
     "name": "stdout",
     "output_type": "stream",
     "text": [
      "<class 'requests.models.Response'>\n",
      "{'Date': 'Thu, 25 Mar 2021 01:30:52 GMT', 'Server': 'Apache/2.2.15 (CentOS)', 'Connection': 'close', 'Content-Type': 'text/html'}\n",
      "응답된 콘텐츠가 없어요\n"
     ]
    }
   ],
   "source": [
    "import requests\n",
    "\n",
    "r = requests.head('http://unico2013.dothome.co.kr/crawling/exam.html')\n",
    "print(type(r))\n",
    "print(r.headers)\n",
    "if r.text :\n",
    "    print(r.text) #헤드만 꺼냈기 때문에 body의 내용(html)의 정보가 없다\n",
    "else :\n",
    "    print('응답된 콘텐츠가 없어요')"
   ]
  },
  {
   "cell_type": "code",
   "execution_count": 12,
   "metadata": {},
   "outputs": [
    {
     "name": "stdout",
     "output_type": "stream",
     "text": [
      "http://unico2013.dothome.co.kr/crawling/get.php?key1=value1&key2=value2\n",
      "------------------------------------\n",
      "http://unico2013.dothome.co.kr/crawling/get.php?key1=value1&key2=value2&key2=value3\n",
      "------------------------------------\n",
      "http://unico2013.dothome.co.kr/crawling/get.php?key1=value1&key1=value2\n"
     ]
    }
   ],
   "source": [
    "import requests\n",
    "\n",
    "dicdata = {'key1': 'value1', 'key2': 'value2'}\n",
    "urlstr = 'http://unico2013.dothome.co.kr/crawling/get.php'\n",
    "r = requests.get(urlstr, params=dicdata)\n",
    "print(r.url)\n",
    "print('------------------------------------')\n",
    "dicdata = {'key1': 'value1', 'key2': ['value2', 'value3']}\n",
    "r = requests.request('GET', urlstr, params=dicdata)\n",
    "print(r.url)\n",
    "print('------------------------------------')\n",
    "tupledata = [('key1', 'value1'), ('key1', 'value2')]\n",
    "r = requests.get(urlstr, params=tupledata)\n",
    "print(r.url)"
   ]
  },
  {
   "cell_type": "code",
   "execution_count": 13,
   "metadata": {},
   "outputs": [
    {
     "name": "stdout",
     "output_type": "stream",
     "text": [
      "ï»¿<!DOCTYPE html>\n",
      "<html>\n",
      "  <head>\n",
      "    <meta charset=\"utf-8\">\n",
      "    <title>POST TEST</title>\n",
      "  </head>\n",
      "  <body>\n",
      "   <h1>GET : ì´ë¦ê³¼ ëì´ë¥¼ ì ë¬í´ ì£¼ì¸ì!!</h1>   </body>\n",
      "</html>\n",
      "------------------------------------\n",
      "﻿<!DOCTYPE html>\n",
      "<html>\n",
      "  <head>\n",
      "    <meta charset=\"utf-8\">\n",
      "    <title>POST TEST</title>\n",
      "  </head>\n",
      "  <body>\n",
      "   <h1>GET : 이름과 나이를 전달해 주세요!!</h1>   </body>\n",
      "</html>\n",
      "------------------------------------\n",
      "b'\\xef\\xbb\\xbf<!DOCTYPE html>\\r\\n<html>\\r\\n  <head>\\r\\n    <meta charset=\"utf-8\">\\r\\n    <title>POST TEST</title>\\r\\n  </head>\\r\\n  <body>\\r\\n   <h1>GET : \\xec\\x9d\\xb4\\xeb\\xa6\\x84\\xea\\xb3\\xbc \\xeb\\x82\\x98\\xec\\x9d\\xb4\\xeb\\xa5\\xbc \\xec\\xa0\\x84\\xeb\\x8b\\xac\\xed\\x95\\xb4 \\xec\\xa3\\xbc\\xec\\x84\\xb8\\xec\\x9a\\x94!!</h1>   </body>\\r\\n</html>'\n",
      "------------------------------------\n",
      "﻿<!DOCTYPE html>\n",
      "<html>\n",
      "  <head>\n",
      "    <meta charset=\"utf-8\">\n",
      "    <title>POST TEST</title>\n",
      "  </head>\n",
      "  <body>\n",
      "   <h1>GET : 이름과 나이를 전달해 주세요!!</h1>   </body>\n",
      "</html>\n"
     ]
    }
   ],
   "source": [
    "import requests\n",
    "\n",
    "urlstr = 'http://unico2013.dothome.co.kr/crawling/get.php'\n",
    "r = requests.get(urlstr)\n",
    "print(r.text)\n",
    "print('------------------------------------')\n",
    "r.encoding = 'utf-8' #항상 인코딩을 해야 한글이 깨지지 않는다.\n",
    "print(r.text)\n",
    "print('------------------------------------')\n",
    "print(r.content)\n",
    "print('------------------------------------')\n",
    "print(r.content.decode('utf-8'))"
   ]
  },
  {
   "cell_type": "code",
   "execution_count": 14,
   "metadata": {},
   "outputs": [
    {
     "name": "stdout",
     "output_type": "stream",
     "text": [
      "<class 'PIL.JpegImagePlugin.JpegImageFile'>\n"
     ]
    }
   ],
   "source": [
    "import requests\n",
    "from PIL import Image\n",
    "from io import BytesIO\n",
    "\n",
    "r = requests.get('http://unico2013.dothome.co.kr/image/flower.jpg')\n",
    "i = Image.open(BytesIO(r.content))\n",
    "print(type(i))\n",
    "i.save(\"c:/Temp/test.jpg\")"
   ]
  },
  {
   "cell_type": "code",
   "execution_count": 18,
   "metadata": {},
   "outputs": [
    {
     "name": "stdout",
     "output_type": "stream",
     "text": [
      "<class 'bs4.BeautifulSoup'>\n",
      "\n",
      "<!DOCTYPE html>\n",
      "\n",
      "<html>\n",
      "<head>\n",
      "<meta charset=\"utf-8\"/>\n",
      "<title>Test BeautifulSoup</title>\n",
      "</head>\n",
      "<body>\n",
      "<h1>테스트</h1>\n",
      "</body>\n",
      "</html> \n",
      "<h1>테스트</h1>\n"
     ]
    }
   ],
   "source": [
    "html_doc = \"\"\"\n",
    "<!DOCTYPE html>\n",
    "<html>\n",
    "    <head>\n",
    "        <meta charset=\"utf-8\">\n",
    "        <title>Test BeautifulSoup</title>\n",
    "    </head>\n",
    "    <body>\n",
    "        <h1>테스트</h1>\n",
    "    </body>\n",
    "</html> \"\"\"\n",
    "from bs4 import BeautifulSoup\n",
    "bs = BeautifulSoup(html_doc, 'html.parser')\n",
    "print(type(bs))\n",
    "print(bs)\n",
    "print(bs.h1)"
   ]
  },
  {
   "cell_type": "code",
   "execution_count": 20,
   "metadata": {},
   "outputs": [
    {
     "name": "stdout",
     "output_type": "stream",
     "text": [
      "<!DOCTYPE html>\n",
      "<html>\n",
      " <head>\n",
      "  <meta charset=\"utf-8\"/>\n",
      "  <title>\n",
      "   Test BeautifulSoup\n",
      "  </title>\n",
      " </head>\n",
      " <body>\n",
      "  <p align=\"center\">\n",
      "   P태그의 컨텐트\n",
      "  </p>\n",
      "  <img src=\"http://unico2013.dothome.co.kr/image/flower.jpg\" width=\"300\"/>\n",
      " </body>\n",
      "</html>\n",
      "\n",
      "\n",
      "<!DOCTYPE html>\n",
      "\n",
      "<html>\n",
      "<head>\n",
      "<meta charset=\"utf-8\"/>\n",
      "<title>Test BeautifulSoup</title>\n",
      "</head>\n",
      "<body>\n",
      "<p align=\"center\">P태그의 컨텐트</p>\n",
      "<img src=\"http://unico2013.dothome.co.kr/image/flower.jpg\" width=\"300\"/>\n",
      "</body>\n",
      "</html> \n"
     ]
    }
   ],
   "source": [
    "html_doc = \"\"\"\n",
    "<!DOCTYPE html>\n",
    "<html>\n",
    "     <head>\n",
    "          <meta charset='utf-8'>\n",
    "          <title>Test BeautifulSoup</title>\n",
    "     </head>\n",
    "     <body>\n",
    "          <p align=\"center\">P태그의 컨텐트</p>\n",
    "          <img src=\"http://unico2013.dothome.co.kr/image/flower.jpg\" width=\"300\">\n",
    "     </body>\n",
    "</html> \"\"\"\n",
    "from bs4 import BeautifulSoup\n",
    "bs = BeautifulSoup(html_doc, 'html.parser')\n",
    "print(bs.prettify()) #보기좋게 나열\n",
    "print(bs)"
   ]
  },
  {
   "cell_type": "code",
   "execution_count": 21,
   "metadata": {},
   "outputs": [
    {
     "name": "stdout",
     "output_type": "stream",
     "text": [
      "<class 'bs4.element.Tag'> : <title>Test BeautifulSoup</title>\n",
      "<class 'str'> : title\n",
      "<class 'bs4.element.NavigableString'> : Test BeautifulSoup\n",
      "-------------------------\n",
      "<class 'str'> : center\n",
      "<class 'str'> : http://unico2013.dothome.co.kr/image/flower.jpg\n",
      "<class 'dict'> : {'src': 'http://unico2013.dothome.co.kr/image/flower.jpg', 'width': '300'}\n"
     ]
    }
   ],
   "source": [
    "html_doc = \"\"\"\n",
    "<!DOCTYPE html>\n",
    "<html>\n",
    "     <head>\n",
    "          <meta charset='utf-8'>\n",
    "          <title>Test BeautifulSoup</title>\n",
    "     </head>\n",
    "     <body>\n",
    "          <p align=\"center\">P태그의 컨텐트</p>\n",
    "          <img src=\"http://unico2013.dothome.co.kr/image/flower.jpg\" width=\"300\">\n",
    "          <ul>\n",
    "               <li>테스트1<strong>강조</strong></li>\n",
    "               <li>테스트2</li>\n",
    "               <li>테스트3</li>\n",
    "          </ul>\n",
    "     </body>\n",
    "</html> \"\"\"\n",
    "from bs4 import BeautifulSoup\n",
    "bs = BeautifulSoup(html_doc, 'html.parser')\n",
    "print(type(bs.title), ':', bs.title)\n",
    "print(type(bs.title.name), ':', bs.title.name)\n",
    "print(type(bs.title.string), ':', bs.title.string)\n",
    "print('-------------------------')\n",
    "print(type(bs.p['align']), ':', bs.p['align'])\n",
    "print(type(bs.img['src']), ':', bs.img['src'])\n",
    "print(type(bs.img.attrs), ':', bs.img.attrs)"
   ]
  },
  {
   "cell_type": "code",
   "execution_count": 22,
   "metadata": {},
   "outputs": [
    {
     "name": "stdout",
     "output_type": "stream",
     "text": [
      "[ string 속성 ]\n",
      "<class 'bs4.element.NavigableString'> : P태그의 컨텐트\n",
      "<class 'NoneType'> : None\n",
      "<class 'NoneType'> : None\n",
      "<class 'bs4.element.NavigableString'> : 강조\n",
      "[ text 속성 ]\n",
      "<class 'str'> : P태그의 컨텐트\n",
      "<class 'str'> : \n",
      "테스트1강조\n",
      "테스트2\n",
      "테스트3\n",
      "\n",
      "<class 'str'> : 테스트1강조\n",
      "<class 'str'> : 강조\n",
      "[ contents 속성 ]\n",
      "<class 'list'> : ['P태그의 컨텐트']\n",
      "<class 'list'> : ['\\n', <li>테스트1<strong>강조</strong></li>, '\\n', <li>테스트2</li>, '\\n', <li>테스트3</li>, '\\n']\n",
      "<class 'list'> : ['테스트1', <strong>강조</strong>]\n",
      "<class 'list'> : ['강조']\n"
     ]
    }
   ],
   "source": [
    "html_doc = \"\"\"\n",
    "<!DOCTYPE html>\n",
    "<html>\n",
    "     <head>\n",
    "          <meta charset='utf-8'>\n",
    "          <title>Test BeautifulSoup</title>\n",
    "     </head>\n",
    "     <body>\n",
    "          <p align=\"center\">P태그의 컨텐트</p>\n",
    "          <img src=\"http://unico2013.dothome.co.kr/image/flower.jpg\" width=\"300\">\n",
    "          <ul>\n",
    "               <li>테스트1<strong>강조</strong></li>\n",
    "               <li>테스트2</li>\n",
    "               <li>테스트3</li>\n",
    "          </ul>\n",
    "     </body>\n",
    "</html> \"\"\"\n",
    "from bs4 import BeautifulSoup\n",
    "bs = BeautifulSoup(html_doc, 'html.parser')\n",
    "print(\"[ string 속성 ]\")\n",
    "print(type(bs.p.string), ':', bs.p.string)\n",
    "print(type(bs.ul.string), ':', bs.ul.string)\n",
    "print(type(bs.ul.li.string), ':', bs.ul.li.string)\n",
    "print(type(bs.ul.li.strong.string), ':', bs.ul.li.strong.string) #string과 text의 차이 \n",
    "print(\"[ text 속성 ]\")\n",
    "print(type(bs.p.text), ':', bs.p.text)\n",
    "print(type(bs.ul.text), ':', bs.ul.text)\n",
    "print(type(bs.ul.li.text), ':', bs.ul.li.text)\n",
    "print(type(bs.ul.li.strong.text), ':', bs.ul.li.strong.text)  #string과 text의 차이 \n",
    "print(\"[ contents 속성 ]\")\n",
    "print(type(bs.p.contents), ':', bs.p.contents)\n",
    "print(type(bs.ul.contents), ':', bs.ul.contents)\n",
    "print(type(bs.ul.li.contents), ':', bs.ul.li.contents)\n",
    "print(type(bs.ul.li.strong.contents), ':', bs.ul.li.strong.contents) #content's'이므로 list의 형태로 꺼내진다"
   ]
  },
  {
   "cell_type": "code",
   "execution_count": 23,
   "metadata": {},
   "outputs": [
    {
     "name": "stdout",
     "output_type": "stream",
     "text": [
      "<class 'bs4.element.Tag'>\n",
      "<class 'bs4.element.ResultSet'>\n",
      "---------------------------------\n",
      "<title>Test BeautifulSoup</title>\n",
      "<p align=\"center\"> text contents </p>\n",
      "<img src=\"http://unico2013.dothome.co.kr/image/flower.jpg\" width=\"500\"/>\n",
      "---------------------------------\n",
      "[<p align=\"center\"> text contents </p>, <p align=\"right\">  text contents 2 </p>, <p align=\"left\">   text contents 3 </p>, <p>text contents 4</p>]\n",
      "----------------\n",
      "<p align=\"center\"> text contents </p>\n",
      "<p align=\"right\">  text contents 2 </p>\n",
      "<p align=\"left\">   text contents 3 </p>\n",
      "<p>text contents 4</p>\n"
     ]
    }
   ],
   "source": [
    "html_doc=\"\"\"\n",
    "<!DOCTYPE html>\n",
    "<html>\n",
    "  <head>\n",
    "     <meta charset='utf-8'>\n",
    "     <title>Test BeautifulSoup</title>\n",
    "  </head>\n",
    "  <body>\n",
    "     <p align=\"center\"> text contents </p>\n",
    "     <p align=\"right\">  text contents 2 </p>\n",
    "     <p align=\"left\">   text contents 3 </p>\n",
    "     <img src=\"http://unico2013.dothome.co.kr/image/flower.jpg\" width=\"500\">\n",
    "     <div>\n",
    "       <p>text contents 4</p> \n",
    "     </div>\n",
    "  </body>\n",
    "</html> \"\"\"\n",
    "\n",
    "from bs4 import BeautifulSoup\n",
    "bs = BeautifulSoup(html_doc, 'html.parser')\n",
    "print(type(bs.find('p')))\n",
    "print(type(bs.find_all('p')))\n",
    "print(\"---------------------------------\")\n",
    "print(bs.find('title'))\n",
    "print(bs.find('p'))\n",
    "print(bs.find('img'))\n",
    "print(\"---------------------------------\")\n",
    "ptags = bs.find_all('p')\n",
    "print(ptags)\n",
    "print(\"----------------\")\n",
    "for tag in ptags :\n",
    "    print(tag)"
   ]
  },
  {
   "cell_type": "code",
   "execution_count": 24,
   "metadata": {},
   "outputs": [
    {
     "name": "stdout",
     "output_type": "stream",
     "text": [
      "<p align=\"center\"> text contents </p>\n",
      "<p align=\"right\" class=\"myp\">  text contents 2 </p>\n",
      "<p a=\"b\" align=\"left\">   text contents 3 </p>\n",
      "-------------------------------------\n",
      "<p align=\"center\"> text contents </p>\n",
      "<p align=\"right\" class=\"myp\">  text contents 2 </p>\n",
      "<p a=\"b\" align=\"left\">   text contents 3 </p>\n",
      "[   text contents 3 ]\n",
      "[text contents 3]\n",
      "[text contents 3]\n"
     ]
    }
   ],
   "source": [
    "html=\"\"\"\n",
    "<!DOCTYPE html>\n",
    "<html>\n",
    "  <head>\n",
    "     <meta charset='utf-8'>\n",
    "     <title>Test BeautifulSoup</title>\n",
    "  </head>\n",
    "  <body>\n",
    "     <p align=\"center\"> text contents </p>\n",
    "     <p align=\"right\" class=\"myp\">  text contents 2 </p>\n",
    "     <p align=\"left\" a=\"b\">   text contents 3 </p>\n",
    "     <img src=\"http://unico2013.dothome.co.kr/image/flower.jpg\" width=\"500\">\n",
    "  </body>\n",
    "</html> \"\"\"\n",
    "\n",
    "from bs4 import BeautifulSoup\n",
    "bs = BeautifulSoup(html, 'html.parser')\n",
    "print(bs.find('p', align=\"center\"))\n",
    "print(bs.find('p', class_=\"myp\"))\n",
    "print(bs.find('p', align=\"left\"))\n",
    "print(\"-------------------------------------\")\n",
    "print(bs.find('p', attrs={\"align\":\"center\"}))\n",
    "print(bs.find('p', attrs={\"align\":\"right\", \"class\":\"myp\"}))\n",
    "print(bs.find('p', attrs={\"align\":\"left\"}))\n",
    "\n",
    "pdom = bs.find('p', align=\"left\")\n",
    "print(\"[\"+pdom.text+\"]\")\n",
    "print(\"[\"+pdom.get_text(strip=True)+\"]\") #이 3개의 차이점은 ? \n",
    "print(\"[\"+pdom.string.strip()+\"]\")"
   ]
  },
  {
   "cell_type": "code",
   "execution_count": 32,
   "metadata": {},
   "outputs": [
    {
     "name": "stdout",
     "output_type": "stream",
     "text": [
      "<Response [200]>\n",
      "==============================\n",
      "b'\\xef\\xbb\\xbf<!DOCTYPE html>\\r\\n<html>\\r\\n<head>\\r\\n<meta charset=\"UTF-8\">\\r\\n<title>Insert title here</title>\\r\\n<style>\\r\\n  h1 {\\r\\n    background-image : linear-gradient(45deg, yellow, green);\\r\\n    height : 80px;\\r\\n    text-align : center;\\r\\n    font-size : 2em;\\r\\n    padding-top : 40px;\\r\\n    width : 50%;\\r\\n    margin : 0;\\r\\n    text-shadow : 5px 5px 5px white;\\t\\r\\n  }  \\r\\n  .subtitle {\\r\\n    color : #b30059;\\r\\n    background-color : pink;  \\r\\n    text-align : center;\\r\\n  }\\r\\n  #f_subtitle {\\r\\n    color : #006600;\\r\\n    background-color : yellow;  \\r\\n    text-align : center;\\r\\n  }\\r\\n  section, aside {\\r\\n    width : 50%;\\r\\n    border : 2px solid #8000ff;\\r\\n    border-radius : 20px;\\r\\n    margin-top : 10px;\\r\\n  }\\r\\n  nav {\\r\\n    margin-top : 10px;\\r\\n    text-align : center;\\r\\n    width : 50%;\\r\\n  }\\r\\n  a {\\r\\n    text-decoration : none;\\r\\n    font-weight : bold;\\r\\n  }\\r\\n  aside>ul {\\r\\n     color : #006622;\\r\\n     font-weight : bold;\\r\\n  }\\r\\n  div {\\r\\n     background-color :  #003399;\\r\\n     text-align : center;\\r\\n     color : white;\\r\\n     font-weight : bold;\\r\\n  }\\r\\n</style>\\r\\n</head>\\r\\n<body>\\r\\n<header>\\r\\n<h1>CSS \\xec\\x84\\xa0\\xed\\x83\\x9d\\xec\\x9e\\x90 \\xed\\x95\\x99\\xec\\x8a\\xb5</h1>\\r\\n<nav>\\r\\n<a href=\"https://www.w3schools.com/\">HTML, CSS, JavaScript \\xed\\x95\\x99\\xec\\x8a\\xb5 \\xec\\x82\\xac\\xec\\x9d\\xb4\\xed\\x8a\\xb8</a>\\r\\n<a href=\"https://www.python.org/\">\\xed\\x8c\\x8c\\xec\\x9d\\xb4\\xec\\x8d\\xac \\xed\\x95\\x99\\xec\\x8a\\xb5 \\xec\\x82\\xac\\xec\\x9d\\xb4\\xed\\x8a\\xb8</a>\\r\\n</nav>\\r\\n</header>\\r\\n<section>\\r\\n<h2 id=\"f_subtitle\">\\xea\\xb5\\x90\\xec\\x9c\\xa1\\xea\\xb3\\xbc\\xec\\xa0\\x95 \\xec\\x86\\x8c\\xea\\xb0\\x9c</h2>\\r\\n<div>\\r\\n\\xec\\x9a\\xb0\\xeb\\xa6\\xac\\xeb\\x8a\\x94 \\xed\\x8c\\x8c\\xec\\x9d\\xb4\\xec\\x8d\\xac\\xec\\x9c\\xbc\\xeb\\xa1\\x9c \\xeb\\x8d\\xb0\\xec\\x9d\\xb4\\xed\\x84\\xb0 \\xec\\x88\\x98\\xec\\xa7\\x91\\xea\\xb3\\xbc \\xec\\xa0\\x84\\xec\\xb2\\x98\\xeb\\xa6\\xac \\xea\\xb7\\xb8\\xeb\\xa6\\xac\\xea\\xb3\\xa0 \\xeb\\xb6\\x84\\xec\\x84\\x9d\\xec\\x9d\\x84 \\xed\\x95\\x99\\xec\\x8a\\xb5\\xed\\x95\\xa9\\xeb\\x8b\\x88\\xeb\\x8b\\xa4.\\r\\n<img src=\"https://www.python.org/static/img/python-logo.png\">\\r\\n</div>\\r\\n<br>\\r\\n<article>\\r\\n<h2 class=\"subtitle\">\\xec\\x9b\\xb9 \\xed\\x81\\xb4\\xeb\\x9d\\xbc\\xec\\x9d\\xb4\\xec\\x96\\xb8\\xed\\x8a\\xb8 \\xea\\xb8\\xb0\\xec\\x88\\xa0</h2>\\r\\n<ul>\\r\\n<li id=\"btype\">HTML5</li>\\r\\n<li class=\"atype\">CSS3</li>\\r\\n<li>JavaScript</li>\\r\\n<li class=\"atype\">Ajax</li>\\r\\n</ul>\\r\\n</article>\\r\\n</section>\\r\\n<aside>\\r\\n<h2 class=\"subtitle\">\\xed\\x95\\x99\\xec\\x8a\\xb5 \\xec\\x88\\x9c\\xec\\x84\\x9c(\\xec\\x88\\x98\\xec\\xa7\\x91)</h2>\\r\\n<ul>\\r\\n<li>\\xec\\x9b\\xb9 \\xed\\x81\\xac\\xeb\\xa1\\xa4\\xeb\\xa7\\x81</li>\\r\\n<li>\\xea\\xb3\\xb5\\xea\\xb3\\xb5 DB</li>\\r\\n<li>SNS</li>\\r\\n</ul>\\r\\n</aside>\\r\\n</body>\\r\\n</html>'\n",
      "==============================\n",
      "<class 'bytes'>\n",
      "==============================\n",
      "[<h1>CSS 선택자 학습</h1>]\n",
      "<class 'bs4.element.ResultSet'>\n",
      "<class 'bs4.element.Tag'>\n",
      "<h1>태그의 갯수 : 1 \n",
      "f_subtitle이라는 id 속성을 갖는 태그 갯수 : 1 \n",
      "subtitle이라는 class 속성을 갖는 태그 갯수 : 2 \n",
      "aside 태그의 <h2> 자식 태그 갯수 : 1 \n",
      "src 속성을 갖는 태그 갯수 : 1 \n",
      "CSS 선택자 학습\n",
      "------------------------------\n",
      "교육과정 소개\n",
      "------------------------------\n",
      "웹 클라이언트 기술\n",
      "학습 순서(수집)\n",
      "------------------------------\n",
      "학습 순서(수집)\n",
      "------------------------------\n",
      "https://www.python.org/static/img/python-logo.png\n"
     ]
    }
   ],
   "source": [
    "import requests\n",
    "from bs4 import BeautifulSoup\n",
    "\n",
    "req = requests.get('http://unico2013.dothome.co.kr/crawling/exercise_css.html')\n",
    "print(req)\n",
    "req.encoding = 'UTF-8'\n",
    "print(\"==============================\")\n",
    "html = req.content\n",
    "print(html)\n",
    "print(\"==============================\")\n",
    "print(type(html))\n",
    "html = html.decode('utf-8')\n",
    "#print(html)\n",
    "print(\"==============================\")\n",
    "bs = BeautifulSoup(html, 'html.parser')\n",
    "title = bs.select('h1')\n",
    "title1 = bs.select('#f_subtitle')\n",
    "title2 = bs.select('.subtitle')\n",
    "title3 = bs.select('aside > h2')\n",
    "img = bs.select('[src]')\n",
    "print(title)\n",
    "print(type(title))\n",
    "print(type(title[0]))\n",
    "print(\"<h1>태그의 갯수 : %d \" %len(title))\n",
    "print(\"f_subtitle이라는 id 속성을 갖는 태그 갯수 : %d \" %len(title1))\n",
    "print(\"subtitle이라는 class 속성을 갖는 태그 갯수 : %d \" %len(title2))\n",
    "print(\"aside 태그의 <h2> 자식 태그 갯수 : %d \" %len(title3))\n",
    "print(\"src 속성을 갖는 태그 갯수 : %d \" %len(img))\n",
    "\n",
    "for content in title:\n",
    "    print(content.string)\n",
    "print(\"------------------------------\")\n",
    "for content in title1:\n",
    "    print(content.text)\n",
    "print(\"------------------------------\")\n",
    "for content in title2:\n",
    "    print(content.text)\n",
    "print(\"------------------------------\")\n",
    "for content in title3:\n",
    "    print(content.text)\n",
    "print(\"------------------------------\")\n",
    "for content in img:\n",
    "   print(content[\"src\"])"
   ]
  },
  {
   "cell_type": "code",
   "execution_count": null,
   "metadata": {},
   "outputs": [],
   "source": [
    "import requests\n",
    "from bs4 import BeautifulSoup\n",
    "import re\n",
    "req = requests.get('http://movie.naver.com/movie/point/af/list.nhn?page=1')\n",
    "html = req.text\n",
    "soup = BeautifulSoup(html, 'html.parser')\n",
    "titles = soup.select('.movie')\n",
    "points = soup.select('td.title > div > em')\n",
    "reviews = soup.select('td.title')\n",
    "movie_title = []\n",
    "movie_point = []\n",
    "movie_review = [] \n",
    "\n",
    "for dom in titles:\n",
    "    movie_title.append(dom.text)\n",
    "for dom in points:\n",
    "    movie_point.append(dom.text)\n",
    "for dom in reviews:\n",
    "    content = dom.contents[6] \n",
    "    #content=re.sub(\"신고\", '', content)\n",
    "    content=re.sub(\"[\\n\\t]\", '', content)    \n",
    "    movie_review.append(content)\n",
    "commentLength = len(movie_title)   \n",
    "for i in range(commentLength):\n",
    "    print(\"영화 제목 : \" + movie_title[i])\n",
    "    print(\"평점 : \" + movie_point[i])\n",
    "    print(\"리뷰글 : \" + movie_review[i])\n",
    "    print(\"-----------------------------------------\")   \n"
   ]
  },
  {
   "cell_type": "code",
   "execution_count": null,
   "metadata": {},
   "outputs": [],
   "source": [
    "import requests\n",
    "from bs4 import BeautifulSoup\n",
    "import re\n",
    "for n in range(1,31):\n",
    "    req = requests.get('http://movie.naver.com/movie/point/af/list.nhn?page='+str(n))\n",
    "    html = req.text\n",
    "    soup = BeautifulSoup(html, 'html.parser')\n",
    "    titles = soup.select('.movie' )\n",
    "    points = soup.select('td.title > div > em')\n",
    "    reviews = soup.select('td.title')\n",
    "    movie_title = []\n",
    "    movie_point = []\n",
    "    movie_review = [] \n",
    "    for dom in titles:\n",
    "        movie_title.append(dom.text)\n",
    "    for dom in points:\n",
    "        movie_point.append(dom.text)\n",
    "    for dom in reviews:\n",
    "        content = dom.contents[6]\n",
    "        #content=re.sub(\"신고\", '', content)\n",
    "        content=re.sub(\"[\\n\\t]\", '', content)\n",
    "        movie_review.append(content)\n",
    "\n",
    "    commentLength = len(movie_title)   \n",
    "    for i in range(commentLength):\n",
    "        print(movie_point[i] + \",\"+movie_title[i]+\",\"+movie_review[i])\n",
    "    print(\"-----------------------------------------------------\")\n"
   ]
  },
  {
   "cell_type": "code",
   "execution_count": null,
   "metadata": {},
   "outputs": [],
   "source": [
    "import requests\n",
    "from bs4 import BeautifulSoup\n",
    "title = []\n",
    "link = []\n",
    "urlstr = 'http://www.yes24.com/SearchCorner/Search?domain=BOOK&query=python'\n",
    "r = requests.get(urlstr)\n",
    "#r.encoding = \"utf-8\"\n",
    "bs = BeautifulSoup(r.text, 'html.parser')\n",
    "titleList = bs.select('p.goods_name.goods_icon > a > strong')\n",
    "linklList = bs.select('p.goods_name.goods_icon > a')\n",
    "\n",
    "for titleDom in titleList:\n",
    "    title.append(titleDom.string)\n",
    "for linkDom in linklList:\n",
    "    link.append(linkDom[\"href\"])\n",
    "\n",
    "print(\"-- 도서 제목 --\")\n",
    "print(title)\n",
    "print(\"-- 도서 링크 URL --\")\n",
    "print(link)\n",
    "with open('booklink.csv', \"wt\", encoding=\"utf-8\") as f:\n",
    "    f.write('booktitle,booklink\\n')  \n",
    "    for i in range(len(title)):\n",
    "        f.write(title[i]+\",\"+link[i]+'\\n')  "
   ]
  },
  {
   "cell_type": "code",
   "execution_count": null,
   "metadata": {},
   "outputs": [],
   "source": [
    "from bs4 import BeautifulSoup\n",
    "import urllib.request as req\n",
    "import io\n",
    "\n",
    "url = \"http://www.kma.go.kr/weather/forecast/mid-term-rss3.jsp?stnId=108\"\n",
    "savename = \"C:/Temp/forecast.xml\"\n",
    "req.urlretrieve(url, savename)\n",
    "\n",
    "xml = open(savename, \"r\", encoding=\"utf-8\").read()\n",
    "soup = BeautifulSoup(xml, 'html.parser')\n",
    "\n",
    "info = {}\n",
    "for location in soup.find_all(\"location\"):\n",
    "    loc = location.find('city').string\n",
    "    min_w = location.find_all('tmn')\n",
    "    max_w = location.find_all('tmx')\n",
    "    weather = [a.string+\"~\"+b.string for a, b in zip(min_w, max_w)]\n",
    "\n",
    "    if not (loc in info):\n",
    "        info[loc] = []\n",
    "    for data in weather:\n",
    "        info[loc].append(data)\n",
    "print(info)\n",
    "\n",
    "with open('C:/Temp/forecast.txt', \"wt\", encoding=\"utf-8\") as f:\n",
    "    for loc in sorted(info.keys()):\n",
    "        f.write(str(loc)+'\\n')\n",
    "        for name in info[loc]:\n",
    "            f.write('\\t'+str(name)+'\\n')"
   ]
  },
  {
   "cell_type": "code",
   "execution_count": null,
   "metadata": {},
   "outputs": [],
   "source": [
    "import json\n",
    "import urllib.request\n",
    "\n",
    "#User-Agent를 조작하는 경우 \n",
    "hdr = {'User-Agent':'Mozilla/5.0 (Windows NT 10.0; Win64; x64) '+ \n",
    "        'AppleWebKit/537.36 (KHTML, like Gecko) Chrome/75.0.3770.80 Safari/537.36'}\n",
    "\n",
    "req = urllib.request.Request('http://unico2013.dothome.co.kr/crawling/header.php', headers = hdr)\n",
    "#req = urllib.request.Request('http://unico2013.dothome.co.kr/crawling/header.php')\n",
    "data = urllib.request.urlopen(req).read()\n",
    "print(data)\n",
    "#page = data.decode('utf-8', 'ignore')\n",
    "res_content = json.loads(data)\n",
    "\n",
    "print(res_content[\"result\"])\n"
   ]
  }
 ],
 "metadata": {
  "kernelspec": {
   "display_name": "pydatavenv",
   "language": "python",
   "name": "pydatavenv"
  },
  "language_info": {
   "codemirror_mode": {
    "name": "ipython",
    "version": 3
   },
   "file_extension": ".py",
   "mimetype": "text/x-python",
   "name": "python",
   "nbconvert_exporter": "python",
   "pygments_lexer": "ipython3",
   "version": "3.8.8"
  }
 },
 "nbformat": 4,
 "nbformat_minor": 4
}

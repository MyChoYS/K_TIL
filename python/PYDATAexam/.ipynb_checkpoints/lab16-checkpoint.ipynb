{
 "cells": [
  {
   "cell_type": "code",
   "execution_count": 193,
   "metadata": {},
   "outputs": [],
   "source": [
    "import seaborn as sns\n",
    "import pandas as pd\n",
    "import matplotlib.pyplot as plt\n",
    "import matplotlib\n",
    "import datetime\n",
    "import calendar"
   ]
  },
  {
   "cell_type": "code",
   "execution_count": 26,
   "metadata": {},
   "outputs": [
    {
     "name": "stdout",
     "output_type": "stream",
     "text": [
      "THEGaeideuk\n"
     ]
    }
   ],
   "source": [
    "from matplotlib import font_manager, rc\n",
    "font_path = \"data/THEdog.ttf\"   #폰트파일의 위치\n",
    "font_name = font_manager.FontProperties(fname=font_path).get_name()\n",
    "print(font_name)\n",
    "rc('font', family=font_name)"
   ]
  },
  {
   "cell_type": "code",
   "execution_count": 19,
   "metadata": {},
   "outputs": [],
   "source": [
    "#1\n",
    "cctv = pd.read_csv(\"data/cctv_seoul.csv\")\n",
    "def cdivi(x):\n",
    "    return x['CCTV수']/x['인구수']*100\n",
    "cctv['cctv비율'] = cctv.apply(cdivi,axis=1)\n",
    "def odivi(x):\n",
    "    return x['고령자']/x['인구수']*100\n",
    "cctv['노인비율'] = cctv.apply(odivi,axis=1)\n",
    "\n",
    "display(cctv.head(5))"
   ]
  },
  {
   "cell_type": "code",
   "execution_count": 251,
   "metadata": {},
   "outputs": [
    {
     "name": "stdout",
     "output_type": "stream",
     "text": [
      "<class 'pandas.core.frame.DataFrame'>\n",
      "RangeIndex: 310 entries, 0 to 309\n",
      "Data columns (total 2 columns):\n",
      " #   Column  Non-Null Count  Dtype \n",
      "---  ------  --------------  ----- \n",
      " 0   0       310 non-null    int64 \n",
      " 1   1       310 non-null    object\n",
      "dtypes: int64(1), object(1)\n",
      "memory usage: 5.0+ KB\n"
     ]
    },
    {
     "data": {
      "image/png": "[encoded data removed]",
      "text/plain": [
       "<Figure size 432x288 with 1 Axes>"
      ]
     },
     "metadata": {
      "needs_background": "light"
     },
     "output_type": "display_data"
    }
   ],
   "source": [
    "#2\n",
    "product = pd.read_csv('data/product_click_new.log',header=None,sep=\" \")\n",
    "product = pd.DataFrame(product)\n",
    "product.info()\n",
    "sns.countplot(x=1, dodge=False, data=product,order=product[1].value_counts().index)       \n",
    "plt.ylabel('클릭횟수', size=15)\n",
    "plt.xlabel('상품ID', size=15)\n",
    "plt.title('상품별 클릭 횟수', size=20)\n",
    "plt.savefig(\"output/hw7.png\")"
   ]
  },
  {
   "cell_type": "code",
   "execution_count": 291,
   "metadata": {},
   "outputs": [
    {
     "name": "stdout",
     "output_type": "stream",
     "text": [
      "                0     1                   2  year  month  day  hour  minute  \\\n",
      "0    201612120944  p001 2016-12-12 09:44:00  2016     12   12     9      44   \n",
      "1    201612120944  p003 2016-12-12 09:44:00  2016     12   12     9      44   \n",
      "2    201612120944  p003 2016-12-12 09:44:00  2016     12   12     9      44   \n",
      "3    201612120945  p008 2016-12-12 09:45:00  2016     12   12     9      45   \n",
      "4    201612121052  p008 2016-12-12 10:52:00  2016     12   12    10      52   \n",
      "..            ...   ...                 ...   ...    ...  ...   ...     ...   \n",
      "305  201612141110  p007 2016-12-14 11:10:00  2016     12   14    11      10   \n",
      "306  201612141111  p002 2016-12-14 11:11:00  2016     12   14    11      11   \n",
      "307  201612141139  p003 2016-12-14 11:39:00  2016     12   14    11      39   \n",
      "308  201612141139  p010 2016-12-14 11:39:00  2016     12   14    11      39   \n",
      "309  201612141139  p009 2016-12-14 11:39:00  2016     12   14    11      39   \n",
      "\n",
      "     3    4  \n",
      "0    0  월요일  \n",
      "1    0  월요일  \n",
      "2    0  월요일  \n",
      "3    0  월요일  \n",
      "4    0  월요일  \n",
      "..  ..  ...  \n",
      "305  2  수요일  \n",
      "306  2  수요일  \n",
      "307  2  수요일  \n",
      "308  2  수요일  \n",
      "309  2  수요일  \n",
      "\n",
      "[310 rows x 10 columns]\n",
      "월요일\n",
      "클릭 수가 제일 많은 요일은 월요일 입니다.\n"
     ]
    }
   ],
   "source": [
    "#2-2\n",
    "product[2] = pd.to_datetime(product[0],format='%Y%m%d%H%M')\n",
    "product['year'] = product[2].dt.year\n",
    "product['month'] =product[2].dt.month\n",
    "product['day'] =product[2].dt.day\n",
    "product['hour'] =product[2].dt.hour\n",
    "product['minute'] =product[2].dt.minute\n",
    "daystring=['월요일','화요일','수요일','목요일','금요일','토요일','일요일']\n",
    "product[3] = product.apply(lambda x: datetime.date(x['year'], x['month'], x['day']).weekday(),axis=1)\n",
    "product[4] = product.apply(lambda x: daystring[x[3]],axis=1)\n",
    "date = product[4].value_counts()\n",
    "date = pd.DataFrame(date)\n",
    "print(product)\n",
    "print(date.index[0])\n",
    "print('클릭 수가 제일 많은 요일은',date.index[0],'입니다.')"
   ]
  },
  {
   "cell_type": "code",
   "execution_count": 293,
   "metadata": {},
   "outputs": [
    {
     "name": "stdout",
     "output_type": "stream",
     "text": [
      "11    120\n",
      "9     110\n",
      "10     80\n",
      "Name: hour, dtype: int64\n",
      "11시와 12시 사이에 제일 많이 클릭했습니다.\n"
     ]
    }
   ],
   "source": [
    "#2-3\n",
    "hour = product['hour'].value_counts()\n",
    "print(hour)\n",
    "hour = product['hour'].value_counts().index[0]\n",
    "print(f\"{hour}시와 {hour+1}시 사이에 제일 많이 클릭했습니다.\")"
   ]
  },
  {
   "cell_type": "code",
   "execution_count": 328,
   "metadata": {},
   "outputs": [
    {
     "data": {
      "text/plain": [
       "deptno\n",
       "10     8750\n",
       "20    10875\n",
       "30     9400\n",
       "Name: sal, dtype: int64"
      ]
     },
     "execution_count": 328,
     "metadata": {},
     "output_type": "execute_result"
    }
   ],
   "source": [
    "#3-1\n",
    "emp = pd.read_csv('data/emp.csv')\n",
    "emp.groupby('deptno')['sal'].sum()"
   ]
  },
  {
   "cell_type": "code",
   "execution_count": 330,
   "metadata": {},
   "outputs": [
    {
     "data": {
      "text/plain": [
       "job\n",
       "ANALYST      6000\n",
       "CLERK        4150\n",
       "MANAGER      8275\n",
       "PRESIDENT    5000\n",
       "SALESMAN     5600\n",
       "Name: sal, dtype: int64"
      ]
     },
     "metadata": {},
     "output_type": "display_data"
    },
    {
     "name": "stderr",
     "output_type": "stream",
     "text": [
      "<ipython-input-330-326e1adbfe1f>:4: FutureWarning: Indexing with multiple keys (implicitly converted to a tuple of keys) will be deprecated, use a list instead.\n",
      "  emp.groupby(['deptno','job'])['sal','hiredate'].max()\n"
     ]
    },
    {
     "data": {
      "text/html": [
       "<div>\n",
       "<style scoped>\n",
       "    .dataframe tbody tr th:only-of-type {\n",
       "        vertical-align: middle;\n",
       "    }\n",
       "\n",
       "    .dataframe tbody tr th {\n",
       "        vertical-align: top;\n",
       "    }\n",
       "\n",
       "    .dataframe thead th {\n",
       "        text-align: right;\n",
       "    }\n",
       "</style>\n",
       "<table border=\"1\" class=\"dataframe\">\n",
       "  <thead>\n",
       "    <tr style=\"text-align: right;\">\n",
       "      <th></th>\n",
       "      <th></th>\n",
       "      <th>sal</th>\n",
       "      <th>hiredate</th>\n",
       "    </tr>\n",
       "    <tr>\n",
       "      <th>deptno</th>\n",
       "      <th>job</th>\n",
       "      <th></th>\n",
       "      <th></th>\n",
       "    </tr>\n",
       "  </thead>\n",
       "  <tbody>\n",
       "    <tr>\n",
       "      <th rowspan=\"3\" valign=\"top\">10</th>\n",
       "      <th>CLERK</th>\n",
       "      <td>1300</td>\n",
       "      <td>1982-01-25</td>\n",
       "    </tr>\n",
       "    <tr>\n",
       "      <th>MANAGER</th>\n",
       "      <td>2450</td>\n",
       "      <td>1981-09-06</td>\n",
       "    </tr>\n",
       "    <tr>\n",
       "      <th>PRESIDENT</th>\n",
       "      <td>5000</td>\n",
       "      <td>1981-11-17</td>\n",
       "    </tr>\n",
       "    <tr>\n",
       "      <th rowspan=\"3\" valign=\"top\">20</th>\n",
       "      <th>ANALYST</th>\n",
       "      <td>3000</td>\n",
       "      <td>1982-12-08</td>\n",
       "    </tr>\n",
       "    <tr>\n",
       "      <th>CLERK</th>\n",
       "      <td>1100</td>\n",
       "      <td>1983-01-12</td>\n",
       "    </tr>\n",
       "    <tr>\n",
       "      <th>MANAGER</th>\n",
       "      <td>2975</td>\n",
       "      <td>1981-03-02</td>\n",
       "    </tr>\n",
       "    <tr>\n",
       "      <th rowspan=\"3\" valign=\"top\">30</th>\n",
       "      <th>CLERK</th>\n",
       "      <td>950</td>\n",
       "      <td>1981-12-03</td>\n",
       "    </tr>\n",
       "    <tr>\n",
       "      <th>MANAGER</th>\n",
       "      <td>2850</td>\n",
       "      <td>1981-05-01</td>\n",
       "    </tr>\n",
       "    <tr>\n",
       "      <th>SALESMAN</th>\n",
       "      <td>1600</td>\n",
       "      <td>1984-10-08</td>\n",
       "    </tr>\n",
       "  </tbody>\n",
       "</table>\n",
       "</div>"
      ],
      "text/plain": [
       "                   sal    hiredate\n",
       "deptno job                        \n",
       "10     CLERK      1300  1982-01-25\n",
       "       MANAGER    2450  1981-09-06\n",
       "       PRESIDENT  5000  1981-11-17\n",
       "20     ANALYST    3000  1982-12-08\n",
       "       CLERK      1100  1983-01-12\n",
       "       MANAGER    2975  1981-03-02\n",
       "30     CLERK       950  1981-12-03\n",
       "       MANAGER    2850  1981-05-01\n",
       "       SALESMAN   1600  1984-10-08"
      ]
     },
     "execution_count": 330,
     "metadata": {},
     "output_type": "execute_result"
    }
   ],
   "source": [
    "#3-2\n",
    "display(emp.groupby('job')['sal'].sum())\n",
    "#3-3\n",
    "emp.groupby(['deptno','job'])['sal','hiredate'].max()"
   ]
  },
  {
   "cell_type": "code",
   "execution_count": null,
   "metadata": {},
   "outputs": [],
   "source": [
    "#3-4"
   ]
  }
 ],
 "metadata": {
  "kernelspec": {
   "display_name": "pydatavenv",
   "language": "python",
   "name": "pydatavenv"
  },
  "language_info": {
   "codemirror_mode": {
    "name": "ipython",
    "version": 3
   },
   "file_extension": ".py",
   "mimetype": "text/x-python",
   "name": "python",
   "nbconvert_exporter": "python",
   "pygments_lexer": "ipython3",
   "version": "3.8.8"
  }
 },
 "nbformat": 4,
 "nbformat_minor": 4
}

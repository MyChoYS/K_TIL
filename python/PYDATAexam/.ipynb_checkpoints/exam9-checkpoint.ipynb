{
 "cells": [
  {
   "cell_type": "markdown",
   "metadata": {},
   "source": [
    "### <span style=\"color:red\">Series와 DataFrame에 함수 적용하기</span>\n",
    "#### map 함수 : Series에서 사용하며 모든 요소에 함수 일괄 적용\n",
    "#### apply 함수 : DataFrame에서 사용하며 각각의 행 또는 열(Series)에 함수 일괄 적용\n",
    "#### applymap 함수 : DataFrame에서 사용하며 모든 요소에 함수 일괄 적용"
   ]
  },
  {
   "cell_type": "code",
   "execution_count": null,
   "metadata": {},
   "outputs": [],
   "source": [
    "# 예제 6-1\n",
    "import seaborn as sns\n",
    "\n",
    "# titanic 데이터셋에서 age, fare 2개 열을 선택하여 데이터프레임 만들기\n",
    "titanic = sns.load_dataset('titanic')\n",
    "df = titanic.loc[:, ['age','fare']]\n",
    "df['ten'] = 10\n",
    "print(df.head())\n",
    "print('\\n')\n",
    "\n",
    "# 사용자 함수 정의\n",
    "def add_10(n):   # 10을 더하는 함수\n",
    "    return n + 10\n",
    "\n",
    "def add_two_obj(a, b):    # 두 객체의 합\n",
    "    return a + b\n",
    "\n",
    "print(add_10(10))\n",
    "print(add_two_obj(10, 10))\n",
    "print('\\n')\n",
    "\n",
    "# 시리즈 객체에 적용\n",
    "sr1 = df['age'].apply(add_10)               # n = df['age']의 모든 원소\n",
    "print(sr1.head())\n",
    "print('\\n')\n",
    "  \n",
    "# 시리즈 객체와 숫자에 적용 : 2개의 인수(시리즈 + 숫자)\n",
    "sr2 = df['age'].apply(add_two_obj, b=10)    # a=df['age']의 모든 원소, b=10\n",
    "print(sr2.head())\n",
    "print('\\n')\n",
    "\n",
    "# 람다 함수 활용: 시리즈 객체에 적용\n",
    "sr3 = df['age'].apply(lambda x: add_10(x))  # x=df['age']\n",
    "print(sr3.head())\n"
   ]
  },
  {
   "cell_type": "code",
   "execution_count": null,
   "metadata": {},
   "outputs": [],
   "source": [
    "# 예제 6-2\n",
    "import seaborn as sns\n",
    "\n",
    "# titanic 데이터셋에서 age, fare 2개 열을 선택하여 데이터프레임 만들기\n",
    "titanic = sns.load_dataset('titanic')\n",
    "df = titanic.loc[:, ['age','fare']]\n",
    "print(df.head())\n",
    "print('\\n')\n",
    "\n",
    "# 사용자 함수 정의\n",
    "def add_10(n):   # 10을 더하는 함수\n",
    "    return n + 10\n",
    "    \n",
    "# 데이터프레임에 applymap()으로 add_10() 함수를 매핑 적용\n",
    "df_map = df.applymap(add_10)   \n",
    "print(df_map.head())\n"
   ]
  },
  {
   "cell_type": "code",
   "execution_count": null,
   "metadata": {},
   "outputs": [],
   "source": [
    "# 예제 6-3\n",
    "import seaborn as sns\n",
    "\n",
    "# titanic 데이터셋에서 age, fare 2개 열을 선택하여 데이터프레임 만들기\n",
    "titanic = sns.load_dataset('titanic')\n",
    "df = titanic.loc[:, ['age','fare']]\n",
    "print(df.head())\n",
    "print('\\n')\n",
    "\n",
    "# 사용자 함수 정의\n",
    "def missing_value(series):    # 시리즈를 인수로 전달\n",
    "    return series.isnull()    # 불린 시리즈를 반환\n",
    "    \n",
    "# 데이터프레임의 각 열을 인수로 전달하면 데이터프레임을 반환\n",
    "result = df.apply(missing_value, axis=0)  \n",
    "print(result.head())\n",
    "print('\\n')\n",
    "print(type(result))"
   ]
  },
  {
   "cell_type": "code",
   "execution_count": null,
   "metadata": {},
   "outputs": [],
   "source": [
    "# 예제 6-4\n",
    "# 라이브러리 불러오기\n",
    "import seaborn as sns\n",
    "\n",
    "# titanic 데이터셋에서 age, fare 2개 열을 선택하여 데이터프레임 만들기\n",
    "titanic = sns.load_dataset('titanic')\n",
    "df = titanic.loc[:, ['age','fare']]\n",
    "print(df.head())\n",
    "print('\\n')\n",
    "\n",
    "# 사용자 함수 정의\n",
    "def min_max(x):    # 최대값 - 최소값\n",
    "    return x.max() - x.min()\n",
    "    \n",
    "# 데이터프레임의 각 열을 인수로 전달하면 시리즈를 반환\n",
    "result = df.apply(min_max)   #기본값 axis=0 \n",
    "print(result)\n",
    "print('\\n')\n",
    "print(type(result))"
   ]
  },
  {
   "cell_type": "code",
   "execution_count": null,
   "metadata": {},
   "outputs": [],
   "source": [
    "# 예제 6-5\n",
    "import seaborn as sns\n",
    "\n",
    "# titanic 데이터셋에서 age, fare 2개 열을 선택하여 데이터프레임 만들기\n",
    "titanic = sns.load_dataset('titanic')\n",
    "df = titanic.loc[:, ['age','fare']]\n",
    "df['ten'] = 10\n",
    "print(df.head())\n",
    "print('\\n')\n",
    "\n",
    "# 사용자 함수 정의\n",
    "def add_two_obj(a, b):    # 두 객체의 합\n",
    "    return a + b\n",
    "    \n",
    "# 데이터프레임의 2개 열을 선택하여 적용\n",
    "# x=df, a=df['age'], b=df['ten']\n",
    "df['add'] = df.apply(lambda x: add_two_obj(x['age'], x['ten']), axis=1)   \n",
    "print(df.head())"
   ]
  },
  {
   "cell_type": "code",
   "execution_count": null,
   "metadata": {},
   "outputs": [],
   "source": [
    "# 예제 6-6\n",
    "import seaborn as sns\n",
    "\n",
    "# titanic 데이터셋에서 age, fare 2개 열을 선택하여 데이터프레임 만들기\n",
    "titanic = sns.load_dataset('titanic')\n",
    "df = titanic.loc[:, ['age','fare']]\n",
    "\n",
    "# 각 열의 NaN 찾기 - 데이터프레임 전달하면 데이터프레임을 반환\n",
    "def missing_value(x):    \n",
    "    return x.isnull()    \n",
    "\n",
    "# 각 열의 NaN 개수 반환 - 데이터프레임 전달하면 시리즈 반환\n",
    "def missing_count(x):    # \n",
    "    return missing_value(x).sum()\n",
    "\n",
    "# 데이터프레임의 총 NaN 개수 - 데이터프레임 전달하면 값을 반환\n",
    "def totoal_number_missing(x):    \n",
    "    return missing_count(x).sum()\n",
    "    \n",
    "# 데이터프레임에 pipe() 메소드로 함수 매핑\n",
    "result_df = df.pipe(missing_value)   \n",
    "print(result_df.head())\n",
    "print(type(result_df))\n",
    "print('\\n')\n",
    "\n",
    "result_series = df.pipe(missing_count)   \n",
    "print(result_series)\n",
    "print(type(result_series))\n",
    "print('\\n')\n",
    "\n",
    "result_value = df.pipe(totoal_number_missing)   \n",
    "print(result_value)\n",
    "print(type(result_value))"
   ]
  },
  {
   "cell_type": "code",
   "execution_count": null,
   "metadata": {},
   "outputs": [],
   "source": [
    "df = pd.DataFrame({'a': [10, 20, 30], 'b': [20, 30, 40]}) \n",
    "display(df)"
   ]
  },
  {
   "cell_type": "code",
   "execution_count": null,
   "metadata": {},
   "outputs": [],
   "source": [
    "def print_me(x): \n",
    "    print(\"\\n\")\n",
    "    print(\"***\"+str(x)+\"***\")\n",
    "    print(\"\\n\")"
   ]
  },
  {
   "cell_type": "code",
   "execution_count": null,
   "metadata": {},
   "outputs": [],
   "source": [
    "print(df.apply(print_me, axis=0))"
   ]
  },
  {
   "cell_type": "code",
   "execution_count": null,
   "metadata": {},
   "outputs": [],
   "source": [
    "print(df.apply(print_me, axis=1))"
   ]
  },
  {
   "cell_type": "code",
   "execution_count": null,
   "metadata": {},
   "outputs": [],
   "source": [
    "import seaborn as sns\n",
    "\n",
    "titanic = sns.load_dataset(\"titanic\")\n",
    "print(titanic.info())"
   ]
  },
  {
   "cell_type": "code",
   "execution_count": null,
   "metadata": {},
   "outputs": [],
   "source": [
    "import numpy as np\n",
    "\n",
    "def count_missing(vec):\n",
    "    null_vec = pd.isnull(vec)\n",
    "    null_count = np.sum(null_vec)\n",
    "    return null_count"
   ]
  },
  {
   "cell_type": "code",
   "execution_count": null,
   "metadata": {},
   "outputs": [],
   "source": [
    "cmis_col = titanic.apply(count_missing)\n",
    "print(cmis_col)"
   ]
  },
  {
   "cell_type": "code",
   "execution_count": null,
   "metadata": {},
   "outputs": [],
   "source": [
    "def prop_missing(vec):\n",
    "    num = count_missing(vec)\n",
    "    dem = vec.size\n",
    "    return num / dem"
   ]
  },
  {
   "cell_type": "code",
   "execution_count": null,
   "metadata": {},
   "outputs": [],
   "source": [
    "pmis_col = titanic.apply(prop_missing)\n",
    "print(pmis_col)"
   ]
  },
  {
   "cell_type": "markdown",
   "metadata": {},
   "source": [
    "### 시리즈객체.map(함수)\n",
    "<img src='images/map.jpg' width=400 height=300>"
   ]
  },
  {
   "cell_type": "markdown",
   "metadata": {},
   "source": [
    "### 데이터프레임객체.applymap(함수)\n",
    "<img src='images/applymap.jpg' width=400 height=300>"
   ]
  },
  {
   "cell_type": "markdown",
   "metadata": {},
   "source": [
    "### 시리즈객체.apply(함수), 데이터프레임객체.apply(함수, axis=0 또는 1)\n",
    "<img src='images/apply.jpg' width=400 height=300>"
   ]
  },
  {
   "cell_type": "code",
   "execution_count": null,
   "metadata": {},
   "outputs": [],
   "source": []
  },
  {
   "cell_type": "code",
   "execution_count": 1,
   "metadata": {},
   "outputs": [
    {
     "name": "stdout",
     "output_type": "stream",
     "text": [
      "   survived  pclass     sex   age\n",
      "0         0       3    male  22.0\n",
      "1         1       1  female  38.0\n",
      "2         1       3  female  26.0\n",
      "3         1       1  female  35.0\n",
      "4         0       3    male  35.0 \n",
      "\n",
      "['survived', 'pclass', 'sex', 'age'] \n",
      "\n",
      "    age  pclass     sex  survived\n",
      "0  22.0       3    male         0\n",
      "1  38.0       1  female         1\n",
      "2  26.0       3  female         1\n",
      "3  35.0       1  female         1\n",
      "4  35.0       3    male         0 \n",
      "\n",
      "    age     sex  pclass  survived\n",
      "0  22.0    male       3         0\n",
      "1  38.0  female       1         1\n",
      "2  26.0  female       3         1\n",
      "3  35.0  female       1         1\n",
      "4  35.0    male       3         0 \n",
      "\n",
      "   pclass     sex   age  survived\n",
      "0       3    male  22.0         0\n",
      "1       1  female  38.0         1\n",
      "2       3  female  26.0         1\n",
      "3       1  female  35.0         1\n",
      "4       3    male  35.0         0\n"
     ]
    }
   ],
   "source": [
    "# 예제 6-7\n",
    "import seaborn as sns\n",
    "\n",
    "# titanic 데이터셋의 부분을 선택하여 데이터프레임 만들기\n",
    "titanic = sns.load_dataset('titanic')\n",
    "df = titanic.loc[0:4, 'survived':'age']\n",
    "print(df, '\\n')\n",
    "\n",
    "# 열 이름의 리스트 만들기\n",
    "columns = list(df.columns.values)   #기존 열 이름\n",
    "print(columns, '\\n')\n",
    "\n",
    "# 열 이름을 알파벳 순으로 정렬하기\n",
    "columns_sorted = sorted(columns)    #알파벳 순으로 정렬\n",
    "df_sorted = df[columns_sorted]\n",
    "print(df_sorted, '\\n')\n",
    "\n",
    "# 열 이름을 기존 순서의 정반대 역순으로 정렬하기\n",
    "columns_reversed = list(reversed(columns))  \n",
    "df_reversed = df[columns_reversed]\n",
    "print(df_reversed, '\\n')\n",
    "\n",
    "# 열 이름을 사용자가 정의한 임의의 순서로 재배치하기\n",
    "columns_customed = ['pclass', 'sex', 'age', 'survived']  \n",
    "df_customed = df[columns_customed]\n",
    "print(df_customed)\n"
   ]
  },
  {
   "cell_type": "code",
   "execution_count": null,
   "metadata": {},
   "outputs": [],
   "source": [
    "# 예제 6-8\n",
    "import pandas as pd\n",
    "\n",
    "# 데이터셋 가져오기\n",
    "df = pd.read_excel('./data/주가데이터.xlsx')\n",
    "print(df.head(), '\\n')\n",
    "print(df.dtypes, '\\n')\n",
    "\n",
    "# 연, 월, 일 데이터 분리하기\n",
    "df['연월일'] = df['연월일'].astype('str')   # 문자열 메소드 사용을 자료형 변경\n",
    "print(df.head(), '\\n')\n",
    "dates = df['연월일'].str.split('-')        # 문자열을 split() 메서드로 분리\n",
    "print(dates.head(), '\\n')\n",
    "\n",
    "# 분리된 정보를 각각 새로운 열에 담아서 df에 추가하기\n",
    "df['연'] = dates.str.get(0)     # dates 변수의 원소 리스트의 0번째 인덱스 값\n",
    "df['월'] = dates.str.get(1)     # dates 변수의 원소 리스트의 1번째 인덱스 값 \n",
    "df['일'] = dates.str.get(2)     # dates 변수의 원소 리스트의 2번째 인덱스 값\n",
    "print(df.head())"
   ]
  },
  {
   "cell_type": "code",
   "execution_count": null,
   "metadata": {},
   "outputs": [],
   "source": [
    "df = pd.DataFrame(np.array(([1, 2, 3], [4, 5, 6])),\n",
    "                  index=['mouse', 'rabbit'],\n",
    "                  columns=['one', 'two', 'three'])\n",
    "\n",
    "df "
   ]
  },
  {
   "cell_type": "code",
   "execution_count": null,
   "metadata": {},
   "outputs": [],
   "source": [
    "df.filter(items=['one', 'three'])"
   ]
  },
  {
   "cell_type": "code",
   "execution_count": null,
   "metadata": {},
   "outputs": [],
   "source": [
    "df.filter(regex='e$', axis=1)"
   ]
  },
  {
   "cell_type": "code",
   "execution_count": null,
   "metadata": {},
   "outputs": [],
   "source": [
    "df.filter(regex='t$', axis=0)"
   ]
  },
  {
   "cell_type": "code",
   "execution_count": null,
   "metadata": {},
   "outputs": [],
   "source": [
    "df.filter(like='bbi', axis=0)"
   ]
  },
  {
   "cell_type": "code",
   "execution_count": null,
   "metadata": {},
   "outputs": [],
   "source": [
    "df.filter(like='e', axis=1)"
   ]
  },
  {
   "cell_type": "code",
   "execution_count": null,
   "metadata": {},
   "outputs": [],
   "source": [
    "df.loc[[True,True], :]"
   ]
  },
  {
   "cell_type": "code",
   "execution_count": null,
   "metadata": {},
   "outputs": [],
   "source": [
    "df.loc[[True,False], :]"
   ]
  },
  {
   "cell_type": "code",
   "execution_count": null,
   "metadata": {},
   "outputs": [],
   "source": [
    "df.loc[[False, False], :]"
   ]
  },
  {
   "cell_type": "code",
   "execution_count": null,
   "metadata": {},
   "outputs": [],
   "source": [
    "df.loc[df.one > 2, :]"
   ]
  },
  {
   "cell_type": "code",
   "execution_count": null,
   "metadata": {},
   "outputs": [],
   "source": [
    "df.loc[(df.one > 2) & (df.three > 2), :]"
   ]
  },
  {
   "cell_type": "code",
   "execution_count": null,
   "metadata": {},
   "outputs": [],
   "source": [
    "df.loc[(df.one < 5) | (df.three > 2), :]"
   ]
  },
  {
   "cell_type": "code",
   "execution_count": null,
   "metadata": {},
   "outputs": [],
   "source": [
    "# 예제 6-9\n",
    "import seaborn as sns\n",
    "\n",
    "# titanic 데이터셋 로딩\n",
    "titanic = sns.load_dataset('titanic')\n",
    "\n",
    "# 나이가 10대(10~19세)인 승객만 따로 선택\n",
    "mask1 = (titanic.age >= 10) & (titanic.age < 20)\n",
    "df_teenage = titanic.loc[mask1, :]\n",
    "print(df_teenage.head())\n",
    "print('\\n')\n",
    "\n",
    "# 나이가 10세 미만(0~9세)이고 여성인 승객만 따로 선택\n",
    "mask2 = (titanic.age < 10) & (titanic.sex == 'female')\n",
    "df_female_under10 = titanic.loc[mask2, :]\n",
    "print(df_female_under10.head())\n",
    "print('\\n')\n",
    "\n",
    "# 나이가 10세 미만(0~9세) 또는 60세 이상인 승객의 age, sex, alone 열만 선택\n",
    "mask3 = (titanic.age < 10) | (titanic.age >= 60)\n",
    "df_under10_morethan60 = titanic.loc[mask3, ['age', 'sex', 'alone']]\n",
    "print(df_under10_morethan60.head())"
   ]
  },
  {
   "cell_type": "markdown",
   "metadata": {},
   "source": [
    "### 시리즈객체.isin(리스트)\n",
    "<img src='images/isin.jpg' width=500 height=400>"
   ]
  },
  {
   "cell_type": "code",
   "execution_count": null,
   "metadata": {},
   "outputs": [],
   "source": []
  },
  {
   "cell_type": "code",
   "execution_count": null,
   "metadata": {},
   "outputs": [],
   "source": [
    "# 예제 6-10\n",
    "import seaborn as sns\n",
    "import pandas as pd\n",
    "\n",
    "# titanic 데이터셋 로딩\n",
    "titanic = sns.load_dataset('titanic')\n",
    "\n",
    "# IPyhton 디스플레이 설정 변경 - 출력할 최대 열의 개수\n",
    "pd.set_option('display.max_columns', 10)  \n",
    "    \n",
    "# 함께 탑승한 형제 또는 배우자의 수가 3, 4, 5인 승객만 따로 추출 - 불린 인덱싱\n",
    "mask3 = titanic['sibsp'] == 3\n",
    "mask4 = titanic['sibsp'] == 4\n",
    "mask5 = titanic['sibsp'] == 5\n",
    "df_boolean = titanic[mask3 | mask4 | mask5]\n",
    "print(df_boolean.head())\n",
    "print('\\n')\n",
    "\n",
    "# isin() 메서드 활용하여 동일한 조건으로 추출\n",
    "isin_filter = titanic['sibsp'].isin([3, 4, 5])\n",
    "df_isin = titanic[isin_filter]\n",
    "print(df_isin.head())\n"
   ]
  },
  {
   "cell_type": "code",
   "execution_count": null,
   "metadata": {},
   "outputs": [],
   "source": [
    "df1 = pd.DataFrame({'key': ['a','b','c','f'], \n",
    "                    'c1':[1,2,3,5]})\n",
    "df2 = pd.DataFrame({'key': ['a','b','d','f'],\n",
    "                    'c2':[5,6,7,8]})"
   ]
  },
  {
   "cell_type": "code",
   "execution_count": null,
   "metadata": {},
   "outputs": [],
   "source": [
    "df1.merge(df2)"
   ]
  },
  {
   "cell_type": "code",
   "execution_count": null,
   "metadata": {},
   "outputs": [],
   "source": [
    "df1.merge(df2, how='left')"
   ]
  },
  {
   "cell_type": "code",
   "execution_count": null,
   "metadata": {},
   "outputs": [],
   "source": [
    "df1.merge(df2, how='right')"
   ]
  },
  {
   "cell_type": "code",
   "execution_count": null,
   "metadata": {},
   "outputs": [],
   "source": [
    "df1.merge(df2, how=\"outer\")"
   ]
  },
  {
   "cell_type": "code",
   "execution_count": null,
   "metadata": {},
   "outputs": [],
   "source": [
    "df3 = pd.DataFrame({'key3': ['a','b','c','f'],\n",
    "                    'c1':[1,2,3,5]})\n",
    "df4 = pd.DataFrame({'key4': ['a','b','d','f'],\n",
    "                    'c2':[5,6,7,8]})"
   ]
  },
  {
   "cell_type": "code",
   "execution_count": null,
   "metadata": {},
   "outputs": [],
   "source": [
    "df3.merge(df4, left_on='key3', right_on='key4')"
   ]
  },
  {
   "cell_type": "code",
   "execution_count": null,
   "metadata": {},
   "outputs": [],
   "source": [
    "df3.merge(df4, left_index=True, right_index=True)"
   ]
  },
  {
   "cell_type": "code",
   "execution_count": null,
   "metadata": {},
   "outputs": [],
   "source": [
    "df1 = pd.DataFrame({'c1': [1,2,3,4], 'c2': [5,6,7,8]})\n",
    "df2 = pd.DataFrame({'c3': ['a','b','c','d'],\n",
    "                    'c4': [1.2,3.4,5.5,7.6]})"
   ]
  },
  {
   "cell_type": "code",
   "execution_count": null,
   "metadata": {},
   "outputs": [],
   "source": [
    "pd.concat([df1,df2], axis=1)"
   ]
  },
  {
   "cell_type": "code",
   "execution_count": null,
   "metadata": {},
   "outputs": [],
   "source": [
    "pd.concat([df1,df2], axis=0)"
   ]
  },
  {
   "cell_type": "code",
   "execution_count": null,
   "metadata": {},
   "outputs": [],
   "source": [
    "df1 = pd.DataFrame({'c1': [1,2,3,4], \n",
    "                    'c2': [5,6,7,8]},\n",
    "                   index=[0,2,4,6])\n",
    "df2 = pd.DataFrame({'c3': ['a','b','c','d'],\n",
    "                    'c4': [1.2,3.4,5.5,7.6]},\n",
    "                   index=[0,1,2,3])"
   ]
  },
  {
   "cell_type": "code",
   "execution_count": null,
   "metadata": {},
   "outputs": [],
   "source": [
    "pd.concat([df1, df2], axis=1)"
   ]
  },
  {
   "cell_type": "code",
   "execution_count": null,
   "metadata": {},
   "outputs": [],
   "source": [
    "# 예제 6-11\n",
    "import pandas as pd\n",
    "\n",
    "# 데이터프레임 만들기\n",
    "df1 = pd.DataFrame({'a': ['a0', 'a1', 'a2', 'a3'],\n",
    "                    'b': ['b0', 'b1', 'b2', 'b3'],\n",
    "                    'c': ['c0', 'c1', 'c2', 'c3']},\n",
    "                    index=[0, 1, 2, 3])\n",
    " \n",
    "df2 = pd.DataFrame({'a': ['a2', 'a3', 'a4', 'a5'],\n",
    "                    'b': ['b2', 'b3', 'b4', 'b5'],\n",
    "                    'c': ['c2', 'c3', 'c4', 'c5'],\n",
    "                    'd': ['d2', 'd3', 'd4', 'd5']},\n",
    "                    index=[2, 3, 4, 5])\n",
    "\n",
    "print(df1, '\\n')\n",
    "print(df2, '\\n')\n",
    "\n",
    "# 2개의 데이터프레임을 위 아래 행 방향으로 이어 붙이듯 연결하기 \n",
    "result1 = pd.concat([df1, df2])\n",
    "print(result1, '\\n')\n",
    "\n",
    "\n",
    "# ignore_index=True 옵션 설정하기 \n",
    "result2 = pd.concat([df1, df2], ignore_index=True)\n",
    "print(result2, '\\n')\n",
    "\n",
    "# 2개의 데이터프레임을 좌우 열 방향으로 이어 붙이듯 연결하기 \n",
    "result3 = pd.concat([df1, df2], axis=1)\n",
    "print(result3, '\\n')\n",
    "\n",
    "# join='inner' 옵션 적용하기(교집합)\n",
    "result3_in = pd.concat([df1, df2], axis=1, join='inner')\n",
    "print(result3_in, '\\n')\n",
    "\n",
    "# 시리즈 만들기\n",
    "sr1 = pd.Series(['e0', 'e1', 'e2', 'e3'], name='e')\n",
    "sr2 = pd.Series(['f0', 'f1', 'f2'], name='f', index=[3, 4, 5])\n",
    "sr3 = pd.Series(['g0', 'g1', 'g2', 'g3'], name='g')\n",
    "\n",
    "# df1과 sr1을 좌우 열 방향으로 연결하기\n",
    "result4 = pd.concat([df1, sr1], axis=1)\n",
    "print(result4, '\\n')\n",
    "\n",
    "# df2과 sr2을 좌우 열 방향으로 연결하기\n",
    "result5 = pd.concat([df2, sr2], axis=1, sort=True)\n",
    "print(result5, '\\n')\n",
    "\n",
    "# sr1과 sr3을 좌우 열 방향으로 연결하기\n",
    "result6 = pd.concat([sr1, sr3], axis=1)\n",
    "print(result6, '\\n')\n",
    "\n",
    "result7 = pd.concat([sr1, sr3], axis=0)\n",
    "print(result7, '\\n')\n"
   ]
  },
  {
   "cell_type": "code",
   "execution_count": null,
   "metadata": {},
   "outputs": [],
   "source": [
    "# 예제 6-12\n",
    "import pandas as pd\n",
    "\n",
    "# IPyhton 디스플레이 설정 변경 \n",
    "pd.set_option('display.max_columns', 10)                  # 출력할 최대 열의 개수\n",
    "pd.set_option('display.max_colwidth', 20)                 # 출력할 열의 너비\n",
    "pd.set_option('display.unicode.east_asian_width', True)   # 유니코드 사용 너비 조정\n",
    "\n",
    "# 주식 데이터를 가져와서 데이터프레임 만들기\n",
    "df1 = pd.read_excel('./data/stock price.xlsx')\n",
    "df2 = pd.read_excel('./data/stock valuation.xlsx')\n",
    "\n",
    "print(df1)\n",
    "print('\\n')\n",
    "print(df2)\n",
    "print('\\n')\n",
    "\n",
    "# 데이터프레임 합치기 - 교집합\n",
    "merge_inner = pd.merge(df1, df2)\n",
    "print(merge_inner)\n",
    "print('\\n')\n",
    "\n",
    "# 데이터프레임 합치기 - 합집합\n",
    "merge_outer = pd.merge(df1, df2, how='outer', on='id')\n",
    "print(merge_outer)\n",
    "print('\\n')\n",
    "\n",
    "# 데이터프레임 합치기 - 왼쪽 데이터프레임 기준, 키 값 분리\n",
    "merge_left = pd.merge(df1, df2, how='left', left_on='stock_name', right_on='name')\n",
    "print(merge_left)\n",
    "print('\\n')\n",
    "\n",
    "# 데이터프레임 합치기 - 오른쪽 데이터프레임 기준, 키 값 분리\n",
    "merge_right = pd.merge(df1, df2, how='right', left_on='stock_name', right_on='name')\n",
    "print(merge_right)\n",
    "print('\\n')\n",
    "\n",
    "# 불린 인덱싱과 결합하여 원하는 데이터 찾기\n",
    "price = df1[df1['price'] < 50000]\n",
    "print(price.head())\n",
    "print('\\n')\n",
    "\n",
    "value = pd.merge(price, df2)\n",
    "print(value)\n"
   ]
  },
  {
   "cell_type": "code",
   "execution_count": null,
   "metadata": {},
   "outputs": [],
   "source": [
    "# 예제 6-13\n",
    "import pandas as pd\n",
    "\n",
    "# IPyhton 디스플레이 설정 변경 \n",
    "pd.set_option('display.max_columns', 10)                  # 출력할 최대 열의 개수\n",
    "pd.set_option('display.max_colwidth', 20)                 # 출력할 열의 너비\n",
    "pd.set_option('display.unicode.east_asian_width', True)   # 유니코드 사용 너비 조정\n",
    "\n",
    "# 주식 데이터를 가져와서 데이터프레임 만들기\n",
    "df1 = pd.read_excel('./data/stock price.xlsx', index_col='id')\n",
    "df2 = pd.read_excel('./data/stock valuation.xlsx', index_col='id')\n",
    "\n",
    "# 데이터프레임 결합(join)\n",
    "df3 = df1.join(df2)\n",
    "print(df3)\n",
    "print('\\n')\n",
    "\n",
    "# 데이터프레임 결합(join) - 교집합\n",
    "df4 = df1.join(df2, how='inner')\n",
    "print(df4)"
   ]
  },
  {
   "cell_type": "markdown",
   "metadata": {},
   "source": [
    "### 분할 : 데이터프레임객체.groupby(기준열 또는 기준이 되는 열리스트)\n",
    "### 적용-결합 \n",
    "#### 그룹별 데이터 집계 : mean(), max(), min(), sum(), count(), size(), var(), std(), describe(), info(), agg(사용자정의함수),  agg(함수들)\n",
    "#### 그룹의 원소별 데이터 집계 : transform(함수)\n",
    "#### 그룹 필터링 : filter(조건식함수)\n",
    "#### 그룹에 함수매핑 : appley(매핑함수)"
   ]
  },
  {
   "cell_type": "markdown",
   "metadata": {},
   "source": [
    "<img src='images/groupby1.jpg' width=500 height=400>"
   ]
  },
  {
   "cell_type": "code",
   "execution_count": 1,
   "metadata": {},
   "outputs": [
    {
     "data": {
      "text/html": [
       "<div>\n",
       "<style scoped>\n",
       "    .dataframe tbody tr th:only-of-type {\n",
       "        vertical-align: middle;\n",
       "    }\n",
       "\n",
       "    .dataframe tbody tr th {\n",
       "        vertical-align: top;\n",
       "    }\n",
       "\n",
       "    .dataframe thead th {\n",
       "        text-align: right;\n",
       "    }\n",
       "</style>\n",
       "<table border=\"1\" class=\"dataframe\">\n",
       "  <thead>\n",
       "    <tr style=\"text-align: right;\">\n",
       "      <th></th>\n",
       "      <th>city</th>\n",
       "      <th>fruits</th>\n",
       "      <th>price</th>\n",
       "      <th>quantity</th>\n",
       "    </tr>\n",
       "  </thead>\n",
       "  <tbody>\n",
       "    <tr>\n",
       "      <th>0</th>\n",
       "      <td>부산</td>\n",
       "      <td>apple</td>\n",
       "      <td>100</td>\n",
       "      <td>1</td>\n",
       "    </tr>\n",
       "    <tr>\n",
       "      <th>1</th>\n",
       "      <td>부산</td>\n",
       "      <td>orange</td>\n",
       "      <td>200</td>\n",
       "      <td>2</td>\n",
       "    </tr>\n",
       "    <tr>\n",
       "      <th>2</th>\n",
       "      <td>부산</td>\n",
       "      <td>banana</td>\n",
       "      <td>250</td>\n",
       "      <td>3</td>\n",
       "    </tr>\n",
       "    <tr>\n",
       "      <th>3</th>\n",
       "      <td>부산</td>\n",
       "      <td>banana</td>\n",
       "      <td>300</td>\n",
       "      <td>4</td>\n",
       "    </tr>\n",
       "    <tr>\n",
       "      <th>4</th>\n",
       "      <td>서울</td>\n",
       "      <td>apple</td>\n",
       "      <td>150</td>\n",
       "      <td>5</td>\n",
       "    </tr>\n",
       "    <tr>\n",
       "      <th>5</th>\n",
       "      <td>서울</td>\n",
       "      <td>apple</td>\n",
       "      <td>200</td>\n",
       "      <td>6</td>\n",
       "    </tr>\n",
       "    <tr>\n",
       "      <th>6</th>\n",
       "      <td>서울</td>\n",
       "      <td>banana</td>\n",
       "      <td>400</td>\n",
       "      <td>7</td>\n",
       "    </tr>\n",
       "  </tbody>\n",
       "</table>\n",
       "</div>"
      ],
      "text/plain": [
       "  city  fruits  price  quantity\n",
       "0   부산   apple    100         1\n",
       "1   부산  orange    200         2\n",
       "2   부산  banana    250         3\n",
       "3   부산  banana    300         4\n",
       "4   서울   apple    150         5\n",
       "5   서울   apple    200         6\n",
       "6   서울  banana    400         7"
      ]
     },
     "execution_count": 1,
     "metadata": {},
     "output_type": "execute_result"
    }
   ],
   "source": [
    "import pandas as pd\n",
    "import numpy as np\n",
    "df = pd.DataFrame({\n",
    "    'city': ['부산', '부산', '부산', '부산', '서울', '서울', '서울'],\n",
    "    'fruits': ['apple', 'orange', 'banana', 'banana', 'apple', 'apple', 'banana'],\n",
    "    'price': [100, 200, 250, 300, 150, 200, 400],\n",
    "    'quantity': [1, 2, 3, 4, 5, 6, 7]\n",
    "})\n",
    "df"
   ]
  },
  {
   "cell_type": "code",
   "execution_count": 2,
   "metadata": {},
   "outputs": [
    {
     "data": {
      "text/plain": [
       "<pandas.core.groupby.generic.DataFrameGroupBy object at 0x00000129D6C04748>"
      ]
     },
     "execution_count": 2,
     "metadata": {},
     "output_type": "execute_result"
    }
   ],
   "source": [
    "df.groupby('city')"
   ]
  },
  {
   "cell_type": "code",
   "execution_count": 3,
   "metadata": {},
   "outputs": [
    {
     "data": {
      "text/html": [
       "<div>\n",
       "<style scoped>\n",
       "    .dataframe tbody tr th:only-of-type {\n",
       "        vertical-align: middle;\n",
       "    }\n",
       "\n",
       "    .dataframe tbody tr th {\n",
       "        vertical-align: top;\n",
       "    }\n",
       "\n",
       "    .dataframe thead th {\n",
       "        text-align: right;\n",
       "    }\n",
       "</style>\n",
       "<table border=\"1\" class=\"dataframe\">\n",
       "  <thead>\n",
       "    <tr style=\"text-align: right;\">\n",
       "      <th></th>\n",
       "      <th>price</th>\n",
       "      <th>quantity</th>\n",
       "    </tr>\n",
       "    <tr>\n",
       "      <th>city</th>\n",
       "      <th></th>\n",
       "      <th></th>\n",
       "    </tr>\n",
       "  </thead>\n",
       "  <tbody>\n",
       "    <tr>\n",
       "      <th>부산</th>\n",
       "      <td>212.5</td>\n",
       "      <td>2.5</td>\n",
       "    </tr>\n",
       "    <tr>\n",
       "      <th>서울</th>\n",
       "      <td>250.0</td>\n",
       "      <td>6.0</td>\n",
       "    </tr>\n",
       "  </tbody>\n",
       "</table>\n",
       "</div>"
      ],
      "text/plain": [
       "      price  quantity\n",
       "city                 \n",
       "부산    212.5       2.5\n",
       "서울    250.0       6.0"
      ]
     },
     "execution_count": 3,
     "metadata": {},
     "output_type": "execute_result"
    }
   ],
   "source": [
    "df.groupby('city').mean()"
   ]
  },
  {
   "cell_type": "code",
   "execution_count": 4,
   "metadata": {},
   "outputs": [
    {
     "data": {
      "text/html": [
       "<div>\n",
       "<style scoped>\n",
       "    .dataframe tbody tr th:only-of-type {\n",
       "        vertical-align: middle;\n",
       "    }\n",
       "\n",
       "    .dataframe tbody tr th {\n",
       "        vertical-align: top;\n",
       "    }\n",
       "\n",
       "    .dataframe thead th {\n",
       "        text-align: right;\n",
       "    }\n",
       "</style>\n",
       "<table border=\"1\" class=\"dataframe\">\n",
       "  <thead>\n",
       "    <tr style=\"text-align: right;\">\n",
       "      <th></th>\n",
       "      <th>price</th>\n",
       "      <th>quantity</th>\n",
       "    </tr>\n",
       "    <tr>\n",
       "      <th>city</th>\n",
       "      <th></th>\n",
       "      <th></th>\n",
       "    </tr>\n",
       "  </thead>\n",
       "  <tbody>\n",
       "    <tr>\n",
       "      <th>부산</th>\n",
       "      <td>212.5</td>\n",
       "      <td>2.5</td>\n",
       "    </tr>\n",
       "    <tr>\n",
       "      <th>서울</th>\n",
       "      <td>250.0</td>\n",
       "      <td>6.0</td>\n",
       "    </tr>\n",
       "  </tbody>\n",
       "</table>\n",
       "</div>"
      ],
      "text/plain": [
       "      price  quantity\n",
       "city                 \n",
       "부산    212.5       2.5\n",
       "서울    250.0       6.0"
      ]
     },
     "execution_count": 4,
     "metadata": {},
     "output_type": "execute_result"
    }
   ],
   "source": [
    "df.groupby('city').agg('mean')"
   ]
  },
  {
   "cell_type": "code",
   "execution_count": 5,
   "metadata": {},
   "outputs": [
    {
     "data": {
      "text/html": [
       "<div>\n",
       "<style scoped>\n",
       "    .dataframe tbody tr th:only-of-type {\n",
       "        vertical-align: middle;\n",
       "    }\n",
       "\n",
       "    .dataframe tbody tr th {\n",
       "        vertical-align: top;\n",
       "    }\n",
       "\n",
       "    .dataframe thead th {\n",
       "        text-align: right;\n",
       "    }\n",
       "</style>\n",
       "<table border=\"1\" class=\"dataframe\">\n",
       "  <thead>\n",
       "    <tr style=\"text-align: right;\">\n",
       "      <th></th>\n",
       "      <th>price</th>\n",
       "      <th>quantity</th>\n",
       "    </tr>\n",
       "  </thead>\n",
       "  <tbody>\n",
       "    <tr>\n",
       "      <th>0</th>\n",
       "      <td>212.5</td>\n",
       "      <td>2.5</td>\n",
       "    </tr>\n",
       "    <tr>\n",
       "      <th>1</th>\n",
       "      <td>212.5</td>\n",
       "      <td>2.5</td>\n",
       "    </tr>\n",
       "    <tr>\n",
       "      <th>2</th>\n",
       "      <td>212.5</td>\n",
       "      <td>2.5</td>\n",
       "    </tr>\n",
       "    <tr>\n",
       "      <th>3</th>\n",
       "      <td>212.5</td>\n",
       "      <td>2.5</td>\n",
       "    </tr>\n",
       "    <tr>\n",
       "      <th>4</th>\n",
       "      <td>250.0</td>\n",
       "      <td>6.0</td>\n",
       "    </tr>\n",
       "    <tr>\n",
       "      <th>5</th>\n",
       "      <td>250.0</td>\n",
       "      <td>6.0</td>\n",
       "    </tr>\n",
       "    <tr>\n",
       "      <th>6</th>\n",
       "      <td>250.0</td>\n",
       "      <td>6.0</td>\n",
       "    </tr>\n",
       "  </tbody>\n",
       "</table>\n",
       "</div>"
      ],
      "text/plain": [
       "   price  quantity\n",
       "0  212.5       2.5\n",
       "1  212.5       2.5\n",
       "2  212.5       2.5\n",
       "3  212.5       2.5\n",
       "4  250.0       6.0\n",
       "5  250.0       6.0\n",
       "6  250.0       6.0"
      ]
     },
     "execution_count": 5,
     "metadata": {},
     "output_type": "execute_result"
    }
   ],
   "source": [
    "df.groupby('city').transform('mean')"
   ]
  },
  {
   "cell_type": "code",
   "execution_count": 6,
   "metadata": {},
   "outputs": [
    {
     "data": {
      "text/html": [
       "<div>\n",
       "<style scoped>\n",
       "    .dataframe tbody tr th:only-of-type {\n",
       "        vertical-align: middle;\n",
       "    }\n",
       "\n",
       "    .dataframe tbody tr th {\n",
       "        vertical-align: top;\n",
       "    }\n",
       "\n",
       "    .dataframe thead tr th {\n",
       "        text-align: left;\n",
       "    }\n",
       "\n",
       "    .dataframe thead tr:last-of-type th {\n",
       "        text-align: right;\n",
       "    }\n",
       "</style>\n",
       "<table border=\"1\" class=\"dataframe\">\n",
       "  <thead>\n",
       "    <tr>\n",
       "      <th></th>\n",
       "      <th colspan=\"3\" halign=\"left\">price</th>\n",
       "      <th colspan=\"3\" halign=\"left\">quantity</th>\n",
       "    </tr>\n",
       "    <tr>\n",
       "      <th></th>\n",
       "      <th>mean</th>\n",
       "      <th>max</th>\n",
       "      <th>min</th>\n",
       "      <th>mean</th>\n",
       "      <th>max</th>\n",
       "      <th>min</th>\n",
       "    </tr>\n",
       "    <tr>\n",
       "      <th>city</th>\n",
       "      <th></th>\n",
       "      <th></th>\n",
       "      <th></th>\n",
       "      <th></th>\n",
       "      <th></th>\n",
       "      <th></th>\n",
       "    </tr>\n",
       "  </thead>\n",
       "  <tbody>\n",
       "    <tr>\n",
       "      <th>부산</th>\n",
       "      <td>212.5</td>\n",
       "      <td>300</td>\n",
       "      <td>100</td>\n",
       "      <td>2.5</td>\n",
       "      <td>4</td>\n",
       "      <td>1</td>\n",
       "    </tr>\n",
       "    <tr>\n",
       "      <th>서울</th>\n",
       "      <td>250.0</td>\n",
       "      <td>400</td>\n",
       "      <td>150</td>\n",
       "      <td>6.0</td>\n",
       "      <td>7</td>\n",
       "      <td>5</td>\n",
       "    </tr>\n",
       "  </tbody>\n",
       "</table>\n",
       "</div>"
      ],
      "text/plain": [
       "      price           quantity        \n",
       "       mean  max  min     mean max min\n",
       "city                                  \n",
       "부산    212.5  300  100      2.5   4   1\n",
       "서울    250.0  400  150      6.0   7   5"
      ]
     },
     "execution_count": 6,
     "metadata": {},
     "output_type": "execute_result"
    }
   ],
   "source": [
    "df.groupby('city').agg(['mean', 'max', 'min'])"
   ]
  },
  {
   "cell_type": "code",
   "execution_count": 7,
   "metadata": {},
   "outputs": [
    {
     "data": {
      "text/html": [
       "<div>\n",
       "<style scoped>\n",
       "    .dataframe tbody tr th:only-of-type {\n",
       "        vertical-align: middle;\n",
       "    }\n",
       "\n",
       "    .dataframe tbody tr th {\n",
       "        vertical-align: top;\n",
       "    }\n",
       "\n",
       "    .dataframe thead th {\n",
       "        text-align: right;\n",
       "    }\n",
       "</style>\n",
       "<table border=\"1\" class=\"dataframe\">\n",
       "  <thead>\n",
       "    <tr style=\"text-align: right;\">\n",
       "      <th></th>\n",
       "      <th></th>\n",
       "      <th>price</th>\n",
       "      <th>quantity</th>\n",
       "    </tr>\n",
       "    <tr>\n",
       "      <th>city</th>\n",
       "      <th>fruits</th>\n",
       "      <th></th>\n",
       "      <th></th>\n",
       "    </tr>\n",
       "  </thead>\n",
       "  <tbody>\n",
       "    <tr>\n",
       "      <th rowspan=\"3\" valign=\"top\">부산</th>\n",
       "      <th>apple</th>\n",
       "      <td>100.0</td>\n",
       "      <td>1.0</td>\n",
       "    </tr>\n",
       "    <tr>\n",
       "      <th>banana</th>\n",
       "      <td>275.0</td>\n",
       "      <td>3.5</td>\n",
       "    </tr>\n",
       "    <tr>\n",
       "      <th>orange</th>\n",
       "      <td>200.0</td>\n",
       "      <td>2.0</td>\n",
       "    </tr>\n",
       "    <tr>\n",
       "      <th rowspan=\"2\" valign=\"top\">서울</th>\n",
       "      <th>apple</th>\n",
       "      <td>175.0</td>\n",
       "      <td>5.5</td>\n",
       "    </tr>\n",
       "    <tr>\n",
       "      <th>banana</th>\n",
       "      <td>400.0</td>\n",
       "      <td>7.0</td>\n",
       "    </tr>\n",
       "  </tbody>\n",
       "</table>\n",
       "</div>"
      ],
      "text/plain": [
       "             price  quantity\n",
       "city fruits                 \n",
       "부산   apple   100.0       1.0\n",
       "     banana  275.0       3.5\n",
       "     orange  200.0       2.0\n",
       "서울   apple   175.0       5.5\n",
       "     banana  400.0       7.0"
      ]
     },
     "execution_count": 7,
     "metadata": {},
     "output_type": "execute_result"
    }
   ],
   "source": [
    "df.groupby(['city', 'fruits']).mean()"
   ]
  },
  {
   "cell_type": "code",
   "execution_count": 9,
   "metadata": {},
   "outputs": [
    {
     "data": {
      "text/html": [
       "<div>\n",
       "<style scoped>\n",
       "    .dataframe tbody tr th:only-of-type {\n",
       "        vertical-align: middle;\n",
       "    }\n",
       "\n",
       "    .dataframe tbody tr th {\n",
       "        vertical-align: top;\n",
       "    }\n",
       "\n",
       "    .dataframe thead th {\n",
       "        text-align: right;\n",
       "    }\n",
       "</style>\n",
       "<table border=\"1\" class=\"dataframe\">\n",
       "  <thead>\n",
       "    <tr style=\"text-align: right;\">\n",
       "      <th></th>\n",
       "      <th></th>\n",
       "      <th>price</th>\n",
       "      <th>quantity</th>\n",
       "    </tr>\n",
       "    <tr>\n",
       "      <th>fruits</th>\n",
       "      <th>city</th>\n",
       "      <th></th>\n",
       "      <th></th>\n",
       "    </tr>\n",
       "  </thead>\n",
       "  <tbody>\n",
       "    <tr>\n",
       "      <th rowspan=\"2\" valign=\"top\">apple</th>\n",
       "      <th>부산</th>\n",
       "      <td>100.0</td>\n",
       "      <td>1.0</td>\n",
       "    </tr>\n",
       "    <tr>\n",
       "      <th>서울</th>\n",
       "      <td>175.0</td>\n",
       "      <td>5.5</td>\n",
       "    </tr>\n",
       "    <tr>\n",
       "      <th rowspan=\"2\" valign=\"top\">banana</th>\n",
       "      <th>부산</th>\n",
       "      <td>275.0</td>\n",
       "      <td>3.5</td>\n",
       "    </tr>\n",
       "    <tr>\n",
       "      <th>서울</th>\n",
       "      <td>400.0</td>\n",
       "      <td>7.0</td>\n",
       "    </tr>\n",
       "    <tr>\n",
       "      <th>orange</th>\n",
       "      <th>부산</th>\n",
       "      <td>200.0</td>\n",
       "      <td>2.0</td>\n",
       "    </tr>\n",
       "  </tbody>\n",
       "</table>\n",
       "</div>"
      ],
      "text/plain": [
       "             price  quantity\n",
       "fruits city                 \n",
       "apple  부산    100.0       1.0\n",
       "       서울    175.0       5.5\n",
       "banana 부산    275.0       3.5\n",
       "       서울    400.0       7.0\n",
       "orange 부산    200.0       2.0"
      ]
     },
     "execution_count": 9,
     "metadata": {},
     "output_type": "execute_result"
    }
   ],
   "source": [
    "df.groupby(['fruits', 'city']).mean()"
   ]
  },
  {
   "cell_type": "code",
   "execution_count": 10,
   "metadata": {},
   "outputs": [
    {
     "data": {
      "text/html": [
       "<div>\n",
       "<style scoped>\n",
       "    .dataframe tbody tr th:only-of-type {\n",
       "        vertical-align: middle;\n",
       "    }\n",
       "\n",
       "    .dataframe tbody tr th {\n",
       "        vertical-align: top;\n",
       "    }\n",
       "\n",
       "    .dataframe thead th {\n",
       "        text-align: right;\n",
       "    }\n",
       "</style>\n",
       "<table border=\"1\" class=\"dataframe\">\n",
       "  <thead>\n",
       "    <tr style=\"text-align: right;\">\n",
       "      <th></th>\n",
       "      <th>city</th>\n",
       "      <th>fruits</th>\n",
       "      <th>price</th>\n",
       "      <th>quantity</th>\n",
       "    </tr>\n",
       "  </thead>\n",
       "  <tbody>\n",
       "    <tr>\n",
       "      <th>0</th>\n",
       "      <td>부산</td>\n",
       "      <td>apple</td>\n",
       "      <td>100</td>\n",
       "      <td>1</td>\n",
       "    </tr>\n",
       "    <tr>\n",
       "      <th>1</th>\n",
       "      <td>부산</td>\n",
       "      <td>orange</td>\n",
       "      <td>200</td>\n",
       "      <td>2</td>\n",
       "    </tr>\n",
       "    <tr>\n",
       "      <th>2</th>\n",
       "      <td>부산</td>\n",
       "      <td>banana</td>\n",
       "      <td>250</td>\n",
       "      <td>3</td>\n",
       "    </tr>\n",
       "    <tr>\n",
       "      <th>3</th>\n",
       "      <td>부산</td>\n",
       "      <td>banana</td>\n",
       "      <td>300</td>\n",
       "      <td>4</td>\n",
       "    </tr>\n",
       "  </tbody>\n",
       "</table>\n",
       "</div>"
      ],
      "text/plain": [
       "  city  fruits  price  quantity\n",
       "0   부산   apple    100         1\n",
       "1   부산  orange    200         2\n",
       "2   부산  banana    250         3\n",
       "3   부산  banana    300         4"
      ]
     },
     "execution_count": 10,
     "metadata": {},
     "output_type": "execute_result"
    }
   ],
   "source": [
    "df.groupby('city').get_group('부산')"
   ]
  },
  {
   "cell_type": "code",
   "execution_count": 11,
   "metadata": {},
   "outputs": [
    {
     "data": {
      "text/html": [
       "<div>\n",
       "<style scoped>\n",
       "    .dataframe tbody tr th:only-of-type {\n",
       "        vertical-align: middle;\n",
       "    }\n",
       "\n",
       "    .dataframe tbody tr th {\n",
       "        vertical-align: top;\n",
       "    }\n",
       "\n",
       "    .dataframe thead th {\n",
       "        text-align: right;\n",
       "    }\n",
       "</style>\n",
       "<table border=\"1\" class=\"dataframe\">\n",
       "  <thead>\n",
       "    <tr style=\"text-align: right;\">\n",
       "      <th></th>\n",
       "      <th>city</th>\n",
       "      <th>fruits</th>\n",
       "      <th>price</th>\n",
       "      <th>quantity</th>\n",
       "    </tr>\n",
       "  </thead>\n",
       "  <tbody>\n",
       "    <tr>\n",
       "      <th>1</th>\n",
       "      <td>부산</td>\n",
       "      <td>orange</td>\n",
       "      <td>200</td>\n",
       "      <td>2</td>\n",
       "    </tr>\n",
       "  </tbody>\n",
       "</table>\n",
       "</div>"
      ],
      "text/plain": [
       "  city  fruits  price  quantity\n",
       "1   부산  orange    200         2"
      ]
     },
     "execution_count": 11,
     "metadata": {},
     "output_type": "execute_result"
    }
   ],
   "source": [
    "df.groupby(['city', 'fruits']).get_group(('부산', 'orange'))"
   ]
  },
  {
   "cell_type": "code",
   "execution_count": 12,
   "metadata": {},
   "outputs": [
    {
     "data": {
      "text/plain": [
       "city\n",
       "부산    4\n",
       "서울    3\n",
       "dtype: int64"
      ]
     },
     "execution_count": 12,
     "metadata": {},
     "output_type": "execute_result"
    }
   ],
   "source": [
    "df.groupby('city').size()"
   ]
  },
  {
   "cell_type": "code",
   "execution_count": 13,
   "metadata": {},
   "outputs": [
    {
     "data": {
      "text/plain": [
       "4"
      ]
     },
     "execution_count": 13,
     "metadata": {},
     "output_type": "execute_result"
    }
   ],
   "source": [
    "df.groupby('city').size()['부산']"
   ]
  },
  {
   "cell_type": "code",
   "execution_count": 14,
   "metadata": {},
   "outputs": [
    {
     "data": {
      "text/html": [
       "<div>\n",
       "<style scoped>\n",
       "    .dataframe tbody tr th:only-of-type {\n",
       "        vertical-align: middle;\n",
       "    }\n",
       "\n",
       "    .dataframe tbody tr th {\n",
       "        vertical-align: top;\n",
       "    }\n",
       "\n",
       "    .dataframe thead th {\n",
       "        text-align: right;\n",
       "    }\n",
       "</style>\n",
       "<table border=\"1\" class=\"dataframe\">\n",
       "  <thead>\n",
       "    <tr style=\"text-align: right;\">\n",
       "      <th></th>\n",
       "      <th>fruits</th>\n",
       "      <th>price</th>\n",
       "      <th>quantity</th>\n",
       "    </tr>\n",
       "    <tr>\n",
       "      <th>city</th>\n",
       "      <th></th>\n",
       "      <th></th>\n",
       "      <th></th>\n",
       "    </tr>\n",
       "  </thead>\n",
       "  <tbody>\n",
       "    <tr>\n",
       "      <th>부산</th>\n",
       "      <td>4</td>\n",
       "      <td>4</td>\n",
       "      <td>4</td>\n",
       "    </tr>\n",
       "    <tr>\n",
       "      <th>서울</th>\n",
       "      <td>3</td>\n",
       "      <td>3</td>\n",
       "      <td>3</td>\n",
       "    </tr>\n",
       "  </tbody>\n",
       "</table>\n",
       "</div>"
      ],
      "text/plain": [
       "      fruits  price  quantity\n",
       "city                         \n",
       "부산         4      4         4\n",
       "서울         3      3         3"
      ]
     },
     "execution_count": 14,
     "metadata": {},
     "output_type": "execute_result"
    }
   ],
   "source": [
    "df.groupby('city').count()"
   ]
  },
  {
   "cell_type": "code",
   "execution_count": 15,
   "metadata": {},
   "outputs": [
    {
     "data": {
      "text/plain": [
       "2"
      ]
     },
     "execution_count": 15,
     "metadata": {},
     "output_type": "execute_result"
    }
   ],
   "source": [
    "\n",
    "len(df.groupby('city'))"
   ]
  },
  {
   "cell_type": "code",
   "execution_count": 16,
   "metadata": {},
   "outputs": [
    {
     "name": "stdout",
     "output_type": "stream",
     "text": [
      "승객 수: 891\n",
      "    age     sex  class     fare  survived\n",
      "0  22.0    male  Third   7.2500         0\n",
      "1  38.0  female  First  71.2833         1\n",
      "2  26.0  female  Third   7.9250         1\n",
      "3  35.0  female  First  53.1000         1\n",
      "4  35.0    male  Third   8.0500         0\n",
      "\n",
      "\n",
      "<pandas.core.groupby.generic.DataFrameGroupBy object at 0x00000129D8DAF588>\n",
      "\n",
      "\n",
      "* key : First\n",
      "* number : 216\n",
      "     age     sex  class     fare  survived\n",
      "1   38.0  female  First  71.2833         1\n",
      "3   35.0  female  First  53.1000         1\n",
      "6   54.0    male  First  51.8625         0\n",
      "11  58.0  female  First  26.5500         1\n",
      "23  28.0    male  First  35.5000         1\n",
      "\n",
      "\n",
      "* key : Second\n",
      "* number : 184\n",
      "     age     sex   class     fare  survived\n",
      "9   14.0  female  Second  30.0708         1\n",
      "15  55.0  female  Second  16.0000         1\n",
      "17   NaN    male  Second  13.0000         1\n",
      "20  35.0    male  Second  26.0000         0\n",
      "21  34.0    male  Second  13.0000         1\n",
      "\n",
      "\n",
      "* key : Third\n",
      "* number : 491\n",
      "    age     sex  class     fare  survived\n",
      "0  22.0    male  Third   7.2500         0\n",
      "2  26.0  female  Third   7.9250         1\n",
      "4  35.0    male  Third   8.0500         0\n",
      "5   NaN    male  Third   8.4583         0\n",
      "7   2.0    male  Third  21.0750         0\n",
      "\n",
      "\n",
      "              age       fare  survived\n",
      "class                                 \n",
      "First   38.233441  84.154687  0.629630\n",
      "Second  29.877630  20.662183  0.472826\n",
      "Third   25.140620  13.675550  0.242363\n",
      "\n",
      "\n",
      "    age     sex  class     fare  survived\n",
      "0  22.0    male  Third   7.2500         0\n",
      "2  26.0  female  Third   7.9250         1\n",
      "4  35.0    male  Third   8.0500         0\n",
      "5   NaN    male  Third   8.4583         0\n",
      "7   2.0    male  Third  21.0750         0\n",
      "\n",
      "\n",
      "* key : ('First', 'female')\n",
      "* number : 94\n",
      "     age     sex  class      fare  survived\n",
      "1   38.0  female  First   71.2833         1\n",
      "3   35.0  female  First   53.1000         1\n",
      "11  58.0  female  First   26.5500         1\n",
      "31   NaN  female  First  146.5208         1\n",
      "52  49.0  female  First   76.7292         1\n",
      "\n",
      "\n",
      "* key : ('First', 'male')\n",
      "* number : 122\n",
      "     age   sex  class      fare  survived\n",
      "6   54.0  male  First   51.8625         0\n",
      "23  28.0  male  First   35.5000         1\n",
      "27  19.0  male  First  263.0000         0\n",
      "30  40.0  male  First   27.7208         0\n",
      "34  28.0  male  First   82.1708         0\n",
      "\n",
      "\n",
      "* key : ('Second', 'female')\n",
      "* number : 76\n",
      "     age     sex   class     fare  survived\n",
      "9   14.0  female  Second  30.0708         1\n",
      "15  55.0  female  Second  16.0000         1\n",
      "41  27.0  female  Second  21.0000         0\n",
      "43   3.0  female  Second  41.5792         1\n",
      "53  29.0  female  Second  26.0000         1\n",
      "\n",
      "\n",
      "* key : ('Second', 'male')\n",
      "* number : 108\n",
      "     age   sex   class  fare  survived\n",
      "17   NaN  male  Second  13.0         1\n",
      "20  35.0  male  Second  26.0         0\n",
      "21  34.0  male  Second  13.0         1\n",
      "33  66.0  male  Second  10.5         0\n",
      "70  32.0  male  Second  10.5         0\n",
      "\n",
      "\n",
      "* key : ('Third', 'female')\n",
      "* number : 144\n",
      "     age     sex  class     fare  survived\n",
      "2   26.0  female  Third   7.9250         1\n",
      "8   27.0  female  Third  11.1333         1\n",
      "10   4.0  female  Third  16.7000         1\n",
      "14  14.0  female  Third   7.8542         0\n",
      "18  31.0  female  Third  18.0000         0\n",
      "\n",
      "\n",
      "* key : ('Third', 'male')\n",
      "* number : 347\n",
      "     age   sex  class     fare  survived\n",
      "0   22.0  male  Third   7.2500         0\n",
      "4   35.0  male  Third   8.0500         0\n",
      "5    NaN  male  Third   8.4583         0\n",
      "7    2.0  male  Third  21.0750         0\n",
      "12  20.0  male  Third   8.0500         0\n",
      "\n",
      "\n",
      "                     age        fare  survived\n",
      "class  sex                                    \n",
      "First  female  34.611765  106.125798  0.968085\n",
      "       male    41.281386   67.226127  0.368852\n",
      "Second female  28.722973   21.970121  0.921053\n",
      "       male    30.740707   19.741782  0.157407\n",
      "Third  female  21.750000   16.118810  0.500000\n",
      "       male    26.507589   12.661633  0.135447\n",
      "\n",
      "\n",
      "<class 'pandas.core.frame.DataFrame'>\n",
      "     age     sex  class     fare  survived\n",
      "2   26.0  female  Third   7.9250         1\n",
      "8   27.0  female  Third  11.1333         1\n",
      "10   4.0  female  Third  16.7000         1\n",
      "14  14.0  female  Third   7.8542         0\n",
      "18  31.0  female  Third  18.0000         0\n"
     ]
    }
   ],
   "source": [
    "# 예제 6-14\n",
    "import pandas as pd\n",
    "import seaborn as sns\n",
    "\n",
    "# titanic 데이터셋에서 age, sex 등 5개 열을 선택하여 데이터프레임 만들기\n",
    "titanic = sns.load_dataset('titanic')\n",
    "df = titanic.loc[:, ['age','sex', 'class', 'fare', 'survived']]\n",
    "\n",
    "print('승객 수:', len(df))\n",
    "print(df.head())\n",
    "print('\\n')\n",
    "\n",
    "# class 열을 기준으로 분할\n",
    "grouped = df.groupby(['class']) \n",
    "print(grouped)\n",
    "print('\\n')\n",
    "\n",
    "# 그룹 객체를 iteration으로 출력: head() 메소드로 첫 5행만을 출력\n",
    "for key, group in grouped:\n",
    "    print('* key :', key)\n",
    "    print('* number :', len(group))    \n",
    "    print(group.head())\n",
    "    print('\\n')\n",
    "    \n",
    "# 연산 메소드 적용\n",
    "average = grouped.mean()\n",
    "print(average)\n",
    "print('\\n')\n",
    "\n",
    "# 개별 그룹 선택하기\n",
    "group3 = grouped.get_group('Third')\n",
    "print(group3.head())\n",
    "print('\\n')\n",
    "\n",
    "# class 열, sex 열을 기준으로 분할\n",
    "grouped_two = df.groupby(['class', 'sex']) \n",
    "\n",
    "# grouped_two 그룹 객체를 iteration으로 출력\n",
    "for key, group in grouped_two:\n",
    "    print('* key :', key)\n",
    "    print('* number :', len(group))    \n",
    "    print(group.head())\n",
    "    print('\\n')\n",
    "    \n",
    "# grouped_two 그룹 객체에 연산 메소드 적용\n",
    "average_two = grouped_two.mean()\n",
    "print(average_two)\n",
    "print('\\n')\n",
    "print(type(average_two))\n",
    "\n",
    "# grouped_two 그룹 객체에서 개별 그룹 선택하기\n",
    "group3f = grouped_two.get_group(('Third','female'))\n",
    "print(group3f.head())"
   ]
  },
  {
   "cell_type": "code",
   "execution_count": null,
   "metadata": {},
   "outputs": [],
   "source": [
    "# 예제 6-15\n",
    "import pandas as pd\n",
    "import seaborn as sns\n",
    "\n",
    "# titanic 데이터셋에서 age, sex 등 5개 열을 선택하여 데이터프레임 만들기\n",
    "titanic = sns.load_dataset('titanic')\n",
    "df = titanic.loc[:, ['age','sex', 'class', 'fare', 'survived']]\n",
    "\n",
    "# class 열을 기준으로 분할\n",
    "grouped = df.groupby(['class']) \n",
    "\n",
    "# 각 그룹에 대한 모든 열의 표준편차를 집계하여 데이터프레임으로 반환\n",
    "std_all = grouped.std()  \n",
    "print(std_all)\n",
    "print('\\n')\n",
    "print(type(std_all))\n",
    "print('\\n')\n",
    "\n",
    "# 각 그룹에 대한 fare 열의 표준편차를 집계하여 시리즈로 반환 \n",
    "std_fare = grouped.fare.std()  \n",
    "print(std_fare)\n",
    "print('\\n')\n",
    "print(type(std_fare))\n",
    "print('\\n')\n",
    "\n",
    "# 그룹 객체에 agg() 메소드 적용 - 사용자 정의 함수를 인수로 전달\n",
    "def min_max(x):    # 최대값 - 최소값\n",
    "    return x.max() - x.min()\n",
    "    \n",
    "# 각 그룹의 최대값과 최소값의 차이를 계산하여 그룹별로 집계\n",
    "agg_minmax = grouped.agg(min_max)  \n",
    "print(agg_minmax.head())\n",
    "print('\\n')\n",
    "\n",
    "# 여러 함수를 각 열에 동일하게 적용하여 집계\n",
    "agg_all = grouped.agg(['min', 'max'])  \n",
    "print(agg_all.head())\n",
    "print('\\n')\n",
    "\n",
    "# 각 열마다 다른 함수를 적용하여 집계\n",
    "agg_sep = grouped.agg({'fare':['min', 'max'], 'age':'mean'})  \n",
    "print(agg_sep.head())\n"
   ]
  },
  {
   "cell_type": "code",
   "execution_count": null,
   "metadata": {},
   "outputs": [],
   "source": [
    "# 예제 6-16\n",
    "import pandas as pd\n",
    "import seaborn as sns\n",
    "\n",
    "# titanic 데이터셋에서 age, sex 등 5개 열을 선택하여 데이터프레임 만들기\n",
    "titanic = sns.load_dataset('titanic')\n",
    "df = titanic.loc[:, ['age','sex', 'class', 'fare', 'survived']]\n",
    "\n",
    "# class 열을 기준으로 분할\n",
    "grouped = df.groupby(['class']) \n",
    "\n",
    "# 그룹별 age 열의 평균 집계 연산\n",
    "age_mean = grouped.age.mean()\n",
    "print(age_mean)\n",
    "print('\\n')\n",
    "\n",
    "# 그룹별 age 열의 표준편차 집계 연산\n",
    "age_std = grouped.age.std()\n",
    "print(age_std)\n",
    "print('\\n') \n",
    "\n",
    "# 그룹 객체의 age 열을 iteration으로 z-score를 계산하여 출력\n",
    "for key, group in grouped.age:\n",
    "    group_zscore = (group - age_mean.loc[key]) / age_std.loc[key]         \n",
    "    print('* origin :', key)\n",
    "    print(group_zscore.head(3))  # 각 그룹의 첫 3개의 행을 출력\n",
    "    print('\\n')\n",
    "\n",
    "# z-score를 계산하는 사용자 함수 정의\n",
    "def z_score(x): \n",
    "    return (x - x.mean()) / x.std()\n",
    "   \n",
    "# transform() 메소드를 이용하여 age 열의 데이터를 z-score로 변환\n",
    "age_zscore = grouped.age.transform(z_score)  \n",
    "print(age_zscore.loc[[1, 9, 0]])     # 1, 2, 3 그룹의 첫 데이터 확인 (변환 결과)\n",
    "print('\\n')\n",
    "print(len(age_zscore))              # transform 메소드 반환 값의 길이\n",
    "print('\\n')\n",
    "print(age_zscore.loc[0:9])          # transform 메소드 반환 값 출력 (첫 10개)\n",
    "print('\\n')\n",
    "print(type(age_zscore))             # transform 메소드 반환 객체의 자료형\n"
   ]
  },
  {
   "cell_type": "code",
   "execution_count": null,
   "metadata": {},
   "outputs": [],
   "source": [
    "# 예제 6-17\n",
    "import pandas as pd\n",
    "import seaborn as sns\n",
    "\n",
    "# titanic 데이터셋에서 age, sex 등 5개 열을 선택하여 데이터프레임 만들기\n",
    "titanic = sns.load_dataset('titanic')\n",
    "df = titanic.loc[:, ['age','sex', 'class', 'fare', 'survived']]\n",
    "\n",
    "# class 열을 기준으로 분할\n",
    "grouped = df.groupby(['class']) \n",
    "\n",
    "# 데이터 개수가 200개 이상인 그룹만을 필터링하여 데이터프레임으로 반환\n",
    "grouped_filter = grouped.filter(lambda x: len(x) >= 200)  \n",
    "print(grouped_filter.head())   \n",
    "print('\\n')\n",
    "print(type(grouped_filter))\n",
    "\n",
    "# age 열의 평균이 30보다 작은 그룹만을 필터링하여 데이터프레임으로 반환\n",
    "age_filter = grouped.filter(lambda x: x.age.mean() < 30)  \n",
    "print(age_filter.tail())   \n",
    "print('\\n')\n",
    "print(type(age_filter))\n"
   ]
  },
  {
   "cell_type": "code",
   "execution_count": null,
   "metadata": {},
   "outputs": [],
   "source": [
    "# 예제 6-18\n",
    "import pandas as pd\n",
    "import seaborn as sns\n",
    "\n",
    "# titanic 데이터셋에서 age, sex 등 5개 열을 선택하여 데이터프레임 만들기\n",
    "titanic = sns.load_dataset('titanic')\n",
    "df = titanic.loc[:, ['age','sex', 'class', 'fare', 'survived']]\n",
    "\n",
    "# class 열을 기준으로 분할\n",
    "grouped = df.groupby(['class']) \n",
    "\n",
    "# 집계 : 각 그룹별 요약 통계정보를 집계\n",
    "agg_grouped = grouped.apply(lambda x: x.describe())   \n",
    "print(agg_grouped)\n",
    "print('\\n')"
   ]
  },
  {
   "cell_type": "code",
   "execution_count": null,
   "metadata": {},
   "outputs": [],
   "source": [
    "# z-score를 계산하는 사용자 함수 정의\n",
    "def z_score(x):                          \n",
    "    return (x - x.mean()) / x.std()\n",
    "\n",
    "age_zscore = grouped.age.apply(z_score)   #기본값 axis=0 \n",
    "print(age_zscore.head())\n",
    "print('\\n')\n",
    "\n",
    "# 필터링 : age 열의 데이터 평균이 30보다 작은 그룹만을 필터링하여 출력\n",
    "age_filter = grouped.apply(lambda x: x.age.mean() < 30)  \n",
    "print(age_filter)   \n",
    "print('\\n')\n",
    "for x in age_filter.index:\n",
    "    if age_filter[x]==True:\n",
    "        age_filter_df = grouped.get_group(x)\n",
    "        print(age_filter_df.head())\n",
    "        print('\\n')"
   ]
  },
  {
   "cell_type": "code",
   "execution_count": 23,
   "metadata": {},
   "outputs": [
    {
     "name": "stdout",
     "output_type": "stream",
     "text": [
      "<class 'pandas.core.groupby.generic.DataFrameGroupBy'>\n",
      "-------------1---------------\n",
      "                     age        fare  survived\n",
      "class  sex                                    \n",
      "First  female  34.611765  106.125798  0.968085\n",
      "       male    41.281386   67.226127  0.368852\n",
      "Second female  28.722973   21.970121  0.921053\n",
      "       male    30.740707   19.741782  0.157407\n",
      "Third  female  21.750000   16.118810  0.500000\n",
      "       male    26.507589   12.661633  0.135447\n",
      "<class 'pandas.core.frame.DataFrame'>\n",
      "\n",
      "\n",
      "MultiIndex([( 'First', 'female'),\n",
      "            ( 'First',   'male'),\n",
      "            ('Second', 'female'),\n",
      "            ('Second',   'male'),\n",
      "            ( 'Third', 'female'),\n",
      "            ( 'Third',   'male')],\n",
      "           names=['class', 'sex'])\n",
      "-------------2---------------\n",
      "              age        fare  survived\n",
      "sex                                    \n",
      "female  34.611765  106.125798  0.968085\n",
      "male    41.281386   67.226127  0.368852\n",
      "\n",
      "\n",
      "-------------3---------------\n",
      "age          34.611765\n",
      "fare        106.125798\n",
      "survived      0.968085\n",
      "Name: (First, female), dtype: float64\n",
      "\n",
      "\n",
      "-------------4---------------\n",
      "              age       fare  survived\n",
      "class                                 \n",
      "First   41.281386  67.226127  0.368852\n",
      "Second  30.740707  19.741782  0.157407\n",
      "Third   26.507589  12.661633  0.135447\n"
     ]
    }
   ],
   "source": [
    "# 예제 6-19\n",
    "import pandas as pd\n",
    "import seaborn as sns\n",
    "\n",
    "# titanic 데이터셋에서 age, sex 등 5개 열을 선택하여 데이터프레임 만들기\n",
    "titanic = sns.load_dataset('titanic')\n",
    "df = titanic.loc[:, ['age','sex', 'class', 'fare', 'survived']]\n",
    "\n",
    "# class 열, sex 열을 기준으로 분할\n",
    "grouped = df.groupby(['class', 'sex']) \n",
    "print(type(grouped)) # 10-26추가함\n",
    "print(\"-------------1---------------\")\n",
    "# 그룹 객체에 연산 메서드 적용\n",
    "gdf = grouped.mean()\n",
    "print(gdf)\n",
    "print(type(gdf))\n",
    "print('\\n')\n",
    "print(gdf.index)\n",
    "print(\"-------------2---------------\")\n",
    "# class 값이 First인 행을 선택하여 출력\n",
    "print(gdf.loc['First'])\n",
    "print('\\n')\n",
    "print(\"-------------3---------------\")\n",
    "# class 값이 First이고, sex 값이 female인 행을 선택하여 출력\n",
    "print(gdf.loc[('First', 'female')])\n",
    "print('\\n')\n",
    "print(\"-------------4---------------\")\n",
    "# sex 값이 male인 행을 선택하여 출력\n",
    "print(gdf.xs('male', level='sex'))\n"
   ]
  },
  {
   "cell_type": "markdown",
   "metadata": {},
   "source": [
    "<img src='images/pivot_table.jpg' width=500 height=400>"
   ]
  },
  {
   "cell_type": "code",
   "execution_count": 24,
   "metadata": {},
   "outputs": [
    {
     "name": "stdout",
     "output_type": "stream",
     "text": [
      "    age     sex  class     fare  survived\n",
      "0  22.0    male  Third   7.2500         0\n",
      "1  38.0  female  First  71.2833         1\n",
      "2  26.0  female  Third   7.9250         1\n",
      "3  35.0  female  First  53.1000         1\n",
      "4  35.0    male  Third   8.0500         0\n",
      "\n",
      "\n",
      "sex        female       male\n",
      "class                       \n",
      "First   34.611765  41.281386\n",
      "Second  28.722973  30.740707\n",
      "Third   21.750000  26.507589\n",
      "\n",
      "\n"
     ]
    }
   ],
   "source": [
    "# 예제 6-20\n",
    "# 라이브러리 불러오기\n",
    "import pandas as pd\n",
    "import seaborn as sns\n",
    "\n",
    "# IPyhton 디스플레이 설정 변경 \n",
    "pd.set_option('display.max_columns', 10)    # 출력할 최대 열의 개수\n",
    "pd.set_option('display.max_colwidth', 20)    # 출력할 열의 너비\n",
    "\n",
    "# titanic 데이터셋에서 age, sex 등 5개 열을 선택하여 데이터프레임 만들기\n",
    "titanic = sns.load_dataset('titanic')\n",
    "df = titanic.loc[:, ['age','sex', 'class', 'fare', 'survived']]\n",
    "print(df.head())\n",
    "print('\\n')\n",
    "\n",
    "# 행, 열, 값, 집계에 사용할 열을 1개씩 지정 - 평균 집계\n",
    "pdf1 = pd.pivot_table(df,              # 피벗할 데이터프레임\n",
    "                     index='class',    # 행 위치에 들어갈 열\n",
    "                     columns='sex',    # 열 위치에 들어갈 열\n",
    "                     values='age',     # 데이터로 사용할 열\n",
    "                     aggfunc='mean')   # 데이터 집계 함수\n",
    "\n",
    "print(pdf1.head())\n",
    "print('\\n')"
   ]
  },
  {
   "cell_type": "code",
   "execution_count": 27,
   "metadata": {},
   "outputs": [
    {
     "data": {
      "text/plain": [
       "<AxesSubplot:xlabel='sex', ylabel='class'>"
      ]
     },
     "execution_count": 27,
     "metadata": {},
     "output_type": "execute_result"
    },
    {
     "data": {
      "image/png": "[encoded data removed]",
      "text/plain": [
       "<Figure size 432x288 with 2 Axes>"
      ]
     },
     "metadata": {
      "needs_background": "light"
     },
     "output_type": "display_data"
    }
   ],
   "source": [
    "sns.heatmap(pdf1, annot=True)"
   ]
  },
  {
   "cell_type": "code",
   "execution_count": 25,
   "metadata": {},
   "outputs": [
    {
     "name": "stdout",
     "output_type": "stream",
     "text": [
      "            mean              sum     \n",
      "sex       female      male female male\n",
      "class                                 \n",
      "First   0.968085  0.368852     91   45\n",
      "Second  0.921053  0.157407     70   17\n",
      "Third   0.500000  0.135447     72   47\n",
      "\n",
      "\n"
     ]
    }
   ],
   "source": [
    "# 값에 적용하는 집계 함수를 2개 이상 지정 가능 - 생존율, 생존자 수 집계\n",
    "pdf2 = pd.pivot_table(df,                       # 피벗할 데이터프레임\n",
    "                     index='class',             # 행 위치에 들어갈 열\n",
    "                     columns='sex',             # 열 위치에 들어갈 열\n",
    "                     values='survived',         # 데이터로 사용할 열\n",
    "                     aggfunc=['mean', 'sum'])   # 데이터 집계 함수\n",
    "\n",
    "print(pdf2.head())\n",
    "print('\\n')\n"
   ]
  },
  {
   "cell_type": "code",
   "execution_count": 29,
   "metadata": {},
   "outputs": [
    {
     "data": {
      "text/plain": [
       "<AxesSubplot:xlabel='None-sex', ylabel='class'>"
      ]
     },
     "execution_count": 29,
     "metadata": {},
     "output_type": "execute_result"
    },
    {
     "data": {
      "image/png": "[encoded data removed]",
      "text/plain": [
       "<Figure size 432x288 with 2 Axes>"
      ]
     },
     "metadata": {
      "needs_background": "light"
     },
     "output_type": "display_data"
    }
   ],
   "source": [
    "sns.heatmap(pdf2, annot=True, cmap=\"PuRd\")"
   ]
  },
  {
   "cell_type": "code",
   "execution_count": 26,
   "metadata": {},
   "outputs": [
    {
     "name": "stdout",
     "output_type": "stream",
     "text": [
      "                    mean                                      max        \\\n",
      "                     age                   fare               age         \n",
      "survived               0          1           0           1     0     1   \n",
      "class  sex                                                                \n",
      "First  female  25.666667  34.939024  110.604167  105.978159  50.0  63.0   \n",
      "       male    44.581967  36.248000   62.894910   74.637320  71.0  80.0   \n",
      "Second female  36.000000  28.080882   18.250000   22.288989  57.0  55.0   \n",
      "       male    33.369048  16.022000   19.488965   21.095100  70.0  62.0   \n",
      "Third  female  23.818182  19.329787   19.773093   12.464526  48.0  63.0   \n",
      "\n",
      "                                 \n",
      "                 fare            \n",
      "survived            0         1  \n",
      "class  sex                       \n",
      "First  female  151.55  512.3292  \n",
      "       male    263.00  512.3292  \n",
      "Second female   26.00   65.0000  \n",
      "       male     73.50   39.0000  \n",
      "Third  female   69.55   31.3875  \n",
      "\n",
      "\n",
      "MultiIndex([( 'First', 'female'),\n",
      "            ( 'First',   'male'),\n",
      "            ('Second', 'female'),\n",
      "            ('Second',   'male'),\n",
      "            ( 'Third', 'female'),\n",
      "            ( 'Third',   'male')],\n",
      "           names=['class', 'sex'])\n",
      "MultiIndex([('mean',  'age', 0),\n",
      "            ('mean',  'age', 1),\n",
      "            ('mean', 'fare', 0),\n",
      "            ('mean', 'fare', 1),\n",
      "            ( 'max',  'age', 0),\n",
      "            ( 'max',  'age', 1),\n",
      "            ( 'max', 'fare', 0),\n",
      "            ( 'max', 'fare', 1)],\n",
      "           names=[None, None, 'survived'])\n",
      "\n",
      "\n"
     ]
    }
   ],
   "source": [
    "# 행, 열, 값에 사용할 열을 2개 이상 지정 가능 - 평균 나이, 최대 요금 집계\n",
    "pdf3 = pd.pivot_table(df,                       # 피벗할 데이터프레임\n",
    "                     index=['class', 'sex'],    # 행 위치에 들어갈 열\n",
    "                     columns='survived',        # 열 위치에 들어갈 열\n",
    "                     values=['age', 'fare'],    # 데이터로 사용할 열\n",
    "                     aggfunc=['mean', 'max'])   # 데이터 집계 함수\n",
    "\n",
    "# IPython Console 디스플레이 옵션 설정\n",
    "pd.set_option('display.max_columns', 10)        # 출력할 열의 개수 한도\n",
    "print(pdf3.head())\n",
    "print('\\n')\n",
    "\n",
    "# 행, 열 구조 살펴보기\n",
    "print(pdf3.index)\n",
    "print(pdf3.columns)\n",
    "print('\\n')"
   ]
  },
  {
   "cell_type": "code",
   "execution_count": 30,
   "metadata": {},
   "outputs": [
    {
     "data": {
      "text/plain": [
       "<AxesSubplot:xlabel='None-None-survived', ylabel='class-sex'>"
      ]
     },
     "execution_count": 30,
     "metadata": {},
     "output_type": "execute_result"
    },
    {
     "data": {
      "image/png": "[encoded data removed]",
      "text/plain": [
       "<Figure size 432x288 with 2 Axes>"
      ]
     },
     "metadata": {
      "needs_background": "light"
     },
     "output_type": "display_data"
    }
   ],
   "source": [
    "sns.heatmap(pdf3, annot=True, fmt='.1f')"
   ]
  },
  {
   "cell_type": "code",
   "execution_count": null,
   "metadata": {},
   "outputs": [],
   "source": [
    "# xs 인덱서 사용 - 행 선택(default: axis=0)\n",
    "print(pdf3.xs('First'))              # 행 인덱스가 First인 행을 선택 \n",
    "print('\\n')\n",
    "print(pdf3.xs(('First', 'female')))   # 행 인덱스가 ('First', 'female')인 행을 선택\n",
    "print('\\n')\n",
    "print(pdf3.xs('male', level='sex'))  # 행 인덱스의 sex 레벨이 male인 행을 선택\n",
    "print('\\n')\n",
    "print(pdf3.xs(('Second', 'male'), level=[0, 'sex']))  # Second, male인 행을 선택\n",
    "print('\\n')"
   ]
  },
  {
   "cell_type": "code",
   "execution_count": null,
   "metadata": {},
   "outputs": [],
   "source": [
    "# xs 인덱서 사용 - 열 선택(axis=1 설정)\n",
    "print(pdf3.xs('mean', axis=1))        # 열 인덱스가 mean인 데이터를 선택 \n",
    "print('\\n')\n",
    "print(pdf3.xs(('mean', 'age'), axis=1))   # 열 인덱스가 ('mean', 'age')인 데이터 선택\n",
    "print('\\n')\n",
    "print(pdf3.xs(1, level='survived', axis=1))  # survived 레벨이 1인 데이터 선택\n",
    "print('\\n')\n",
    "print(pdf3.xs(('max', 'fare', 0), \n",
    "              level=[0, 1, 2], axis=1))  # max, fare, survived=0인 데이터 선택\n"
   ]
  }
 ],
 "metadata": {
  "kernelspec": {
   "display_name": "pydatavenv",
   "language": "python",
   "name": "pydatavenv"
  },
  "language_info": {
   "codemirror_mode": {
    "name": "ipython",
    "version": 3
   },
   "file_extension": ".py",
   "mimetype": "text/x-python",
   "name": "python",
   "nbconvert_exporter": "python",
   "pygments_lexer": "ipython3",
   "version": "3.8.8"
  }
 },
 "nbformat": 4,
 "nbformat_minor": 4
}

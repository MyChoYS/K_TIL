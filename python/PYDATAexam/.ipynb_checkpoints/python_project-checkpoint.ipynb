{
 "cells": [
  {
   "cell_type": "code",
   "execution_count": 9,
   "metadata": {},
   "outputs": [],
   "source": [
    "from bs4 import BeautifulSoup\n",
    "import urllib.request as req\n",
    "import urllib\n",
    "import numpy\n",
    "import pandas as pd\n",
    "from pyproj import Proj,transform\n",
    "\n",
    "#한국환경공단_에어코리아_대기오염통계 현황"
   ]
  },
  {
   "cell_type": "code",
   "execution_count": null,
   "metadata": {},
   "outputs": [],
   "source": [
    "busNum = '360'\n",
    "key = '%2BjzsSyNtwmcqxUsGnflvs3rW2oceFvhHR8AFkM3ao%2Fw50hwHXgGyPVutXw04uAXvrkoWgkoScvvhlH7jgD4%2FRQ%3D%3D'\n",
    "url1 = 'http://ws.bus.go.kr/api/rest/busRouteInfo/getBusRouteList?serviceKey='+key+'&strSrch='+busNum\n",
    "res = req.urlopen(url1)\n",
    "\n",
    "soup = BeautifulSoup(res.read().decode('utf-8'), features=\"xml\") #xml은 무조건 utf-8로 인코딩해야 함.\n",
    "\n",
    "busRouteId = None\n",
    "for itemList in soup.find_all('itemList') :\n",
    "    busRouteId = itemList.find('busRouteId').string\n",
    "    busRouteNm = itemList.find('busRouteNm').string\n",
    "    if busRouteNm == busNum :\n",
    "        break\n",
    "\n",
    "url2 = 'http://ws.bus.go.kr/api/rest/busRouteInfo/getStaionByRoute?ServiceKey='+key+'&busRouteId='+busRouteId\n",
    "res = req.urlopen(url2)\n",
    "soup = BeautifulSoup(res.read().decode('utf-8'), features=\"xml\")\n",
    "\n",
    "busPos = []\n",
    "for itemList in soup.find_all('itemList') :\n",
    "    gpsY = itemList.find('gpsY').string\n",
    "    gpsX = itemList.find('gpsX').string\n",
    "\n",
    "    busPos.append((gpsY, gpsX))\n",
    "\n",
    "print('[ ' + busNum + '번 버스의 운행 위치 ]')\n",
    "if len(busPos) != 0 :\n",
    "    print(busNum + '번 버스 ' + str(len(busPos)) + '대 운행중...')\n",
    "    for lat,lng in busPos :\n",
    "        print(lat+','+lng)\n",
    "else :\n",
    "    print('현재 운행중인 ' + busNum + '번 버스가 없어요...')\n"
   ]
  },
  {
   "cell_type": "code",
   "execution_count": null,
   "metadata": {},
   "outputs": [],
   "source": [
    "key = '796143536a756e69313134667752417a'\n",
    "contentType = 'xml'\n",
    "startIndex = '1'\n",
    "endIndex = '100'\n",
    "url = 'http://openapi.seoul.go.kr:8088/'+key+'/'+contentType+'/LampScpgmtb/'+startIndex+'/'+endIndex+'/'\n",
    "savename = 'output/edu.xml'\n",
    "req.urlretrieve(url, savename)\n",
    "\n",
    "xml = open(savename, 'r', encoding='utf-8').read()\n",
    "soup = BeautifulSoup(xml, 'xml')\n",
    "\n",
    "pjList = []\n",
    "for itemList in soup.find_all('row') :\n",
    "    up_nm = itemList.find('UP_NM').string\n",
    "    up_nm = '없음' if up_nm is None else up_nm\n",
    "    pgm_nm = itemList.find('PGM_NM').string\n",
    "    pgm_nm = '없음' if pgm_nm is None else pgm_nm\n",
    "    target_nm = itemList.find('TARGET_NM').string\n",
    "    target_nm = '없음' if target_nm is None else target_nm\n",
    "    u_price = itemList.find('U_PRICE').string\n",
    "    u_price = '없음' if u_price is None else u_price\n",
    "    pjList.append((up_nm, pgm_nm, target_nm, u_price))\n",
    "\n",
    "print('[ 서울 청소년 수련관 강좌 리스트 ]')\n",
    "for up_nm,pgm_nm,target_nm,u_price in pjList : \n",
    "    print(up_nm+','+pgm_nm+','+target_nm+','+str(u_price))\n",
    "    \n"
   ]
  },
  {
   "cell_type": "code",
   "execution_count": 5,
   "metadata": {},
   "outputs": [
    {
     "name": "stdout",
     "output_type": "stream",
     "text": [
      "http://openapi.seoul.go.kr:8088/74474a754173696e3533784e687a65/xml/SpotInfo/1/1000/\n",
      "<?xml version=\"1.0\" encoding=\"utf-8\"?>\n",
      "<SpotInfo><list_total_count>169</list_total_count><RESULT><CODE>INFO-000</CODE><MESSAGE>정상 처리되었습니다</MESSAGE></RESULT><row><spot_num>A-01</spot_num><spot_nm>성산로(금화터널)</spot_nm><grs80tm_x>195489</grs80tm_x><grs80tm_y>452136</grs80tm_y></row><row><spot_num>A-02</spot_num><spot_nm>사직로(사직터널)</spot_nm><grs80tm_x>196756.776106</grs80tm_x><grs80tm_y>452546.638644</grs80tm_y></row><row><spot_num>A-03</spot_num><spot_nm>자하문로(자하문터널)</spot_nm><grs80tm_x>197216.855046</grs80tm_x><grs80tm_y>454350.990432</grs80tm_y></row><row><spot_num>A-04</spot_num><spot_nm>대사관로(삼청터널)</spot_nm><grs80tm_x>198648.893154</grs80tm_x><grs80tm_y>455200.108465</grs80tm_y></row><row><spot_num>A-05</spot_num><spot_nm>율곡로(안국역)</spot_nm><grs80tm_x>198645.671347</grs80tm_x><grs80tm_y>452937.216603</grs80tm_y></row><row><spot_num>A-06</spot_num><spot_nm>창경궁로(서울여자대학교)</spot_nm><grs80tm_x>199825.89671</grs80tm_x><grs80tm_y>453668.322568</grs80tm_y></row><row><spot_num>A-07</spot_num><spot_nm>대학로(한국방송통신대학교)</spot_nm><grs80tm_x>200185.014636</grs80tm_x><grs80tm_y>453144.745427</grs80tm_y></row><row><spot_num>A-08</spot_num><spot_nm>종로(동묘앞역)</spot_nm><grs80tm_x>201515.783975</grs80tm_x><grs80tm_y>452624.900832</grs80tm_y></row><row><spot_num>A-09</spot_num><spot_nm>퇴계로(신당역)</spot_nm><grs80tm_x>201850.055284</grs80tm_x><grs80tm_y>451769.96985</grs80tm_y></row><row><spot_num>A-10</spot_num><spot_nm>동호로(장충체육관)</spot_nm><grs80tm_x>200633.487975</grs80tm_x><grs80tm_y>451010.051429</grs80tm_y></row><row><spot_num>A-11</spot_num><spot_nm>장충단로(장충단공원)</spot_nm><grs80tm_x>200410</grs80tm_x><grs80tm_y>450804</grs80tm_y></row><row><spot_num>A-12</spot_num><spot_nm>퇴계로(회현역)</spot_nm><grs80tm_x>197939.908023</grs80tm_x><grs80tm_y>450888.928346</grs80tm_y></row><row><spot_num>A-13</spot_num><spot_nm>세종대로(서울역)</spot_nm><grs80tm_x>197727.33407</grs80tm_x><grs80tm_y>451006.009692</grs80tm_y></row><row><spot_num>A-14</spot_num><spot_nm>새문안로(서울역사박물관)</spot_nm><grs80tm_x>197432.421007</grs80tm_x><grs80tm_y>452243.292862</grs80tm_y></row><row><spot_num>A-15</spot_num><spot_nm>종로(종로3가역)</spot_nm><grs80tm_x>199240.067506</grs80tm_x><grs80tm_y>452288.413612</grs80tm_y></row><row><spot_num>A-16</spot_num><spot_nm>서소문로(시청역)</spot_nm><grs80tm_x>197596.4694</grs80tm_x><grs80tm_y>451463.528762</grs80tm_y></row><row><spot_num>A-17</spot_num><spot_nm>세종대로(시청역2)</spot_nm><grs80tm_x>197983.404032</grs80tm_x><grs80tm_y>452006.746671</grs80tm_y></row><row><spot_num>A-18</spot_num><spot_nm>을지로(을지로3가역)</spot_nm><grs80tm_x>199025.306571</grs80tm_x><grs80tm_y>451837.790166</grs80tm_y></row><row><spot_num>A-19</spot_num><spot_nm>칠패로(숭례문)</spot_nm><grs80tm_x>197579.482653</grs80tm_x><grs80tm_y>451141.212855</grs80tm_y></row><row><spot_num>A-20</spot_num><spot_nm>남산1호터널</spot_nm><grs80tm_x>200375.908853</grs80tm_x><grs80tm_y>448730.787276</grs80tm_y></row><row><spot_num>A-21</spot_num><spot_nm>남산2호터널</spot_nm><grs80tm_x>199098.824842</grs80tm_x><grs80tm_y>449434.634668</grs80tm_y></row><row><spot_num>A-22</spot_num><spot_nm>남산3호터널</spot_nm><grs80tm_x>198985.638133</grs80tm_x><grs80tm_y>449446.700998</grs80tm_y></row><row><spot_num>A-23</spot_num><spot_nm>소월로(회현역)</spot_nm><grs80tm_x>197913</grs80tm_x><grs80tm_y>450842</grs80tm_y></row><row><spot_num>A-24</spot_num><spot_nm>소파로(숭의여자대학교)</spot_nm><grs80tm_x>198564</grs80tm_x><grs80tm_y>450618</grs80tm_y></row><row><spot_num>B-01</spot_num><spot_nm>도봉로(도봉산역)</spot_nm><grs80tm_x>203959</grs80tm_x><grs80tm_y>465826</grs80tm_y></row><row><spot_num>B-02</spot_num><spot_nm>동일로(의정부IC)</spot_nm><grs80tm_x>204889.526551</grs80tm_x><grs80tm_y>465841.155869</grs80tm_y></row><row><spot_num>B-03</spot_num><spot_nm>아차산로(워커힐)</spot_nm><grs80tm_x>209697.184721</grs80tm_x><grs80tm_y>450264.164859</grs80tm_y></row><row><spot_num>B-04</spot_num><spot_nm>망우로(망우리공원)</spot_nm><grs80tm_x>210241.085553</grs80tm_x><grs80tm_y>455754.962803</grs80tm_y></row><row><spot_num>B-05</spot_num><spot_nm>경춘북로(중랑경찰서)</spot_nm><grs80tm_x>209331.347572</grs80tm_x><grs80tm_y>457857.713789</grs80tm_y></row><row><spot_num>B-06</spot_num><spot_nm>화랑로(조선왕릉)</spot_nm><grs80tm_x>208764</grs80tm_x><grs80tm_y>459019</grs80tm_y></row><row><spot_num>B-07</spot_num><spot_nm>북부간선도로(신내IC)</spot_nm><grs80tm_x>209618</grs80tm_x><grs80tm_y>457126</grs80tm_y></row><row><spot_num>B-08</spot_num><spot_nm>서하남로(서하남IC)</spot_nm><grs80tm_x>213005.890193</grs80tm_x><grs80tm_y>446398.999033</grs80tm_y></row><row><spot_num>B-09</spot_num><spot_nm>천호대로(상일IC)</spot_nm><grs80tm_x>215469.587229</grs80tm_x><grs80tm_y>449773.571726</grs80tm_y></row><row><spot_num>B-10</spot_num><spot_nm>올림픽대로(강일IC)</spot_nm><grs80tm_x>213894</grs80tm_x><grs80tm_y>452265</grs80tm_y></row><row><spot_num>B-11</spot_num><spot_nm>경부고속도로(양재IC)</spot_nm><grs80tm_x>203414</grs80tm_x><grs80tm_y>440621</grs80tm_y></row><row><spot_num>B-12</spot_num><spot_nm>송파대로(복정역)</spot_nm><grs80tm_x>211162.986746</grs80tm_x><grs80tm_y>441076.417571</grs80tm_y></row><row><spot_num>B-13</spot_num><spot_nm>밤고개로(세곡동사거리)</spot_nm><grs80tm_x>209531</grs80tm_x><grs80tm_y>440360</grs80tm_y></row><row><spot_num>B-14</spot_num><spot_nm>분당-수서로(성남시계)</spot_nm><grs80tm_x>210863</grs80tm_x><grs80tm_y>441329</grs80tm_y></row><row><spot_num>B-15</spot_num><spot_nm>과천대로(남태령역)</spot_nm><grs80tm_x>198992.883246</grs80tm_x><grs80tm_y>440448.530816</grs80tm_y></row><row><spot_num>B-16</spot_num><spot_nm>양재대로(양재IC)</spot_nm><grs80tm_x>203101</grs80tm_x><grs80tm_y>440084</grs80tm_y></row><row><spot_num>B-17</spot_num><spot_nm>반포대로(우면산터널)</spot_nm><grs80tm_x>201006.172398</grs80tm_x><grs80tm_y>442700.15907</grs80tm_y></row><row><spot_num>B-18</spot_num><spot_nm>시흥대로(석수역)</spot_nm><grs80tm_x>191458.931086</grs80tm_x><grs80tm_y>437292.624732</grs80tm_y></row><row><spot_num>B-19</spot_num><spot_nm>금오로(광명시계)</spot_nm><grs80tm_x>186009.859895</grs80tm_x><grs80tm_y>442604.947339</grs80tm_y></row><row><spot_num>B-20</spot_num><spot_nm>오리로(광명시계)</spot_nm><grs80tm_x>186105</grs80tm_x><grs80tm_y>442593</grs80tm_y></row><row><spot_num>B-21</spot_num><spot_nm>개봉로(개봉교)</spot_nm><grs80tm_x>187302.087526</grs80tm_x><grs80tm_y>443031.264703</grs80tm_y></row><row><spot_num>B-22</spot_num><spot_nm>광명대교(광명시계)</spot_nm><grs80tm_x>188799.726093</grs80tm_x><grs80tm_y>442845.631707</grs80tm_y></row><row><spot_num>B-23</spot_num><spot_nm>철산교(광명시계)</spot_nm><grs80tm_x>189248.578812</grs80tm_x><grs80tm_y>441676.103787</grs80tm_y></row><row><spot_num>B-24</spot_num><spot_nm>금천교(광명시계)</spot_nm><grs80tm_x>189776.878856</grs80tm_x><grs80tm_y>440585.948941</grs80tm_y></row><row><spot_num>B-25</spot_num><spot_nm>금하로(광명시계)</spot_nm><grs80tm_x>190423.225984</grs80tm_x><grs80tm_y>439111.924802</grs80tm_y></row><row><spot_num>B-26</spot_num><spot_nm>오정로(부천시계)</spot_nm><grs80tm_x>183158.839363</grs80tm_x><grs80tm_y>449254.914663</grs80tm_y></row><row><spot_num>B-27</spot_num><spot_nm>화곡로(화곡로입구)</spot_nm><grs80tm_x>184478</grs80tm_x><grs80tm_y>448880</grs80tm_y></row><row><spot_num>B-28</spot_num><spot_nm>경인고속국도(신월IC)</spot_nm><grs80tm_x>185181</grs80tm_x><grs80tm_y>447307</grs80tm_y></row><row><spot_num>B-29</spot_num><spot_nm>경인로(유한공고)</spot_nm><grs80tm_x>184313.594374</grs80tm_x><grs80tm_y>443266.257648</grs80tm_y></row><row><spot_num>B-30</spot_num><spot_nm>신정로(작동터널)</spot_nm><grs80tm_x>184448</grs80tm_x><grs80tm_y>445203</grs80tm_y></row><row><spot_num>B-31</spot_num><spot_nm>김포대로(개화교)</spot_nm><grs80tm_x>181967.262021</grs80tm_x><grs80tm_y>454014.878725</grs80tm_y></row><row><spot_num>B-32</spot_num><spot_nm>올림픽대로(개화IC)</spot_nm><grs80tm_x>183484</grs80tm_x><grs80tm_y>454270</grs80tm_y></row><row><spot_num>B-33</spot_num><spot_nm>통일로(고양시계)</spot_nm><grs80tm_x>191766.010683</grs80tm_x><grs80tm_y>460807.999962</grs80tm_y></row><row><spot_num>B-34</spot_num><spot_nm>서오릉로(고양시계)</spot_nm><grs80tm_x>191705.649189</grs80tm_x><grs80tm_y>457593.577066</grs80tm_y></row><row><spot_num>B-35</spot_num><spot_nm>수색로(고양시계)</spot_nm><grs80tm_x>189971.537695</grs80tm_x><grs80tm_y>454250.346428</grs80tm_y></row><row><spot_num>B-36</spot_num><spot_nm>강변북로(난지한강공원)</spot_nm><grs80tm_x>188739</grs80tm_x><grs80tm_y>452378</grs80tm_y></row><row><spot_num>B-37</spot_num><spot_nm>강변북로(구리시계)</spot_nm><grs80tm_x>210360</grs80tm_x><grs80tm_y>451547</grs80tm_y></row><row><spot_num>C-01</spot_num><spot_nm>행주대교</spot_nm><grs80tm_x>183194</grs80tm_x><grs80tm_y>455379</grs80tm_y></row><row><spot_num>C-02</spot_num><spot_nm>방화대교</spot_nm><grs80tm_x>184719</grs80tm_x><grs80tm_y>454345</grs80tm_y></row><row><spot_num>C-03</spot_num><spot_nm>가양대교</spot_nm><grs80tm_x>187636</grs80tm_x><grs80tm_y>452084</grs80tm_y></row><row><spot_num>C-04</spot_num><spot_nm>성산대교</spot_nm><grs80tm_x>190385</grs80tm_x><grs80tm_y>450291</grs80tm_y></row><row><spot_num>C-05</spot_num><spot_nm>양화대교</spot_nm><grs80tm_x>191513</grs80tm_x><grs80tm_y>449316</grs80tm_y></row><row><spot_num>C-06</spot_num><spot_nm>서강대교</spot_nm><grs80tm_x>193396</grs80tm_x><grs80tm_y>448653</grs80tm_y></row><row><spot_num>C-07</spot_num><spot_nm>마포대교</spot_nm><grs80tm_x>194380</grs80tm_x><grs80tm_y>448236</grs80tm_y></row><row><spot_num>C-08</spot_num><spot_nm>원효대교</spot_nm><grs80tm_x>195164</grs80tm_x><grs80tm_y>447478</grs80tm_y></row><row><spot_num>C-09</spot_num><spot_nm>한강대교</spot_nm><grs80tm_x>196388</grs80tm_x><grs80tm_y>446508</grs80tm_y></row><row><spot_num>C-10</spot_num><spot_nm>동작대교</spot_nm><grs80tm_x>198378</grs80tm_x><grs80tm_y>445569</grs80tm_y></row><row><spot_num>C-11</spot_num><spot_nm>반포대교</spot_nm><grs80tm_x>199675</grs80tm_x><grs80tm_y>446138</grs80tm_y></row><row><spot_num>C-12</spot_num><spot_nm>잠수교</spot_nm><grs80tm_x>200000.318299</grs80tm_x><grs80tm_y>445351.121605</grs80tm_y></row><row><spot_num>C-13</spot_num><spot_nm>한남대교</spot_nm><grs80tm_x>201149</grs80tm_x><grs80tm_y>447494</grs80tm_y></row><row><spot_num>C-14</spot_num><spot_nm>동호대교</spot_nm><grs80tm_x>201721</grs80tm_x><grs80tm_y>448748</grs80tm_y></row><row><spot_num>C-15</spot_num><spot_nm>성수대교</spot_nm><grs80tm_x>203083</grs80tm_x><grs80tm_y>448599</grs80tm_y></row><row><spot_num>C-16</spot_num><spot_nm>영동대교</spot_nm><grs80tm_x>205070</grs80tm_x><grs80tm_y>447872</grs80tm_y></row><row><spot_num>C-17</spot_num><spot_nm>청담대교</spot_nm><grs80tm_x>205655</grs80tm_x><grs80tm_y>447331</grs80tm_y></row><row><spot_num>C-18</spot_num><spot_nm>잠실대교</spot_nm><grs80tm_x>208104</grs80tm_x><grs80tm_y>447180</grs80tm_y></row><row><spot_num>C-19</spot_num><spot_nm>올림픽대교</spot_nm><grs80tm_x>209189</grs80tm_x><grs80tm_y>448263</grs80tm_y></row><row><spot_num>C-20</spot_num><spot_nm>천호대교</spot_nm><grs80tm_x>209958</grs80tm_x><grs80tm_y>449248</grs80tm_y></row><row><spot_num>C-21</spot_num><spot_nm>광진교</spot_nm><grs80tm_x>210180</grs80tm_x><grs80tm_y>449414</grs80tm_y></row><row><spot_num>C-22</spot_num><spot_nm>강동대교</spot_nm><grs80tm_x>214266</grs80tm_x><grs80tm_y>453125</grs80tm_y></row><row><spot_num>D-01</spot_num><spot_nm>진흥로(구기터널)</spot_nm><grs80tm_x>195995.937882</grs80tm_x><grs80tm_y>456587.128855</grs80tm_y></row><row><spot_num>D-02</spot_num><spot_nm>평창문화로(북악터널)</spot_nm><grs80tm_x>198182.233352</grs80tm_x><grs80tm_y>456877.108256</grs80tm_y></row><row><spot_num>D-03</spot_num><spot_nm>동호로(금호터널)</spot_nm><grs80tm_x>201186.751155</grs80tm_x><grs80tm_y>450249.111193</grs80tm_y></row><row><spot_num>D-04</spot_num><spot_nm>서빙고로(한남역)</spot_nm><grs80tm_x>200406</grs80tm_x><grs80tm_y>447518</grs80tm_y></row><row><spot_num>D-05</spot_num><spot_nm>천호대로(군자교)</spot_nm><grs80tm_x>206060.199166</grs80tm_x><grs80tm_y>451252.982968</grs80tm_y></row><row><spot_num>D-06</spot_num><spot_nm>뚝섬로(용비교)</spot_nm><grs80tm_x>201813</grs80tm_x><grs80tm_y>449171</grs80tm_y></row><row><spot_num>D-07</spot_num><spot_nm>동일로(군자교)</spot_nm><grs80tm_x>206209</grs80tm_x><grs80tm_y>450406</grs80tm_y></row><row><spot_num>D-08</spot_num><spot_nm>화랑로(상월곡역)</spot_nm><grs80tm_x>203909.428342</grs80tm_x><grs80tm_y>456019.24139</grs80tm_y></row><row><spot_num>D-09</spot_num><spot_nm>동소문로(길음교사거리)</spot_nm><grs80tm_x>201917.236433</grs80tm_x><grs80tm_y>455587.648946</grs80tm_y></row><row><spot_num>D-10</spot_num><spot_nm>화랑로(화랑대역)</spot_nm><grs80tm_x>207303</grs80tm_x><grs80tm_y>457807</grs80tm_y></row><row><spot_num>D-11</spot_num><spot_nm>도봉로(쌍문역)</spot_nm><grs80tm_x>202948.26258</grs80tm_x><grs80tm_y>460673.661905</grs80tm_y></row><row><spot_num>D-12</spot_num><spot_nm>동부간선도로(월계1교)</spot_nm><grs80tm_x>205657</grs80tm_x><grs80tm_y>459221</grs80tm_y></row><row><spot_num>D-13</spot_num><spot_nm>동일로(노원역)</spot_nm><grs80tm_x>205351.935482</grs80tm_x><grs80tm_y>461419.376043</grs80tm_y></row><row><spot_num>D-14</spot_num><spot_nm>증산로(디지털미디어시티역)</spot_nm><grs80tm_x>191636.082633</grs80tm_x><grs80tm_y>453367.561257</grs80tm_y></row><row><spot_num>D-15</spot_num><spot_nm>통일로(산골고개정류장)</spot_nm><grs80tm_x>194715.094302</grs80tm_x><grs80tm_y>455036.774946</grs80tm_y></row><row><spot_num>D-16</spot_num><spot_nm>성산로(연희IC)</spot_nm><grs80tm_x>193927.891848</grs80tm_x><grs80tm_y>451496.144797</grs80tm_y></row><row><spot_num>D-17</spot_num><spot_nm>연희로(연희IC)</spot_nm><grs80tm_x>193843</grs80tm_x><grs80tm_y>451835</grs80tm_y></row><row><spot_num>D-18</spot_num><spot_nm>남부순환로(화곡로입구 교차로)</spot_nm><grs80tm_x>184602.679141</grs80tm_x><grs80tm_y>448970.936037</grs80tm_y></row><row><spot_num>D-19</spot_num><spot_nm>남부순환로(신월IC)</spot_nm><grs80tm_x>185530.224904</grs80tm_x><grs80tm_y>447181.128972</grs80tm_y></row><row><spot_num>D-20</spot_num><spot_nm>강서로(화곡터널)</spot_nm><grs80tm_x>186308.326778</grs80tm_x><grs80tm_y>448340.978859</grs80tm_y></row><row><spot_num>D-21</spot_num><spot_nm>공항대로(발산역)</spot_nm><grs80tm_x>184968.601439</grs80tm_x><grs80tm_y>451095.373329</grs80tm_y></row><row><spot_num>D-22</spot_num><spot_nm>경인로(오류IC)</spot_nm><grs80tm_x>186824.044955</grs80tm_x><grs80tm_y>444345.153361</grs80tm_y></row><row><spot_num>D-23</spot_num><spot_nm>경인로(거리공원입구교차로)</spot_nm><grs80tm_x>189772.781932</grs80tm_x><grs80tm_y>445222.568696</grs80tm_y></row><row><spot_num>D-24</spot_num><spot_nm>시흥대로(시흥IC)</spot_nm><grs80tm_x>191019.546672</grs80tm_x><grs80tm_y>441943.160289</grs80tm_y></row><row><spot_num>D-25</spot_num><spot_nm>영등포로(오목교)</spot_nm><grs80tm_x>189699.279303</grs80tm_x><grs80tm_y>447078.182443</grs80tm_y></row><row><spot_num>D-26</spot_num><spot_nm>시흥대로(구로디지털단지역)</spot_nm><grs80tm_x>191536.496961</grs80tm_x><grs80tm_y>443062.487406</grs80tm_y></row><row><spot_num>D-27</spot_num><spot_nm>제물포길(여의2교)</spot_nm><grs80tm_x>192081.671803</grs80tm_x><grs80tm_y>447371.898454</grs80tm_y></row><row><spot_num>D-28</spot_num><spot_nm>경인로(서울교)</spot_nm><grs80tm_x>192513.359359</grs80tm_x><grs80tm_y>446774.318707</grs80tm_y></row><row><spot_num>D-29</spot_num><spot_nm>여의대방로(여의교)</spot_nm><grs80tm_x>193620.717018</grs80tm_x><grs80tm_y>446401.753982</grs80tm_y></row><row><spot_num>D-30</spot_num><spot_nm>양녕로(상도터널)</spot_nm><grs80tm_x>195876.010078</grs80tm_x><grs80tm_y>445710.321701</grs80tm_y></row><row><spot_num>D-31</spot_num><spot_nm>동작대로(총신대입구역)</spot_nm><grs80tm_x>198482</grs80tm_x><grs80tm_y>443886</grs80tm_y></row><row><spot_num>D-32</spot_num><spot_nm>문성로(난곡터널)</spot_nm><grs80tm_x>193301.868134</grs80tm_x><grs80tm_y>442185.848969</grs80tm_y></row><row><spot_num>D-33</spot_num><spot_nm>남부순환로(낙성대역)</spot_nm><grs80tm_x>196671.683132</grs80tm_x><grs80tm_y>442047.207145</grs80tm_y></row><row><spot_num>D-34</spot_num><spot_nm>남부순환로(예술의전당)</spot_nm><grs80tm_x>200369.30044</grs80tm_x><grs80tm_y>441902.72279</grs80tm_y></row><row><spot_num>D-35</spot_num><spot_nm>강남대로(강남역-신분당)</spot_nm><grs80tm_x>202677</grs80tm_x><grs80tm_y>443638</grs80tm_y></row><row><spot_num>D-36</spot_num><spot_nm>사평대로(고속터미널역)</spot_nm><grs80tm_x>200691.392481</grs80tm_x><grs80tm_y>444896.469303</grs80tm_y></row><row><spot_num>D-37</spot_num><spot_nm>반포대로(서초역)</spot_nm><grs80tm_x>200494</grs80tm_x><grs80tm_y>444089</grs80tm_y></row><row><spot_num>D-38</spot_num><spot_nm>언주로(매봉터널)</spot_nm><grs80tm_x>204198.714027</grs80tm_x><grs80tm_y>443664.32288</grs80tm_y></row><row><spot_num>D-39</spot_num><spot_nm>남부순환로(수서IC)</spot_nm><grs80tm_x>208147.683326</grs80tm_x><grs80tm_y>444008.403275</grs80tm_y></row><row><spot_num>D-40</spot_num><spot_nm>헌릉로(세곡동사거리)</spot_nm><grs80tm_x>209322.895518</grs80tm_x><grs80tm_y>440609.887336</grs80tm_y></row><row><spot_num>D-41</spot_num><spot_nm>노들로</spot_nm><grs80tm_x>191978</grs80tm_x><grs80tm_y>447806</grs80tm_y></row><row><spot_num>D-42</spot_num><spot_nm>테헤란로(선릉역)</spot_nm><grs80tm_x>204611.157854</grs80tm_x><grs80tm_y>445158.415941</grs80tm_y></row><row><spot_num>D-43</spot_num><spot_nm>강남대로(신사역)</spot_nm><grs80tm_x>201776</grs80tm_x><grs80tm_y>446166</grs80tm_y></row><row><spot_num>D-44</spot_num><spot_nm>백제고분로(종합운동장)</spot_nm><grs80tm_x>206930</grs80tm_x><grs80tm_y>445752</grs80tm_y></row><row><spot_num>D-45</spot_num><spot_nm>송파대로(송파역)</spot_nm><grs80tm_x>210778</grs80tm_x><grs80tm_y>443092</grs80tm_y></row><row><spot_num>D-46</spot_num><spot_nm>올림픽로(송파구청~잠실역)</spot_nm><grs80tm_x>208940</grs80tm_x><grs80tm_y>446020</grs80tm_y></row><row><spot_num>D-47</spot_num><spot_nm>올림픽로(몽촌토성역~올림픽회관)</spot_nm><grs80tm_x>209998</grs80tm_x><grs80tm_y>446535</grs80tm_y></row><row><spot_num>D-48</spot_num><spot_nm>올림픽로(종합운동장)</spot_nm><grs80tm_x>207597</grs80tm_x><grs80tm_y>445803</grs80tm_y></row><row><spot_num>D-49</spot_num><spot_nm>올림픽로(잠실3사거리~잠실역)</spot_nm><grs80tm_x>208225</grs80tm_x><grs80tm_y>445834</grs80tm_y></row><row><spot_num>D-50</spot_num><spot_nm>송파대로(석촌호수(롯데월드)~석촌호수)</spot_nm><grs80tm_x>209206</grs80tm_x><grs80tm_y>445434</grs80tm_y></row><row><spot_num>D-51</spot_num><spot_nm>송파대로(잠실대교남단교차로~잠실역)</spot_nm><grs80tm_x>208895</grs80tm_x><grs80tm_y>445940</grs80tm_y></row><row><spot_num>D-52</spot_num><spot_nm>잠실로(석촌호수(롯데월드)~KT송파지사)</spot_nm><grs80tm_x>208649</grs80tm_x><grs80tm_y>445617</grs80tm_y></row><row><spot_num>D-53</spot_num><spot_nm>석촌호수로(신천역~잠실학원사거리)</spot_nm><grs80tm_x>207579</grs80tm_x><grs80tm_y>445750</grs80tm_y></row><row><spot_num>D-54</spot_num><spot_nm>석촌호수로(방이삼거리-&gt;석촌호수)</spot_nm><grs80tm_x>209229</grs80tm_x><grs80tm_y>445515</grs80tm_y></row><row><spot_num>D-55</spot_num><spot_nm>석촌호수로(석촌호(서호)-&gt;잠실학원사거리)</spot_nm><grs80tm_x>207994</grs80tm_x><grs80tm_y>445347</grs80tm_y></row><row><spot_num>D-56</spot_num><spot_nm>석촌호수로(석촌호(서호)-&gt;석촌호수)</spot_nm><grs80tm_x>209236</grs80tm_x><grs80tm_y>445497</grs80tm_y></row><row><spot_num>D-58</spot_num><spot_nm>삼전로(잠실학원사거리-&gt;잠실트리지움)</spot_nm><grs80tm_x>208248</grs80tm_x><grs80tm_y>445668</grs80tm_y></row><row><spot_num>D-59</spot_num><spot_nm>삼학사로(서울놀이마당앞-&gt;석촌호(서호))</spot_nm><grs80tm_x>208599</grs80tm_x><grs80tm_y>445225</grs80tm_y></row><row><spot_num>D-60</spot_num><spot_nm>송파대로(석촌호수-&gt;석촌역)</spot_nm><grs80tm_x>209516</grs80tm_x><grs80tm_y>445092</grs80tm_y></row><row><spot_num>D-61</spot_num><spot_nm>송파대로(잠실대교남단-&gt;잠실대교남단교차로)</spot_nm><grs80tm_x>208691</grs80tm_x><grs80tm_y>446268</grs80tm_y></row><row><spot_num>D-62</spot_num><spot_nm>신천로(올림픽회관-&gt;잠실파크리오아파트)</spot_nm><grs80tm_x>209562</grs80tm_x><grs80tm_y>446649</grs80tm_y></row><row><spot_num>D-63</spot_num><spot_nm>신천로(잠실나루역-&gt;잠실대교남단교차로)</spot_nm><grs80tm_x>208650</grs80tm_x><grs80tm_y>446277</grs80tm_y></row><row><spot_num>D-64</spot_num><spot_nm>신천로(잠실나루역-&gt;잠실대교남단교차로)</spot_nm><grs80tm_x>209087</grs80tm_x><grs80tm_y>446505</grs80tm_y></row><row><spot_num>D-65</spot_num><spot_nm>신천로(잠실나루역-&gt;잠실파크리오아파트)</spot_nm><grs80tm_x>209556</grs80tm_x><grs80tm_y>446649</grs80tm_y></row><row><spot_num>D-66</spot_num><spot_nm>신천로(잠실대교남단교차로-&gt;잠실나루역)</spot_nm><grs80tm_x>209093</grs80tm_x><grs80tm_y>446493</grs80tm_y></row><row><spot_num>D-67</spot_num><spot_nm>신천로(잠실파크리오아파트-&gt;올림픽회관)</spot_nm><grs80tm_x>210122</grs80tm_x><grs80tm_y>446756</grs80tm_y></row><row><spot_num>D-68</spot_num><spot_nm>오금로(KT송파지사-&gt;송파구청)</spot_nm><grs80tm_x>209396</grs80tm_x><grs80tm_y>446247</grs80tm_y></row><row><spot_num>D-69</spot_num><spot_nm>오금로(방이삼거리-&gt;KT송파지사)</spot_nm><grs80tm_x>209508</grs80tm_x><grs80tm_y>446042</grs80tm_y></row><row><spot_num>D-70</spot_num><spot_nm>오금로(잠실나루역-&gt;송파구청)</spot_nm><grs80tm_x>209453</grs80tm_x><grs80tm_y>446200</grs80tm_y></row><row><spot_num>D-71</spot_num><spot_nm>올림픽로(송파구청-&gt;몽촌토성역)</spot_nm><grs80tm_x>209677</grs80tm_x><grs80tm_y>446338</grs80tm_y></row><row><spot_num>D-72</spot_num><spot_nm>올림픽로(올림픽회관-&gt;몽촌토성역)</spot_nm><grs80tm_x>209964</grs80tm_x><grs80tm_y>446415</grs80tm_y></row><row><spot_num>D-73</spot_num><spot_nm>올림픽로(잠실3사거리-&gt;신천역)</spot_nm><grs80tm_x>207537</grs80tm_x><grs80tm_y>445795</grs80tm_y></row><row><spot_num>D-74</spot_num><spot_nm>올림픽로(잠실역-&gt;잠실3사거리)</spot_nm><grs80tm_x>208159</grs80tm_x><grs80tm_y>445839</grs80tm_y></row><row><spot_num>D-75</spot_num><spot_nm>올림픽로(종합운동장-&gt;신천역)</spot_nm><grs80tm_x>207593</grs80tm_x><grs80tm_y>445794</grs80tm_y></row><row><spot_num>D-76</spot_num><spot_nm>올림픽로35가길(올림픽35가사거리-&gt;홈플러스)</spot_nm><grs80tm_x>209090</grs80tm_x><grs80tm_y>446501</grs80tm_y></row><row><spot_num>D-77</spot_num><spot_nm>잠실로(잠실3사거리-&gt;잠실트리지움)</spot_nm><grs80tm_x>208246</grs80tm_x><grs80tm_y>445633</grs80tm_y></row><row><spot_num>F-01</spot_num><spot_nm>올림픽대로</spot_nm><grs80tm_x>197646</grs80tm_x><grs80tm_y>445188</grs80tm_y></row><row><spot_num>F-02</spot_num><spot_nm>강변북로</spot_nm><grs80tm_x>197729</grs80tm_x><grs80tm_y>446395</grs80tm_y></row><row><spot_num>F-03</spot_num><spot_nm>내부순환로</spot_nm><grs80tm_x>199911</grs80tm_x><grs80tm_y>456580</grs80tm_y></row><row><spot_num>F-04</spot_num><spot_nm>북부간선로</spot_nm><grs80tm_x>204649</grs80tm_x><grs80tm_y>456550</grs80tm_y></row><row><spot_num>F-05</spot_num><spot_nm>동부간선도로</spot_nm><grs80tm_x>207000</grs80tm_x><grs80tm_y>452742</grs80tm_y></row><row><spot_num>F-06</spot_num><spot_nm>경부고속도로</spot_nm><grs80tm_x>202107</grs80tm_x><grs80tm_y>443264</grs80tm_y></row><row><spot_num>F-07</spot_num><spot_nm>분당수서로</spot_nm><grs80tm_x>207716</grs80tm_x><grs80tm_y>444241</grs80tm_y></row><row><spot_num>F-08</spot_num><spot_nm>강남순환로(관악터널)</spot_nm><grs80tm_x>191832</grs80tm_x><grs80tm_y>437667</grs80tm_y></row><row><spot_num>F-09</spot_num><spot_nm>서부간선도로</spot_nm><grs80tm_x>189560</grs80tm_x><grs80tm_y>446828</grs80tm_y></row><row><spot_num>Y-53</spot_num><spot_nm>잠실로(서울놀이마당앞~잠실트리지움)</spot_nm><grs80tm_x>208208</grs80tm_x><grs80tm_y>445659</grs80tm_y></row></SpotInfo>\n"
     ]
    }
   ],
   "source": [
    "key = '74474a754173696e3533784e687a65'\n",
    "contentType = 'xml'\n",
    "url = 'http://openapi.seoul.go.kr:8088/74474a754173696e3533784e687a65/xml/SpotInfo/1/1000/'\n",
    "res = req.urlopen(url)\n",
    "soup = BeautifulSoup(res.read().decode('utf-8'), features=\"xml\")\n",
    "print(url)\n",
    "#print(soup.prettify())\n",
    "print(soup)"
   ]
  },
  {
   "cell_type": "code",
   "execution_count": 12,
   "metadata": {},
   "outputs": [],
   "source": [
    "spotinfo = []\n",
    "\n",
    "for itemList in soup.find_all('row') :\n",
    "    spot_nm = itemList.find('spot_nm').string   \n",
    "    grs80tm_x = itemList.find('grs80tm_x').string    \n",
    "    grs80tm_y = itemList.find('grs80tm_y').string    \n",
    "    spotinfo.append((spot_nm, grs80tm_x, grs80tm_y))"
   ]
  },
  {
   "cell_type": "code",
   "execution_count": 17,
   "metadata": {},
   "outputs": [
    {
     "name": "stdout",
     "output_type": "stream",
     "text": [
      "                spotname           tm_x           tm_y\n",
      "0              성산로(금화터널)         195489         452136\n",
      "1              사직로(사직터널)  196756.776106  452546.638644\n",
      "2            자하문로(자하문터널)  197216.855046  454350.990432\n",
      "3             대사관로(삼청터널)  198648.893154  455200.108465\n",
      "4               율곡로(안국역)  198645.671347  452937.216603\n",
      "..                   ...            ...            ...\n",
      "164               경부고속도로         202107         443264\n",
      "165                분당수서로         207716         444241\n",
      "166          강남순환로(관악터널)         191832         437667\n",
      "167               서부간선도로         189560         446828\n",
      "168  잠실로(서울놀이마당앞~잠실트리지움)         208208         445659\n",
      "\n",
      "[169 rows x 3 columns]\n"
     ]
    }
   ],
   "source": [
    "spotinfo = pd.DataFrame(spotinfo)\n",
    "spotinfo.columns = ['spotname','tm_x','tm_y']\n",
    "print(spotinfo)"
   ]
  },
  {
   "cell_type": "code",
   "execution_count": null,
   "metadata": {},
   "outputs": [],
   "source": []
  },
  {
   "cell_type": "code",
   "execution_count": null,
   "metadata": {},
   "outputs": [],
   "source": [
    "key = 'd7pOtZHjihMLv0obKwPcxzlRNCwfcmnNMjNVwNc08mxUQMg%2B4EYxcVmqBEjZbjgpB2PpHj5ExgzjIjkoz5IHBQ%3D%3D'\n",
    "contentType = 'xml'\n",
    "sido = urllib.parse.quote('서울') #한글을 쿼리문자열로 변환 후 검색\n",
    "url = 'http://apis.data.go.kr/B552584/ArpltnStatsSvc/getCtprvnMesureSidoLIst?sidoName='+sido+'&searchCondition=DAILY&pageNo=1&numOfRows=100&&returnType=xml&serviceKey='+key\n",
    "res = req.urlopen(url)\n",
    "soup = BeautifulSoup(res.read().decode('utf-8'), features=\"xml\")\n",
    "print(url)\n",
    "print(soup)\n"
   ]
  },
  {
   "cell_type": "code",
   "execution_count": null,
   "metadata": {},
   "outputs": [],
   "source": [
    "import pandas as pd\n",
    "import folium\n",
    "\n",
    "# 대학교 리스트를 데이터프레임 변환\n",
    "df = pd.read_excel('./data/미세먼지 측정소별 교통량.xlsx')\n",
    "df = df[['미세먼지 측정소 명','도로명 주소','위도,경도']]\n",
    "df['위도,경도'] = df['위도,경도'].replace(\" \",\"\")\n",
    "latf = []\n",
    "for i in df['위도,경도']:\n",
    "    latf.append(i.split(','))\n",
    "latlng = latf\n",
    "lat = []\n",
    "lng = []\n",
    "for i in range(len(latlng)):\n",
    "    lat.append(latlng[i][0])\n",
    "    lng.append(latlng[i][1])\n",
    "df['lat'] = lat\n",
    "df['lng'] = lng\n",
    "# 서울 지도 만들기\n",
    "seoul_map = folium.Map(location=[37.55,126.98], tiles='Stamen Terrain', \n",
    "                        zoom_start=12)\n",
    "\n",
    "# 대학교 위치정보를 CircleMarker로 표시\n",
    "for name, lat, lng in zip(df['미세먼지 측정소 명'], df.lat,df.lng):\n",
    "    folium.CircleMarker([lat,lng],\n",
    "                        radius=5,         # 원의 반지름\n",
    "                        color='brown',         # 원의 둘레 색상\n",
    "                        fill=True,\n",
    "                        fill_color='coral',    # 원을 채우는 색\n",
    "                        fill_opacity=0.7, # 투명도    \n",
    "                        popup=name\n",
    "    ).add_to(seoul_map)\n",
    "    \n",
    "display(seoul_map)\n",
    "\n",
    "# 지도를 HTML 파일로 저장하기\n",
    "#seoul_map.save('output/seoul_colleges2.html')"
   ]
  },
  {
   "cell_type": "markdown",
   "metadata": {},
   "source": [
    "![NumPy image](images/서울시교통측정소.png)"
   ]
  },
  {
   "cell_type": "code",
   "execution_count": 60,
   "metadata": {},
   "outputs": [
    {
     "ename": "IndentationError",
     "evalue": "unexpected indent (<ipython-input-60-e0faa744671b>, line 5)",
     "output_type": "error",
     "traceback": [
      "\u001b[1;36m  File \u001b[1;32m\"<ipython-input-60-e0faa744671b>\"\u001b[1;36m, line \u001b[1;32m5\u001b[0m\n\u001b[1;33m    folium.CircleMarker([195489,452136],\u001b[0m\n\u001b[1;37m    ^\u001b[0m\n\u001b[1;31mIndentationError\u001b[0m\u001b[1;31m:\u001b[0m unexpected indent\n"
     ]
    }
   ],
   "source": [
    "# 서울 지도 만들기\n",
    "seoul_map = folium.Map(location=[37.55,126.98], tiles='Stamen Terrain', \n",
    "                        zoom_start=12)\n",
    "\n",
    " folium.CircleMarker([195489,452136],\n",
    "                        radius=5,         # 원의 반지름\n",
    "                        color='brown',         # 원의 둘레 색상\n",
    "                        fill=True,\n",
    "                        fill_color='coral',    # 원을 채우는 색\n",
    "                        fill_opacity=0.7, # 투명도    \n",
    "                        popup=name\n",
    "    ).add_to(seoul_map)"
   ]
  }
 ],
 "metadata": {
  "kernelspec": {
   "display_name": "pydatavenv",
   "language": "python",
   "name": "pydatavenv"
  },
  "language_info": {
   "codemirror_mode": {
    "name": "ipython",
    "version": 3
   },
   "file_extension": ".py",
   "mimetype": "text/x-python",
   "name": "python",
   "nbconvert_exporter": "python",
   "pygments_lexer": "ipython3",
   "version": "3.8.8"
  }
 },
 "nbformat": 4,
 "nbformat_minor": 4
}

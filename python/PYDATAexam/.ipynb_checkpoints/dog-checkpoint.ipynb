{
 "cells": [
  {
   "cell_type": "code",
   "execution_count": 1,
   "metadata": {},
   "outputs": [
    {
     "name": "stdout",
     "output_type": "stream",
     "text": [
      "WebDriver 객체 :  <class 'selenium.webdriver.chrome.webdriver.WebDriver'>\n"
     ]
    }
   ],
   "source": [
    "from selenium import webdriver #R과 달리 셀레늄 서버를 따로 기동할 필요 없다.\n",
    "from selenium.webdriver.common.keys import Keys \n",
    "import urllib.request\n",
    "from bs4 import BeautifulSoup\n",
    "import time \n",
    "from urllib.request import urlretrieve\n",
    "from urllib.parse import quote_plus\n",
    "\n",
    "driver = webdriver.Chrome('C:/Temp/chromedriver')\n",
    "print(\"WebDriver 객체 : \", type(driver))\n",
    "\n",
    "driver.get(\"https://google.com\")\n",
    "#target=driver.find_element_by_class_name(\"quickResultLstCon\")"
   ]
  },
  {
   "cell_type": "code",
   "execution_count": 34,
   "metadata": {},
   "outputs": [],
   "source": [
    "from urllib.request import urlopen\n",
    "from bs4 import BeautifulSoup as bs\n",
    "from urllib.parse import quote_plus"
   ]
  },
  {
   "cell_type": "code",
   "execution_count": 2,
   "metadata": {},
   "outputs": [],
   "source": [
    "import pandas as pd\n",
    "import matplotlib.pyplot as plt\n",
    "import matplotlib\n",
    "import pandas as pd\n",
    "import numpy as np\n",
    "import matplotlib.pyplot as plt\n",
    "\n",
    "import warnings"
   ]
  },
  {
   "cell_type": "code",
   "execution_count": 5,
   "metadata": {},
   "outputs": [
    {
     "name": "stdout",
     "output_type": "stream",
     "text": [
      "                      affenpinscher\n",
      "0                      Afghan_hound\n",
      "1               African_hunting_dog\n",
      "2                          Airedale\n",
      "3    American_Staffordshire_terrier\n",
      "4                       Appenzeller\n",
      "..                              ...\n",
      "114          Welsh_springer_spaniel\n",
      "115     West_Highland_white_terrier\n",
      "116                         whippet\n",
      "117         wire-haired_fox_terrier\n",
      "118               Yorkshire_terrier\n",
      "\n",
      "[119 rows x 1 columns]\n"
     ]
    }
   ],
   "source": [
    "dogs = pd.read_excel('data/견종분류.xlsx')\n",
    "print(dogs)"
   ]
  },
  {
   "cell_type": "code",
   "execution_count": null,
   "metadata": {},
   "outputs": [],
   "source": [
    "검색사이트 주소 : https://www.google.com/search?q=affenpinscher&tbm=isch&tbs=rimg:CXJJ0GoyzhMXYXqdMqz5UNI1&hl=ko&sa=X&ved=0CAIQrnZqFwoTCMD70Lr-rvACFQAAAAAdAAAAABAG&biw=1903&bih=925data:image/jpeg;base64,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"
   ]
  },
  {
   "cell_type": "code",
   "execution_count": 32,
   "metadata": {},
   "outputs": [],
   "source": [
    "img = driver.find_element_by_css_selector('#islrg > div.islrc > div:nth-child(1) > a.wXeWr.islib.nfEiy.mM5pbd > div.bRMDJf.islir > img')\n",
    "\n",
    "img.get_attribute('src')\n",
    "\n",
    "driver.get(img.get_attribute('src'))\n",
    "\n",
    "body = driver.find_element_by_css_selector('body')\n",
    "\n",
    "body.send_keys(Keys.PAGE_DOWN)\n",
    "\n",
    "imgUrl = img.get_attribute('src')\n",
    "with urlopen(imgUrl) as f:\n",
    "    with open('images/'+'f.jpg','wb') as h: # 이미지 + 사진번호 + 확장자는 jpg\n",
    "        img = f.read() #이미지 읽기\n",
    "        h.write(img) "
   ]
  },
  {
   "cell_type": "code",
   "execution_count": 70,
   "metadata": {},
   "outputs": [
    {
     "ename": "AttributeError",
     "evalue": "'NoneType' object has no attribute 'timeout'",
     "output_type": "error",
     "traceback": [
      "\u001b[1;31m---------------------------------------------------------------------------\u001b[0m",
      "\u001b[1;31mAttributeError\u001b[0m                            Traceback (most recent call last)",
      "\u001b[1;32m<ipython-input-70-34f6421559a3>\u001b[0m in \u001b[0;36m<module>\u001b[1;34m\u001b[0m\n\u001b[0;32m      4\u001b[0m \u001b[1;32mfor\u001b[0m \u001b[0mi\u001b[0m \u001b[1;32min\u001b[0m \u001b[0mimg\u001b[0m\u001b[1;33m:\u001b[0m\u001b[1;33m\u001b[0m\u001b[1;33m\u001b[0m\u001b[0m\n\u001b[0;32m      5\u001b[0m     \u001b[0mimgUrl\u001b[0m \u001b[1;33m=\u001b[0m \u001b[0mi\u001b[0m\u001b[1;33m.\u001b[0m\u001b[0mget_attribute\u001b[0m\u001b[1;33m(\u001b[0m\u001b[1;34m'src'\u001b[0m\u001b[1;33m)\u001b[0m\u001b[1;33m\u001b[0m\u001b[1;33m\u001b[0m\u001b[0m\n\u001b[1;32m----> 6\u001b[1;33m     \u001b[1;32mwith\u001b[0m \u001b[0murlopen\u001b[0m\u001b[1;33m(\u001b[0m\u001b[0mimgUrl\u001b[0m\u001b[1;33m)\u001b[0m \u001b[1;32mas\u001b[0m \u001b[0mf\u001b[0m\u001b[1;33m:\u001b[0m\u001b[1;33m\u001b[0m\u001b[1;33m\u001b[0m\u001b[0m\n\u001b[0m\u001b[0;32m      7\u001b[0m         \u001b[1;32mwith\u001b[0m \u001b[0mopen\u001b[0m\u001b[1;33m(\u001b[0m\u001b[1;34m'dogimages/WELSH CORGI/'\u001b[0m\u001b[1;33m+\u001b[0m\u001b[0mstr\u001b[0m\u001b[1;33m(\u001b[0m\u001b[0mn\u001b[0m\u001b[1;33m)\u001b[0m\u001b[1;33m+\u001b[0m\u001b[1;34m'.jpg'\u001b[0m\u001b[1;33m,\u001b[0m\u001b[1;34m'wb'\u001b[0m\u001b[1;33m)\u001b[0m \u001b[1;32mas\u001b[0m \u001b[0mh\u001b[0m\u001b[1;33m:\u001b[0m \u001b[1;31m# 이미지 + 사진번호 + 확장자는 jpg\u001b[0m\u001b[1;33m\u001b[0m\u001b[1;33m\u001b[0m\u001b[0m\n\u001b[0;32m      8\u001b[0m             \u001b[0mimg\u001b[0m \u001b[1;33m=\u001b[0m \u001b[0mf\u001b[0m\u001b[1;33m.\u001b[0m\u001b[0mread\u001b[0m\u001b[1;33m(\u001b[0m\u001b[1;33m)\u001b[0m \u001b[1;31m#이미지 읽기\u001b[0m\u001b[1;33m\u001b[0m\u001b[1;33m\u001b[0m\u001b[0m\n",
      "\u001b[1;32m~\\anaconda3\\envs\\pydatavenv\\lib\\urllib\\request.py\u001b[0m in \u001b[0;36murlopen\u001b[1;34m(url, data, timeout, cafile, capath, cadefault, context)\u001b[0m\n\u001b[0;32m    220\u001b[0m     \u001b[1;32melse\u001b[0m\u001b[1;33m:\u001b[0m\u001b[1;33m\u001b[0m\u001b[1;33m\u001b[0m\u001b[0m\n\u001b[0;32m    221\u001b[0m         \u001b[0mopener\u001b[0m \u001b[1;33m=\u001b[0m \u001b[0m_opener\u001b[0m\u001b[1;33m\u001b[0m\u001b[1;33m\u001b[0m\u001b[0m\n\u001b[1;32m--> 222\u001b[1;33m     \u001b[1;32mreturn\u001b[0m \u001b[0mopener\u001b[0m\u001b[1;33m.\u001b[0m\u001b[0mopen\u001b[0m\u001b[1;33m(\u001b[0m\u001b[0murl\u001b[0m\u001b[1;33m,\u001b[0m \u001b[0mdata\u001b[0m\u001b[1;33m,\u001b[0m \u001b[0mtimeout\u001b[0m\u001b[1;33m)\u001b[0m\u001b[1;33m\u001b[0m\u001b[1;33m\u001b[0m\u001b[0m\n\u001b[0m\u001b[0;32m    223\u001b[0m \u001b[1;33m\u001b[0m\u001b[0m\n\u001b[0;32m    224\u001b[0m \u001b[1;32mdef\u001b[0m \u001b[0minstall_opener\u001b[0m\u001b[1;33m(\u001b[0m\u001b[0mopener\u001b[0m\u001b[1;33m)\u001b[0m\u001b[1;33m:\u001b[0m\u001b[1;33m\u001b[0m\u001b[1;33m\u001b[0m\u001b[0m\n",
      "\u001b[1;32m~\\anaconda3\\envs\\pydatavenv\\lib\\urllib\\request.py\u001b[0m in \u001b[0;36mopen\u001b[1;34m(self, fullurl, data, timeout)\u001b[0m\n\u001b[0;32m    513\u001b[0m                 \u001b[0mreq\u001b[0m\u001b[1;33m.\u001b[0m\u001b[0mdata\u001b[0m \u001b[1;33m=\u001b[0m \u001b[0mdata\u001b[0m\u001b[1;33m\u001b[0m\u001b[1;33m\u001b[0m\u001b[0m\n\u001b[0;32m    514\u001b[0m \u001b[1;33m\u001b[0m\u001b[0m\n\u001b[1;32m--> 515\u001b[1;33m         \u001b[0mreq\u001b[0m\u001b[1;33m.\u001b[0m\u001b[0mtimeout\u001b[0m \u001b[1;33m=\u001b[0m \u001b[0mtimeout\u001b[0m\u001b[1;33m\u001b[0m\u001b[1;33m\u001b[0m\u001b[0m\n\u001b[0m\u001b[0;32m    516\u001b[0m         \u001b[0mprotocol\u001b[0m \u001b[1;33m=\u001b[0m \u001b[0mreq\u001b[0m\u001b[1;33m.\u001b[0m\u001b[0mtype\u001b[0m\u001b[1;33m\u001b[0m\u001b[1;33m\u001b[0m\u001b[0m\n\u001b[0;32m    517\u001b[0m \u001b[1;33m\u001b[0m\u001b[0m\n",
      "\u001b[1;31mAttributeError\u001b[0m: 'NoneType' object has no attribute 'timeout'"
     ]
    }
   ],
   "source": [
    "#여러장\n",
    "n=1\n",
    "img = driver.find_elements_by_css_selector('#islrg > div.islrc > div > a.wXeWr.islib.nfEiy.mM5pbd > div.bRMDJf.islir > img')    \n",
    "for i in img:\n",
    "    imgUrl = i.get_attribute('src')\n",
    "    with urlopen(imgUrl) as f:\n",
    "        with open('dogimages/WELSH CORGI/'+str(n)+'.jpg','wb') as h: # 이미지 + 사진번호 + 확장자는 jpg\n",
    "            img = f.read() #이미지 읽기\n",
    "            h.write(img) \n",
    "            time.sleep(1)\n",
    "            body = driver.find_element_by_css_selector('body')\n",
    "            body.send_keys(Keys.PAGE_DOWN)\n",
    "            n = n+1\n",
    "                "
   ]
  },
  {
   "cell_type": "code",
   "execution_count": 61,
   "metadata": {},
   "outputs": [],
   "source": [
    " '''body = driver.find_element_by_css_selector('body')\n",
    "    body.send_keys(Keys.PAGE_DOWN)\n",
    "    body.send_keys(Keys.PAGE_DOWN)\n",
    "    time.sleep(1)\n",
    "    body.send_keys(Keys.PAGE_DOWN) '''"
   ]
  },
  {
   "cell_type": "code",
   "execution_count": null,
   "metadata": {},
   "outputs": [],
   "source": []
  },
  {
   "cell_type": "code",
   "execution_count": 91,
   "metadata": {},
   "outputs": [
    {
     "ename": "NoSuchElementException",
     "evalue": "Message: no such element: Unable to locate element: {\"method\":\"css selector\",\"selector\":\"#islrg > div.islrc > div:nth-child(685) > a.wXeWr.islib.nfEiy.mM5pbd > div.bRMDJf.islir > img\"}\n  (Session info: chrome=90.0.4430.93)\n",
     "output_type": "error",
     "traceback": [
      "\u001b[1;31m---------------------------------------------------------------------------\u001b[0m",
      "\u001b[1;31mNoSuchElementException\u001b[0m                    Traceback (most recent call last)",
      "\u001b[1;32m<ipython-input-91-74f9200eabaa>\u001b[0m in \u001b[0;36m<module>\u001b[1;34m\u001b[0m\n\u001b[0;32m      3\u001b[0m \u001b[0mnum\u001b[0m\u001b[1;33m=\u001b[0m\u001b[1;36m661\u001b[0m\u001b[1;33m\u001b[0m\u001b[1;33m\u001b[0m\u001b[0m\n\u001b[0;32m      4\u001b[0m \u001b[1;32mwhile\u001b[0m \u001b[1;32mTrue\u001b[0m\u001b[1;33m:\u001b[0m\u001b[1;33m\u001b[0m\u001b[1;33m\u001b[0m\u001b[0m\n\u001b[1;32m----> 5\u001b[1;33m     \u001b[0mimg\u001b[0m \u001b[1;33m=\u001b[0m \u001b[0mdriver\u001b[0m\u001b[1;33m.\u001b[0m\u001b[0mfind_element_by_css_selector\u001b[0m\u001b[1;33m(\u001b[0m\u001b[1;34m'#islrg > div.islrc > div:nth-child('\u001b[0m\u001b[1;33m+\u001b[0m\u001b[0mstr\u001b[0m\u001b[1;33m(\u001b[0m\u001b[0mnum\u001b[0m\u001b[1;33m)\u001b[0m\u001b[1;33m+\u001b[0m\u001b[1;34m') > a.wXeWr.islib.nfEiy.mM5pbd > div.bRMDJf.islir > img'\u001b[0m\u001b[1;33m)\u001b[0m\u001b[1;33m\u001b[0m\u001b[1;33m\u001b[0m\u001b[0m\n\u001b[0m\u001b[0;32m      6\u001b[0m     \u001b[0mnum\u001b[0m \u001b[1;33m=\u001b[0m \u001b[0mnum\u001b[0m \u001b[1;33m+\u001b[0m \u001b[1;36m1\u001b[0m\u001b[1;33m\u001b[0m\u001b[1;33m\u001b[0m\u001b[0m\n\u001b[0;32m      7\u001b[0m     \u001b[0mimgUrl\u001b[0m \u001b[1;33m=\u001b[0m \u001b[0mimg\u001b[0m\u001b[1;33m.\u001b[0m\u001b[0mget_attribute\u001b[0m\u001b[1;33m(\u001b[0m\u001b[1;34m'src'\u001b[0m\u001b[1;33m)\u001b[0m\u001b[1;33m\u001b[0m\u001b[1;33m\u001b[0m\u001b[0m\n",
      "\u001b[1;32m~\\anaconda3\\envs\\pydatavenv\\lib\\site-packages\\selenium\\webdriver\\remote\\webdriver.py\u001b[0m in \u001b[0;36mfind_element_by_css_selector\u001b[1;34m(self, css_selector)\u001b[0m\n\u001b[0;32m    596\u001b[0m             \u001b[0melement\u001b[0m \u001b[1;33m=\u001b[0m \u001b[0mdriver\u001b[0m\u001b[1;33m.\u001b[0m\u001b[0mfind_element_by_css_selector\u001b[0m\u001b[1;33m(\u001b[0m\u001b[1;34m'#foo'\u001b[0m\u001b[1;33m)\u001b[0m\u001b[1;33m\u001b[0m\u001b[1;33m\u001b[0m\u001b[0m\n\u001b[0;32m    597\u001b[0m         \"\"\"\n\u001b[1;32m--> 598\u001b[1;33m         \u001b[1;32mreturn\u001b[0m \u001b[0mself\u001b[0m\u001b[1;33m.\u001b[0m\u001b[0mfind_element\u001b[0m\u001b[1;33m(\u001b[0m\u001b[0mby\u001b[0m\u001b[1;33m=\u001b[0m\u001b[0mBy\u001b[0m\u001b[1;33m.\u001b[0m\u001b[0mCSS_SELECTOR\u001b[0m\u001b[1;33m,\u001b[0m \u001b[0mvalue\u001b[0m\u001b[1;33m=\u001b[0m\u001b[0mcss_selector\u001b[0m\u001b[1;33m)\u001b[0m\u001b[1;33m\u001b[0m\u001b[1;33m\u001b[0m\u001b[0m\n\u001b[0m\u001b[0;32m    599\u001b[0m \u001b[1;33m\u001b[0m\u001b[0m\n\u001b[0;32m    600\u001b[0m     \u001b[1;32mdef\u001b[0m \u001b[0mfind_elements_by_css_selector\u001b[0m\u001b[1;33m(\u001b[0m\u001b[0mself\u001b[0m\u001b[1;33m,\u001b[0m \u001b[0mcss_selector\u001b[0m\u001b[1;33m)\u001b[0m\u001b[1;33m:\u001b[0m\u001b[1;33m\u001b[0m\u001b[1;33m\u001b[0m\u001b[0m\n",
      "\u001b[1;32m~\\anaconda3\\envs\\pydatavenv\\lib\\site-packages\\selenium\\webdriver\\remote\\webdriver.py\u001b[0m in \u001b[0;36mfind_element\u001b[1;34m(self, by, value)\u001b[0m\n\u001b[0;32m    974\u001b[0m                 \u001b[0mby\u001b[0m \u001b[1;33m=\u001b[0m \u001b[0mBy\u001b[0m\u001b[1;33m.\u001b[0m\u001b[0mCSS_SELECTOR\u001b[0m\u001b[1;33m\u001b[0m\u001b[1;33m\u001b[0m\u001b[0m\n\u001b[0;32m    975\u001b[0m                 \u001b[0mvalue\u001b[0m \u001b[1;33m=\u001b[0m \u001b[1;34m'[name=\"%s\"]'\u001b[0m \u001b[1;33m%\u001b[0m \u001b[0mvalue\u001b[0m\u001b[1;33m\u001b[0m\u001b[1;33m\u001b[0m\u001b[0m\n\u001b[1;32m--> 976\u001b[1;33m         return self.execute(Command.FIND_ELEMENT, {\n\u001b[0m\u001b[0;32m    977\u001b[0m             \u001b[1;34m'using'\u001b[0m\u001b[1;33m:\u001b[0m \u001b[0mby\u001b[0m\u001b[1;33m,\u001b[0m\u001b[1;33m\u001b[0m\u001b[1;33m\u001b[0m\u001b[0m\n\u001b[0;32m    978\u001b[0m             'value': value})['value']\n",
      "\u001b[1;32m~\\anaconda3\\envs\\pydatavenv\\lib\\site-packages\\selenium\\webdriver\\remote\\webdriver.py\u001b[0m in \u001b[0;36mexecute\u001b[1;34m(self, driver_command, params)\u001b[0m\n\u001b[0;32m    319\u001b[0m         \u001b[0mresponse\u001b[0m \u001b[1;33m=\u001b[0m \u001b[0mself\u001b[0m\u001b[1;33m.\u001b[0m\u001b[0mcommand_executor\u001b[0m\u001b[1;33m.\u001b[0m\u001b[0mexecute\u001b[0m\u001b[1;33m(\u001b[0m\u001b[0mdriver_command\u001b[0m\u001b[1;33m,\u001b[0m \u001b[0mparams\u001b[0m\u001b[1;33m)\u001b[0m\u001b[1;33m\u001b[0m\u001b[1;33m\u001b[0m\u001b[0m\n\u001b[0;32m    320\u001b[0m         \u001b[1;32mif\u001b[0m \u001b[0mresponse\u001b[0m\u001b[1;33m:\u001b[0m\u001b[1;33m\u001b[0m\u001b[1;33m\u001b[0m\u001b[0m\n\u001b[1;32m--> 321\u001b[1;33m             \u001b[0mself\u001b[0m\u001b[1;33m.\u001b[0m\u001b[0merror_handler\u001b[0m\u001b[1;33m.\u001b[0m\u001b[0mcheck_response\u001b[0m\u001b[1;33m(\u001b[0m\u001b[0mresponse\u001b[0m\u001b[1;33m)\u001b[0m\u001b[1;33m\u001b[0m\u001b[1;33m\u001b[0m\u001b[0m\n\u001b[0m\u001b[0;32m    322\u001b[0m             response['value'] = self._unwrap_value(\n\u001b[0;32m    323\u001b[0m                 response.get('value', None))\n",
      "\u001b[1;32m~\\anaconda3\\envs\\pydatavenv\\lib\\site-packages\\selenium\\webdriver\\remote\\errorhandler.py\u001b[0m in \u001b[0;36mcheck_response\u001b[1;34m(self, response)\u001b[0m\n\u001b[0;32m    240\u001b[0m                 \u001b[0malert_text\u001b[0m \u001b[1;33m=\u001b[0m \u001b[0mvalue\u001b[0m\u001b[1;33m[\u001b[0m\u001b[1;34m'alert'\u001b[0m\u001b[1;33m]\u001b[0m\u001b[1;33m.\u001b[0m\u001b[0mget\u001b[0m\u001b[1;33m(\u001b[0m\u001b[1;34m'text'\u001b[0m\u001b[1;33m)\u001b[0m\u001b[1;33m\u001b[0m\u001b[1;33m\u001b[0m\u001b[0m\n\u001b[0;32m    241\u001b[0m             \u001b[1;32mraise\u001b[0m \u001b[0mexception_class\u001b[0m\u001b[1;33m(\u001b[0m\u001b[0mmessage\u001b[0m\u001b[1;33m,\u001b[0m \u001b[0mscreen\u001b[0m\u001b[1;33m,\u001b[0m \u001b[0mstacktrace\u001b[0m\u001b[1;33m,\u001b[0m \u001b[0malert_text\u001b[0m\u001b[1;33m)\u001b[0m\u001b[1;33m\u001b[0m\u001b[1;33m\u001b[0m\u001b[0m\n\u001b[1;32m--> 242\u001b[1;33m         \u001b[1;32mraise\u001b[0m \u001b[0mexception_class\u001b[0m\u001b[1;33m(\u001b[0m\u001b[0mmessage\u001b[0m\u001b[1;33m,\u001b[0m \u001b[0mscreen\u001b[0m\u001b[1;33m,\u001b[0m \u001b[0mstacktrace\u001b[0m\u001b[1;33m)\u001b[0m\u001b[1;33m\u001b[0m\u001b[1;33m\u001b[0m\u001b[0m\n\u001b[0m\u001b[0;32m    243\u001b[0m \u001b[1;33m\u001b[0m\u001b[0m\n\u001b[0;32m    244\u001b[0m     \u001b[1;32mdef\u001b[0m \u001b[0m_value_or_default\u001b[0m\u001b[1;33m(\u001b[0m\u001b[0mself\u001b[0m\u001b[1;33m,\u001b[0m \u001b[0mobj\u001b[0m\u001b[1;33m,\u001b[0m \u001b[0mkey\u001b[0m\u001b[1;33m,\u001b[0m \u001b[0mdefault\u001b[0m\u001b[1;33m)\u001b[0m\u001b[1;33m:\u001b[0m\u001b[1;33m\u001b[0m\u001b[1;33m\u001b[0m\u001b[0m\n",
      "\u001b[1;31mNoSuchElementException\u001b[0m: Message: no such element: Unable to locate element: {\"method\":\"css selector\",\"selector\":\"#islrg > div.islrc > div:nth-child(685) > a.wXeWr.islib.nfEiy.mM5pbd > div.bRMDJf.islir > img\"}\n  (Session info: chrome=90.0.4430.93)\n"
     ]
    }
   ],
   "source": [
    "#한장씩 #요거 사용하는게 좋습니다.\n",
    "n=661\n",
    "num=661\n",
    "while True:\n",
    "    img = driver.find_element_by_css_selector('#islrg > div.islrc > div:nth-child('+str(num)+') > a.wXeWr.islib.nfEiy.mM5pbd > div.bRMDJf.islir > img')\n",
    "    num = num + 1\n",
    "    imgUrl = img.get_attribute('src')\n",
    "    with urlopen(imgUrl) as f:\n",
    "        with open('dogimages/WELSH CORGI/'+str(n)+'.jpg','wb') as h: # 이미지 + 사진번호 + 확장자는 jpg\n",
    "            img = f.read() #이미지 읽기\n",
    "            h.write(img) \n",
    "            time.sleep(1)\n",
    "            n = n+1\n",
    "    body = driver.find_element_by_css_selector('body')\n",
    "    body.send_keys(Keys.PAGE_DOWN)\n",
    "    time.sleep(1)\n",
    "    "
   ]
  }
 ],
 "metadata": {
  "kernelspec": {
   "display_name": "pydatavenv",
   "language": "python",
   "name": "pydatavenv"
  },
  "language_info": {
   "codemirror_mode": {
    "name": "ipython",
    "version": 3
   },
   "file_extension": ".py",
   "mimetype": "text/x-python",
   "name": "python",
   "nbconvert_exporter": "python",
   "pygments_lexer": "ipython3",
   "version": "3.8.8"
  }
 },
 "nbformat": 4,
 "nbformat_minor": 4
}
